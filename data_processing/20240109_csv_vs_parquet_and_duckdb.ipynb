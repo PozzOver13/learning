{
  "nbformat": 4,
  "nbformat_minor": 0,
  "metadata": {
    "colab": {
      "provenance": [],
      "authorship_tag": "ABX9TyOCyREsaLzPCIaiTxmPttMd",
      "include_colab_link": true
    },
    "kernelspec": {
      "name": "python3",
      "display_name": "Python 3"
    },
    "language_info": {
      "name": "python"
    }
  },
  "cells": [
    {
      "cell_type": "markdown",
      "metadata": {
        "id": "view-in-github",
        "colab_type": "text"
      },
      "source": [
        "<a href=\"https://colab.research.google.com/github/PozzOver13/learning/blob/main/data_processing/20240109_csv_vs_parquet_and_duckdb.ipynb\" target=\"_parent\"><img src=\"https://colab.research.google.com/assets/colab-badge.svg\" alt=\"Open In Colab\"/></a>"
      ]
    },
    {
      "cell_type": "markdown",
      "source": [
        "# CSV vs Parquet & DuckDB 🦆"
      ],
      "metadata": {
        "id": "wUlTIJaUmBQk"
      }
    },
    {
      "cell_type": "markdown",
      "source": [
        "# References  \n",
        "\n",
        "**official websites**  \n",
        "https://opencoesione.gov.it/it/ OpenCoesione iniziativa nazionale di governo aperto (open government) sulle politiche di coesione  \n",
        "https://duckdb.org/docs/ DuckDB documentation  \n",
        "\n",
        "**talks**  \n",
        "https://www.youtube.com/watch?v=DwtbPhbDecQ&list=WL&index=32 Matthew Rocklin - Spark, Dask, DuckDB, and Polars: Benchmarks | PyData NYC 2023  \n",
        "https://youtu.be/q_SKaOeRiOI?si=hIJUPB7Yydgh9ItM  Gábor Szárnyas - DuckDB: The Power of a Data Warehouse in your Python Process  \n",
        "\n",
        "  \n",
        "**good 2 be known**  \n",
        "https://aborruso.github.io/posts/duckdb-intro-csv/?utm_source=substack&utm_medium=email - Gestire file CSV grandi, brutti e cattivi Andrea Borruso    \n",
        "https://www.youtube.com/watch?v=4DIoACFItec DuckDB vs Pandas vs Polars For Python devs\n"
      ],
      "metadata": {
        "id": "Ea27f6UOmcez"
      }
    },
    {
      "cell_type": "code",
      "source": [
        "import duckdb\n",
        "\n",
        "# Mount your Google Drive\n",
        "from google.colab import drive\n",
        "drive.mount('/content/drive')"
      ],
      "metadata": {
        "id": "OEjGqkibme9g",
        "colab": {
          "base_uri": "https://localhost:8080/"
        },
        "outputId": "a425d02d-627d-4773-af66-e38ff8c7a2ae"
      },
      "execution_count": 1,
      "outputs": [
        {
          "output_type": "stream",
          "name": "stdout",
          "text": [
            "Drive already mounted at /content/drive; to attempt to forcibly remount, call drive.mount(\"/content/drive\", force_remount=True).\n"
          ]
        }
      ]
    },
    {
      "cell_type": "code",
      "source": [
        "TRAIN_CSV_PATH = \"/content/drive/MyDrive/Personale/Dataset/finance_loan_approval/train.csv\"\n",
        "TEST_CSV_PATH = \"/content/drive/MyDrive/Personale/Dataset/finance_loan_approval/test.csv\""
      ],
      "metadata": {
        "id": "Ux6bBchQQ9su"
      },
      "execution_count": 2,
      "outputs": []
    },
    {
      "cell_type": "code",
      "source": [
        "duckdb.sql(f\"CREATE TABLE train AS SELECT * FROM read_csv_auto('{TRAIN_CSV_PATH}');\")"
      ],
      "metadata": {
        "id": "fVK1m1zKPv8B"
      },
      "execution_count": 3,
      "outputs": []
    },
    {
      "cell_type": "code",
      "source": [
        "duckdb.sql('SELECT * FROM train')"
      ],
      "metadata": {
        "colab": {
          "base_uri": "https://localhost:8080/"
        },
        "id": "14OQODTEQnrQ",
        "outputId": "741854ce-d96e-4325-8f4e-b25c3651197b"
      },
      "execution_count": 4,
      "outputs": [
        {
          "output_type": "execute_result",
          "data": {
            "text/plain": [
              "┌──────────┬─────────┬─────────┬────────────┬───┬──────────────────┬────────────────┬───────────────┬─────────────┐\n",
              "│ Loan_ID  │ Gender  │ Married │ Dependents │ … │ Loan_Amount_Term │ Credit_History │ Property_Area │ Loan_Status │\n",
              "│ varchar  │ varchar │ varchar │  varchar   │   │      int64       │     int64      │    varchar    │   varchar   │\n",
              "├──────────┼─────────┼─────────┼────────────┼───┼──────────────────┼────────────────┼───────────────┼─────────────┤\n",
              "│ LP001002 │ Male    │ No      │ 0          │ … │              360 │              1 │ Urban         │ Y           │\n",
              "│ LP001003 │ Male    │ Yes     │ 1          │ … │              360 │              1 │ Rural         │ N           │\n",
              "│ LP001005 │ Male    │ Yes     │ 0          │ … │              360 │              1 │ Urban         │ Y           │\n",
              "│ LP001006 │ Male    │ Yes     │ 0          │ … │              360 │              1 │ Urban         │ Y           │\n",
              "│ LP001008 │ Male    │ No      │ 0          │ … │              360 │              1 │ Urban         │ Y           │\n",
              "│ LP001011 │ Male    │ Yes     │ 2          │ … │              360 │              1 │ Urban         │ Y           │\n",
              "│ LP001013 │ Male    │ Yes     │ 0          │ … │              360 │              1 │ Urban         │ Y           │\n",
              "│ LP001014 │ Male    │ Yes     │ 3+         │ … │              360 │              0 │ Semiurban     │ N           │\n",
              "│ LP001018 │ Male    │ Yes     │ 2          │ … │              360 │              1 │ Urban         │ Y           │\n",
              "│ LP001020 │ Male    │ Yes     │ 1          │ … │              360 │              1 │ Semiurban     │ N           │\n",
              "│    ·     │  ·      │  ·      │ ·          │ · │               ·  │              · │     ·         │ ·           │\n",
              "│    ·     │  ·      │  ·      │ ·          │ · │               ·  │              · │     ·         │ ·           │\n",
              "│    ·     │  ·      │  ·      │ ·          │ · │               ·  │              · │     ·         │ ·           │\n",
              "│ LP002959 │ Female  │ Yes     │ 1          │ … │              360 │              1 │ Semiurban     │ Y           │\n",
              "│ LP002960 │ Male    │ Yes     │ 0          │ … │              180 │              1 │ Urban         │ N           │\n",
              "│ LP002961 │ Male    │ Yes     │ 1          │ … │              360 │              1 │ Semiurban     │ Y           │\n",
              "│ LP002964 │ Male    │ Yes     │ 2          │ … │              360 │              1 │ Rural         │ Y           │\n",
              "│ LP002974 │ Male    │ Yes     │ 0          │ … │              360 │              1 │ Rural         │ Y           │\n",
              "│ LP002978 │ Female  │ No      │ 0          │ … │              360 │              1 │ Rural         │ Y           │\n",
              "│ LP002979 │ Male    │ Yes     │ 3+         │ … │              180 │              1 │ Rural         │ Y           │\n",
              "│ LP002983 │ Male    │ Yes     │ 1          │ … │              360 │              1 │ Urban         │ Y           │\n",
              "│ LP002984 │ Male    │ Yes     │ 2          │ … │              360 │              1 │ Urban         │ Y           │\n",
              "│ LP002990 │ Female  │ No      │ 0          │ … │              360 │              0 │ Semiurban     │ N           │\n",
              "├──────────┴─────────┴─────────┴────────────┴───┴──────────────────┴────────────────┴───────────────┴─────────────┤\n",
              "│ 614 rows (20 shown)                                                                        13 columns (8 shown) │\n",
              "└─────────────────────────────────────────────────────────────────────────────────────────────────────────────────┘"
            ]
          },
          "metadata": {},
          "execution_count": 4
        }
      ]
    },
    {
      "cell_type": "code",
      "source": [],
      "metadata": {
        "id": "1JQQkivuS9oN"
      },
      "execution_count": null,
      "outputs": []
    }
  ]
}
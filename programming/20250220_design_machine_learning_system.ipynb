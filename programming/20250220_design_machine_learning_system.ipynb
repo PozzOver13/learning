{
  "nbformat": 4,
  "nbformat_minor": 0,
  "metadata": {
    "colab": {
      "provenance": [],
      "authorship_tag": "ABX9TyMuFuzutGnWkSXwYmS/FZYZ",
      "include_colab_link": true
    },
    "kernelspec": {
      "name": "python3",
      "display_name": "Python 3"
    },
    "language_info": {
      "name": "python"
    }
  },
  "cells": [
    {
      "cell_type": "markdown",
      "metadata": {
        "id": "view-in-github",
        "colab_type": "text"
      },
      "source": [
        "<a href=\"https://colab.research.google.com/github/PozzOver13/learning/blob/main/programming/20250220_design_machine_learning_system.ipynb\" target=\"_parent\"><img src=\"https://colab.research.google.com/assets/colab-badge.svg\" alt=\"Open In Colab\"/></a>"
      ]
    },
    {
      "cell_type": "markdown",
      "source": [
        "# Design Machine Learning Systems by Chip Huyen"
      ],
      "metadata": {
        "id": "F8iyi8Egh6eP"
      }
    },
    {
      "cell_type": "markdown",
      "source": [
        "## 1. Overview of Machine Learning Systems\n"
      ],
      "metadata": {
        "id": "LL7uX1Cb0qhe"
      }
    },
    {
      "cell_type": "markdown",
      "source": [
        "## 2. Introduction to Machine Learning Systems Design\n",
        "## 3. Data Engineering Fundamentals\n",
        "## 4. Training Data\n",
        "## 5. Feature Engineering\n",
        "## 6. Model Development and Offline Evaluation\n",
        "## 7. Model Deployment and Prediction Service\n",
        "## 8. Data Distribution Shifts and Monitoring\n",
        "## 9. Continual Learning and Test in Production\n",
        "## 10. Infrastructure and Tooling for MLOps\n",
        "## 11. The Human Side of Machine Learning"
      ],
      "metadata": {
        "id": "AiunTjJe0xb4"
      }
    },
    {
      "cell_type": "code",
      "execution_count": null,
      "metadata": {
        "id": "80Ws-vIohu29"
      },
      "outputs": [],
      "source": []
    }
  ]
}
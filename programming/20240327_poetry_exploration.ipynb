{
 "cells": [
  {
   "metadata": {},
   "cell_type": "markdown",
   "source": "![Cover](https://drive.google.com/uc?id=1BfvhyrLoJlrFhyFnwk6mXPwuwFrcvit9)",
   "id": "d9e4094b89817347"
  },
  {
   "cell_type": "markdown",
   "source": [
    "## Main Concepts\n",
    "Claim: PYTHON PACKAGING AND DEPENDENCY MANAGEMENT MADE EASY  \n",
    "Website: https://python-poetry.org/  \n",
    "\n",
    "Use case: \n",
    "- Build Package with ease\n",
    "    - Check the state of your dependencies \n",
    "- Publish share your work\n",
    "\n",
    "## References\n",
    "* https://youtu.be/Ji2XDxmXSOM?si=F9daINdWqqTK5rmY ArjanCodes - Python Poetry in 8 Minutes\n",
    "* https://www.youtube.com/watch?v=0f3moPe_bhk How to Create and Use Virtual Environments in Python With Poetry\n",
    "* https://www.youtube.com/watch?v=qI0uJsLweoM Luke Barousse - Understanding Virtual Environments for Data Science / Data Analysis - P.4\n",
    "* https://docs.conda.io/projects/conda/en/latest/commands/index.html  Differences of conda v. pip v. virtualenv\n",
    "* https://packaging.python.org/en/latest/guides/writing-pyproject-toml/  Writing your pyproject.toml\n",
    "* https://packaging.python.org/en/latest/specifications/pyproject-toml/#pyproject-toml-spec Doc for pyproject.toml\n",
    "* https://medium.com/@silvinohenriqueteixeiramalta/conda-and-poetry-a-harmonious-fusion-8116895b6380 Conda and Poetry: A Harmonious Fusion\n",
    "* https://stackoverflow.com/questions/70851048/does-it-make-sense-to-use-conda-poetry Does it make sense to use Conda + Poetry?\n",
    "* https://michhar.github.io/2023-07-poetry-with-conda/ How to Use Poetry with Conda for Package Management on a Specific Python Version"
   ],
   "metadata": {
    "collapsed": false
   },
   "id": "62898a6cb36da4a9"
  },
  {
   "cell_type": "markdown",
   "source": [
    "## Install through pipx on windows\n",
    "\n",
    "Open a PowerShell terminal (version 5.1 or later) and from the PS C:\\> prompt, run:\n",
    "\n",
    "```bash\n",
    "Set-ExecutionPolicy -ExecutionPolicy RemoteSigned -Scope CurrentUser\n",
    "Invoke-RestMethod -Uri https://get.scoop.sh | Invoke-Expression\n",
    "```\n",
    "\n",
    "Install through scoop:\n",
    "\n",
    "```bash\n",
    "scoop install pipx\n",
    "pipx ensurepath\n",
    "\n",
    "pipx install poetry\n",
    "pipx install cookiecutter\n",
    "```\n",
    "\n",
    "Possibile error message:\n",
    "\n",
    "```bash\n",
    "Note: 'C:\\Users\\CGXXXXX\\.local\\bin' is not on your PATH environment variable. These apps will not be globally\n",
    "accessible until your PATH is updated. Run `pipx ensurepath` to automatically add it, or manually modify your PATH\n",
    "in your shell's config file (e.g. ~/.bashrc).\n",
    "```\n",
    "\n",
    "To fix the error message, you need to modify the PATH environment variable. You can do this by running the following command during a single session:\n",
    "\n",
    "``` python\n",
    "# Test-Path \"C:\\Users\\cgXXXXX\\.local\\bin\"    \n",
    "# $env:PATH += \";C:\\Users\\cgXXXXX\\.local\\bin\"  \n",
    "# $env:PATH += \";C:\\Users\\cgXXXXX\\Miniconda3\\python.exe\"\n",
    "```"
   ],
   "metadata": {
    "collapsed": false
   },
   "id": "34ce5d2c6c0c0106"
  },
  {
   "cell_type": "markdown",
   "source": [
    "## What's the difference between conda environment and virtual environment?\n",
    "\n",
    "> Pip is a package manager and virtualenv is an environment manager. conda is both.\n",
    "\n",
    "Both Conda environments and virtual environments are tools used in Python development to manage dependencies and isolate project environments, but they are implemented differently and have some distinctions:\n",
    "\n",
    "1. **Virtual Environment**:\n",
    "   - Virtual environments are created using tools like `venv` or `virtualenv`.\n",
    "   - They are essentially isolated Python interpreter installations within a directory.\n",
    "   - Virtual environments only manage Python packages and dependencies.\n",
    "   - They typically rely on the `pip` package manager to install Python packages.\n",
    "   - Activation of a virtual environment involves executing a script in the environment's directory to modify the shell's PATH environment variable.\n",
    "   - Virtual environments are more lightweight and specific to Python package management.\n",
    "\n",
    "2. **Conda Environment**:\n",
    "   - Conda environments are created and managed using the `conda` package manager, which is part of the Anaconda distribution.\n",
    "   - They are more versatile and can manage non-Python dependencies as well.\n",
    "   - Conda environments can include packages from the Anaconda repository, which includes a wide range of scientific computing libraries.\n",
    "   - Activation of a Conda environment involves running `conda activate <env_name>`.\n",
    "   - Conda environments can include packages installed via `conda` as well as `pip`.\n",
    "   - Conda environments can be more robust when dealing with non-Python dependencies, such as libraries written in C or C++.\n",
    "\n",
    "In summary, while both Conda environments and virtual environments serve the purpose of isolating Python environments and managing dependencies, Conda environments are more comprehensive and can handle non-Python dependencies, whereas virtual environments are focused specifically on managing Python dependencies. The choice between them depends on the requirements and preferences of your project. For data science work, particularly if you're dealing with a lot of scientific computing libraries, Conda environments are often preferred due to their broader capabilities."
   ],
   "metadata": {
    "collapsed": false
   },
   "id": "d3aed85a09f14944"
  },
  {
   "cell_type": "markdown",
   "source": [
    "## Why pyproject.toml file are relevant?\n",
    "\n",
    "The pyproject.toml file acts as a configuration file for packaging-related tools\n",
    "\n",
    "This specification was originally defined in PEP 518 and PEP 621. (PEP aka Python Enhancement Proposals)\n",
    "\n",
    "The pyproject.toml file is written in TOML. Three tables are currently specified, namely [build-system], [project] and [tool].\n",
    "\n"
   ],
   "metadata": {
    "collapsed": false
   },
   "id": "7754271fcd344455"
  },
  {
   "cell_type": "markdown",
   "source": [
    "## Conda and Poetry (source: Conda and Poetry: A Harmonious Fusion)\n",
    "\n",
    "Conda and Poetry are two powerful tools that, when combined, provide a seamless solution for environment management, dependency resolution, and package distribution.\n",
    "\n",
    "Efficient environment management is crucial for data scientists, enabling them to focus on modeling and analysis rather than grappling with dependency issues.\n",
    "\n",
    "Conda excels in creating isolated environments and managing packages, while Poetry simplifies package management and dependency resolution.\n",
    "\n",
    "This synergy minimizes the hassles of environment setup, ensures reproducibility, and enhances collaboration.\n",
    "\n"
   ],
   "metadata": {
    "collapsed": false
   },
   "id": "df757cbb0947eee6"
  },
  {
   "cell_type": "markdown",
   "source": [
    "# Poetry vs Setuptools\n",
    "\n",
    "**I am used to use setuptools and the setup.py file. I am also used to use conda environment. I am trying to understand whether I should consider use poetry instead of setuptools and what are the main differences. Can you help me?**\n",
    "\n",
    "Certainly! Understanding the differences between Poetry and setuptools can help you decide which tool is more suitable for your project. Here's a comparison between the two:\n",
    "\n",
    "1. **Dependency Management**:\n",
    "   - **Setuptools**: Requires a separate `requirements.txt` file to manage dependencies, which can sometimes lead to inconsistencies between development and production environments.\n",
    "   - **Poetry**: Manages dependencies within the `pyproject.toml` file, ensuring consistency across environments. Poetry also supports lock files (`poetry.lock`), which guarantees reproducible builds by fixing dependency versions.\n",
    "\n",
    "2. **Project Configuration**:\n",
    "   - **Setuptools**: Uses `setup.py` for project configuration, which can become verbose and less readable, especially for complex projects.\n",
    "   - **Poetry**: Utilizes the `pyproject.toml` file for configuration, which offers a cleaner and more structured approach. Poetry also provides additional metadata fields for enhanced project description and management.\n",
    "\n",
    "3. **Package Building**:\n",
    "   - **Setuptools**: Supports building packages using `python setup.py sdist` or `python setup.py bdist_wheel`. This process can sometimes be cumbersome, especially for projects with many dependencies or complex setups.\n",
    "   - **Poetry**: Simplifies package building with a single command, `poetry build`. This command automatically generates source distributions and wheels, streamlining the packaging process.\n",
    "\n",
    "4. **Dependency Resolution**:\n",
    "   - **Setuptools**: Relies on `pip` for dependency resolution, which can sometimes lead to dependency conflicts or difficulties in resolving dependencies.\n",
    "   - **Poetry**: Uses a custom resolver for dependency management, providing more reliable and deterministic dependency resolution. Poetry's resolver is optimized for consistency and reproducibility, minimizing the likelihood of dependency conflicts.\n",
    "\n",
    "5. **Workflow Integration**:\n",
    "   - **Setuptools**: Integrates with tools like `pip` and `virtualenv` for package installation and environment management.\n",
    "   - **Poetry**: Seamlessly integrates with virtual environments and offers additional features like dependency locking, version management, and environment isolation.\n",
    "\n",
    "In summary, while both setuptools and Poetry serve the purpose of managing Python projects and packaging, Poetry provides a more modern and streamlined approach with built-in dependency management, project configuration, and package building. If you're looking for a more efficient and robust solution, especially for managing dependencies and packaging, Poetry could be a preferable choice over setuptools, particularly for data science projects where dependency management is crucial.\n",
    "\n",
    "**I am usually working in develop mode with setuptools. I run python setup.py develop. Is there an equivalent command with poetry?**\n",
    "\n",
    "Yes, in Poetry, there is an equivalent command to `python setup.py develop` which is used to install your project in development mode. In Poetry, this command is:\n",
    "\n",
    "```\n",
    "poetry install\n",
    "```\n",
    "\n",
    "When you run `poetry install` in your project directory, Poetry will install your project's dependencies and link your project into the virtual environment in editable mode, similar to `python setup.py develop` with setuptools. This means any changes you make to your project's code will be immediately reflected in the virtual environment without needing to reinstall the package.\n",
    "\n",
    "Additionally, if you want to only install the dependencies necessary for development (e.g., testing frameworks, code quality tools), you can use the `--dev` flag:\n",
    "\n",
    "```\n",
    "poetry install --dev\n",
    "```\n",
    "\n",
    "This will install both regular dependencies and development dependencies specified in your `pyproject.toml` file."
   ],
   "metadata": {
    "collapsed": false
   },
   "id": "8d1513abdfa9294e"
  },
  {
   "cell_type": "markdown",
   "source": [
    "## Poetry Basics\n",
    "\n",
    "Poetry requires Python 3.8+\n",
    "\n",
    "**Remember**:\n",
    "Poetry should always be installed in a dedicated virtual environment to isolate it from the rest of your system. It should in no case be installed in the environment of the project that is to be managed by Poetry. This ensures that Poetry’s own dependencies will not be accidentally upgraded or uninstalled. (Each of the following installation methods ensures that Poetry is installed into an isolated environment.) In addition, the isolated virtual environment in which poetry is installed should not be activated for running poetry commands.\n",
    "\n"
   ],
   "metadata": {
    "collapsed": false
   },
   "id": "10ef66e773b55be2"
  },
  {
   "cell_type": "markdown",
   "source": [
    "## Some basic commands"
   ],
   "metadata": {
    "collapsed": false
   },
   "id": "6157691a9b18dab2"
  },
  {
   "cell_type": "code",
   "execution_count": null,
   "outputs": [],
   "source": [
    "! poetry new ncaa # create a new project"
   ],
   "metadata": {
    "collapsed": false
   },
   "id": "f4c6efcb79e6f4c5"
  },
  {
   "cell_type": "code",
   "execution_count": null,
   "outputs": [],
   "source": [],
   "metadata": {
    "collapsed": false
   },
   "id": "64bbbc25f02f5b33"
  },
  {
   "cell_type": "code",
   "execution_count": null,
   "outputs": [],
   "source": [
    "! poetry init # initiate the py-project.toml file"
   ],
   "metadata": {
    "collapsed": false
   },
   "id": "195fe8a3d7f77699"
  },
  {
   "cell_type": "code",
   "execution_count": null,
   "outputs": [],
   "source": [
    "! poetry install # install all dependecies and libraries in a virtual environment"
   ],
   "metadata": {
    "collapsed": false
   },
   "id": "3d2f228fee19e314"
  },
  {
   "cell_type": "code",
   "execution_count": null,
   "outputs": [],
   "source": [
    "! poetry env info # get info about the environment"
   ],
   "metadata": {
    "collapsed": false
   },
   "id": "26f31192c5eac4f2"
  },
  {
   "cell_type": "code",
   "execution_count": null,
   "outputs": [],
   "source": [
    "! poetry config virtualenvs.in-projects true # change configuration to install the virtual environment inside the project (watch out the size of the env, can get huge quickly!!)\n",
    "! poetry install  "
   ],
   "metadata": {
    "collapsed": false
   },
   "id": "60f6b2f3a04bc29b"
  },
  {
   "cell_type": "code",
   "execution_count": null,
   "outputs": [],
   "source": [
    "! poetry shell # open a shell and the created environment"
   ],
   "metadata": {
    "collapsed": false
   },
   "id": "69f274e698006af9"
  },
  {
   "cell_type": "code",
   "execution_count": null,
   "outputs": [],
   "source": [
    "! poetry add requests # add a library\n",
    "# when adding a library, poetry will automatically update the pyproject.toml file and the poetry.lock file. Furthermore, it will create a virtual environment if it does not already exist.\n",
    "# example: Creating virtualenv ncaa-m7ddfmR7-py3.9 in C:\\Users\\cg08900\\AppData\\Local\\pypoetry\\Cache\\virtualenvs\n",
    "! poetry remove requests # remove a library"
   ],
   "metadata": {
    "collapsed": false
   },
   "id": "66ad2398453e1ef9"
  },
  {
   "cell_type": "code",
   "execution_count": null,
   "outputs": [],
   "source": [
    "! poetry env list # list of active environment"
   ],
   "metadata": {
    "collapsed": false
   },
   "id": "d56b8fe6f928a532"
  },
  {
   "cell_type": "code",
   "execution_count": null,
   "outputs": [],
   "source": [
    "# publish your code\n",
    "! poetry config repositories.test-pypi https://test.pypi.org/legacy # configuration\n",
    "! poetry config pypi-token.test-pypi pipy-..... # configuration and token\n",
    "! poetry build # build package\n",
    "! poetry publish -r test-pypi # publish your package\n",
    "! poetry publish --build -r test-pypi # alternative to publish with automatic build"
   ],
   "metadata": {
    "collapsed": false
   },
   "id": "8bd6e7ba1c8b789"
  },
  {
   "cell_type": "code",
   "execution_count": null,
   "outputs": [],
   "source": [
    "! conda env export | grep -v \"^prefix: \" > environment.yml # Export the environment to Conda (in linux or macOS)"
   ],
   "metadata": {
    "collapsed": false
   },
   "id": "7ab48fda9c3f5db"
  },
  {
   "cell_type": "code",
   "execution_count": null,
   "outputs": [],
   "source": [
    "! conda env create -f environment.yml\n",
    "! poetry install"
   ],
   "metadata": {
    "collapsed": false
   },
   "id": "3869d2a890618d54"
  }
 ],
 "metadata": {
  "kernelspec": {
   "display_name": "Python 3",
   "language": "python",
   "name": "python3"
  },
  "language_info": {
   "codemirror_mode": {
    "name": "ipython",
    "version": 2
   },
   "file_extension": ".py",
   "mimetype": "text/x-python",
   "name": "python",
   "nbconvert_exporter": "python",
   "pygments_lexer": "ipython2",
   "version": "2.7.6"
  }
 },
 "nbformat": 4,
 "nbformat_minor": 5
}

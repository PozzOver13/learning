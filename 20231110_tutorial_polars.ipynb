{
  "nbformat": 4,
  "nbformat_minor": 0,
  "metadata": {
    "colab": {
      "provenance": [],
      "authorship_tag": "ABX9TyOW66pKjkt7yqcTFFq5QYZy",
      "include_colab_link": true
    },
    "kernelspec": {
      "name": "python3",
      "display_name": "Python 3"
    },
    "language_info": {
      "name": "python"
    }
  },
  "cells": [
    {
      "cell_type": "markdown",
      "metadata": {
        "id": "view-in-github",
        "colab_type": "text"
      },
      "source": [
        "<a href=\"https://colab.research.google.com/github/PozzOver13/learning/blob/main/20231110_tutorial_polars.ipynb\" target=\"_parent\"><img src=\"https://colab.research.google.com/assets/colab-badge.svg\" alt=\"Open In Colab\"/></a>"
      ]
    },
    {
      "cell_type": "markdown",
      "source": [
        "# Polars Tutorial 🐻\n",
        "\n",
        "\n"
      ],
      "metadata": {
        "id": "dAvk6fbFDsxQ"
      }
    },
    {
      "cell_type": "markdown",
      "source": [
        "## Usefull Links\n",
        "https://realpython.com/polars-python/  \n",
        "https://www.pola.rs/"
      ],
      "metadata": {
        "id": "umGfIiRV_bAy"
      }
    },
    {
      "cell_type": "markdown",
      "source": [
        "## What is Polars?"
      ],
      "metadata": {
        "id": "rS_CfGlK_bF6"
      }
    },
    {
      "cell_type": "markdown",
      "source": [
        "## What is Rust?"
      ],
      "metadata": {
        "id": "Hfx0xDwV_Qat"
      }
    },
    {
      "cell_type": "markdown",
      "source": [
        "## Why it is worth to know it?\n",
        "\n",
        "**Philosophy**  \n",
        "The goal of Polars is to provide a lightning fast DataFrame library that:\n",
        "\n",
        "\n",
        "\n",
        "1.   Utilizes all available cores on your machine.\n",
        "1.   Optimizes queries to reduce unneeded work/memory allocations.\n",
        "1.   Handles datasets much larger than your available RAM.\n",
        "1.   Has an API that is consistent and predictable.\n",
        "1. Has a strict schema (data-types should be known before running the query).\n",
        "1. Polars is written in Rust which gives it C/C++ performance and allows it to fully control performance critical parts in a query engine.\n",
        "\n",
        "As such Polars goes to great lengths to:\n",
        "\n",
        "1. Reduce redundant copies.\n",
        "1. Traverse memory cache efficiently.\n",
        "1. Minimize contention in parallelism.\n",
        "1. Process data in chunks.\n",
        "1. Reuse memory allocations.\n"
      ],
      "metadata": {
        "id": "wwv8nQq4-v2v"
      }
    },
    {
      "cell_type": "code",
      "execution_count": null,
      "metadata": {
        "colab": {
          "base_uri": "https://localhost:8080/"
        },
        "id": "TXxGP-MbDiUR",
        "outputId": "2aedbdef-f25b-4583-802b-5340222ece31"
      },
      "outputs": [
        {
          "output_type": "stream",
          "name": "stdout",
          "text": [
            "Python 3.10.12\n"
          ]
        }
      ],
      "source": [
        "!python --version"
      ]
    },
    {
      "cell_type": "markdown",
      "source": [
        "# Pandas vs Polars"
      ],
      "metadata": {
        "id": "LwGIluCAAK_S"
      }
    },
    {
      "cell_type": "markdown",
      "source": [
        "## Importing libraries"
      ],
      "metadata": {
        "id": "FfyzoAQ3AOdb"
      }
    },
    {
      "cell_type": "code",
      "source": [
        "import pandas as pd\n",
        "import polars as pl\n",
        "import numpy as np\n",
        "\n",
        "# Mount your Google Drive\n",
        "from google.colab import drive\n",
        "drive.mount('/content/drive')"
      ],
      "metadata": {
        "id": "aK5xNQ1KEOVW"
      },
      "execution_count": 1,
      "outputs": []
    },
    {
      "cell_type": "code",
      "source": [
        "TRAIN_CSV_PATH = \"/content/drive/MyDrive/Personale/Dataset/finance_loan_approval/train.csv\"\n",
        "TEST_CSV_PATH = \"/content/drive/MyDrive/Personale/Dataset/finance_loan_approval/test.csv\""
      ],
      "metadata": {
        "id": "-k-6J6Y9AbID"
      },
      "execution_count": null,
      "outputs": []
    },
    {
      "cell_type": "code",
      "source": [
        "# Read the CSV file into a pandas DataFrame\n",
        "train_pd = pd.read_csv(TRAIN_CSV_PATH)"
      ],
      "metadata": {
        "id": "2EYBKEkRAwaA"
      },
      "execution_count": 5,
      "outputs": []
    },
    {
      "cell_type": "code",
      "source": [
        "df.head()"
      ],
      "metadata": {
        "colab": {
          "base_uri": "https://localhost:8080/",
          "height": 206
        },
        "id": "puJpCq1QE3tm",
        "outputId": "678b899d-62e9-4943-d75c-b0bcf110d2bd"
      },
      "execution_count": 5,
      "outputs": [
        {
          "output_type": "execute_result",
          "data": {
            "text/plain": [
              "    Loan_ID Gender Married Dependents     Education Self_Employed  \\\n",
              "0  LP001002   Male      No          0      Graduate            No   \n",
              "1  LP001003   Male     Yes          1      Graduate            No   \n",
              "2  LP001005   Male     Yes          0      Graduate           Yes   \n",
              "3  LP001006   Male     Yes          0  Not Graduate            No   \n",
              "4  LP001008   Male      No          0      Graduate            No   \n",
              "\n",
              "   ApplicantIncome  CoapplicantIncome  LoanAmount  Loan_Amount_Term  \\\n",
              "0             5849                0.0         NaN             360.0   \n",
              "1             4583             1508.0       128.0             360.0   \n",
              "2             3000                0.0        66.0             360.0   \n",
              "3             2583             2358.0       120.0             360.0   \n",
              "4             6000                0.0       141.0             360.0   \n",
              "\n",
              "   Credit_History Property_Area Loan_Status  \n",
              "0             1.0         Urban           Y  \n",
              "1             1.0         Rural           N  \n",
              "2             1.0         Urban           Y  \n",
              "3             1.0         Urban           Y  \n",
              "4             1.0         Urban           Y  "
            ],
            "text/html": [
              "\n",
              "  <div id=\"df-b5fc2f21-030a-4302-9286-ec8c0f5b6305\" class=\"colab-df-container\">\n",
              "    <div>\n",
              "<style scoped>\n",
              "    .dataframe tbody tr th:only-of-type {\n",
              "        vertical-align: middle;\n",
              "    }\n",
              "\n",
              "    .dataframe tbody tr th {\n",
              "        vertical-align: top;\n",
              "    }\n",
              "\n",
              "    .dataframe thead th {\n",
              "        text-align: right;\n",
              "    }\n",
              "</style>\n",
              "<table border=\"1\" class=\"dataframe\">\n",
              "  <thead>\n",
              "    <tr style=\"text-align: right;\">\n",
              "      <th></th>\n",
              "      <th>Loan_ID</th>\n",
              "      <th>Gender</th>\n",
              "      <th>Married</th>\n",
              "      <th>Dependents</th>\n",
              "      <th>Education</th>\n",
              "      <th>Self_Employed</th>\n",
              "      <th>ApplicantIncome</th>\n",
              "      <th>CoapplicantIncome</th>\n",
              "      <th>LoanAmount</th>\n",
              "      <th>Loan_Amount_Term</th>\n",
              "      <th>Credit_History</th>\n",
              "      <th>Property_Area</th>\n",
              "      <th>Loan_Status</th>\n",
              "    </tr>\n",
              "  </thead>\n",
              "  <tbody>\n",
              "    <tr>\n",
              "      <th>0</th>\n",
              "      <td>LP001002</td>\n",
              "      <td>Male</td>\n",
              "      <td>No</td>\n",
              "      <td>0</td>\n",
              "      <td>Graduate</td>\n",
              "      <td>No</td>\n",
              "      <td>5849</td>\n",
              "      <td>0.0</td>\n",
              "      <td>NaN</td>\n",
              "      <td>360.0</td>\n",
              "      <td>1.0</td>\n",
              "      <td>Urban</td>\n",
              "      <td>Y</td>\n",
              "    </tr>\n",
              "    <tr>\n",
              "      <th>1</th>\n",
              "      <td>LP001003</td>\n",
              "      <td>Male</td>\n",
              "      <td>Yes</td>\n",
              "      <td>1</td>\n",
              "      <td>Graduate</td>\n",
              "      <td>No</td>\n",
              "      <td>4583</td>\n",
              "      <td>1508.0</td>\n",
              "      <td>128.0</td>\n",
              "      <td>360.0</td>\n",
              "      <td>1.0</td>\n",
              "      <td>Rural</td>\n",
              "      <td>N</td>\n",
              "    </tr>\n",
              "    <tr>\n",
              "      <th>2</th>\n",
              "      <td>LP001005</td>\n",
              "      <td>Male</td>\n",
              "      <td>Yes</td>\n",
              "      <td>0</td>\n",
              "      <td>Graduate</td>\n",
              "      <td>Yes</td>\n",
              "      <td>3000</td>\n",
              "      <td>0.0</td>\n",
              "      <td>66.0</td>\n",
              "      <td>360.0</td>\n",
              "      <td>1.0</td>\n",
              "      <td>Urban</td>\n",
              "      <td>Y</td>\n",
              "    </tr>\n",
              "    <tr>\n",
              "      <th>3</th>\n",
              "      <td>LP001006</td>\n",
              "      <td>Male</td>\n",
              "      <td>Yes</td>\n",
              "      <td>0</td>\n",
              "      <td>Not Graduate</td>\n",
              "      <td>No</td>\n",
              "      <td>2583</td>\n",
              "      <td>2358.0</td>\n",
              "      <td>120.0</td>\n",
              "      <td>360.0</td>\n",
              "      <td>1.0</td>\n",
              "      <td>Urban</td>\n",
              "      <td>Y</td>\n",
              "    </tr>\n",
              "    <tr>\n",
              "      <th>4</th>\n",
              "      <td>LP001008</td>\n",
              "      <td>Male</td>\n",
              "      <td>No</td>\n",
              "      <td>0</td>\n",
              "      <td>Graduate</td>\n",
              "      <td>No</td>\n",
              "      <td>6000</td>\n",
              "      <td>0.0</td>\n",
              "      <td>141.0</td>\n",
              "      <td>360.0</td>\n",
              "      <td>1.0</td>\n",
              "      <td>Urban</td>\n",
              "      <td>Y</td>\n",
              "    </tr>\n",
              "  </tbody>\n",
              "</table>\n",
              "</div>\n",
              "    <div class=\"colab-df-buttons\">\n",
              "\n",
              "  <div class=\"colab-df-container\">\n",
              "    <button class=\"colab-df-convert\" onclick=\"convertToInteractive('df-b5fc2f21-030a-4302-9286-ec8c0f5b6305')\"\n",
              "            title=\"Convert this dataframe to an interactive table.\"\n",
              "            style=\"display:none;\">\n",
              "\n",
              "  <svg xmlns=\"http://www.w3.org/2000/svg\" height=\"24px\" viewBox=\"0 -960 960 960\">\n",
              "    <path d=\"M120-120v-720h720v720H120Zm60-500h600v-160H180v160Zm220 220h160v-160H400v160Zm0 220h160v-160H400v160ZM180-400h160v-160H180v160Zm440 0h160v-160H620v160ZM180-180h160v-160H180v160Zm440 0h160v-160H620v160Z\"/>\n",
              "  </svg>\n",
              "    </button>\n",
              "\n",
              "  <style>\n",
              "    .colab-df-container {\n",
              "      display:flex;\n",
              "      gap: 12px;\n",
              "    }\n",
              "\n",
              "    .colab-df-convert {\n",
              "      background-color: #E8F0FE;\n",
              "      border: none;\n",
              "      border-radius: 50%;\n",
              "      cursor: pointer;\n",
              "      display: none;\n",
              "      fill: #1967D2;\n",
              "      height: 32px;\n",
              "      padding: 0 0 0 0;\n",
              "      width: 32px;\n",
              "    }\n",
              "\n",
              "    .colab-df-convert:hover {\n",
              "      background-color: #E2EBFA;\n",
              "      box-shadow: 0px 1px 2px rgba(60, 64, 67, 0.3), 0px 1px 3px 1px rgba(60, 64, 67, 0.15);\n",
              "      fill: #174EA6;\n",
              "    }\n",
              "\n",
              "    .colab-df-buttons div {\n",
              "      margin-bottom: 4px;\n",
              "    }\n",
              "\n",
              "    [theme=dark] .colab-df-convert {\n",
              "      background-color: #3B4455;\n",
              "      fill: #D2E3FC;\n",
              "    }\n",
              "\n",
              "    [theme=dark] .colab-df-convert:hover {\n",
              "      background-color: #434B5C;\n",
              "      box-shadow: 0px 1px 3px 1px rgba(0, 0, 0, 0.15);\n",
              "      filter: drop-shadow(0px 1px 2px rgba(0, 0, 0, 0.3));\n",
              "      fill: #FFFFFF;\n",
              "    }\n",
              "  </style>\n",
              "\n",
              "    <script>\n",
              "      const buttonEl =\n",
              "        document.querySelector('#df-b5fc2f21-030a-4302-9286-ec8c0f5b6305 button.colab-df-convert');\n",
              "      buttonEl.style.display =\n",
              "        google.colab.kernel.accessAllowed ? 'block' : 'none';\n",
              "\n",
              "      async function convertToInteractive(key) {\n",
              "        const element = document.querySelector('#df-b5fc2f21-030a-4302-9286-ec8c0f5b6305');\n",
              "        const dataTable =\n",
              "          await google.colab.kernel.invokeFunction('convertToInteractive',\n",
              "                                                    [key], {});\n",
              "        if (!dataTable) return;\n",
              "\n",
              "        const docLinkHtml = 'Like what you see? Visit the ' +\n",
              "          '<a target=\"_blank\" href=https://colab.research.google.com/notebooks/data_table.ipynb>data table notebook</a>'\n",
              "          + ' to learn more about interactive tables.';\n",
              "        element.innerHTML = '';\n",
              "        dataTable['output_type'] = 'display_data';\n",
              "        await google.colab.output.renderOutput(dataTable, element);\n",
              "        const docLink = document.createElement('div');\n",
              "        docLink.innerHTML = docLinkHtml;\n",
              "        element.appendChild(docLink);\n",
              "      }\n",
              "    </script>\n",
              "  </div>\n",
              "\n",
              "\n",
              "<div id=\"df-67dea0e1-ad3e-4bb9-ba8d-f869e581cb8a\">\n",
              "  <button class=\"colab-df-quickchart\" onclick=\"quickchart('df-67dea0e1-ad3e-4bb9-ba8d-f869e581cb8a')\"\n",
              "            title=\"Suggest charts\"\n",
              "            style=\"display:none;\">\n",
              "\n",
              "<svg xmlns=\"http://www.w3.org/2000/svg\" height=\"24px\"viewBox=\"0 0 24 24\"\n",
              "     width=\"24px\">\n",
              "    <g>\n",
              "        <path d=\"M19 3H5c-1.1 0-2 .9-2 2v14c0 1.1.9 2 2 2h14c1.1 0 2-.9 2-2V5c0-1.1-.9-2-2-2zM9 17H7v-7h2v7zm4 0h-2V7h2v10zm4 0h-2v-4h2v4z\"/>\n",
              "    </g>\n",
              "</svg>\n",
              "  </button>\n",
              "\n",
              "<style>\n",
              "  .colab-df-quickchart {\n",
              "      --bg-color: #E8F0FE;\n",
              "      --fill-color: #1967D2;\n",
              "      --hover-bg-color: #E2EBFA;\n",
              "      --hover-fill-color: #174EA6;\n",
              "      --disabled-fill-color: #AAA;\n",
              "      --disabled-bg-color: #DDD;\n",
              "  }\n",
              "\n",
              "  [theme=dark] .colab-df-quickchart {\n",
              "      --bg-color: #3B4455;\n",
              "      --fill-color: #D2E3FC;\n",
              "      --hover-bg-color: #434B5C;\n",
              "      --hover-fill-color: #FFFFFF;\n",
              "      --disabled-bg-color: #3B4455;\n",
              "      --disabled-fill-color: #666;\n",
              "  }\n",
              "\n",
              "  .colab-df-quickchart {\n",
              "    background-color: var(--bg-color);\n",
              "    border: none;\n",
              "    border-radius: 50%;\n",
              "    cursor: pointer;\n",
              "    display: none;\n",
              "    fill: var(--fill-color);\n",
              "    height: 32px;\n",
              "    padding: 0;\n",
              "    width: 32px;\n",
              "  }\n",
              "\n",
              "  .colab-df-quickchart:hover {\n",
              "    background-color: var(--hover-bg-color);\n",
              "    box-shadow: 0 1px 2px rgba(60, 64, 67, 0.3), 0 1px 3px 1px rgba(60, 64, 67, 0.15);\n",
              "    fill: var(--button-hover-fill-color);\n",
              "  }\n",
              "\n",
              "  .colab-df-quickchart-complete:disabled,\n",
              "  .colab-df-quickchart-complete:disabled:hover {\n",
              "    background-color: var(--disabled-bg-color);\n",
              "    fill: var(--disabled-fill-color);\n",
              "    box-shadow: none;\n",
              "  }\n",
              "\n",
              "  .colab-df-spinner {\n",
              "    border: 2px solid var(--fill-color);\n",
              "    border-color: transparent;\n",
              "    border-bottom-color: var(--fill-color);\n",
              "    animation:\n",
              "      spin 1s steps(1) infinite;\n",
              "  }\n",
              "\n",
              "  @keyframes spin {\n",
              "    0% {\n",
              "      border-color: transparent;\n",
              "      border-bottom-color: var(--fill-color);\n",
              "      border-left-color: var(--fill-color);\n",
              "    }\n",
              "    20% {\n",
              "      border-color: transparent;\n",
              "      border-left-color: var(--fill-color);\n",
              "      border-top-color: var(--fill-color);\n",
              "    }\n",
              "    30% {\n",
              "      border-color: transparent;\n",
              "      border-left-color: var(--fill-color);\n",
              "      border-top-color: var(--fill-color);\n",
              "      border-right-color: var(--fill-color);\n",
              "    }\n",
              "    40% {\n",
              "      border-color: transparent;\n",
              "      border-right-color: var(--fill-color);\n",
              "      border-top-color: var(--fill-color);\n",
              "    }\n",
              "    60% {\n",
              "      border-color: transparent;\n",
              "      border-right-color: var(--fill-color);\n",
              "    }\n",
              "    80% {\n",
              "      border-color: transparent;\n",
              "      border-right-color: var(--fill-color);\n",
              "      border-bottom-color: var(--fill-color);\n",
              "    }\n",
              "    90% {\n",
              "      border-color: transparent;\n",
              "      border-bottom-color: var(--fill-color);\n",
              "    }\n",
              "  }\n",
              "</style>\n",
              "\n",
              "  <script>\n",
              "    async function quickchart(key) {\n",
              "      const quickchartButtonEl =\n",
              "        document.querySelector('#' + key + ' button');\n",
              "      quickchartButtonEl.disabled = true;  // To prevent multiple clicks.\n",
              "      quickchartButtonEl.classList.add('colab-df-spinner');\n",
              "      try {\n",
              "        const charts = await google.colab.kernel.invokeFunction(\n",
              "            'suggestCharts', [key], {});\n",
              "      } catch (error) {\n",
              "        console.error('Error during call to suggestCharts:', error);\n",
              "      }\n",
              "      quickchartButtonEl.classList.remove('colab-df-spinner');\n",
              "      quickchartButtonEl.classList.add('colab-df-quickchart-complete');\n",
              "    }\n",
              "    (() => {\n",
              "      let quickchartButtonEl =\n",
              "        document.querySelector('#df-67dea0e1-ad3e-4bb9-ba8d-f869e581cb8a button');\n",
              "      quickchartButtonEl.style.display =\n",
              "        google.colab.kernel.accessAllowed ? 'block' : 'none';\n",
              "    })();\n",
              "  </script>\n",
              "</div>\n",
              "    </div>\n",
              "  </div>\n"
            ]
          },
          "metadata": {},
          "execution_count": 5
        }
      ]
    },
    {
      "cell_type": "code",
      "source": [
        "buildings.groupby(\"building_type\").agg(\n",
        "    [\n",
        "        pl.mean(\"sqft\").alias(\"mean_sqft\"),\n",
        "        pl.median(\"year\").alias(\"median_year\"),\n",
        "        pl.count()\n",
        "        ]\n",
        ")"
      ],
      "metadata": {
        "colab": {
          "base_uri": "https://localhost:8080/",
          "height": 192
        },
        "id": "_ZdyAN-LGo-m",
        "outputId": "096b46af-9ab8-414e-f3c6-1ef915a4ed29"
      },
      "execution_count": null,
      "outputs": [
        {
          "output_type": "execute_result",
          "data": {
            "text/plain": [
              "shape: (3, 4)\n",
              "┌───────────────┬─────────────┬─────────────┬───────┐\n",
              "│ building_type ┆ mean_sqft   ┆ median_year ┆ count │\n",
              "│ ---           ┆ ---         ┆ ---         ┆ ---   │\n",
              "│ str           ┆ f64         ┆ f64         ┆ u32   │\n",
              "╞═══════════════╪═════════════╪═════════════╪═══════╡\n",
              "│ C             ┆ 1027.330766 ┆ 2008.0      ┆ 1661  │\n",
              "│ A             ┆ 957.051047  ┆ 2008.0      ┆ 1695  │\n",
              "│ B             ┆ 1040.209262 ┆ 2008.0      ┆ 1644  │\n",
              "└───────────────┴─────────────┴─────────────┴───────┘"
            ],
            "text/html": [
              "<div><style>\n",
              ".dataframe > thead > tr > th,\n",
              ".dataframe > tbody > tr > td {\n",
              "  text-align: right;\n",
              "}\n",
              "</style>\n",
              "<small>shape: (3, 4)</small><table border=\"1\" class=\"dataframe\"><thead><tr><th>building_type</th><th>mean_sqft</th><th>median_year</th><th>count</th></tr><tr><td>str</td><td>f64</td><td>f64</td><td>u32</td></tr></thead><tbody><tr><td>&quot;C&quot;</td><td>1027.330766</td><td>2008.0</td><td>1661</td></tr><tr><td>&quot;A&quot;</td><td>957.051047</td><td>2008.0</td><td>1695</td></tr><tr><td>&quot;B&quot;</td><td>1040.209262</td><td>2008.0</td><td>1644</td></tr></tbody></table></div>"
            ]
          },
          "metadata": {},
          "execution_count": 11
        }
      ]
    },
    {
      "cell_type": "code",
      "source": [
        "buildings = {\n",
        "    \"sqft\": rng.exponential(scale=1000, size=num_rows),\n",
        "    \"price\": rng.exponential(scale=100_000, size=num_rows),\n",
        "    \"year\": rng.integers(low=1995, high=2023, size=num_rows),\n",
        "    \"building_type\": rng.choice([\"A\", \"B\", \"C\"], size=num_rows)\n",
        "    }\n",
        "\n",
        "buildings_lazy = pl.LazyFrame(buildings)\n",
        "buildings_lazy\n"
      ],
      "metadata": {
        "colab": {
          "base_uri": "https://localhost:8080/",
          "height": 168
        },
        "id": "NXLmpVi_IGd0",
        "outputId": "561eee42-5aa5-4455-fede-6d27da52f1da"
      },
      "execution_count": null,
      "outputs": [
        {
          "output_type": "execute_result",
          "data": {
            "text/plain": [
              "<polars.LazyFrame object at 0x7A1F64E71090>"
            ],
            "text/html": [
              "<h4>NAIVE QUERY PLAN</h4><p>run <b>LazyFrame.show_graph()</b> to see the optimized version</p><?xml version=\"1.0\" encoding=\"UTF-8\" standalone=\"no\"?>\n",
              "<!DOCTYPE svg PUBLIC \"-//W3C//DTD SVG 1.1//EN\"\n",
              " \"http://www.w3.org/Graphics/SVG/1.1/DTD/svg11.dtd\">\n",
              "<!-- Generated by graphviz version 2.43.0 (0)\n",
              " -->\n",
              "<!-- Title: polars_query Pages: 1 -->\n",
              "<svg width=\"72pt\" height=\"61pt\"\n",
              " viewBox=\"0.00 0.00 72.00 61.00\" xmlns=\"http://www.w3.org/2000/svg\" xmlns:xlink=\"http://www.w3.org/1999/xlink\">\n",
              "<g id=\"graph0\" class=\"graph\" transform=\"scale(1 1) rotate(0) translate(4 57)\">\n",
              "<title>polars_query</title>\n",
              "<polygon fill=\"white\" stroke=\"transparent\" points=\"-4,4 -4,-57 68,-57 68,4 -4,4\"/>\n",
              "<!-- [TABLE\n",
              "π */4;\n",
              "σ &#45;;] -->\n",
              "<g id=\"node1\" class=\"node\">\n",
              "<title>[TABLE\n",
              "π */4;\n",
              "σ &#45;;]</title>\n",
              "<polygon fill=\"none\" stroke=\"black\" points=\"64,-53 0,-53 0,0 64,0 64,-53\"/>\n",
              "<text text-anchor=\"middle\" x=\"32\" y=\"-37.8\" font-family=\"Times,serif\" font-size=\"14.00\">[TABLE</text>\n",
              "<text text-anchor=\"middle\" x=\"32\" y=\"-22.8\" font-family=\"Times,serif\" font-size=\"14.00\">π */4;</text>\n",
              "<text text-anchor=\"middle\" x=\"32\" y=\"-7.8\" font-family=\"Times,serif\" font-size=\"14.00\">σ &#45;;]</text>\n",
              "</g>\n",
              "</g>\n",
              "</svg>\n"
            ]
          },
          "metadata": {},
          "execution_count": 12
        }
      ]
    },
    {
      "cell_type": "code",
      "source": [
        "lazy_query = (\n",
        "    buildings_lazy\n",
        "    .with_columns(\n",
        "        (pl.col(\"price\") / pl.col(\"sqft\")).alias(\"price_per_sqft\")\n",
        "        )\n",
        "    .filter(pl.col(\"price_per_sqft\") > 100)\n",
        "    .filter(pl.col(\"year\") < 2010)\n",
        ")\n",
        "\n",
        "lazy_query.show_graph()"
      ],
      "metadata": {
        "colab": {
          "base_uri": "https://localhost:8080/",
          "height": 295
        },
        "id": "zQK0s1pmIHHM",
        "outputId": "9f54c5ad-145a-488d-c11d-4886323b44d6"
      },
      "execution_count": null,
      "outputs": [
        {
          "output_type": "display_data",
          "data": {
            "text/plain": [
              "<IPython.core.display.SVG object>"
            ],
            "image/svg+xml": "<svg xmlns=\"http://www.w3.org/2000/svg\" xmlns:xlink=\"http://www.w3.org/1999/xlink\" width=\"244pt\" height=\"205pt\" viewBox=\"0.00 0.00 244.00 205.00\">\n<g id=\"graph0\" class=\"graph\" transform=\"scale(1 1) rotate(0) translate(4 201)\">\n<title>polars_query</title>\n<polygon fill=\"white\" stroke=\"transparent\" points=\"-4,4 -4,-201 240,-201 240,4 -4,4\"/>\n<!-- FILTER BY (col(&quot;price_per_sqft&quot;)) &gt;... [(0, 0)] -->\n<g id=\"node1\" class=\"node\">\n<title>FILTER BY (col(&quot;price_per_sqft&quot;)) &gt;... [(0, 0)]</title>\n<polygon fill=\"none\" stroke=\"black\" points=\"236,-197 0,-197 0,-161 236,-161 236,-197\"/>\n<text text-anchor=\"middle\" x=\"118\" y=\"-175.3\" font-family=\"Times,serif\" font-size=\"14.00\">FILTER BY (col(&quot;price_per_sqft&quot;)) &gt;...</text>\n</g>\n<!-- WITH COLUMNS [&quot;price_per_sqft&quot;] [(0, 1)] -->\n<g id=\"node2\" class=\"node\">\n<title>WITH COLUMNS [&quot;price_per_sqft&quot;] [(0, 1)]</title>\n<polygon fill=\"none\" stroke=\"black\" points=\"231,-125 5,-125 5,-89 231,-89 231,-125\"/>\n<text text-anchor=\"middle\" x=\"118\" y=\"-103.3\" font-family=\"Times,serif\" font-size=\"14.00\">WITH COLUMNS [&quot;price_per_sqft&quot;]</text>\n</g>\n<!-- FILTER BY (col(&quot;price_per_sqft&quot;)) &gt;... [(0, 0)]&#45;&#45;WITH COLUMNS [&quot;price_per_sqft&quot;] [(0, 1)] -->\n<g id=\"edge1\" class=\"edge\">\n<title>FILTER BY (col(&quot;price_per_sqft&quot;)) &gt;... [(0, 0)]--WITH COLUMNS [&quot;price_per_sqft&quot;] [(0, 1)]</title>\n<path fill=\"none\" stroke=\"black\" d=\"M118,-160.7C118,-149.85 118,-135.92 118,-125.1\"/>\n</g>\n<!-- TABLE\nπ */4;\nσ (col(&quot;year&quot;)) &lt; (2010); [(0, 2)] -->\n<g id=\"node3\" class=\"node\">\n<title>TABLE\nπ */4;\nσ (col(&quot;year&quot;)) &lt; (2010); [(0, 2)]</title>\n<polygon fill=\"none\" stroke=\"black\" points=\"194.5,-53 41.5,-53 41.5,0 194.5,0 194.5,-53\"/>\n<text text-anchor=\"middle\" x=\"118\" y=\"-37.8\" font-family=\"Times,serif\" font-size=\"14.00\">TABLE</text>\n<text text-anchor=\"middle\" x=\"118\" y=\"-22.8\" font-family=\"Times,serif\" font-size=\"14.00\">π */4;</text>\n<text text-anchor=\"middle\" x=\"118\" y=\"-7.8\" font-family=\"Times,serif\" font-size=\"14.00\">σ (col(&quot;year&quot;)) &lt; (2010);</text>\n</g>\n<!-- WITH COLUMNS [&quot;price_per_sqft&quot;] [(0, 1)]&#45;&#45;TABLE\nπ */4;\nσ (col(&quot;year&quot;)) &lt; (2010); [(0, 2)] -->\n<g id=\"edge2\" class=\"edge\">\n<title>WITH COLUMNS [&quot;price_per_sqft&quot;] [(0, 1)]--TABLE\nπ */4;\nσ (col(&quot;year&quot;)) &lt; (2010); [(0, 2)]</title>\n<path fill=\"none\" stroke=\"black\" d=\"M118,-88.97C118,-78.51 118,-64.9 118,-53.16\"/>\n</g>\n</g>\n</svg>"
          },
          "metadata": {}
        }
      ]
    },
    {
      "cell_type": "code",
      "source": [
        "(\n",
        "    lazy_query\n",
        "    .collect()\n",
        "    .select(pl.col([\"price_per_sqft\", \"year\"]))\n",
        ")"
      ],
      "metadata": {
        "colab": {
          "base_uri": "https://localhost:8080/",
          "height": 882
        },
        "id": "tnWlON_ZJwEa",
        "outputId": "c4480a45-432d-441d-bae1-ed75ec68485e"
      },
      "execution_count": null,
      "outputs": [
        {
          "output_type": "execute_result",
          "data": {
            "text/plain": [
              "shape: (1_304, 2)\n",
              "┌────────────────┬──────┐\n",
              "│ price_per_sqft ┆ year │\n",
              "│ ---            ┆ ---  │\n",
              "│ f64            ┆ i64  │\n",
              "╞════════════════╪══════╡\n",
              "│ 136.367182     ┆ 2002 │\n",
              "│ 43890.679476   ┆ 2000 │\n",
              "│ 172.155402     ┆ 1996 │\n",
              "│ 155.244312     ┆ 1998 │\n",
              "│ …              ┆ …    │\n",
              "│ 721.241378     ┆ 2005 │\n",
              "│ 315.268542     ┆ 2007 │\n",
              "│ 1267.211787    ┆ 1997 │\n",
              "│ 230.4598       ┆ 2002 │\n",
              "└────────────────┴──────┘"
            ],
            "text/html": [
              "<div><style>\n",
              ".dataframe > thead > tr > th,\n",
              ".dataframe > tbody > tr > td {\n",
              "  text-align: right;\n",
              "}\n",
              "</style>\n",
              "<small>shape: (1304, 2)</small><table border=\"1\" class=\"dataframe\"><thead><tr><th>price_per_sqft</th><th>year</th></tr><tr><td>f64</td><td>i64</td></tr></thead><tbody><tr><td>136.367182</td><td>2002</td></tr><tr><td>43890.679476</td><td>2000</td></tr><tr><td>172.155402</td><td>1996</td></tr><tr><td>155.244312</td><td>1998</td></tr><tr><td>1645.707997</td><td>2000</td></tr><tr><td>27619.783842</td><td>2003</td></tr><tr><td>684.047341</td><td>1996</td></tr><tr><td>200.292347</td><td>2007</td></tr><tr><td>108.396788</td><td>1999</td></tr><tr><td>20642.46827</td><td>1998</td></tr><tr><td>206.37628</td><td>2008</td></tr><tr><td>869.186094</td><td>2006</td></tr><tr><td>&hellip;</td><td>&hellip;</td></tr><tr><td>168.988879</td><td>2009</td></tr><tr><td>154.298074</td><td>2002</td></tr><tr><td>152.281217</td><td>2002</td></tr><tr><td>458.188806</td><td>2008</td></tr><tr><td>254.282242</td><td>2009</td></tr><tr><td>255.580275</td><td>2004</td></tr><tr><td>376.163067</td><td>2009</td></tr><tr><td>301.112544</td><td>1997</td></tr><tr><td>721.241378</td><td>2005</td></tr><tr><td>315.268542</td><td>2007</td></tr><tr><td>1267.211787</td><td>1997</td></tr><tr><td>230.4598</td><td>2002</td></tr></tbody></table></div>"
            ]
          },
          "metadata": {},
          "execution_count": 14
        }
      ]
    },
    {
      "cell_type": "code",
      "source": [
        "import requests\n",
        "import pathlib\n",
        "\n",
        "def download_file(file_url: str, local_file_path: pathlib.Path) -> None:\n",
        "    \"\"\"Download a file and save it with the specified file name.\"\"\"\n",
        "    response = requests.get(file_url)\n",
        "    if response:\n",
        "        local_file_path.write_bytes(response.content)\n",
        "        print(f\"File successfully downloaded and stored at: {local_file_path}\")\n",
        "    else:\n",
        "        raise requests.exceptions.RequestException(\n",
        "            f\"Failed to download the file. Status code: {response.status_code}\"\n",
        "        )"
      ],
      "metadata": {
        "id": "MxlFAnNNKSnW"
      },
      "execution_count": null,
      "outputs": []
    },
    {
      "cell_type": "code",
      "source": [
        "url = \"https://data.wa.gov/api/views/f6w7-q2d2/rows.csv?accessType=DOWNLOAD\"\n",
        "local_file_path = pathlib.Path(\"electric_cars.csv\")\n",
        "\n",
        "download_file(url, local_file_path)"
      ],
      "metadata": {
        "colab": {
          "base_uri": "https://localhost:8080/"
        },
        "id": "4RXJH-OtKYmU",
        "outputId": "a776a825-af4a-4d18-fc23-30cd589a9c1e"
      },
      "execution_count": null,
      "outputs": [
        {
          "output_type": "stream",
          "name": "stdout",
          "text": [
            "File successfully downloaded and stored at: electric_cars.csv\n"
          ]
        }
      ]
    },
    {
      "cell_type": "code",
      "source": [
        "lazy_car_data = pl.scan_csv(local_file_path)\n",
        "lazy_car_data"
      ],
      "metadata": {
        "colab": {
          "base_uri": "https://localhost:8080/",
          "height": 168
        },
        "id": "iKSA2WvdKZMv",
        "outputId": "9a419af3-9693-4c79-c3fd-9c7693a79bea"
      },
      "execution_count": null,
      "outputs": [
        {
          "output_type": "execute_result",
          "data": {
            "text/plain": [
              "<polars.LazyFrame object at 0x7A1F3CA32830>"
            ],
            "text/html": [
              "<h4>NAIVE QUERY PLAN</h4><p>run <b>LazyFrame.show_graph()</b> to see the optimized version</p><?xml version=\"1.0\" encoding=\"UTF-8\" standalone=\"no\"?>\n",
              "<!DOCTYPE svg PUBLIC \"-//W3C//DTD SVG 1.1//EN\"\n",
              " \"http://www.w3.org/Graphics/SVG/1.1/DTD/svg11.dtd\">\n",
              "<!-- Generated by graphviz version 2.43.0 (0)\n",
              " -->\n",
              "<!-- Title: polars_query Pages: 1 -->\n",
              "<svg width=\"193pt\" height=\"61pt\"\n",
              " viewBox=\"0.00 0.00 193.00 61.00\" xmlns=\"http://www.w3.org/2000/svg\" xmlns:xlink=\"http://www.w3.org/1999/xlink\">\n",
              "<g id=\"graph0\" class=\"graph\" transform=\"scale(1 1) rotate(0) translate(4 57)\">\n",
              "<title>polars_query</title>\n",
              "<polygon fill=\"white\" stroke=\"transparent\" points=\"-4,4 -4,-57 189,-57 189,4 -4,4\"/>\n",
              "<!-- [CSV SCAN electric_cars.csv;\n",
              "π */17;\n",
              "σ &#45;] -->\n",
              "<g id=\"node1\" class=\"node\">\n",
              "<title>[CSV SCAN electric_cars.csv;\n",
              "π */17;\n",
              "σ &#45;]</title>\n",
              "<polygon fill=\"none\" stroke=\"black\" points=\"185,-53 0,-53 0,0 185,0 185,-53\"/>\n",
              "<text text-anchor=\"middle\" x=\"92.5\" y=\"-37.8\" font-family=\"Times,serif\" font-size=\"14.00\">[CSV SCAN electric_cars.csv;</text>\n",
              "<text text-anchor=\"middle\" x=\"92.5\" y=\"-22.8\" font-family=\"Times,serif\" font-size=\"14.00\">π */17;</text>\n",
              "<text text-anchor=\"middle\" x=\"92.5\" y=\"-7.8\" font-family=\"Times,serif\" font-size=\"14.00\">σ &#45;]</text>\n",
              "</g>\n",
              "</g>\n",
              "</svg>\n"
            ]
          },
          "metadata": {},
          "execution_count": 17
        }
      ]
    },
    {
      "cell_type": "code",
      "source": [
        "lazy_car_data.schema"
      ],
      "metadata": {
        "id": "GyFpBMv5KZli",
        "colab": {
          "base_uri": "https://localhost:8080/"
        },
        "outputId": "747e9959-364f-460d-8cc6-c86c1a294445"
      },
      "execution_count": null,
      "outputs": [
        {
          "output_type": "execute_result",
          "data": {
            "text/plain": [
              "{'VIN (1-10)': Utf8,\n",
              " 'County': Utf8,\n",
              " 'City': Utf8,\n",
              " 'State': Utf8,\n",
              " 'Postal Code': Int64,\n",
              " 'Model Year': Int64,\n",
              " 'Make': Utf8,\n",
              " 'Model': Utf8,\n",
              " 'Electric Vehicle Type': Utf8,\n",
              " 'Clean Alternative Fuel Vehicle (CAFV) Eligibility': Utf8,\n",
              " 'Electric Range': Int64,\n",
              " 'Base MSRP': Int64,\n",
              " 'Legislative District': Int64,\n",
              " 'DOL Vehicle ID': Int64,\n",
              " 'Vehicle Location': Utf8,\n",
              " 'Electric Utility': Utf8,\n",
              " '2020 Census Tract': Int64}"
            ]
          },
          "metadata": {},
          "execution_count": 18
        }
      ]
    },
    {
      "cell_type": "code",
      "source": [
        "lazy_car_query = (\n",
        "    lazy_car_data\n",
        "    .filter((pl.col(\"Model Year\") >= 2018))\n",
        "    .filter(\n",
        "        pl.col(\"Electric Vehicle Type\") == \"Battery Electric Vehicle (BEV)\"\n",
        "        )\n",
        "    .groupby([\"State\", \"Make\"])\n",
        "    .agg(\n",
        "        pl.mean(\"Electric Range\").alias(\"Average Electric Range\"),\n",
        "        pl.min(\"Model Year\").alias(\"Oldest Model Year\"),\n",
        "        pl.count().alias(\"Number of Cars\"),\n",
        "        )\n",
        "    .filter(pl.col(\"Average Electric Range\") > 0)\n",
        "    .filter(pl.col(\"Number of Cars\") > 5)\n",
        "    .sort(pl.col(\"Number of Cars\"), descending=True)\n",
        "    )"
      ],
      "metadata": {
        "id": "DFFJHTeZ27pi"
      },
      "execution_count": null,
      "outputs": []
    },
    {
      "cell_type": "code",
      "source": [
        "lazy_car_query.collect()"
      ],
      "metadata": {
        "colab": {
          "base_uri": "https://localhost:8080/",
          "height": 757
        },
        "id": "-viBfiSP3Tof",
        "outputId": "bdf17004-0875-4876-acad-114f4d9b181a"
      },
      "execution_count": null,
      "outputs": [
        {
          "output_type": "execute_result",
          "data": {
            "text/plain": [
              "shape: (21, 5)\n",
              "┌───────┬───────────┬────────────────────────┬───────────────────┬────────────────┐\n",
              "│ State ┆ Make      ┆ Average Electric Range ┆ Oldest Model Year ┆ Number of Cars │\n",
              "│ ---   ┆ ---       ┆ ---                    ┆ ---               ┆ ---            │\n",
              "│ str   ┆ str       ┆ f64                    ┆ i64               ┆ u32            │\n",
              "╞═══════╪═══════════╪════════════════════════╪═══════════════════╪════════════════╡\n",
              "│ WA    ┆ TESLA     ┆ 76.215075              ┆ 2018              ┆ 63550          │\n",
              "│ WA    ┆ NISSAN    ┆ 84.965967              ┆ 2018              ┆ 5906           │\n",
              "│ WA    ┆ CHEVROLET ┆ 104.147281             ┆ 2018              ┆ 5812           │\n",
              "│ WA    ┆ FORD      ┆ 0.128337               ┆ 2018              ┆ 3896           │\n",
              "│ …     ┆ …         ┆ …                      ┆ …                 ┆ …              │\n",
              "│ MD    ┆ TESLA     ┆ 56.222222              ┆ 2018              ┆ 9              │\n",
              "│ NC    ┆ TESLA     ┆ 26.875                 ┆ 2018              ┆ 8              │\n",
              "│ TX    ┆ TESLA     ┆ 94.625                 ┆ 2018              ┆ 8              │\n",
              "│ IL    ┆ TESLA     ┆ 162.0                  ┆ 2018              ┆ 6              │\n",
              "└───────┴───────────┴────────────────────────┴───────────────────┴────────────────┘"
            ],
            "text/html": [
              "<div><style>\n",
              ".dataframe > thead > tr > th,\n",
              ".dataframe > tbody > tr > td {\n",
              "  text-align: right;\n",
              "}\n",
              "</style>\n",
              "<small>shape: (21, 5)</small><table border=\"1\" class=\"dataframe\"><thead><tr><th>State</th><th>Make</th><th>Average Electric Range</th><th>Oldest Model Year</th><th>Number of Cars</th></tr><tr><td>str</td><td>str</td><td>f64</td><td>i64</td><td>u32</td></tr></thead><tbody><tr><td>&quot;WA&quot;</td><td>&quot;TESLA&quot;</td><td>76.215075</td><td>2018</td><td>63550</td></tr><tr><td>&quot;WA&quot;</td><td>&quot;NISSAN&quot;</td><td>84.965967</td><td>2018</td><td>5906</td></tr><tr><td>&quot;WA&quot;</td><td>&quot;CHEVROLET&quot;</td><td>104.147281</td><td>2018</td><td>5812</td></tr><tr><td>&quot;WA&quot;</td><td>&quot;FORD&quot;</td><td>0.128337</td><td>2018</td><td>3896</td></tr><tr><td>&quot;WA&quot;</td><td>&quot;KIA&quot;</td><td>54.974002</td><td>2018</td><td>3808</td></tr><tr><td>&quot;WA&quot;</td><td>&quot;VOLKSWAGEN&quot;</td><td>18.975013</td><td>2018</td><td>3722</td></tr><tr><td>&quot;WA&quot;</td><td>&quot;HYUNDAI&quot;</td><td>20.598614</td><td>2018</td><td>2885</td></tr><tr><td>&quot;WA&quot;</td><td>&quot;AUDI&quot;</td><td>79.543316</td><td>2019</td><td>1743</td></tr><tr><td>&quot;WA&quot;</td><td>&quot;BMW&quot;</td><td>16.56254</td><td>2018</td><td>1559</td></tr><tr><td>&quot;WA&quot;</td><td>&quot;POLESTAR&quot;</td><td>35.754476</td><td>2021</td><td>782</td></tr><tr><td>&quot;WA&quot;</td><td>&quot;MINI&quot;</td><td>22.701342</td><td>2021</td><td>596</td></tr><tr><td>&quot;WA&quot;</td><td>&quot;PORSCHE&quot;</td><td>73.487544</td><td>2020</td><td>562</td></tr><tr><td>&quot;WA&quot;</td><td>&quot;JAGUAR&quot;</td><td>202.8</td><td>2019</td><td>225</td></tr><tr><td>&quot;WA&quot;</td><td>&quot;FIAT&quot;</td><td>84.0</td><td>2018</td><td>67</td></tr><tr><td>&quot;WA&quot;</td><td>&quot;SMART&quot;</td><td>58.0</td><td>2018</td><td>55</td></tr><tr><td>&quot;CA&quot;</td><td>&quot;TESLA&quot;</td><td>85.365854</td><td>2018</td><td>41</td></tr><tr><td>&quot;VA&quot;</td><td>&quot;TESLA&quot;</td><td>98.583333</td><td>2018</td><td>12</td></tr><tr><td>&quot;MD&quot;</td><td>&quot;TESLA&quot;</td><td>56.222222</td><td>2018</td><td>9</td></tr><tr><td>&quot;NC&quot;</td><td>&quot;TESLA&quot;</td><td>26.875</td><td>2018</td><td>8</td></tr><tr><td>&quot;TX&quot;</td><td>&quot;TESLA&quot;</td><td>94.625</td><td>2018</td><td>8</td></tr><tr><td>&quot;IL&quot;</td><td>&quot;TESLA&quot;</td><td>162.0</td><td>2018</td><td>6</td></tr></tbody></table></div>"
            ]
          },
          "metadata": {},
          "execution_count": 20
        }
      ]
    },
    {
      "cell_type": "code",
      "source": [],
      "metadata": {
        "id": "l5nUE1MA3d1I"
      },
      "execution_count": null,
      "outputs": []
    },
    {
      "cell_type": "code",
      "source": [],
      "metadata": {
        "id": "Qj5wif043eln"
      },
      "execution_count": null,
      "outputs": []
    }
  ]
}
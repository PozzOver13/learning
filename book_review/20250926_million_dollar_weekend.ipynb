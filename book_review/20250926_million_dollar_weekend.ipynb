{
  "nbformat": 4,
  "nbformat_minor": 0,
  "metadata": {
    "colab": {
      "provenance": [],
      "authorship_tag": "ABX9TyNfgEUtfY+27/BcRMLDl0J+",
      "include_colab_link": true
    },
    "kernelspec": {
      "name": "python3",
      "display_name": "Python 3"
    },
    "language_info": {
      "name": "python"
    }
  },
  "cells": [
    {
      "cell_type": "markdown",
      "metadata": {
        "id": "view-in-github",
        "colab_type": "text"
      },
      "source": [
        "<a href=\"https://colab.research.google.com/github/PozzOver13/learning/blob/main/book_review/20250926_million_dollar_weekend.ipynb\" target=\"_parent\"><img src=\"https://colab.research.google.com/assets/colab-badge.svg\" alt=\"Open In Colab\"/></a>"
      ]
    },
    {
      "cell_type": "markdown",
      "source": [
        "![million_dollar_weekend_cover](https://drive.google.com/uc?id=1R4KmjJ7i0oCyKMv6xKfB6lcgrWG34n61)"
      ],
      "metadata": {
        "id": "LLKUpsDomSik"
      }
    },
    {
      "cell_type": "markdown",
      "source": [
        "Libro **interessante** che avevo già visto raccomandato e recensito da **Ali Abdaal**. A differenza di altre volte, l'ho approcciato in un modo, credo, migliore. Spesso, infatti, mi faccio prendere dall'ansia di leggere tutto il libro il più **velocemente possibile**, ricercando al suo interno, tra le sue righe e nelle sue parole una \"verità\" capace di cambiare e ribaltare la mia percezione della reatà.\n",
        "\n",
        "Invece, questa è stata una bella **avventura di scoperta**, ma soprattutto di **riscoperta** e un'importante occasione per fare dei **collegamenti**. Tanti elementi di imprenditorialità, già incontrati su altri canali e in altre occasioni, si sono **uniti** o mi sono apparsi come **potenzialmente collegabili**. Il che mi sembra esattamente lo scopo per cui i libri non sono da considerare piccole attività da completare ma “porte aperte su futuri possibili”, come avevo letto in un interessantissimo post delle newsletter “Futuri Preferibili”.\n",
        "\n",
        "Ora però, passiamo agli elementi che più mi hanno colpito.\n",
        "\n",
        "Il tema del libro è chiaramente cercare di proporre una sorta di **guida da completare in un weekend** per creare un’attività imprenditoriale capace di far raggiungere un fatturato sognato. Tuttavia, mentre la guida operativa è per sua natura **imperfetta e approssimativa**, quello che credo sia importante ricordare sono due concetti: la **centralità dell'imprenditore** e l'**attenzione al cliente**.\n",
        "\n",
        "Nel primo elemento faccio rientrare diversi temi che meriterebbero una riflessione dedicata:\n",
        "\n",
        "1. Il \"**freedom number**\", ovvero il ricavo mensile che si vorrebbe raggiungere. Questo numero come tutti i sogni può essere grande a piacere ma poi deve essere declinato in modo operativo per poter creare un percorso, che effettivamente ci possa portare all’obbiettivo.\n",
        "2. L'importanza di avere la **giusta \"fotta\"** per concedersi il lusso di sognare un obiettivo grandi e per fare il necessario per raggiungerlo.\n",
        "3. La **curiosità sperimentale** con cui occorre approcciarsi ai problemi, senza evitare (*passaggio fondamentale del libro ndr*) di trovare il coraggio di **andare dritti al punto**, che è capire se i clienti sono disposti a **scambiare del denaro** per l'idea di business in questione.\n",
        "\n",
        "Il secondo elemento, invece, ci ricorda che non stiamo creando qualcosa per compiacere la nostra capacità creativa, ma per **risolvere un problema** a una specifica persona appartenente a uno specifico gruppo.\n",
        "\n",
        "Il libro poi fa leva sull'esperienza nella \"**creator economy**\" dell'autore per spiegare punti rilevanti, quali l'importanza dei **social come canale iniziale** per raggiungere un gran numero di persone, successivamente da ricondurre a una **mailing list** per una migliore conversione di clienti. Ma queste dinamiche mi erano già chiare e sono trattate senza contraddittorio, quindi sembra una scienza deterministica più che una delle infinite possibilità di marketing.\n",
        "\n",
        "Invece, mi ripeto, gli elementi che mi sono davvero piaciuti sono stati quelli più incentrati sull'importanza delle **vendite** e della loro **spietata concretezza**. Vuoi guadagnare un milione di euro? Definisci un prezzo e comprendi qual è il numero di vendite necessarie per raggiungere l'obiettivo. Ma **non fermarti alle analisi**, vai incontro a potenziali fallimenti.\n",
        "\n",
        "Chiudo dicendo che ora voglio **provare questo \"gioco\"** con **Giulia** e anche con gli amici. Esattamente come fatto con \"NBA Sandbox\", ma più incentrato su di me, per togliere pressione alle persone che coinvolgo, per abituarmi a caricarmi di responsabilità e magari trovare vere **opportunità di business redditizie** per il futuro, cercando di capire se riesco a cambiare il mio livello nel *business game* descritto da Ali Abdaal."
      ],
      "metadata": {
        "id": "38rkDW48mbyQ"
      }
    },
    {
      "cell_type": "markdown",
      "source": [
        "![million_dollar_weekend_keypoints](https://drive.google.com/uc?id=1ihKHf4VX3b8u-SJ33D6OMzUJSKrmuq7u)"
      ],
      "metadata": {
        "id": "771HHj_ljq-5"
      }
    }
  ]
}
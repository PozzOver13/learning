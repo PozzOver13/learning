{
  "nbformat": 4,
  "nbformat_minor": 0,
  "metadata": {
    "colab": {
      "provenance": [],
      "toc_visible": true,
      "collapsed_sections": [
        "pNm2CD0FU4-q"
      ],
      "authorship_tag": "ABX9TyMz84W7H67WEVmVQtavOfbu",
      "include_colab_link": true
    },
    "kernelspec": {
      "name": "python3",
      "display_name": "Python 3"
    },
    "language_info": {
      "name": "python"
    }
  },
  "cells": [
    {
      "cell_type": "markdown",
      "metadata": {
        "id": "view-in-github",
        "colab_type": "text"
      },
      "source": [
        "<a href=\"https://colab.research.google.com/github/PozzOver13/learning/blob/main/data_processing/20231110_tutorial_polars.ipynb\" target=\"_parent\"><img src=\"https://colab.research.google.com/assets/colab-badge.svg\" alt=\"Open In Colab\"/></a>"
      ]
    },
    {
      "cell_type": "markdown",
      "source": [
        "# Polars Tutorial 🐻\n",
        "\n",
        "\n"
      ],
      "metadata": {
        "id": "dAvk6fbFDsxQ"
      }
    },
    {
      "cell_type": "markdown",
      "source": [
        "# References  \n",
        "\n",
        "**official websites**  \n",
        "https://www.pola.rs/ Polars Website  \n",
        "https://pola-rs.github.io/polars/user-guide/ Polars User guide  \n",
        "\n",
        "**talks**  \n",
        "https://www.youtube.com/watch?v=LGAHTp4DYZY  Juan Luis- Expressive and fast dataframes in Python with polars  \n",
        "https://www.youtube.com/watch?v=CtkMzCIXOWk  Thomas Bierhance: Polars - make the switch to lightning-fast dataframes   \n",
        "https://www.youtube.com/watch?v=0rKV-aghHuc Beyond Pandas: lightning fast in-memory dataframes with Polars - Alberto Danese\n",
        "https://www.youtube.com/watch?v=XsxrhGlkyk0 Is the great dataframe showdown finally over? Enter: polars - Luca Baggi  \n",
        "https://www.youtube.com/watch?v=DwtbPhbDecQ&list=WL&index=32 Matthew Rocklin - Spark, Dask, DuckDB, and Polars: Benchmarks | PyData NYC 2023\n",
        "  \n",
        "\n",
        "\n",
        "**good 2 be known**  \n",
        "https://wesmckinney.com/blog/apache-arrow-pandas-internals/ Wes McKinney\n",
        "Blog post on pandas internals  \n",
        "https://duckdblabs.github.io/db-benchmark/ Database-like ops benchmark  \n",
        "https://pandas.pydata.org/docs/user_guide/pyarrow.html - Pandas Arrow backend  \n",
        "https://aborruso.github.io/posts/duckdb-intro-csv/ - Gestire file CSV grandi, brutti e cattivi Andrea Borruso  \n",
        "https://www.hopsworks.ai/post/pandas2-and-polars-for-feature-engineering?utm_source=substack&utm_medium=email Pandas2 and Polars for Feature Engineering  \n",
        "https://www.emilyriederer.com/post/py-rgo-polars/?utm_campaign=Data_Elixir&utm_source=Data_Elixir_468 polars’ Rgonomic Patterns  \n",
        "https://blog.tidy-intelligence.com/posts/dplyr-vs-polars/ Tidy Data Manipulation: dplyr vs polars\n",
        "\n",
        "  \n",
        "   "
      ],
      "metadata": {
        "id": "umGfIiRV_bAy"
      }
    },
    {
      "cell_type": "markdown",
      "source": [
        "# Introduction"
      ],
      "metadata": {
        "id": "WejA_j0gMf87"
      }
    },
    {
      "cell_type": "markdown",
      "source": [
        "## What is Polars?\n",
        "\n",
        "Polars is a fast and efficient DataFrame library for the Python programming language. It is designed to provide high-performance data manipulation and analysis capabilities similar to those offered by popular libraries like Pandas, but with a focus on speed and parallel processing.\n",
        "\n",
        "Key features of Polars include:\n",
        "1. **Performance**: Polars is built with performance in mind and is optimized for speed. It aims to provide faster data processing compared to Pandas, especially for large datasets.\n",
        "1. **Lazy Evaluation**: Polars uses lazy evaluation, which means that operations are not immediately executed. Instead, they are recorded as a query plan, allowing for optimization and efficient execution of operations.\n",
        "1. **Parallel Processing**: Polars is designed to take advantage of parallel processing and multicore systems, which can significantly speed up data manipulation tasks.\n",
        "1. **Memory Efficiency**: Polars is optimized for memory efficiency, allowing users to work with large datasets without running into memory constraints.\n",
        "1. **Expressive API**: Polars provides a concise and expressive API for working with data, making it easy to perform common data manipulation tasks.\n",
        "1. **Integration with Arrow**: Polars leverages the Apache Arrow project for efficient in-memory columnar data representation, enabling seamless interoperability with other systems and libraries that support Arrow."
      ],
      "metadata": {
        "id": "rS_CfGlK_bF6"
      }
    },
    {
      "cell_type": "markdown",
      "source": [
        "## Why it is worth to know it?\n",
        "\n",
        "1.   Performance\n",
        "1.   Syntax\n",
        "\n",
        "**7 verbs get most jobs done (who's thinking to Dplyr?)**\n",
        "\n",
        "\n",
        "```python\n",
        "# select / slice columns\n",
        "select\n",
        "# create / transform / assign columns\n",
        "with_columns\n",
        "# filter / slice / query rows\n",
        "filter\n",
        "# join / merge another dataframe\n",
        "join\n",
        "# group dataframe rows\n",
        "groupby\n",
        "# aggregate groups\n",
        "agg\n",
        "# sort dataframe\n",
        "sort\n",
        "```\n"
      ],
      "metadata": {
        "id": "wwv8nQq4-v2v"
      }
    },
    {
      "cell_type": "markdown",
      "source": [
        "## What is Rust?\n",
        "\n",
        "Rust is a programming language that is focused on providing performance, reliability, and safety. It was designed by Mozilla and first announced in 2010. Rust is often praised for its memory safety guarantees, zero-cost abstractions, and strong type system. It is intended for systems-level programming where low-level control over system resources and high performance are crucial.\n",
        "\n",
        "Key features of Rust include:\n",
        "\n",
        "1. **Memory Safety:** Rust uses a system of ownership, borrowing, and lifetimes to enforce memory safety without the need for a garbage collector. This helps prevent common programming errors like null pointer dereferencing and data races.\n",
        "2. **Concurrency without Data Races:** Rust has a concurrency model that allows for safe and concurrent programming by avoiding data races. The ownership system helps prevent multiple threads from accessing the same data simultaneously, reducing the likelihood of bugs related to parallelism.\n",
        "3. **Zero-Cost Abstractions:** Rust provides high-level abstractions without sacrificing performance. The language aims to eliminate the trade-off between high-level programming constructs and low-level control over system resources.\n",
        "4. **Cargo Build System:** Rust comes with a build tool called Cargo, which makes it easy to manage dependencies, build projects, and run tests. Cargo simplifies the process of creating, building, and distributing Rust projects.\n",
        "5. **Pattern Matching:** Rust includes a powerful pattern matching system that makes it expressive and allows for concise and readable code.\n",
        "6. **C and C++ Interoperability:** Rust can be integrated with existing C and C++ codebases, allowing for gradual adoption or collaboration with projects written in these languages.\n",
        "7. **Community and Ecosystem:** Rust has a growing and active community, and it is supported by a rich ecosystem of libraries and tools. The community values documentation, and Rust projects often come with well-documented code.\n",
        "\n",
        "Rust has gained popularity for its focus on safety and performance, making it suitable for a wide range of applications, including system-level programming, embedded systems, and performance-critical applications. It is often used in projects where both low-level control and modern language features are important."
      ],
      "metadata": {
        "id": "Hfx0xDwV_Qat"
      }
    },
    {
      "cell_type": "markdown",
      "source": [
        "## Data Wrangling Alternatives?\n",
        "\n",
        "1. **Pandas:**\n",
        "   - **Overview:** Pandas is one of the most widely used data manipulation libraries in Python. It provides high-performance, easy-to-use data structures such as DataFrames for data analysis and manipulation.\n",
        "   - **Strengths:** Great for exploratory data analysis, cleaning, and transformation. It has a large and active community.\n",
        "   - **Considerations:** While Pandas is powerful, it might struggle with very large datasets due to its in-memory nature.\n",
        "\n",
        "2. **Apache Arrow:**\n",
        "   - **Overview:** Apache Arrow is a cross-language development platform for in-memory data that specifies a standardized language-independent columnar memory format for flat and hierarchical data.\n",
        "   - **Strengths:** Efficient in-memory representation, supports multiple languages, and facilitates high-speed data interchange.\n",
        "   - **Considerations:** While Arrow is crucial for interoperability, it doesn't provide the full range of data manipulation operations found in libraries like Pandas.\n",
        "\n",
        "3. **Dask:**\n",
        "   - **Overview:** Dask is a parallel computing library that integrates with existing Python libraries like NumPy, Pandas, and Scikit-Learn to enable parallel processing for larger-than-memory computations.\n",
        "   - **Strengths:** Scales from a laptop to a cluster, enabling parallel and distributed computing. It's particularly useful for handling larger-than-memory datasets.\n",
        "   - **Considerations:** Dask integrates with Pandas, but it doesn't replace Pandas; it extends its capabilities to larger datasets.\n",
        "\n",
        "Other alternatives you might want to explore include:\n",
        "\n",
        "4. **Vaex:**\n",
        "   - **Overview:** Vaex is a Python library for lazy, out-of-core DataFrames. It aims to provide a Pandas-like API but with the ability to work with datasets larger than memory.\n",
        "   - **Strengths:** Designed for handling larger-than-memory datasets, lazy evaluation for efficiency, and fast performance.\n",
        "\n",
        "5. **Modin:**\n",
        "   - **Overview:** Modin is a library that seeks to accelerate Pandas workflows by providing parallel and distributed computing capabilities.\n",
        "   - **Strengths:** It allows you to scale your Pandas workflows using Dask or Ray, providing increased performance for some operations.\n"
      ],
      "metadata": {
        "id": "yWVLqqToF5vd"
      }
    },
    {
      "cell_type": "markdown",
      "source": [
        "## Performance\n",
        "https://duckdblabs.github.io/db-benchmark/"
      ],
      "metadata": {
        "id": "PaBCWOdRNtbr"
      }
    },
    {
      "cell_type": "markdown",
      "source": [
        "# Pandas🐼 vs Polars🐻"
      ],
      "metadata": {
        "id": "LwGIluCAAK_S"
      }
    },
    {
      "cell_type": "code",
      "execution_count": 1,
      "metadata": {
        "colab": {
          "base_uri": "https://localhost:8080/"
        },
        "id": "TXxGP-MbDiUR",
        "outputId": "29c8c111-400b-4a28-e16c-0b9f82ce8d9a"
      },
      "outputs": [
        {
          "output_type": "stream",
          "name": "stdout",
          "text": [
            "Python 3.10.12\n"
          ]
        }
      ],
      "source": [
        "!python --version"
      ]
    },
    {
      "cell_type": "code",
      "source": [
        "!pip install polars==0.20.4"
      ],
      "metadata": {
        "colab": {
          "base_uri": "https://localhost:8080/"
        },
        "id": "7C_Sq9ktrJ6Z",
        "outputId": "5058b6d1-c5b7-4b71-9ada-ac112eb745ee"
      },
      "execution_count": 2,
      "outputs": [
        {
          "output_type": "stream",
          "name": "stdout",
          "text": [
            "Collecting polars==0.20.4\n",
            "  Downloading polars-0.20.4-cp38-abi3-manylinux_2_17_x86_64.manylinux2014_x86_64.whl (28.6 MB)\n",
            "\u001b[2K     \u001b[90m━━━━━━━━━━━━━━━━━━━━━━━━━━━━━━━━━━━━━━━━\u001b[0m \u001b[32m28.6/28.6 MB\u001b[0m \u001b[31m33.6 MB/s\u001b[0m eta \u001b[36m0:00:00\u001b[0m\n",
            "\u001b[?25hInstalling collected packages: polars\n",
            "  Attempting uninstall: polars\n",
            "    Found existing installation: polars 0.17.3\n",
            "    Uninstalling polars-0.17.3:\n",
            "      Successfully uninstalled polars-0.17.3\n",
            "Successfully installed polars-0.20.4\n"
          ]
        }
      ]
    },
    {
      "cell_type": "markdown",
      "source": [
        "## Importing libraries"
      ],
      "metadata": {
        "id": "FfyzoAQ3AOdb"
      }
    },
    {
      "cell_type": "code",
      "source": [
        "import pandas as pd\n",
        "import polars as pl\n",
        "import numpy as np\n",
        "\n",
        "# Mount your Google Drive\n",
        "from google.colab import drive\n",
        "drive.mount('/content/drive')"
      ],
      "metadata": {
        "id": "aK5xNQ1KEOVW",
        "colab": {
          "base_uri": "https://localhost:8080/"
        },
        "outputId": "c56d8b04-209a-4c7e-dc1d-e1bfe9c17a8b"
      },
      "execution_count": 3,
      "outputs": [
        {
          "output_type": "stream",
          "name": "stdout",
          "text": [
            "Mounted at /content/drive\n"
          ]
        }
      ]
    },
    {
      "cell_type": "code",
      "source": [
        "TRAIN_CSV_PATH = \"/content/drive/MyDrive/Personale/Dataset/finance_loan_approval/train.csv\"\n",
        "TEST_CSV_PATH = \"/content/drive/MyDrive/Personale/Dataset/finance_loan_approval/test.csv\""
      ],
      "metadata": {
        "id": "-k-6J6Y9AbID"
      },
      "execution_count": 4,
      "outputs": []
    },
    {
      "cell_type": "markdown",
      "source": [
        "## Reading Files\n",
        "\n",
        "https://pola-rs.github.io/polars/user-guide/basics/reading-writing/"
      ],
      "metadata": {
        "id": "_RFuSu9B_ffq"
      }
    },
    {
      "cell_type": "code",
      "source": [
        "# Read the CSV file into a pandas DataFrame\n",
        "train_pd = pd.read_csv(TRAIN_CSV_PATH)\n",
        "train_pl = pl.read_csv(TRAIN_CSV_PATH, infer_schema_length=10000) # without infer_schema_length generates an error interpreting a column as i64 instead of float"
      ],
      "metadata": {
        "id": "2EYBKEkRAwaA"
      },
      "execution_count": 5,
      "outputs": []
    },
    {
      "cell_type": "markdown",
      "source": [
        "## Types & Memory Usage\n",
        "\n",
        "Polars is entirely based on Arrow data types and backed by Arrow memory arrays. This makes data processing cache-efficient and well-supported for Inter Process Communication. Most data types follow the exact implementation from Arrow, with the exception of Utf8 (this is actually LargeUtf8), Categorical, and Object (support is limited).  \n",
        "https://pola-rs.github.io/polars/user-guide/concepts/data-types/  \n",
        "\n",
        "https://pola-rs.github.io/polars/user-guide/concepts/data-structures/"
      ],
      "metadata": {
        "id": "rstbM8JPSVW4"
      }
    },
    {
      "cell_type": "markdown",
      "source": [
        "### is there an equivalent of pandas \"memory_usage\" method  in polars?"
      ],
      "metadata": {
        "id": "pNm2CD0FU4-q"
      }
    },
    {
      "cell_type": "markdown",
      "source": [
        "As of my last knowledge update in January 2022, Polars does not have an exact equivalent method to Pandas' `memory_usage` for directly calculating the memory usage of a DataFrame. However, you can achieve similar results by using other approaches.\n",
        "\n",
        "In Pandas, the `memory_usage` method provides information about the memory usage of each column in a DataFrame. Polars, being designed for efficient memory usage, may not expose a direct method for this purpose. However, you can estimate memory usage in Polars using alternative methods:\n",
        "\n",
        "1. **Using the `memory_usage()` Method in Pandas:**\n",
        "   If you have a Polars DataFrame and want to estimate memory usage, you can convert it to a Pandas DataFrame temporarily and use the Pandas `memory_usage` method. Here's an example:\n",
        "\n",
        "   ```python\n",
        "   import pandas as pd\n",
        "   import polars as pl\n",
        "\n",
        "   # Create a Polars DataFrame\n",
        "   polars_df = pl.DataFrame({\n",
        "       'A': [1, 2, 3],\n",
        "       'B': ['foo', 'bar', 'baz']\n",
        "   })\n",
        "\n",
        "   # Convert to Pandas DataFrame and use memory_usage\n",
        "   pandas_df = polars_df.to_pandas()\n",
        "   memory_usage = pandas_df.memory_usage(deep=True)\n",
        "   print(memory_usage)\n",
        "   ```\n",
        "\n",
        "   Note that the `deep=True` argument in `memory_usage` considers the memory usage of the underlying objects, which can be more accurate but also more computationally expensive.\n",
        "\n",
        "2. **Estimating Memory Usage in Polars:**\n",
        "   While there may not be a dedicated method for memory usage in Polars, you can get an estimate of the size of a DataFrame using the `arrow_memory_size` method. This method returns the size of a `RecordBatch` in bytes. While it's not an exact memory usage for the DataFrame, it can give you an idea of the memory footprint.\n",
        "\n",
        "   ```python\n",
        "   import polars as pl\n",
        "\n",
        "   # Create a Polars DataFrame\n",
        "   polars_df = pl.DataFrame({\n",
        "       'A': [1, 2, 3],\n",
        "       'B': ['foo', 'bar', 'baz']\n",
        "   })\n",
        "\n",
        "   # Get an estimate of the memory usage\n",
        "   memory_size_estimate = polars_df.arrow_memory_size()\n",
        "   print(f\"Estimated memory usage: {memory_size_estimate} bytes\")\n",
        "   ```\n",
        "\n",
        "   Keep in mind that these approaches provide estimates, and the actual memory usage may depend on various factors, including the data types of the columns and other internal optimizations performed by the library. Always consider the specific requirements of your use case when estimating memory usage. Additionally, check the Polars documentation for any updates or new methods related to memory usage that may have been introduced after my last knowledge update."
      ],
      "metadata": {
        "id": "Pi9fGtKWUu4-"
      }
    },
    {
      "cell_type": "markdown",
      "source": [
        "### schemas"
      ],
      "metadata": {
        "id": "x9_yTrYMU_Uw"
      }
    },
    {
      "cell_type": "code",
      "source": [
        "train_pl.schema"
      ],
      "metadata": {
        "colab": {
          "base_uri": "https://localhost:8080/"
        },
        "id": "ma4yjPOSQ4Nd",
        "outputId": "a41b0c44-98a0-4820-dc65-34a8ad1ba61e"
      },
      "execution_count": 6,
      "outputs": [
        {
          "output_type": "execute_result",
          "data": {
            "text/plain": [
              "OrderedDict([('Loan_ID', String),\n",
              "             ('Gender', String),\n",
              "             ('Married', String),\n",
              "             ('Dependents', String),\n",
              "             ('Education', String),\n",
              "             ('Self_Employed', String),\n",
              "             ('ApplicantIncome', Int64),\n",
              "             ('CoapplicantIncome', Float64),\n",
              "             ('LoanAmount', Int64),\n",
              "             ('Loan_Amount_Term', Int64),\n",
              "             ('Credit_History', Int64),\n",
              "             ('Property_Area', String),\n",
              "             ('Loan_Status', String)])"
            ]
          },
          "metadata": {},
          "execution_count": 6
        }
      ]
    },
    {
      "cell_type": "code",
      "source": [
        "train_pd.dtypes"
      ],
      "metadata": {
        "colab": {
          "base_uri": "https://localhost:8080/"
        },
        "id": "rR9boy5iQ9H7",
        "outputId": "3f108dec-1eaf-4c6a-ef59-89e09ee6e2ee"
      },
      "execution_count": 7,
      "outputs": [
        {
          "output_type": "execute_result",
          "data": {
            "text/plain": [
              "Loan_ID               object\n",
              "Gender                object\n",
              "Married               object\n",
              "Dependents            object\n",
              "Education             object\n",
              "Self_Employed         object\n",
              "ApplicantIncome        int64\n",
              "CoapplicantIncome    float64\n",
              "LoanAmount           float64\n",
              "Loan_Amount_Term     float64\n",
              "Credit_History       float64\n",
              "Property_Area         object\n",
              "Loan_Status           object\n",
              "dtype: object"
            ]
          },
          "metadata": {},
          "execution_count": 7
        }
      ]
    },
    {
      "cell_type": "code",
      "source": [
        "def print_memory_usage(df):\n",
        "    mem_MB = df.memory_usage(index=True, deep=True).sum() / 1024 / 1024\n",
        "    print(f\"memory used: {mem_MB:.1f} MB\")\n",
        "    # return df"
      ],
      "metadata": {
        "id": "6ua_hLrpSuMn"
      },
      "execution_count": 8,
      "outputs": []
    },
    {
      "cell_type": "code",
      "source": [
        "print_memory_usage(train_pd)"
      ],
      "metadata": {
        "colab": {
          "base_uri": "https://localhost:8080/"
        },
        "id": "Sgnin-DESu82",
        "outputId": "59951754-e7b8-43ba-ec96-70c1bef353a0"
      },
      "execution_count": 9,
      "outputs": [
        {
          "output_type": "stream",
          "name": "stdout",
          "text": [
            "memory used: 0.3 MB\n"
          ]
        }
      ]
    },
    {
      "cell_type": "code",
      "source": [
        "# using the previous steps to extract the schema\n",
        "dset_schema = train_pl.schema\n",
        "train_pl = pl.read_csv(TRAIN_CSV_PATH, dtypes=dset_schema)"
      ],
      "metadata": {
        "id": "oJbO_XvPUejw"
      },
      "execution_count": 10,
      "outputs": []
    },
    {
      "cell_type": "markdown",
      "source": [
        "## Heading"
      ],
      "metadata": {
        "id": "zrHbqFnzBBsd"
      }
    },
    {
      "cell_type": "code",
      "source": [
        "train_pd.head(3)"
      ],
      "metadata": {
        "colab": {
          "base_uri": "https://localhost:8080/",
          "height": 163
        },
        "id": "puJpCq1QE3tm",
        "outputId": "ce34a75f-a163-463f-f9fa-7296c2bf13ef"
      },
      "execution_count": 11,
      "outputs": [
        {
          "output_type": "execute_result",
          "data": {
            "text/plain": [
              "    Loan_ID Gender Married Dependents Education Self_Employed  \\\n",
              "0  LP001002   Male      No          0  Graduate            No   \n",
              "1  LP001003   Male     Yes          1  Graduate            No   \n",
              "2  LP001005   Male     Yes          0  Graduate           Yes   \n",
              "\n",
              "   ApplicantIncome  CoapplicantIncome  LoanAmount  Loan_Amount_Term  \\\n",
              "0             5849                0.0         NaN             360.0   \n",
              "1             4583             1508.0       128.0             360.0   \n",
              "2             3000                0.0        66.0             360.0   \n",
              "\n",
              "   Credit_History Property_Area Loan_Status  \n",
              "0             1.0         Urban           Y  \n",
              "1             1.0         Rural           N  \n",
              "2             1.0         Urban           Y  "
            ],
            "text/html": [
              "\n",
              "  <div id=\"df-8ebf384c-a584-4c59-9f0f-1b6b8e0f7f9c\" class=\"colab-df-container\">\n",
              "    <div>\n",
              "<style scoped>\n",
              "    .dataframe tbody tr th:only-of-type {\n",
              "        vertical-align: middle;\n",
              "    }\n",
              "\n",
              "    .dataframe tbody tr th {\n",
              "        vertical-align: top;\n",
              "    }\n",
              "\n",
              "    .dataframe thead th {\n",
              "        text-align: right;\n",
              "    }\n",
              "</style>\n",
              "<table border=\"1\" class=\"dataframe\">\n",
              "  <thead>\n",
              "    <tr style=\"text-align: right;\">\n",
              "      <th></th>\n",
              "      <th>Loan_ID</th>\n",
              "      <th>Gender</th>\n",
              "      <th>Married</th>\n",
              "      <th>Dependents</th>\n",
              "      <th>Education</th>\n",
              "      <th>Self_Employed</th>\n",
              "      <th>ApplicantIncome</th>\n",
              "      <th>CoapplicantIncome</th>\n",
              "      <th>LoanAmount</th>\n",
              "      <th>Loan_Amount_Term</th>\n",
              "      <th>Credit_History</th>\n",
              "      <th>Property_Area</th>\n",
              "      <th>Loan_Status</th>\n",
              "    </tr>\n",
              "  </thead>\n",
              "  <tbody>\n",
              "    <tr>\n",
              "      <th>0</th>\n",
              "      <td>LP001002</td>\n",
              "      <td>Male</td>\n",
              "      <td>No</td>\n",
              "      <td>0</td>\n",
              "      <td>Graduate</td>\n",
              "      <td>No</td>\n",
              "      <td>5849</td>\n",
              "      <td>0.0</td>\n",
              "      <td>NaN</td>\n",
              "      <td>360.0</td>\n",
              "      <td>1.0</td>\n",
              "      <td>Urban</td>\n",
              "      <td>Y</td>\n",
              "    </tr>\n",
              "    <tr>\n",
              "      <th>1</th>\n",
              "      <td>LP001003</td>\n",
              "      <td>Male</td>\n",
              "      <td>Yes</td>\n",
              "      <td>1</td>\n",
              "      <td>Graduate</td>\n",
              "      <td>No</td>\n",
              "      <td>4583</td>\n",
              "      <td>1508.0</td>\n",
              "      <td>128.0</td>\n",
              "      <td>360.0</td>\n",
              "      <td>1.0</td>\n",
              "      <td>Rural</td>\n",
              "      <td>N</td>\n",
              "    </tr>\n",
              "    <tr>\n",
              "      <th>2</th>\n",
              "      <td>LP001005</td>\n",
              "      <td>Male</td>\n",
              "      <td>Yes</td>\n",
              "      <td>0</td>\n",
              "      <td>Graduate</td>\n",
              "      <td>Yes</td>\n",
              "      <td>3000</td>\n",
              "      <td>0.0</td>\n",
              "      <td>66.0</td>\n",
              "      <td>360.0</td>\n",
              "      <td>1.0</td>\n",
              "      <td>Urban</td>\n",
              "      <td>Y</td>\n",
              "    </tr>\n",
              "  </tbody>\n",
              "</table>\n",
              "</div>\n",
              "    <div class=\"colab-df-buttons\">\n",
              "\n",
              "  <div class=\"colab-df-container\">\n",
              "    <button class=\"colab-df-convert\" onclick=\"convertToInteractive('df-8ebf384c-a584-4c59-9f0f-1b6b8e0f7f9c')\"\n",
              "            title=\"Convert this dataframe to an interactive table.\"\n",
              "            style=\"display:none;\">\n",
              "\n",
              "  <svg xmlns=\"http://www.w3.org/2000/svg\" height=\"24px\" viewBox=\"0 -960 960 960\">\n",
              "    <path d=\"M120-120v-720h720v720H120Zm60-500h600v-160H180v160Zm220 220h160v-160H400v160Zm0 220h160v-160H400v160ZM180-400h160v-160H180v160Zm440 0h160v-160H620v160ZM180-180h160v-160H180v160Zm440 0h160v-160H620v160Z\"/>\n",
              "  </svg>\n",
              "    </button>\n",
              "\n",
              "  <style>\n",
              "    .colab-df-container {\n",
              "      display:flex;\n",
              "      gap: 12px;\n",
              "    }\n",
              "\n",
              "    .colab-df-convert {\n",
              "      background-color: #E8F0FE;\n",
              "      border: none;\n",
              "      border-radius: 50%;\n",
              "      cursor: pointer;\n",
              "      display: none;\n",
              "      fill: #1967D2;\n",
              "      height: 32px;\n",
              "      padding: 0 0 0 0;\n",
              "      width: 32px;\n",
              "    }\n",
              "\n",
              "    .colab-df-convert:hover {\n",
              "      background-color: #E2EBFA;\n",
              "      box-shadow: 0px 1px 2px rgba(60, 64, 67, 0.3), 0px 1px 3px 1px rgba(60, 64, 67, 0.15);\n",
              "      fill: #174EA6;\n",
              "    }\n",
              "\n",
              "    .colab-df-buttons div {\n",
              "      margin-bottom: 4px;\n",
              "    }\n",
              "\n",
              "    [theme=dark] .colab-df-convert {\n",
              "      background-color: #3B4455;\n",
              "      fill: #D2E3FC;\n",
              "    }\n",
              "\n",
              "    [theme=dark] .colab-df-convert:hover {\n",
              "      background-color: #434B5C;\n",
              "      box-shadow: 0px 1px 3px 1px rgba(0, 0, 0, 0.15);\n",
              "      filter: drop-shadow(0px 1px 2px rgba(0, 0, 0, 0.3));\n",
              "      fill: #FFFFFF;\n",
              "    }\n",
              "  </style>\n",
              "\n",
              "    <script>\n",
              "      const buttonEl =\n",
              "        document.querySelector('#df-8ebf384c-a584-4c59-9f0f-1b6b8e0f7f9c button.colab-df-convert');\n",
              "      buttonEl.style.display =\n",
              "        google.colab.kernel.accessAllowed ? 'block' : 'none';\n",
              "\n",
              "      async function convertToInteractive(key) {\n",
              "        const element = document.querySelector('#df-8ebf384c-a584-4c59-9f0f-1b6b8e0f7f9c');\n",
              "        const dataTable =\n",
              "          await google.colab.kernel.invokeFunction('convertToInteractive',\n",
              "                                                    [key], {});\n",
              "        if (!dataTable) return;\n",
              "\n",
              "        const docLinkHtml = 'Like what you see? Visit the ' +\n",
              "          '<a target=\"_blank\" href=https://colab.research.google.com/notebooks/data_table.ipynb>data table notebook</a>'\n",
              "          + ' to learn more about interactive tables.';\n",
              "        element.innerHTML = '';\n",
              "        dataTable['output_type'] = 'display_data';\n",
              "        await google.colab.output.renderOutput(dataTable, element);\n",
              "        const docLink = document.createElement('div');\n",
              "        docLink.innerHTML = docLinkHtml;\n",
              "        element.appendChild(docLink);\n",
              "      }\n",
              "    </script>\n",
              "  </div>\n",
              "\n",
              "\n",
              "<div id=\"df-7479e543-dafd-46b5-a0df-b3f724d10551\">\n",
              "  <button class=\"colab-df-quickchart\" onclick=\"quickchart('df-7479e543-dafd-46b5-a0df-b3f724d10551')\"\n",
              "            title=\"Suggest charts\"\n",
              "            style=\"display:none;\">\n",
              "\n",
              "<svg xmlns=\"http://www.w3.org/2000/svg\" height=\"24px\"viewBox=\"0 0 24 24\"\n",
              "     width=\"24px\">\n",
              "    <g>\n",
              "        <path d=\"M19 3H5c-1.1 0-2 .9-2 2v14c0 1.1.9 2 2 2h14c1.1 0 2-.9 2-2V5c0-1.1-.9-2-2-2zM9 17H7v-7h2v7zm4 0h-2V7h2v10zm4 0h-2v-4h2v4z\"/>\n",
              "    </g>\n",
              "</svg>\n",
              "  </button>\n",
              "\n",
              "<style>\n",
              "  .colab-df-quickchart {\n",
              "      --bg-color: #E8F0FE;\n",
              "      --fill-color: #1967D2;\n",
              "      --hover-bg-color: #E2EBFA;\n",
              "      --hover-fill-color: #174EA6;\n",
              "      --disabled-fill-color: #AAA;\n",
              "      --disabled-bg-color: #DDD;\n",
              "  }\n",
              "\n",
              "  [theme=dark] .colab-df-quickchart {\n",
              "      --bg-color: #3B4455;\n",
              "      --fill-color: #D2E3FC;\n",
              "      --hover-bg-color: #434B5C;\n",
              "      --hover-fill-color: #FFFFFF;\n",
              "      --disabled-bg-color: #3B4455;\n",
              "      --disabled-fill-color: #666;\n",
              "  }\n",
              "\n",
              "  .colab-df-quickchart {\n",
              "    background-color: var(--bg-color);\n",
              "    border: none;\n",
              "    border-radius: 50%;\n",
              "    cursor: pointer;\n",
              "    display: none;\n",
              "    fill: var(--fill-color);\n",
              "    height: 32px;\n",
              "    padding: 0;\n",
              "    width: 32px;\n",
              "  }\n",
              "\n",
              "  .colab-df-quickchart:hover {\n",
              "    background-color: var(--hover-bg-color);\n",
              "    box-shadow: 0 1px 2px rgba(60, 64, 67, 0.3), 0 1px 3px 1px rgba(60, 64, 67, 0.15);\n",
              "    fill: var(--button-hover-fill-color);\n",
              "  }\n",
              "\n",
              "  .colab-df-quickchart-complete:disabled,\n",
              "  .colab-df-quickchart-complete:disabled:hover {\n",
              "    background-color: var(--disabled-bg-color);\n",
              "    fill: var(--disabled-fill-color);\n",
              "    box-shadow: none;\n",
              "  }\n",
              "\n",
              "  .colab-df-spinner {\n",
              "    border: 2px solid var(--fill-color);\n",
              "    border-color: transparent;\n",
              "    border-bottom-color: var(--fill-color);\n",
              "    animation:\n",
              "      spin 1s steps(1) infinite;\n",
              "  }\n",
              "\n",
              "  @keyframes spin {\n",
              "    0% {\n",
              "      border-color: transparent;\n",
              "      border-bottom-color: var(--fill-color);\n",
              "      border-left-color: var(--fill-color);\n",
              "    }\n",
              "    20% {\n",
              "      border-color: transparent;\n",
              "      border-left-color: var(--fill-color);\n",
              "      border-top-color: var(--fill-color);\n",
              "    }\n",
              "    30% {\n",
              "      border-color: transparent;\n",
              "      border-left-color: var(--fill-color);\n",
              "      border-top-color: var(--fill-color);\n",
              "      border-right-color: var(--fill-color);\n",
              "    }\n",
              "    40% {\n",
              "      border-color: transparent;\n",
              "      border-right-color: var(--fill-color);\n",
              "      border-top-color: var(--fill-color);\n",
              "    }\n",
              "    60% {\n",
              "      border-color: transparent;\n",
              "      border-right-color: var(--fill-color);\n",
              "    }\n",
              "    80% {\n",
              "      border-color: transparent;\n",
              "      border-right-color: var(--fill-color);\n",
              "      border-bottom-color: var(--fill-color);\n",
              "    }\n",
              "    90% {\n",
              "      border-color: transparent;\n",
              "      border-bottom-color: var(--fill-color);\n",
              "    }\n",
              "  }\n",
              "</style>\n",
              "\n",
              "  <script>\n",
              "    async function quickchart(key) {\n",
              "      const quickchartButtonEl =\n",
              "        document.querySelector('#' + key + ' button');\n",
              "      quickchartButtonEl.disabled = true;  // To prevent multiple clicks.\n",
              "      quickchartButtonEl.classList.add('colab-df-spinner');\n",
              "      try {\n",
              "        const charts = await google.colab.kernel.invokeFunction(\n",
              "            'suggestCharts', [key], {});\n",
              "      } catch (error) {\n",
              "        console.error('Error during call to suggestCharts:', error);\n",
              "      }\n",
              "      quickchartButtonEl.classList.remove('colab-df-spinner');\n",
              "      quickchartButtonEl.classList.add('colab-df-quickchart-complete');\n",
              "    }\n",
              "    (() => {\n",
              "      let quickchartButtonEl =\n",
              "        document.querySelector('#df-7479e543-dafd-46b5-a0df-b3f724d10551 button');\n",
              "      quickchartButtonEl.style.display =\n",
              "        google.colab.kernel.accessAllowed ? 'block' : 'none';\n",
              "    })();\n",
              "  </script>\n",
              "</div>\n",
              "    </div>\n",
              "  </div>\n"
            ]
          },
          "metadata": {},
          "execution_count": 11
        }
      ]
    },
    {
      "cell_type": "code",
      "source": [
        "train_pl.head(3)"
      ],
      "metadata": {
        "colab": {
          "base_uri": "https://localhost:8080/",
          "height": 212
        },
        "id": "klfxlYoQAGd3",
        "outputId": "46323f12-c94e-4255-ee18-99d11c1bfe1a"
      },
      "execution_count": 12,
      "outputs": [
        {
          "output_type": "execute_result",
          "data": {
            "text/plain": [
              "shape: (3, 13)\n",
              "┌──────────┬────────┬─────────┬────────────┬───┬────────────┬────────────┬────────────┬────────────┐\n",
              "│ Loan_ID  ┆ Gender ┆ Married ┆ Dependents ┆ … ┆ Loan_Amoun ┆ Credit_His ┆ Property_A ┆ Loan_Statu │\n",
              "│ ---      ┆ ---    ┆ ---     ┆ ---        ┆   ┆ t_Term     ┆ tory       ┆ rea        ┆ s          │\n",
              "│ str      ┆ str    ┆ str     ┆ str        ┆   ┆ ---        ┆ ---        ┆ ---        ┆ ---        │\n",
              "│          ┆        ┆         ┆            ┆   ┆ i64        ┆ i64        ┆ str        ┆ str        │\n",
              "╞══════════╪════════╪═════════╪════════════╪═══╪════════════╪════════════╪════════════╪════════════╡\n",
              "│ LP001002 ┆ Male   ┆ No      ┆ 0          ┆ … ┆ 360        ┆ 1          ┆ Urban      ┆ Y          │\n",
              "│ LP001003 ┆ Male   ┆ Yes     ┆ 1          ┆ … ┆ 360        ┆ 1          ┆ Rural      ┆ N          │\n",
              "│ LP001005 ┆ Male   ┆ Yes     ┆ 0          ┆ … ┆ 360        ┆ 1          ┆ Urban      ┆ Y          │\n",
              "└──────────┴────────┴─────────┴────────────┴───┴────────────┴────────────┴────────────┴────────────┘"
            ],
            "text/html": [
              "<div><style>\n",
              ".dataframe > thead > tr,\n",
              ".dataframe > tbody > tr {\n",
              "  text-align: right;\n",
              "  white-space: pre-wrap;\n",
              "}\n",
              "</style>\n",
              "<small>shape: (3, 13)</small><table border=\"1\" class=\"dataframe\"><thead><tr><th>Loan_ID</th><th>Gender</th><th>Married</th><th>Dependents</th><th>Education</th><th>Self_Employed</th><th>ApplicantIncome</th><th>CoapplicantIncome</th><th>LoanAmount</th><th>Loan_Amount_Term</th><th>Credit_History</th><th>Property_Area</th><th>Loan_Status</th></tr><tr><td>str</td><td>str</td><td>str</td><td>str</td><td>str</td><td>str</td><td>i64</td><td>f64</td><td>i64</td><td>i64</td><td>i64</td><td>str</td><td>str</td></tr></thead><tbody><tr><td>&quot;LP001002&quot;</td><td>&quot;Male&quot;</td><td>&quot;No&quot;</td><td>&quot;0&quot;</td><td>&quot;Graduate&quot;</td><td>&quot;No&quot;</td><td>5849</td><td>0.0</td><td>null</td><td>360</td><td>1</td><td>&quot;Urban&quot;</td><td>&quot;Y&quot;</td></tr><tr><td>&quot;LP001003&quot;</td><td>&quot;Male&quot;</td><td>&quot;Yes&quot;</td><td>&quot;1&quot;</td><td>&quot;Graduate&quot;</td><td>&quot;No&quot;</td><td>4583</td><td>1508.0</td><td>128</td><td>360</td><td>1</td><td>&quot;Rural&quot;</td><td>&quot;N&quot;</td></tr><tr><td>&quot;LP001005&quot;</td><td>&quot;Male&quot;</td><td>&quot;Yes&quot;</td><td>&quot;0&quot;</td><td>&quot;Graduate&quot;</td><td>&quot;Yes&quot;</td><td>3000</td><td>0.0</td><td>66</td><td>360</td><td>1</td><td>&quot;Urban&quot;</td><td>&quot;Y&quot;</td></tr></tbody></table></div>"
            ]
          },
          "metadata": {},
          "execution_count": 12
        }
      ]
    },
    {
      "cell_type": "markdown",
      "source": [
        "## Unique Values\n",
        "\n",
        "**Count unique values**\n",
        "There are two ways to count unique values in Polars: an exact methodology and an approximation. The approximation uses the HyperLogLog++ algorithm to approximate the cardinality and is especially useful for very large datasets where an approximation is good enough.\n",
        "\n",
        "https://pola-rs.github.io/polars/user-guide/expressions/functions/#count-unique-values"
      ],
      "metadata": {
        "id": "QMGDavAzBFzV"
      }
    },
    {
      "cell_type": "code",
      "source": [
        "print('Gender', train_pd['Gender'].nunique())\n",
        "print('Married', train_pd['Married'].nunique())\n",
        "print('Property_Area', train_pd['Property_Area'].nunique())"
      ],
      "metadata": {
        "colab": {
          "base_uri": "https://localhost:8080/"
        },
        "id": "GvhUKtDVAfey",
        "outputId": "43535674-c7c9-471e-fa8d-565ac8e829de"
      },
      "execution_count": 13,
      "outputs": [
        {
          "output_type": "stream",
          "name": "stdout",
          "text": [
            "Gender 2\n",
            "Married 2\n",
            "Property_Area 3\n"
          ]
        }
      ]
    },
    {
      "cell_type": "code",
      "source": [
        "print('Gender', train_pl['Gender'].n_unique())\n",
        "print('Married', train_pl['Married'].n_unique())\n",
        "print('Property_Area', train_pl['Property_Area'].n_unique())"
      ],
      "metadata": {
        "colab": {
          "base_uri": "https://localhost:8080/"
        },
        "id": "e-5SqcgfAftB",
        "outputId": "ab01654d-d345-4c22-9c9e-e02973c4a4a9"
      },
      "execution_count": 14,
      "outputs": [
        {
          "output_type": "stream",
          "name": "stdout",
          "text": [
            "Gender 3\n",
            "Married 3\n",
            "Property_Area 3\n"
          ]
        }
      ]
    },
    {
      "cell_type": "code",
      "source": [
        "train_pd['Gender'].unique()"
      ],
      "metadata": {
        "colab": {
          "base_uri": "https://localhost:8080/"
        },
        "id": "qHNt3McLAf0_",
        "outputId": "39e0b94d-731c-4bfb-a5d1-af2a3f547820"
      },
      "execution_count": 15,
      "outputs": [
        {
          "output_type": "execute_result",
          "data": {
            "text/plain": [
              "array(['Male', 'Female', nan], dtype=object)"
            ]
          },
          "metadata": {},
          "execution_count": 15
        }
      ]
    },
    {
      "cell_type": "code",
      "source": [
        "train_pl['Gender'].unique() # in polars i valori missing sono considerati valori oppure e' una questione di lettura?"
      ],
      "metadata": {
        "colab": {
          "base_uri": "https://localhost:8080/",
          "height": 192
        },
        "id": "HeA2varCAf7N",
        "outputId": "4c7c0ed2-19c3-488f-9cf3-a904a3bac112"
      },
      "execution_count": 16,
      "outputs": [
        {
          "output_type": "execute_result",
          "data": {
            "text/plain": [
              "shape: (3,)\n",
              "Series: 'Gender' [str]\n",
              "[\n",
              "\t\"Male\"\n",
              "\tnull\n",
              "\t\"Female\"\n",
              "]"
            ],
            "text/html": [
              "<div><style>\n",
              ".dataframe > thead > tr,\n",
              ".dataframe > tbody > tr {\n",
              "  text-align: right;\n",
              "  white-space: pre-wrap;\n",
              "}\n",
              "</style>\n",
              "<small>shape: (3,)</small><table border=\"1\" class=\"dataframe\"><thead><tr><th>Gender</th></tr><tr><td>str</td></tr></thead><tbody><tr><td>&quot;Male&quot;</td></tr><tr><td>null</td></tr><tr><td>&quot;Female&quot;</td></tr></tbody></table></div>"
            ]
          },
          "metadata": {},
          "execution_count": 16
        }
      ]
    },
    {
      "cell_type": "code",
      "source": [
        "train_pd['Property_Area'].unique()"
      ],
      "metadata": {
        "colab": {
          "base_uri": "https://localhost:8080/"
        },
        "id": "wKt5FLfSAf9m",
        "outputId": "57fff357-90a1-4fb4-be8d-efe01af4685e"
      },
      "execution_count": 17,
      "outputs": [
        {
          "output_type": "execute_result",
          "data": {
            "text/plain": [
              "array(['Urban', 'Rural', 'Semiurban'], dtype=object)"
            ]
          },
          "metadata": {},
          "execution_count": 17
        }
      ]
    },
    {
      "cell_type": "code",
      "source": [
        "train_pl['Property_Area'].unique()"
      ],
      "metadata": {
        "colab": {
          "base_uri": "https://localhost:8080/",
          "height": 192
        },
        "id": "520MVS3RAf_9",
        "outputId": "2aebd9de-fd47-49d8-e5ed-25e0fdccc5a1"
      },
      "execution_count": 18,
      "outputs": [
        {
          "output_type": "execute_result",
          "data": {
            "text/plain": [
              "shape: (3,)\n",
              "Series: 'Property_Area' [str]\n",
              "[\n",
              "\t\"Urban\"\n",
              "\t\"Rural\"\n",
              "\t\"Semiurban\"\n",
              "]"
            ],
            "text/html": [
              "<div><style>\n",
              ".dataframe > thead > tr,\n",
              ".dataframe > tbody > tr {\n",
              "  text-align: right;\n",
              "  white-space: pre-wrap;\n",
              "}\n",
              "</style>\n",
              "<small>shape: (3,)</small><table border=\"1\" class=\"dataframe\"><thead><tr><th>Property_Area</th></tr><tr><td>str</td></tr></thead><tbody><tr><td>&quot;Urban&quot;</td></tr><tr><td>&quot;Rural&quot;</td></tr><tr><td>&quot;Semiurban&quot;</td></tr></tbody></table></div>"
            ]
          },
          "metadata": {},
          "execution_count": 18
        }
      ]
    },
    {
      "cell_type": "markdown",
      "source": [
        "## Grouping"
      ],
      "metadata": {
        "id": "08k9Qf3MFcAm"
      }
    },
    {
      "cell_type": "code",
      "source": [
        "train_pd.groupby(['Gender', 'Married'], dropna=False).size().to_frame('N').reset_index()"
      ],
      "metadata": {
        "colab": {
          "base_uri": "https://localhost:8080/",
          "height": 300
        },
        "id": "VbrvWoAVAgC0",
        "outputId": "5967c264-7375-4da5-eb36-1236a17105f4"
      },
      "execution_count": 19,
      "outputs": [
        {
          "output_type": "execute_result",
          "data": {
            "text/plain": [
              "   Gender Married    N\n",
              "0  Female      No   80\n",
              "1  Female     Yes   31\n",
              "2  Female     NaN    1\n",
              "3    Male      No  130\n",
              "4    Male     Yes  357\n",
              "5    Male     NaN    2\n",
              "6     NaN      No    3\n",
              "7     NaN     Yes   10"
            ],
            "text/html": [
              "\n",
              "  <div id=\"df-38c9d88c-1d41-4a83-b71d-8d2d35895d14\" class=\"colab-df-container\">\n",
              "    <div>\n",
              "<style scoped>\n",
              "    .dataframe tbody tr th:only-of-type {\n",
              "        vertical-align: middle;\n",
              "    }\n",
              "\n",
              "    .dataframe tbody tr th {\n",
              "        vertical-align: top;\n",
              "    }\n",
              "\n",
              "    .dataframe thead th {\n",
              "        text-align: right;\n",
              "    }\n",
              "</style>\n",
              "<table border=\"1\" class=\"dataframe\">\n",
              "  <thead>\n",
              "    <tr style=\"text-align: right;\">\n",
              "      <th></th>\n",
              "      <th>Gender</th>\n",
              "      <th>Married</th>\n",
              "      <th>N</th>\n",
              "    </tr>\n",
              "  </thead>\n",
              "  <tbody>\n",
              "    <tr>\n",
              "      <th>0</th>\n",
              "      <td>Female</td>\n",
              "      <td>No</td>\n",
              "      <td>80</td>\n",
              "    </tr>\n",
              "    <tr>\n",
              "      <th>1</th>\n",
              "      <td>Female</td>\n",
              "      <td>Yes</td>\n",
              "      <td>31</td>\n",
              "    </tr>\n",
              "    <tr>\n",
              "      <th>2</th>\n",
              "      <td>Female</td>\n",
              "      <td>NaN</td>\n",
              "      <td>1</td>\n",
              "    </tr>\n",
              "    <tr>\n",
              "      <th>3</th>\n",
              "      <td>Male</td>\n",
              "      <td>No</td>\n",
              "      <td>130</td>\n",
              "    </tr>\n",
              "    <tr>\n",
              "      <th>4</th>\n",
              "      <td>Male</td>\n",
              "      <td>Yes</td>\n",
              "      <td>357</td>\n",
              "    </tr>\n",
              "    <tr>\n",
              "      <th>5</th>\n",
              "      <td>Male</td>\n",
              "      <td>NaN</td>\n",
              "      <td>2</td>\n",
              "    </tr>\n",
              "    <tr>\n",
              "      <th>6</th>\n",
              "      <td>NaN</td>\n",
              "      <td>No</td>\n",
              "      <td>3</td>\n",
              "    </tr>\n",
              "    <tr>\n",
              "      <th>7</th>\n",
              "      <td>NaN</td>\n",
              "      <td>Yes</td>\n",
              "      <td>10</td>\n",
              "    </tr>\n",
              "  </tbody>\n",
              "</table>\n",
              "</div>\n",
              "    <div class=\"colab-df-buttons\">\n",
              "\n",
              "  <div class=\"colab-df-container\">\n",
              "    <button class=\"colab-df-convert\" onclick=\"convertToInteractive('df-38c9d88c-1d41-4a83-b71d-8d2d35895d14')\"\n",
              "            title=\"Convert this dataframe to an interactive table.\"\n",
              "            style=\"display:none;\">\n",
              "\n",
              "  <svg xmlns=\"http://www.w3.org/2000/svg\" height=\"24px\" viewBox=\"0 -960 960 960\">\n",
              "    <path d=\"M120-120v-720h720v720H120Zm60-500h600v-160H180v160Zm220 220h160v-160H400v160Zm0 220h160v-160H400v160ZM180-400h160v-160H180v160Zm440 0h160v-160H620v160ZM180-180h160v-160H180v160Zm440 0h160v-160H620v160Z\"/>\n",
              "  </svg>\n",
              "    </button>\n",
              "\n",
              "  <style>\n",
              "    .colab-df-container {\n",
              "      display:flex;\n",
              "      gap: 12px;\n",
              "    }\n",
              "\n",
              "    .colab-df-convert {\n",
              "      background-color: #E8F0FE;\n",
              "      border: none;\n",
              "      border-radius: 50%;\n",
              "      cursor: pointer;\n",
              "      display: none;\n",
              "      fill: #1967D2;\n",
              "      height: 32px;\n",
              "      padding: 0 0 0 0;\n",
              "      width: 32px;\n",
              "    }\n",
              "\n",
              "    .colab-df-convert:hover {\n",
              "      background-color: #E2EBFA;\n",
              "      box-shadow: 0px 1px 2px rgba(60, 64, 67, 0.3), 0px 1px 3px 1px rgba(60, 64, 67, 0.15);\n",
              "      fill: #174EA6;\n",
              "    }\n",
              "\n",
              "    .colab-df-buttons div {\n",
              "      margin-bottom: 4px;\n",
              "    }\n",
              "\n",
              "    [theme=dark] .colab-df-convert {\n",
              "      background-color: #3B4455;\n",
              "      fill: #D2E3FC;\n",
              "    }\n",
              "\n",
              "    [theme=dark] .colab-df-convert:hover {\n",
              "      background-color: #434B5C;\n",
              "      box-shadow: 0px 1px 3px 1px rgba(0, 0, 0, 0.15);\n",
              "      filter: drop-shadow(0px 1px 2px rgba(0, 0, 0, 0.3));\n",
              "      fill: #FFFFFF;\n",
              "    }\n",
              "  </style>\n",
              "\n",
              "    <script>\n",
              "      const buttonEl =\n",
              "        document.querySelector('#df-38c9d88c-1d41-4a83-b71d-8d2d35895d14 button.colab-df-convert');\n",
              "      buttonEl.style.display =\n",
              "        google.colab.kernel.accessAllowed ? 'block' : 'none';\n",
              "\n",
              "      async function convertToInteractive(key) {\n",
              "        const element = document.querySelector('#df-38c9d88c-1d41-4a83-b71d-8d2d35895d14');\n",
              "        const dataTable =\n",
              "          await google.colab.kernel.invokeFunction('convertToInteractive',\n",
              "                                                    [key], {});\n",
              "        if (!dataTable) return;\n",
              "\n",
              "        const docLinkHtml = 'Like what you see? Visit the ' +\n",
              "          '<a target=\"_blank\" href=https://colab.research.google.com/notebooks/data_table.ipynb>data table notebook</a>'\n",
              "          + ' to learn more about interactive tables.';\n",
              "        element.innerHTML = '';\n",
              "        dataTable['output_type'] = 'display_data';\n",
              "        await google.colab.output.renderOutput(dataTable, element);\n",
              "        const docLink = document.createElement('div');\n",
              "        docLink.innerHTML = docLinkHtml;\n",
              "        element.appendChild(docLink);\n",
              "      }\n",
              "    </script>\n",
              "  </div>\n",
              "\n",
              "\n",
              "<div id=\"df-cc2d476f-2366-44df-88d7-2c2d686230ec\">\n",
              "  <button class=\"colab-df-quickchart\" onclick=\"quickchart('df-cc2d476f-2366-44df-88d7-2c2d686230ec')\"\n",
              "            title=\"Suggest charts\"\n",
              "            style=\"display:none;\">\n",
              "\n",
              "<svg xmlns=\"http://www.w3.org/2000/svg\" height=\"24px\"viewBox=\"0 0 24 24\"\n",
              "     width=\"24px\">\n",
              "    <g>\n",
              "        <path d=\"M19 3H5c-1.1 0-2 .9-2 2v14c0 1.1.9 2 2 2h14c1.1 0 2-.9 2-2V5c0-1.1-.9-2-2-2zM9 17H7v-7h2v7zm4 0h-2V7h2v10zm4 0h-2v-4h2v4z\"/>\n",
              "    </g>\n",
              "</svg>\n",
              "  </button>\n",
              "\n",
              "<style>\n",
              "  .colab-df-quickchart {\n",
              "      --bg-color: #E8F0FE;\n",
              "      --fill-color: #1967D2;\n",
              "      --hover-bg-color: #E2EBFA;\n",
              "      --hover-fill-color: #174EA6;\n",
              "      --disabled-fill-color: #AAA;\n",
              "      --disabled-bg-color: #DDD;\n",
              "  }\n",
              "\n",
              "  [theme=dark] .colab-df-quickchart {\n",
              "      --bg-color: #3B4455;\n",
              "      --fill-color: #D2E3FC;\n",
              "      --hover-bg-color: #434B5C;\n",
              "      --hover-fill-color: #FFFFFF;\n",
              "      --disabled-bg-color: #3B4455;\n",
              "      --disabled-fill-color: #666;\n",
              "  }\n",
              "\n",
              "  .colab-df-quickchart {\n",
              "    background-color: var(--bg-color);\n",
              "    border: none;\n",
              "    border-radius: 50%;\n",
              "    cursor: pointer;\n",
              "    display: none;\n",
              "    fill: var(--fill-color);\n",
              "    height: 32px;\n",
              "    padding: 0;\n",
              "    width: 32px;\n",
              "  }\n",
              "\n",
              "  .colab-df-quickchart:hover {\n",
              "    background-color: var(--hover-bg-color);\n",
              "    box-shadow: 0 1px 2px rgba(60, 64, 67, 0.3), 0 1px 3px 1px rgba(60, 64, 67, 0.15);\n",
              "    fill: var(--button-hover-fill-color);\n",
              "  }\n",
              "\n",
              "  .colab-df-quickchart-complete:disabled,\n",
              "  .colab-df-quickchart-complete:disabled:hover {\n",
              "    background-color: var(--disabled-bg-color);\n",
              "    fill: var(--disabled-fill-color);\n",
              "    box-shadow: none;\n",
              "  }\n",
              "\n",
              "  .colab-df-spinner {\n",
              "    border: 2px solid var(--fill-color);\n",
              "    border-color: transparent;\n",
              "    border-bottom-color: var(--fill-color);\n",
              "    animation:\n",
              "      spin 1s steps(1) infinite;\n",
              "  }\n",
              "\n",
              "  @keyframes spin {\n",
              "    0% {\n",
              "      border-color: transparent;\n",
              "      border-bottom-color: var(--fill-color);\n",
              "      border-left-color: var(--fill-color);\n",
              "    }\n",
              "    20% {\n",
              "      border-color: transparent;\n",
              "      border-left-color: var(--fill-color);\n",
              "      border-top-color: var(--fill-color);\n",
              "    }\n",
              "    30% {\n",
              "      border-color: transparent;\n",
              "      border-left-color: var(--fill-color);\n",
              "      border-top-color: var(--fill-color);\n",
              "      border-right-color: var(--fill-color);\n",
              "    }\n",
              "    40% {\n",
              "      border-color: transparent;\n",
              "      border-right-color: var(--fill-color);\n",
              "      border-top-color: var(--fill-color);\n",
              "    }\n",
              "    60% {\n",
              "      border-color: transparent;\n",
              "      border-right-color: var(--fill-color);\n",
              "    }\n",
              "    80% {\n",
              "      border-color: transparent;\n",
              "      border-right-color: var(--fill-color);\n",
              "      border-bottom-color: var(--fill-color);\n",
              "    }\n",
              "    90% {\n",
              "      border-color: transparent;\n",
              "      border-bottom-color: var(--fill-color);\n",
              "    }\n",
              "  }\n",
              "</style>\n",
              "\n",
              "  <script>\n",
              "    async function quickchart(key) {\n",
              "      const quickchartButtonEl =\n",
              "        document.querySelector('#' + key + ' button');\n",
              "      quickchartButtonEl.disabled = true;  // To prevent multiple clicks.\n",
              "      quickchartButtonEl.classList.add('colab-df-spinner');\n",
              "      try {\n",
              "        const charts = await google.colab.kernel.invokeFunction(\n",
              "            'suggestCharts', [key], {});\n",
              "      } catch (error) {\n",
              "        console.error('Error during call to suggestCharts:', error);\n",
              "      }\n",
              "      quickchartButtonEl.classList.remove('colab-df-spinner');\n",
              "      quickchartButtonEl.classList.add('colab-df-quickchart-complete');\n",
              "    }\n",
              "    (() => {\n",
              "      let quickchartButtonEl =\n",
              "        document.querySelector('#df-cc2d476f-2366-44df-88d7-2c2d686230ec button');\n",
              "      quickchartButtonEl.style.display =\n",
              "        google.colab.kernel.accessAllowed ? 'block' : 'none';\n",
              "    })();\n",
              "  </script>\n",
              "</div>\n",
              "    </div>\n",
              "  </div>\n"
            ]
          },
          "metadata": {},
          "execution_count": 19
        }
      ]
    },
    {
      "cell_type": "code",
      "source": [
        "train_pl.groupby(['Gender', 'Married']).count().sort(by='Gender') # unexpected keyword argument 'dropna', object has no attribute 'to_frame'\n",
        "# non mi sembra ordinato"
      ],
      "metadata": {
        "colab": {
          "base_uri": "https://localhost:8080/",
          "height": 383
        },
        "id": "rYqhsKCtDY4j",
        "outputId": "13c818d6-f698-4b88-bfee-6e905bf50b9e"
      },
      "execution_count": 20,
      "outputs": [
        {
          "output_type": "stream",
          "name": "stderr",
          "text": [
            "<ipython-input-20-4f3e1c095b73>:1: DeprecationWarning: `groupby` is deprecated. It has been renamed to `group_by`.\n",
            "  train_pl.groupby(['Gender', 'Married']).count().sort(by='Gender') # unexpected keyword argument 'dropna', object has no attribute 'to_frame'\n"
          ]
        },
        {
          "output_type": "execute_result",
          "data": {
            "text/plain": [
              "shape: (8, 3)\n",
              "┌────────┬─────────┬───────┐\n",
              "│ Gender ┆ Married ┆ count │\n",
              "│ ---    ┆ ---     ┆ ---   │\n",
              "│ str    ┆ str     ┆ u32   │\n",
              "╞════════╪═════════╪═══════╡\n",
              "│ null   ┆ No      ┆ 3     │\n",
              "│ null   ┆ Yes     ┆ 10    │\n",
              "│ Female ┆ No      ┆ 80    │\n",
              "│ Female ┆ Yes     ┆ 31    │\n",
              "│ Female ┆ null    ┆ 1     │\n",
              "│ Male   ┆ Yes     ┆ 357   │\n",
              "│ Male   ┆ null    ┆ 2     │\n",
              "│ Male   ┆ No      ┆ 130   │\n",
              "└────────┴─────────┴───────┘"
            ],
            "text/html": [
              "<div><style>\n",
              ".dataframe > thead > tr,\n",
              ".dataframe > tbody > tr {\n",
              "  text-align: right;\n",
              "  white-space: pre-wrap;\n",
              "}\n",
              "</style>\n",
              "<small>shape: (8, 3)</small><table border=\"1\" class=\"dataframe\"><thead><tr><th>Gender</th><th>Married</th><th>count</th></tr><tr><td>str</td><td>str</td><td>u32</td></tr></thead><tbody><tr><td>null</td><td>&quot;No&quot;</td><td>3</td></tr><tr><td>null</td><td>&quot;Yes&quot;</td><td>10</td></tr><tr><td>&quot;Female&quot;</td><td>&quot;No&quot;</td><td>80</td></tr><tr><td>&quot;Female&quot;</td><td>&quot;Yes&quot;</td><td>31</td></tr><tr><td>&quot;Female&quot;</td><td>null</td><td>1</td></tr><tr><td>&quot;Male&quot;</td><td>&quot;Yes&quot;</td><td>357</td></tr><tr><td>&quot;Male&quot;</td><td>null</td><td>2</td></tr><tr><td>&quot;Male&quot;</td><td>&quot;No&quot;</td><td>130</td></tr></tbody></table></div>"
            ]
          },
          "metadata": {},
          "execution_count": 20
        }
      ]
    },
    {
      "cell_type": "markdown",
      "source": [
        "# eRgonomics\n",
        "\n",
        "It’s the ability to easily do more complex transformations that differentiate a package expert versus novice, and the learning curve for everything that happens after the “Getting Started” guide ends.\n",
        "\n",
        "**Tidy design principles**\n",
        "\n",
        "https://design.tidyverse.org/unifying.html\n",
        "\n",
        "**TLDR?** We’ll say dplyr’s ergonomics allow users to express complex transformation precisely, concisely, and expressively.\n",
        "\n",
        "**Dplyr vs Polars**\n",
        "\n",
        "For a single dataset:\n",
        "- Column selection: select() -> select() + drop()\n",
        "- Creating or altering columns: mutate() -> with_columns()\n",
        "- Subsetting rows: filter() -> filter()\n",
        "- Ordering rows: arrange() -> sort()\n",
        "- Computing group-level summary metrics: group_by() + summarize() -> group_by() + agg()  \n",
        "\n",
        "\n",
        "For multiple datasets:\n",
        "- Merging on a shared key: *_join() -> join(strategy = '*')\n",
        "- Stacking datasets of the same structure: union() -> concat()\n",
        "- Transforming rows and columns: pivot_{longer/wider}()2 -> pivot()"
      ],
      "metadata": {
        "id": "UoFyZuljob2S"
      }
    },
    {
      "cell_type": "code",
      "source": [
        "(\n",
        "    train_pl\n",
        "    .with_columns(overall_income = pl.sum_horizontal(pl.col('ApplicantIncome'), pl.col('CoapplicantIncome')))\n",
        "    .select(['ApplicantIncome', 'CoapplicantIncome', 'overall_income'])\n",
        "    .head(5)\n",
        ")"
      ],
      "metadata": {
        "colab": {
          "base_uri": "https://localhost:8080/",
          "height": 255
        },
        "id": "Bz1obgmbqkyu",
        "outputId": "26472c0f-5bb6-426a-9593-03206aa1601b"
      },
      "execution_count": 41,
      "outputs": [
        {
          "output_type": "execute_result",
          "data": {
            "text/plain": [
              "shape: (5, 3)\n",
              "┌─────────────────┬───────────────────┬────────────────┐\n",
              "│ ApplicantIncome ┆ CoapplicantIncome ┆ overall_income │\n",
              "│ ---             ┆ ---               ┆ ---            │\n",
              "│ i64             ┆ f64               ┆ f64            │\n",
              "╞═════════════════╪═══════════════════╪════════════════╡\n",
              "│ 5849            ┆ 0.0               ┆ 5849.0         │\n",
              "│ 4583            ┆ 1508.0            ┆ 6091.0         │\n",
              "│ 3000            ┆ 0.0               ┆ 3000.0         │\n",
              "│ 2583            ┆ 2358.0            ┆ 4941.0         │\n",
              "│ 6000            ┆ 0.0               ┆ 6000.0         │\n",
              "└─────────────────┴───────────────────┴────────────────┘"
            ],
            "text/html": [
              "<div><style>\n",
              ".dataframe > thead > tr,\n",
              ".dataframe > tbody > tr {\n",
              "  text-align: right;\n",
              "  white-space: pre-wrap;\n",
              "}\n",
              "</style>\n",
              "<small>shape: (5, 3)</small><table border=\"1\" class=\"dataframe\"><thead><tr><th>ApplicantIncome</th><th>CoapplicantIncome</th><th>overall_income</th></tr><tr><td>i64</td><td>f64</td><td>f64</td></tr></thead><tbody><tr><td>5849</td><td>0.0</td><td>5849.0</td></tr><tr><td>4583</td><td>1508.0</td><td>6091.0</td></tr><tr><td>3000</td><td>0.0</td><td>3000.0</td></tr><tr><td>2583</td><td>2358.0</td><td>4941.0</td></tr><tr><td>6000</td><td>0.0</td><td>6000.0</td></tr></tbody></table></div>"
            ]
          },
          "metadata": {},
          "execution_count": 41
        }
      ]
    },
    {
      "cell_type": "code",
      "source": [
        "import polars.selectors as cs"
      ],
      "metadata": {
        "id": "NZBlLQdLsRcA"
      },
      "execution_count": 22,
      "outputs": []
    },
    {
      "cell_type": "code",
      "source": [
        "(\n",
        "    train_pl\n",
        "    .select(cs.starts_with('A') | cs.string())\n",
        "    .head(3)\n",
        ")"
      ],
      "metadata": {
        "colab": {
          "base_uri": "https://localhost:8080/",
          "height": 192
        },
        "id": "gULSXHC7sS5S",
        "outputId": "dc3804a2-6f4f-42d6-f6bc-7b455ce773ae"
      },
      "execution_count": 23,
      "outputs": [
        {
          "output_type": "execute_result",
          "data": {
            "text/plain": [
              "shape: (3, 9)\n",
              "┌─────────────┬──────────┬────────┬─────────┬───┬───────────┬────────────┬────────────┬────────────┐\n",
              "│ ApplicantIn ┆ Loan_ID  ┆ Gender ┆ Married ┆ … ┆ Education ┆ Self_Emplo ┆ Property_A ┆ Loan_Statu │\n",
              "│ come        ┆ ---      ┆ ---    ┆ ---     ┆   ┆ ---       ┆ yed        ┆ rea        ┆ s          │\n",
              "│ ---         ┆ str      ┆ str    ┆ str     ┆   ┆ str       ┆ ---        ┆ ---        ┆ ---        │\n",
              "│ i64         ┆          ┆        ┆         ┆   ┆           ┆ str        ┆ str        ┆ str        │\n",
              "╞═════════════╪══════════╪════════╪═════════╪═══╪═══════════╪════════════╪════════════╪════════════╡\n",
              "│ 5849        ┆ LP001002 ┆ Male   ┆ No      ┆ … ┆ Graduate  ┆ No         ┆ Urban      ┆ Y          │\n",
              "│ 4583        ┆ LP001003 ┆ Male   ┆ Yes     ┆ … ┆ Graduate  ┆ No         ┆ Rural      ┆ N          │\n",
              "│ 3000        ┆ LP001005 ┆ Male   ┆ Yes     ┆ … ┆ Graduate  ┆ Yes        ┆ Urban      ┆ Y          │\n",
              "└─────────────┴──────────┴────────┴─────────┴───┴───────────┴────────────┴────────────┴────────────┘"
            ],
            "text/html": [
              "<div><style>\n",
              ".dataframe > thead > tr,\n",
              ".dataframe > tbody > tr {\n",
              "  text-align: right;\n",
              "  white-space: pre-wrap;\n",
              "}\n",
              "</style>\n",
              "<small>shape: (3, 9)</small><table border=\"1\" class=\"dataframe\"><thead><tr><th>ApplicantIncome</th><th>Loan_ID</th><th>Gender</th><th>Married</th><th>Dependents</th><th>Education</th><th>Self_Employed</th><th>Property_Area</th><th>Loan_Status</th></tr><tr><td>i64</td><td>str</td><td>str</td><td>str</td><td>str</td><td>str</td><td>str</td><td>str</td><td>str</td></tr></thead><tbody><tr><td>5849</td><td>&quot;LP001002&quot;</td><td>&quot;Male&quot;</td><td>&quot;No&quot;</td><td>&quot;0&quot;</td><td>&quot;Graduate&quot;</td><td>&quot;No&quot;</td><td>&quot;Urban&quot;</td><td>&quot;Y&quot;</td></tr><tr><td>4583</td><td>&quot;LP001003&quot;</td><td>&quot;Male&quot;</td><td>&quot;Yes&quot;</td><td>&quot;1&quot;</td><td>&quot;Graduate&quot;</td><td>&quot;No&quot;</td><td>&quot;Rural&quot;</td><td>&quot;N&quot;</td></tr><tr><td>3000</td><td>&quot;LP001005&quot;</td><td>&quot;Male&quot;</td><td>&quot;Yes&quot;</td><td>&quot;0&quot;</td><td>&quot;Graduate&quot;</td><td>&quot;Yes&quot;</td><td>&quot;Urban&quot;</td><td>&quot;Y&quot;</td></tr></tbody></table></div>"
            ]
          },
          "metadata": {},
          "execution_count": 23
        }
      ]
    },
    {
      "cell_type": "code",
      "source": [
        "(\n",
        "    train_pl\n",
        "    .select(~cs.string())\n",
        "    .head(3)\n",
        ")"
      ],
      "metadata": {
        "colab": {
          "base_uri": "https://localhost:8080/",
          "height": 192
        },
        "id": "g_Mc6_5RswZc",
        "outputId": "a43c2ac8-8f13-4592-f9d9-b45e736c3dc2"
      },
      "execution_count": 24,
      "outputs": [
        {
          "output_type": "execute_result",
          "data": {
            "text/plain": [
              "shape: (3, 5)\n",
              "┌─────────────────┬───────────────────┬────────────┬──────────────────┬────────────────┐\n",
              "│ ApplicantIncome ┆ CoapplicantIncome ┆ LoanAmount ┆ Loan_Amount_Term ┆ Credit_History │\n",
              "│ ---             ┆ ---               ┆ ---        ┆ ---              ┆ ---            │\n",
              "│ i64             ┆ f64               ┆ i64        ┆ i64              ┆ i64            │\n",
              "╞═════════════════╪═══════════════════╪════════════╪══════════════════╪════════════════╡\n",
              "│ 5849            ┆ 0.0               ┆ null       ┆ 360              ┆ 1              │\n",
              "│ 4583            ┆ 1508.0            ┆ 128        ┆ 360              ┆ 1              │\n",
              "│ 3000            ┆ 0.0               ┆ 66         ┆ 360              ┆ 1              │\n",
              "└─────────────────┴───────────────────┴────────────┴──────────────────┴────────────────┘"
            ],
            "text/html": [
              "<div><style>\n",
              ".dataframe > thead > tr,\n",
              ".dataframe > tbody > tr {\n",
              "  text-align: right;\n",
              "  white-space: pre-wrap;\n",
              "}\n",
              "</style>\n",
              "<small>shape: (3, 5)</small><table border=\"1\" class=\"dataframe\"><thead><tr><th>ApplicantIncome</th><th>CoapplicantIncome</th><th>LoanAmount</th><th>Loan_Amount_Term</th><th>Credit_History</th></tr><tr><td>i64</td><td>f64</td><td>i64</td><td>i64</td><td>i64</td></tr></thead><tbody><tr><td>5849</td><td>0.0</td><td>null</td><td>360</td><td>1</td></tr><tr><td>4583</td><td>1508.0</td><td>128</td><td>360</td><td>1</td></tr><tr><td>3000</td><td>0.0</td><td>66</td><td>360</td><td>1</td></tr></tbody></table></div>"
            ]
          },
          "metadata": {},
          "execution_count": 24
        }
      ]
    },
    {
      "cell_type": "code",
      "source": [
        "(\n",
        "    train_pl\n",
        "    .with_columns(row_total = pl.sum_horizontal(cs.integer()))\n",
        "    .select(cs.integer())\n",
        "    .head(5)\n",
        ")"
      ],
      "metadata": {
        "colab": {
          "base_uri": "https://localhost:8080/",
          "height": 255
        },
        "id": "mGHvcSIfs_ab",
        "outputId": "99bd126e-53df-435c-dd40-8f2c07468f08"
      },
      "execution_count": 25,
      "outputs": [
        {
          "output_type": "execute_result",
          "data": {
            "text/plain": [
              "shape: (5, 5)\n",
              "┌─────────────────┬────────────┬──────────────────┬────────────────┬───────────┐\n",
              "│ ApplicantIncome ┆ LoanAmount ┆ Loan_Amount_Term ┆ Credit_History ┆ row_total │\n",
              "│ ---             ┆ ---        ┆ ---              ┆ ---            ┆ ---       │\n",
              "│ i64             ┆ i64        ┆ i64              ┆ i64            ┆ i64       │\n",
              "╞═════════════════╪════════════╪══════════════════╪════════════════╪═══════════╡\n",
              "│ 5849            ┆ null       ┆ 360              ┆ 1              ┆ 6210      │\n",
              "│ 4583            ┆ 128        ┆ 360              ┆ 1              ┆ 5072      │\n",
              "│ 3000            ┆ 66         ┆ 360              ┆ 1              ┆ 3427      │\n",
              "│ 2583            ┆ 120        ┆ 360              ┆ 1              ┆ 3064      │\n",
              "│ 6000            ┆ 141        ┆ 360              ┆ 1              ┆ 6502      │\n",
              "└─────────────────┴────────────┴──────────────────┴────────────────┴───────────┘"
            ],
            "text/html": [
              "<div><style>\n",
              ".dataframe > thead > tr,\n",
              ".dataframe > tbody > tr {\n",
              "  text-align: right;\n",
              "  white-space: pre-wrap;\n",
              "}\n",
              "</style>\n",
              "<small>shape: (5, 5)</small><table border=\"1\" class=\"dataframe\"><thead><tr><th>ApplicantIncome</th><th>LoanAmount</th><th>Loan_Amount_Term</th><th>Credit_History</th><th>row_total</th></tr><tr><td>i64</td><td>i64</td><td>i64</td><td>i64</td><td>i64</td></tr></thead><tbody><tr><td>5849</td><td>null</td><td>360</td><td>1</td><td>6210</td></tr><tr><td>4583</td><td>128</td><td>360</td><td>1</td><td>5072</td></tr><tr><td>3000</td><td>66</td><td>360</td><td>1</td><td>3427</td></tr><tr><td>2583</td><td>120</td><td>360</td><td>1</td><td>3064</td></tr><tr><td>6000</td><td>141</td><td>360</td><td>1</td><td>6502</td></tr></tbody></table></div>"
            ]
          },
          "metadata": {},
          "execution_count": 25
        }
      ]
    },
    {
      "cell_type": "code",
      "source": [
        "(\n",
        "    train_pl\n",
        "    .with_columns(income_by_married = pl.col('ApplicantIncome').mean().over('Married'))\n",
        "    .select(['Married', 'ApplicantIncome', 'income_by_married'])\n",
        "    .head(5)\n",
        ")"
      ],
      "metadata": {
        "colab": {
          "base_uri": "https://localhost:8080/",
          "height": 255
        },
        "id": "zwh8JGr1tfaU",
        "outputId": "37c73bc3-ef5b-4f5c-d3de-81ff583aa839"
      },
      "execution_count": 42,
      "outputs": [
        {
          "output_type": "execute_result",
          "data": {
            "text/plain": [
              "shape: (5, 3)\n",
              "┌─────────┬─────────────────┬───────────────────┐\n",
              "│ Married ┆ ApplicantIncome ┆ income_by_married │\n",
              "│ ---     ┆ ---             ┆ ---               │\n",
              "│ str     ┆ i64             ┆ f64               │\n",
              "╞═════════╪═════════════════╪═══════════════════╡\n",
              "│ No      ┆ 5849            ┆ 4970.384977       │\n",
              "│ Yes     ┆ 4583            ┆ 5629.173367       │\n",
              "│ Yes     ┆ 3000            ┆ 5629.173367       │\n",
              "│ Yes     ┆ 2583            ┆ 5629.173367       │\n",
              "│ No      ┆ 6000            ┆ 4970.384977       │\n",
              "└─────────┴─────────────────┴───────────────────┘"
            ],
            "text/html": [
              "<div><style>\n",
              ".dataframe > thead > tr,\n",
              ".dataframe > tbody > tr {\n",
              "  text-align: right;\n",
              "  white-space: pre-wrap;\n",
              "}\n",
              "</style>\n",
              "<small>shape: (5, 3)</small><table border=\"1\" class=\"dataframe\"><thead><tr><th>Married</th><th>ApplicantIncome</th><th>income_by_married</th></tr><tr><td>str</td><td>i64</td><td>f64</td></tr></thead><tbody><tr><td>&quot;No&quot;</td><td>5849</td><td>4970.384977</td></tr><tr><td>&quot;Yes&quot;</td><td>4583</td><td>5629.173367</td></tr><tr><td>&quot;Yes&quot;</td><td>3000</td><td>5629.173367</td></tr><tr><td>&quot;Yes&quot;</td><td>2583</td><td>5629.173367</td></tr><tr><td>&quot;No&quot;</td><td>6000</td><td>4970.384977</td></tr></tbody></table></div>"
            ]
          },
          "metadata": {},
          "execution_count": 42
        }
      ]
    },
    {
      "cell_type": "code",
      "source": [
        "(\n",
        "    train_pl\n",
        "    .with_columns(status=pl.when(pl.col('Loan_Status') == \"Y\").then(0).otherwise(1))\n",
        "    .filter((pl.col('Property_Area').is_in(['Urban', 'Semiurban'])) &\n",
        "            (pl.col('LoanAmount').is_not_null()) &\n",
        "            (pl.col('status') == 1))\n",
        "    .sort(\"LoanAmount\", descending=True)\n",
        "    .head(3)\n",
        ")"
      ],
      "metadata": {
        "colab": {
          "base_uri": "https://localhost:8080/",
          "height": 212
        },
        "id": "SVMV6JHg014_",
        "outputId": "94662950-6acc-4e59-ee62-1314ba32c0d8"
      },
      "execution_count": 55,
      "outputs": [
        {
          "output_type": "execute_result",
          "data": {
            "text/plain": [
              "shape: (3, 14)\n",
              "┌──────────┬────────┬─────────┬────────────┬───┬──────────────┬─────────────┬─────────────┬────────┐\n",
              "│ Loan_ID  ┆ Gender ┆ Married ┆ Dependents ┆ … ┆ Credit_Histo ┆ Property_Ar ┆ Loan_Status ┆ status │\n",
              "│ ---      ┆ ---    ┆ ---     ┆ ---        ┆   ┆ ry           ┆ ea          ┆ ---         ┆ ---    │\n",
              "│ str      ┆ str    ┆ str     ┆ str        ┆   ┆ ---          ┆ ---         ┆ str         ┆ i32    │\n",
              "│          ┆        ┆         ┆            ┆   ┆ i64          ┆ str         ┆             ┆        │\n",
              "╞══════════╪════════╪═════════╪════════════╪═══╪══════════════╪═════════════╪═════════════╪════════╡\n",
              "│ LP002547 ┆ Male   ┆ Yes     ┆ 1          ┆ … ┆ 1            ┆ Urban       ┆ N           ┆ 1      │\n",
              "│ LP001610 ┆ Male   ┆ Yes     ┆ 3+         ┆ … ┆ 0            ┆ Semiurban   ┆ N           ┆ 1      │\n",
              "│ LP002949 ┆ Female ┆ No      ┆ 3+         ┆ … ┆ null         ┆ Urban       ┆ N           ┆ 1      │\n",
              "└──────────┴────────┴─────────┴────────────┴───┴──────────────┴─────────────┴─────────────┴────────┘"
            ],
            "text/html": [
              "<div><style>\n",
              ".dataframe > thead > tr,\n",
              ".dataframe > tbody > tr {\n",
              "  text-align: right;\n",
              "  white-space: pre-wrap;\n",
              "}\n",
              "</style>\n",
              "<small>shape: (3, 14)</small><table border=\"1\" class=\"dataframe\"><thead><tr><th>Loan_ID</th><th>Gender</th><th>Married</th><th>Dependents</th><th>Education</th><th>Self_Employed</th><th>ApplicantIncome</th><th>CoapplicantIncome</th><th>LoanAmount</th><th>Loan_Amount_Term</th><th>Credit_History</th><th>Property_Area</th><th>Loan_Status</th><th>status</th></tr><tr><td>str</td><td>str</td><td>str</td><td>str</td><td>str</td><td>str</td><td>i64</td><td>f64</td><td>i64</td><td>i64</td><td>i64</td><td>str</td><td>str</td><td>i32</td></tr></thead><tbody><tr><td>&quot;LP002547&quot;</td><td>&quot;Male&quot;</td><td>&quot;Yes&quot;</td><td>&quot;1&quot;</td><td>&quot;Graduate&quot;</td><td>&quot;No&quot;</td><td>18333</td><td>0.0</td><td>500</td><td>360</td><td>1</td><td>&quot;Urban&quot;</td><td>&quot;N&quot;</td><td>1</td></tr><tr><td>&quot;LP001610&quot;</td><td>&quot;Male&quot;</td><td>&quot;Yes&quot;</td><td>&quot;3+&quot;</td><td>&quot;Graduate&quot;</td><td>&quot;No&quot;</td><td>5516</td><td>11300.0</td><td>495</td><td>360</td><td>0</td><td>&quot;Semiurban&quot;</td><td>&quot;N&quot;</td><td>1</td></tr><tr><td>&quot;LP002949&quot;</td><td>&quot;Female&quot;</td><td>&quot;No&quot;</td><td>&quot;3+&quot;</td><td>&quot;Graduate&quot;</td><td>null</td><td>416</td><td>41667.0</td><td>350</td><td>180</td><td>null</td><td>&quot;Urban&quot;</td><td>&quot;N&quot;</td><td>1</td></tr></tbody></table></div>"
            ]
          },
          "metadata": {},
          "execution_count": 55
        }
      ]
    },
    {
      "cell_type": "code",
      "source": [
        "(\n",
        "    train_pl\n",
        "    .with_columns(status=pl.when(pl.col('Loan_Status') == \"Y\").then(0).otherwise(1))\n",
        "    .group_by(\"Education\")\n",
        "    .agg(default = pl.col(\"status\").sum(),\n",
        "         count=pl.col(\"status\").count())\n",
        "    .with_columns(td = pl.col('default') / pl.col('count'))\n",
        ")"
      ],
      "metadata": {
        "colab": {
          "base_uri": "https://localhost:8080/",
          "height": 161
        },
        "id": "2-MU9HYX5QI7",
        "outputId": "586fa47e-703c-4376-9f23-06ddd0a46991"
      },
      "execution_count": 57,
      "outputs": [
        {
          "output_type": "execute_result",
          "data": {
            "text/plain": [
              "shape: (2, 4)\n",
              "┌──────────────┬─────────┬───────┬──────────┐\n",
              "│ Education    ┆ default ┆ count ┆ td       │\n",
              "│ ---          ┆ ---     ┆ ---   ┆ ---      │\n",
              "│ str          ┆ i32     ┆ u32   ┆ f64      │\n",
              "╞══════════════╪═════════╪═══════╪══════════╡\n",
              "│ Graduate     ┆ 140     ┆ 480   ┆ 0.291667 │\n",
              "│ Not Graduate ┆ 52      ┆ 134   ┆ 0.38806  │\n",
              "└──────────────┴─────────┴───────┴──────────┘"
            ],
            "text/html": [
              "<div><style>\n",
              ".dataframe > thead > tr,\n",
              ".dataframe > tbody > tr {\n",
              "  text-align: right;\n",
              "  white-space: pre-wrap;\n",
              "}\n",
              "</style>\n",
              "<small>shape: (2, 4)</small><table border=\"1\" class=\"dataframe\"><thead><tr><th>Education</th><th>default</th><th>count</th><th>td</th></tr><tr><td>str</td><td>i32</td><td>u32</td><td>f64</td></tr></thead><tbody><tr><td>&quot;Graduate&quot;</td><td>140</td><td>480</td><td>0.291667</td></tr><tr><td>&quot;Not Graduate&quot;</td><td>52</td><td>134</td><td>0.38806</td></tr></tbody></table></div>"
            ]
          },
          "metadata": {},
          "execution_count": 57
        }
      ]
    },
    {
      "cell_type": "markdown",
      "source": [
        "# Expressions"
      ],
      "metadata": {
        "id": "id0Hczh9HaaH"
      }
    },
    {
      "cell_type": "code",
      "source": [
        "median_applicant_income = (\n",
        "    pl.col(\"ApplicantIncome\")\n",
        "    .median()\n",
        "    .alias(\"median_ApplicantIncome\")\n",
        ")"
      ],
      "metadata": {
        "id": "vz1wgbP8DZSQ"
      },
      "execution_count": 27,
      "outputs": []
    },
    {
      "cell_type": "code",
      "source": [
        "median_applicant_income"
      ],
      "metadata": {
        "colab": {
          "base_uri": "https://localhost:8080/",
          "height": 34
        },
        "id": "2Nz49uAuDZUk",
        "outputId": "7e79764d-ce1e-425c-d89b-780b00b2e4d4"
      },
      "execution_count": 28,
      "outputs": [
        {
          "output_type": "execute_result",
          "data": {
            "text/plain": [
              "<Expr ['col(\"ApplicantIncome\").median(…'] at 0x79F749626EC0>"
            ],
            "text/html": [
              "col(\"ApplicantIncome\").median().alias(\"median_ApplicantIncome\")"
            ]
          },
          "metadata": {},
          "execution_count": 28
        }
      ]
    },
    {
      "cell_type": "code",
      "source": [
        "n_unique_Loan_ID = (\n",
        "    pl.col(\"Loan_ID\")\n",
        "    .n_unique()\n",
        "    .alias(\"n_unique_Loan_ID\")\n",
        ")"
      ],
      "metadata": {
        "id": "wpcucni1DZXB"
      },
      "execution_count": 29,
      "outputs": []
    },
    {
      "cell_type": "code",
      "source": [
        "train_pl.select(median_applicant_income)"
      ],
      "metadata": {
        "colab": {
          "base_uri": "https://localhost:8080/",
          "height": 129
        },
        "id": "a-BjU-HKDZZn",
        "outputId": "feae1762-67df-49f7-8ccb-844c63674244"
      },
      "execution_count": 30,
      "outputs": [
        {
          "output_type": "execute_result",
          "data": {
            "text/plain": [
              "shape: (1, 1)\n",
              "┌────────────────────────┐\n",
              "│ median_ApplicantIncome │\n",
              "│ ---                    │\n",
              "│ f64                    │\n",
              "╞════════════════════════╡\n",
              "│ 3812.5                 │\n",
              "└────────────────────────┘"
            ],
            "text/html": [
              "<div><style>\n",
              ".dataframe > thead > tr,\n",
              ".dataframe > tbody > tr {\n",
              "  text-align: right;\n",
              "  white-space: pre-wrap;\n",
              "}\n",
              "</style>\n",
              "<small>shape: (1, 1)</small><table border=\"1\" class=\"dataframe\"><thead><tr><th>median_ApplicantIncome</th></tr><tr><td>f64</td></tr></thead><tbody><tr><td>3812.5</td></tr></tbody></table></div>"
            ]
          },
          "metadata": {},
          "execution_count": 30
        }
      ]
    },
    {
      "cell_type": "code",
      "source": [
        "train_pl.select(n_unique_Loan_ID)"
      ],
      "metadata": {
        "colab": {
          "base_uri": "https://localhost:8080/",
          "height": 129
        },
        "id": "ugf0J2ALI7WM",
        "outputId": "7a4a5fe2-600e-40fa-b575-bbcf7b9d3d08"
      },
      "execution_count": 31,
      "outputs": [
        {
          "output_type": "execute_result",
          "data": {
            "text/plain": [
              "shape: (1, 1)\n",
              "┌──────────────────┐\n",
              "│ n_unique_Loan_ID │\n",
              "│ ---              │\n",
              "│ u32              │\n",
              "╞══════════════════╡\n",
              "│ 614              │\n",
              "└──────────────────┘"
            ],
            "text/html": [
              "<div><style>\n",
              ".dataframe > thead > tr,\n",
              ".dataframe > tbody > tr {\n",
              "  text-align: right;\n",
              "  white-space: pre-wrap;\n",
              "}\n",
              "</style>\n",
              "<small>shape: (1, 1)</small><table border=\"1\" class=\"dataframe\"><thead><tr><th>n_unique_Loan_ID</th></tr><tr><td>u32</td></tr></thead><tbody><tr><td>614</td></tr></tbody></table></div>"
            ]
          },
          "metadata": {},
          "execution_count": 31
        }
      ]
    },
    {
      "cell_type": "code",
      "source": [
        "train_pl.groupby(['Married']).agg(median_applicant_income, n_unique_Loan_ID)"
      ],
      "metadata": {
        "colab": {
          "base_uri": "https://localhost:8080/",
          "height": 227
        },
        "id": "4UO3HWNDDZb5",
        "outputId": "9885a349-2c66-4f77-b30d-df42dbf3844a"
      },
      "execution_count": 32,
      "outputs": [
        {
          "output_type": "stream",
          "name": "stderr",
          "text": [
            "<ipython-input-32-6a6d08b0a272>:1: DeprecationWarning: `groupby` is deprecated. It has been renamed to `group_by`.\n",
            "  train_pl.groupby(['Married']).agg(median_applicant_income, n_unique_Loan_ID)\n"
          ]
        },
        {
          "output_type": "execute_result",
          "data": {
            "text/plain": [
              "shape: (3, 3)\n",
              "┌─────────┬────────────────────────┬──────────────────┐\n",
              "│ Married ┆ median_ApplicantIncome ┆ n_unique_Loan_ID │\n",
              "│ ---     ┆ ---                    ┆ ---              │\n",
              "│ str     ┆ f64                    ┆ u32              │\n",
              "╞═════════╪════════════════════════╪══════════════════╡\n",
              "│ No      ┆ 3750.0                 ┆ 213              │\n",
              "│ Yes     ┆ 3854.5                 ┆ 398              │\n",
              "│ null    ┆ 4758.0                 ┆ 3                │\n",
              "└─────────┴────────────────────────┴──────────────────┘"
            ],
            "text/html": [
              "<div><style>\n",
              ".dataframe > thead > tr,\n",
              ".dataframe > tbody > tr {\n",
              "  text-align: right;\n",
              "  white-space: pre-wrap;\n",
              "}\n",
              "</style>\n",
              "<small>shape: (3, 3)</small><table border=\"1\" class=\"dataframe\"><thead><tr><th>Married</th><th>median_ApplicantIncome</th><th>n_unique_Loan_ID</th></tr><tr><td>str</td><td>f64</td><td>u32</td></tr></thead><tbody><tr><td>&quot;No&quot;</td><td>3750.0</td><td>213</td></tr><tr><td>&quot;Yes&quot;</td><td>3854.5</td><td>398</td></tr><tr><td>null</td><td>4758.0</td><td>3</td></tr></tbody></table></div>"
            ]
          },
          "metadata": {},
          "execution_count": 32
        }
      ]
    },
    {
      "cell_type": "markdown",
      "source": [
        "# Lazyness\n",
        "\n",
        "In general the lazy API should be preferred unless you are either interested in the intermediate results or are doing exploratory work and don't know yet what your query is going to look like.\n",
        "\n",
        "https://pola-rs.github.io/polars/user-guide/concepts/lazy-vs-eager/#when-to-use-which"
      ],
      "metadata": {
        "id": "cihK7snOKDDM"
      }
    },
    {
      "cell_type": "code",
      "source": [
        "train_pl_lz = pl.scan_csv(TRAIN_CSV_PATH, infer_schema_length=10000)"
      ],
      "metadata": {
        "id": "6_F7uZKaDZeB"
      },
      "execution_count": 33,
      "outputs": []
    },
    {
      "cell_type": "code",
      "source": [
        "train_pl_lz.schema"
      ],
      "metadata": {
        "id": "kAvBAZnFDZga",
        "colab": {
          "base_uri": "https://localhost:8080/"
        },
        "outputId": "9dcd6d0d-02e1-4559-8348-4fc778c3a63a"
      },
      "execution_count": 34,
      "outputs": [
        {
          "output_type": "execute_result",
          "data": {
            "text/plain": [
              "OrderedDict([('Loan_ID', String),\n",
              "             ('Gender', String),\n",
              "             ('Married', String),\n",
              "             ('Dependents', String),\n",
              "             ('Education', String),\n",
              "             ('Self_Employed', String),\n",
              "             ('ApplicantIncome', Int64),\n",
              "             ('CoapplicantIncome', Float64),\n",
              "             ('LoanAmount', Int64),\n",
              "             ('Loan_Amount_Term', Int64),\n",
              "             ('Credit_History', Int64),\n",
              "             ('Property_Area', String),\n",
              "             ('Loan_Status', String)])"
            ]
          },
          "metadata": {},
          "execution_count": 34
        }
      ]
    },
    {
      "cell_type": "code",
      "source": [
        "q = (\n",
        "    pl.scan_csv(TRAIN_CSV_PATH, dtypes=dset_schema)\n",
        "    .filter(pl.col(\"Married\") == \"Yes\")\n",
        "    .groupby(\"Education\")\n",
        "    .agg(median_applicant_income)\n",
        ")\n",
        "\n",
        "df_median_applicant_income = q.collect()"
      ],
      "metadata": {
        "id": "OfLDRc20DZi1",
        "colab": {
          "base_uri": "https://localhost:8080/"
        },
        "outputId": "e381913e-0971-477b-d009-25543782d5ae"
      },
      "execution_count": 35,
      "outputs": [
        {
          "output_type": "stream",
          "name": "stderr",
          "text": [
            "<ipython-input-35-ea24ba2ea6d2>:4: DeprecationWarning: `groupby` is deprecated. It has been renamed to `group_by`.\n",
            "  .groupby(\"Education\")\n"
          ]
        }
      ]
    },
    {
      "cell_type": "code",
      "source": [
        "q"
      ],
      "metadata": {
        "id": "hg3BGgNFDZk5",
        "colab": {
          "base_uri": "https://localhost:8080/",
          "height": 383
        },
        "outputId": "02d8730e-921c-44fb-ebeb-aa0e32752ba7"
      },
      "execution_count": 36,
      "outputs": [
        {
          "output_type": "execute_result",
          "data": {
            "text/plain": [
              "<LazyFrame [2 cols, {\"Education\": String, \"median_ApplicantIncome\": Float64}] at 0x79F77D0F9450>"
            ],
            "text/html": [
              "<h4>NAIVE QUERY PLAN</h4><p>run <b>LazyFrame.show_graph()</b> to see the optimized version</p><?xml version=\"1.0\" encoding=\"UTF-8\" standalone=\"no\"?>\n",
              "<!DOCTYPE svg PUBLIC \"-//W3C//DTD SVG 1.1//EN\"\n",
              " \"http://www.w3.org/Graphics/SVG/1.1/DTD/svg11.dtd\">\n",
              "<!-- Generated by graphviz version 2.43.0 (0)\n",
              " -->\n",
              "<!-- Title: polars_query Pages: 1 -->\n",
              "<svg width=\"500pt\" height=\"222pt\"\n",
              " viewBox=\"0.00 0.00 500.00 222.00\" xmlns=\"http://www.w3.org/2000/svg\" xmlns:xlink=\"http://www.w3.org/1999/xlink\">\n",
              "<g id=\"graph0\" class=\"graph\" transform=\"scale(1 1) rotate(0) translate(4 218)\">\n",
              "<title>polars_query</title>\n",
              "<polygon fill=\"white\" stroke=\"transparent\" points=\"-4,4 -4,-218 496,-218 496,4 -4,4\"/>\n",
              "<!-- AGG [col(&quot;ApplicantIncome&quot;).median().alias(&quot;median_ApplicantIncome&quot;)]\n",
              "BY\n",
              "[col(&quot;Education&quot;)] [(0, 0)] [(0, 0)] -->\n",
              "<g id=\"node1\" class=\"node\">\n",
              "<title>AGG [col(&quot;ApplicantIncome&quot;).median().alias(&quot;median_ApplicantIncome&quot;)]\n",
              "BY\n",
              "[col(&quot;Education&quot;)] [(0, 0)] [(0, 0)]</title>\n",
              "<polygon fill=\"none\" stroke=\"black\" points=\"463.5,-214 28.5,-214 28.5,-161 463.5,-161 463.5,-214\"/>\n",
              "<text text-anchor=\"middle\" x=\"246\" y=\"-198.8\" font-family=\"Times,serif\" font-size=\"14.00\">AGG [col(&quot;ApplicantIncome&quot;).median().alias(&quot;median_ApplicantIncome&quot;)]</text>\n",
              "<text text-anchor=\"middle\" x=\"246\" y=\"-183.8\" font-family=\"Times,serif\" font-size=\"14.00\">BY</text>\n",
              "<text text-anchor=\"middle\" x=\"246\" y=\"-168.8\" font-family=\"Times,serif\" font-size=\"14.00\">[col(&quot;Education&quot;)] [(0, 0)]</text>\n",
              "</g>\n",
              "<!-- FILTER BY (col(&quot;Married&quot;)) == (Stri... [(0, 1)] -->\n",
              "<g id=\"node2\" class=\"node\">\n",
              "<title>FILTER BY (col(&quot;Married&quot;)) == (Stri... [(0, 1)]</title>\n",
              "<polygon fill=\"none\" stroke=\"black\" points=\"365,-125 127,-125 127,-89 365,-89 365,-125\"/>\n",
              "<text text-anchor=\"middle\" x=\"246\" y=\"-103.3\" font-family=\"Times,serif\" font-size=\"14.00\">FILTER BY (col(&quot;Married&quot;)) == (Stri...</text>\n",
              "</g>\n",
              "<!-- AGG [col(&quot;ApplicantIncome&quot;).median().alias(&quot;median_ApplicantIncome&quot;)]\n",
              "BY\n",
              "[col(&quot;Education&quot;)] [(0, 0)] [(0, 0)]&#45;&#45;FILTER BY (col(&quot;Married&quot;)) == (Stri... [(0, 1)] -->\n",
              "<g id=\"edge1\" class=\"edge\">\n",
              "<title>AGG [col(&quot;ApplicantIncome&quot;).median().alias(&quot;median_ApplicantIncome&quot;)]\n",
              "BY\n",
              "[col(&quot;Education&quot;)] [(0, 0)] [(0, 0)]&#45;&#45;FILTER BY (col(&quot;Married&quot;)) == (Stri... [(0, 1)]</title>\n",
              "<path fill=\"none\" stroke=\"black\" d=\"M246,-160.8C246,-149.17 246,-135.74 246,-125.33\"/>\n",
              "</g>\n",
              "<!-- Csv SCAN /content/drive/MyDrive/Personale/Dataset/finance_loan_approval/train.csv;\n",
              "π */13;\n",
              "σ &#45; [(0, 2)] -->\n",
              "<g id=\"node3\" class=\"node\">\n",
              "<title>Csv SCAN /content/drive/MyDrive/Personale/Dataset/finance_loan_approval/train.csv;\n",
              "π */13;\n",
              "σ &#45; [(0, 2)]</title>\n",
              "<polygon fill=\"none\" stroke=\"black\" points=\"492,-53 0,-53 0,0 492,0 492,-53\"/>\n",
              "<text text-anchor=\"middle\" x=\"246\" y=\"-37.8\" font-family=\"Times,serif\" font-size=\"14.00\">Csv SCAN /content/drive/MyDrive/Personale/Dataset/finance_loan_approval/train.csv;</text>\n",
              "<text text-anchor=\"middle\" x=\"246\" y=\"-22.8\" font-family=\"Times,serif\" font-size=\"14.00\">π */13;</text>\n",
              "<text text-anchor=\"middle\" x=\"246\" y=\"-7.8\" font-family=\"Times,serif\" font-size=\"14.00\">σ &#45;</text>\n",
              "</g>\n",
              "<!-- FILTER BY (col(&quot;Married&quot;)) == (Stri... [(0, 1)]&#45;&#45;Csv SCAN /content/drive/MyDrive/Personale/Dataset/finance_loan_approval/train.csv;\n",
              "π */13;\n",
              "σ &#45; [(0, 2)] -->\n",
              "<g id=\"edge2\" class=\"edge\">\n",
              "<title>FILTER BY (col(&quot;Married&quot;)) == (Stri... [(0, 1)]&#45;&#45;Csv SCAN /content/drive/MyDrive/Personale/Dataset/finance_loan_approval/train.csv;\n",
              "π */13;\n",
              "σ &#45; [(0, 2)]</title>\n",
              "<path fill=\"none\" stroke=\"black\" d=\"M246,-88.97C246,-78.51 246,-64.9 246,-53.16\"/>\n",
              "</g>\n",
              "</g>\n",
              "</svg>\n"
            ]
          },
          "metadata": {},
          "execution_count": 36
        }
      ]
    },
    {
      "cell_type": "code",
      "source": [
        "df_median_applicant_income"
      ],
      "metadata": {
        "id": "l5nUE1MA3d1I",
        "colab": {
          "base_uri": "https://localhost:8080/",
          "height": 161
        },
        "outputId": "fb17bebd-2224-4a45-b578-a879eeb0764a"
      },
      "execution_count": 37,
      "outputs": [
        {
          "output_type": "execute_result",
          "data": {
            "text/plain": [
              "shape: (2, 2)\n",
              "┌──────────────┬────────────────────────┐\n",
              "│ Education    ┆ median_ApplicantIncome │\n",
              "│ ---          ┆ ---                    │\n",
              "│ str          ┆ f64                    │\n",
              "╞══════════════╪════════════════════════╡\n",
              "│ Not Graduate ┆ 3333.0                 │\n",
              "│ Graduate     ┆ 4106.0                 │\n",
              "└──────────────┴────────────────────────┘"
            ],
            "text/html": [
              "<div><style>\n",
              ".dataframe > thead > tr,\n",
              ".dataframe > tbody > tr {\n",
              "  text-align: right;\n",
              "  white-space: pre-wrap;\n",
              "}\n",
              "</style>\n",
              "<small>shape: (2, 2)</small><table border=\"1\" class=\"dataframe\"><thead><tr><th>Education</th><th>median_ApplicantIncome</th></tr><tr><td>str</td><td>f64</td></tr></thead><tbody><tr><td>&quot;Not Graduate&quot;</td><td>3333.0</td></tr><tr><td>&quot;Graduate&quot;</td><td>4106.0</td></tr></tbody></table></div>"
            ]
          },
          "metadata": {},
          "execution_count": 37
        }
      ]
    },
    {
      "cell_type": "code",
      "source": [
        "# sink"
      ],
      "metadata": {
        "id": "Qj5wif043eln"
      },
      "execution_count": 38,
      "outputs": []
    },
    {
      "cell_type": "code",
      "source": [],
      "metadata": {
        "id": "tGUJRfCx26Wk"
      },
      "execution_count": 38,
      "outputs": []
    }
  ]
}
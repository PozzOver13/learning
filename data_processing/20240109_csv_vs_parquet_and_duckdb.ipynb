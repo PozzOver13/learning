{
  "nbformat": 4,
  "nbformat_minor": 0,
  "metadata": {
    "colab": {
      "provenance": [],
      "toc_visible": true,
      "authorship_tag": "ABX9TyMPqyPzzF53KuzdAah9nqbO",
      "include_colab_link": true
    },
    "kernelspec": {
      "name": "python3",
      "display_name": "Python 3"
    },
    "language_info": {
      "name": "python"
    }
  },
  "cells": [
    {
      "cell_type": "markdown",
      "metadata": {
        "id": "view-in-github",
        "colab_type": "text"
      },
      "source": [
        "<a href=\"https://colab.research.google.com/github/PozzOver13/learning/blob/main/data_processing/20240109_csv_vs_parquet_and_duckdb.ipynb\" target=\"_parent\"><img src=\"https://colab.research.google.com/assets/colab-badge.svg\" alt=\"Open In Colab\"/></a>"
      ]
    },
    {
      "cell_type": "markdown",
      "source": [
        "# CSV vs Parquet & DuckDB 🦆"
      ],
      "metadata": {
        "id": "wUlTIJaUmBQk"
      }
    },
    {
      "cell_type": "markdown",
      "source": [
        "# References  \n",
        "\n",
        "**official websites**  \n",
        "https://opencoesione.gov.it/it/ OpenCoesione iniziativa nazionale di governo aperto (open government) sulle politiche di coesione  \n",
        "https://duckdb.org/docs/ DuckDB documentation   \n",
        "https://motherduck.com/ MotherDuck Website\n",
        "\n",
        "**talks**  \n",
        "https://www.youtube.com/watch?v=DwtbPhbDecQ&list=WL&index=32 Matthew Rocklin - Spark, Dask, DuckDB, and Polars: Benchmarks | PyData NYC 2023  \n",
        "https://youtu.be/q_SKaOeRiOI?si=hIJUPB7Yydgh9ItM  Gábor Szárnyas - DuckDB: The Power of a Data Warehouse in your Python Process  \n",
        "\n",
        "  \n",
        "**good 2 be known**  \n",
        "https://aborruso.github.io/posts/duckdb-intro-csv/?utm_source=substack&utm_medium=email - Gestire file CSV grandi, brutti e cattivi Andrea Borruso   \n",
        "https://motherduck.com/blog/big-data-is-dead/ Big Data is Dead   \n",
        "https://www.youtube.com/watch?v=4DIoACFItec DuckDB vs Pandas vs Polars For Python devs\n"
      ],
      "metadata": {
        "id": "Ea27f6UOmcez"
      }
    },
    {
      "cell_type": "markdown",
      "source": [
        "# What is DuckDB?\n",
        "\n",
        "DuckDB is an in-memory analytical database management system (DBMS) that is designed for analytical processing and data warehousing. It is developed to provide high-performance querying capabilities for analytical workloads. Here are some key characteristics and features of DuckDB:\n",
        "\n",
        "1. **In-Memory Database:** DuckDB is primarily an in-memory database, meaning it stores and processes data in RAM rather than on disk. This allows for faster data access and query execution, making it well-suited for analytical workloads.\n",
        "\n",
        "2. **Columnar Storage:** DuckDB uses a columnar storage format, where data is stored in columns rather than rows. This can lead to significant performance improvements for analytical queries, as only the necessary columns are read during query execution.\n",
        "\n",
        "3. **SQL Support:** DuckDB supports a subset of the SQL language, making it easy for users familiar with SQL to interact with the database. This includes standard SQL querying, data definition, and data manipulation commands.\n",
        "\n",
        "4. **Optimized for Analytical Queries:** DuckDB is designed to excel in analytical workloads involving complex queries and aggregations. It is not intended for transactional workloads with frequent insert, update, and delete operations.\n",
        "\n",
        "5. **Multi-Version Concurrency Control (MVCC):** DuckDB uses MVCC to manage concurrent transactions, allowing multiple users to read and write data simultaneously without conflicting with each other.\n",
        "\n",
        "6. **Embedded Mode:** DuckDB can be used in an embedded mode within applications, allowing developers to incorporate the database directly into their applications without the need for a separate database server.\n",
        "\n",
        "7. **Open Source:** DuckDB is an open-source project, and its source code is available on platforms like GitHub. This encourages community contributions and allows users to inspect and modify the code as needed.\n",
        "\n",
        "8. **Extensibility:** DuckDB provides an extensible architecture that allows users to add custom functions and operators. This can be useful for adapting the database to specific application requirements.\n",
        "\n",
        "It's important to note that DuckDB is not intended to replace traditional relational databases for all use cases. Instead, it's specifically designed to provide fast and efficient querying for analytical workloads. If you're working on data analysis or reporting tasks, DuckDB might be a suitable choice."
      ],
      "metadata": {
        "id": "lCiewuOAMwY7"
      }
    },
    {
      "cell_type": "markdown",
      "source": [
        "# SQL vs NoSQL\n",
        "\n",
        "Certainly! The landscape of databases and query languages is diverse, with various types of databases catering to different needs. Let's discuss some of the key differences between popular database systems and query languages:\n",
        "\n",
        "1. **SQL vs. NoSQL:**\n",
        "   - **SQL Databases (Relational Databases):** These databases, such as SQLite, PostgreSQL, and MySQL, use a structured query language (SQL) for defining and manipulating the data. They are known for their strict schema and relationships between tables.\n",
        "   - **NoSQL Databases:** NoSQL databases, on the other hand, do not rely on a fixed schema. They are more flexible and can handle unstructured or semi-structured data. Examples include MongoDB (document-oriented), Cassandra (wide-column store), and Redis (key-value store).\n",
        "\n",
        "2. **Relational Databases:**\n",
        "   - **SQLite:** A lightweight, serverless, and self-contained relational database engine. It's suitable for embedded systems and applications where a full-fledged database server is not necessary.\n",
        "   - **PostgreSQL:** An open-source relational database system known for its extensibility and support for advanced features like JSON, GIS, and full-text search.\n",
        "   - **MySQL:** Another popular open-source relational database system. It is known for its speed, ease of use, and wide adoption in web applications.\n",
        "\n",
        "3. **NoSQL Databases:**\n",
        "   - **MongoDB:** A document-oriented NoSQL database that stores data in JSON-like BSON documents. It's widely used for applications with flexible and evolving schemas.\n",
        "   - **Cassandra:** A distributed NoSQL database designed for handling large amounts of data across multiple commodity servers. It excels in write-intensive scenarios.\n",
        "   - **Redis:** A high-performance, in-memory key-value store. It is often used for caching and real-time data processing.\n",
        "\n",
        "4. **“NewSQL”:**\n",
        "   - **NewSQL databases** are a category of databases that aim to provide the scalability and performance of NoSQL databases while maintaining the ACID properties (Atomicity, Consistency, Isolation, Durability) of traditional relational databases.\n",
        "   - Examples include Google Spanner, CockroachDB, and NuoDB.\n",
        "\n",
        "5. **Use Cases:**\n",
        "   - **Relational Databases:** Best suited for applications where data integrity, consistency, and complex relationships are crucial, such as in traditional business applications.\n",
        "   - **NoSQL Databases:** Ideal for scenarios where flexibility, scalability, and handling large volumes of unstructured data are more important than strict data consistency. Commonly used in web applications, content management systems, and real-time analytics.\n",
        "\n",
        "6. **Consistency and Transactions:**\n",
        "   - **Relational Databases:** Emphasize strong consistency and ACID transactions, ensuring that data remains in a consistent state even in the presence of failures.\n",
        "   - **NoSQL Databases:** May sacrifice strong consistency for performance and scalability. Different NoSQL databases provide varying levels of consistency (e.g., eventual consistency).\n",
        "\n",
        "It's important to choose a database system based on the specific requirements of your application, considering factors like data structure, scalability, performance, and consistency. The choice between SQL and NoSQL often depends on the nature of the data and the use case."
      ],
      "metadata": {
        "id": "RiiqMHpNXk9L"
      }
    },
    {
      "cell_type": "markdown",
      "source": [
        "# OLAP\n",
        "\n",
        "OLAP stands for \"Online Analytical Processing.\" It is a category of computer processing that enables users to interactively analyze multidimensional data from different perspectives. OLAP systems are designed for complex queries and reporting, allowing users to gain insights into large datasets, often in real-time. The key features of OLAP systems include the ability to perform multidimensional analysis, drill-down into data, and aggregate information based on various dimensions."
      ],
      "metadata": {
        "id": "rJ0IE1smYBaN"
      }
    },
    {
      "cell_type": "markdown",
      "source": [
        "# DuckDB in practice"
      ],
      "metadata": {
        "id": "nLQr14_6XuSx"
      }
    },
    {
      "cell_type": "code",
      "source": [
        "import duckdb\n",
        "\n",
        "# Mount your Google Drive\n",
        "from google.colab import drive\n",
        "drive.mount('/content/drive')"
      ],
      "metadata": {
        "id": "OEjGqkibme9g",
        "colab": {
          "base_uri": "https://localhost:8080/"
        },
        "outputId": "c3d767e0-8e74-4f52-ce07-9dcb3ffe28f2"
      },
      "execution_count": 1,
      "outputs": [
        {
          "output_type": "stream",
          "name": "stdout",
          "text": [
            "Mounted at /content/drive\n"
          ]
        }
      ]
    },
    {
      "cell_type": "code",
      "source": [
        "TRAIN_CSV_PATH = \"/content/drive/MyDrive/Personale/Dataset/finance_loan_approval/train.csv\"\n",
        "TEST_CSV_PATH = \"/content/drive/MyDrive/Personale/Dataset/finance_loan_approval/test.csv\""
      ],
      "metadata": {
        "id": "Ux6bBchQQ9su"
      },
      "execution_count": 2,
      "outputs": []
    },
    {
      "cell_type": "code",
      "source": [
        "duckdb.sql(f\"CREATE TABLE train AS SELECT * FROM read_csv_auto('{TRAIN_CSV_PATH}');\")"
      ],
      "metadata": {
        "id": "fVK1m1zKPv8B"
      },
      "execution_count": 3,
      "outputs": []
    },
    {
      "cell_type": "code",
      "source": [
        "duckdb.sql('DESCRIBE train')"
      ],
      "metadata": {
        "colab": {
          "base_uri": "https://localhost:8080/"
        },
        "id": "ztEzzJmTQEAs",
        "outputId": "c504c575-80fb-44c4-855b-c02d1aa20699"
      },
      "execution_count": 12,
      "outputs": [
        {
          "output_type": "execute_result",
          "data": {
            "text/plain": [
              "┌───────────────────┬─────────────┬─────────┬─────────┬─────────┬───────┐\n",
              "│    column_name    │ column_type │  null   │   key   │ default │ extra │\n",
              "│      varchar      │   varchar   │ varchar │ varchar │ varchar │ int32 │\n",
              "├───────────────────┼─────────────┼─────────┼─────────┼─────────┼───────┤\n",
              "│ Loan_ID           │ VARCHAR     │ YES     │ NULL    │ NULL    │  NULL │\n",
              "│ Gender            │ VARCHAR     │ YES     │ NULL    │ NULL    │  NULL │\n",
              "│ Married           │ VARCHAR     │ YES     │ NULL    │ NULL    │  NULL │\n",
              "│ Dependents        │ VARCHAR     │ YES     │ NULL    │ NULL    │  NULL │\n",
              "│ Education         │ VARCHAR     │ YES     │ NULL    │ NULL    │  NULL │\n",
              "│ Self_Employed     │ VARCHAR     │ YES     │ NULL    │ NULL    │  NULL │\n",
              "│ ApplicantIncome   │ BIGINT      │ YES     │ NULL    │ NULL    │  NULL │\n",
              "│ CoapplicantIncome │ DOUBLE      │ YES     │ NULL    │ NULL    │  NULL │\n",
              "│ LoanAmount        │ BIGINT      │ YES     │ NULL    │ NULL    │  NULL │\n",
              "│ Loan_Amount_Term  │ BIGINT      │ YES     │ NULL    │ NULL    │  NULL │\n",
              "│ Credit_History    │ BIGINT      │ YES     │ NULL    │ NULL    │  NULL │\n",
              "│ Property_Area     │ VARCHAR     │ YES     │ NULL    │ NULL    │  NULL │\n",
              "│ Loan_Status       │ VARCHAR     │ YES     │ NULL    │ NULL    │  NULL │\n",
              "├───────────────────┴─────────────┴─────────┴─────────┴─────────┴───────┤\n",
              "│ 13 rows                                                     6 columns │\n",
              "└───────────────────────────────────────────────────────────────────────┘"
            ]
          },
          "metadata": {},
          "execution_count": 12
        }
      ]
    },
    {
      "cell_type": "code",
      "source": [
        "duckdb.sql('FROM train limit 10')"
      ],
      "metadata": {
        "colab": {
          "base_uri": "https://localhost:8080/"
        },
        "id": "14OQODTEQnrQ",
        "outputId": "def4371d-bc61-4ab1-dc09-ce858109ec9d"
      },
      "execution_count": 7,
      "outputs": [
        {
          "output_type": "execute_result",
          "data": {
            "text/plain": [
              "┌──────────┬─────────┬─────────┬────────────┬───┬──────────────────┬────────────────┬───────────────┬─────────────┐\n",
              "│ Loan_ID  │ Gender  │ Married │ Dependents │ … │ Loan_Amount_Term │ Credit_History │ Property_Area │ Loan_Status │\n",
              "│ varchar  │ varchar │ varchar │  varchar   │   │      int64       │     int64      │    varchar    │   varchar   │\n",
              "├──────────┼─────────┼─────────┼────────────┼───┼──────────────────┼────────────────┼───────────────┼─────────────┤\n",
              "│ LP001002 │ Male    │ No      │ 0          │ … │              360 │              1 │ Urban         │ Y           │\n",
              "│ LP001003 │ Male    │ Yes     │ 1          │ … │              360 │              1 │ Rural         │ N           │\n",
              "│ LP001005 │ Male    │ Yes     │ 0          │ … │              360 │              1 │ Urban         │ Y           │\n",
              "│ LP001006 │ Male    │ Yes     │ 0          │ … │              360 │              1 │ Urban         │ Y           │\n",
              "│ LP001008 │ Male    │ No      │ 0          │ … │              360 │              1 │ Urban         │ Y           │\n",
              "│ LP001011 │ Male    │ Yes     │ 2          │ … │              360 │              1 │ Urban         │ Y           │\n",
              "│ LP001013 │ Male    │ Yes     │ 0          │ … │              360 │              1 │ Urban         │ Y           │\n",
              "│ LP001014 │ Male    │ Yes     │ 3+         │ … │              360 │              0 │ Semiurban     │ N           │\n",
              "│ LP001018 │ Male    │ Yes     │ 2          │ … │              360 │              1 │ Urban         │ Y           │\n",
              "│ LP001020 │ Male    │ Yes     │ 1          │ … │              360 │              1 │ Semiurban     │ N           │\n",
              "├──────────┴─────────┴─────────┴────────────┴───┴──────────────────┴────────────────┴───────────────┴─────────────┤\n",
              "│ 10 rows                                                                                    13 columns (8 shown) │\n",
              "└─────────────────────────────────────────────────────────────────────────────────────────────────────────────────┘"
            ]
          },
          "metadata": {},
          "execution_count": 7
        }
      ]
    },
    {
      "cell_type": "code",
      "source": [
        "duckdb.sql('SELECT Gender, count(*) AS n_obs FROM train GROUP BY Gender')"
      ],
      "metadata": {
        "id": "1JQQkivuS9oN",
        "colab": {
          "base_uri": "https://localhost:8080/"
        },
        "outputId": "c9501a13-6063-4e8c-d9ab-857a4b9af322"
      },
      "execution_count": 8,
      "outputs": [
        {
          "output_type": "execute_result",
          "data": {
            "text/plain": [
              "┌─────────┬───────┐\n",
              "│ Gender  │ n_obs │\n",
              "│ varchar │ int64 │\n",
              "├─────────┼───────┤\n",
              "│ NULL    │    13 │\n",
              "│ Male    │   489 │\n",
              "│ Female  │   112 │\n",
              "└─────────┴───────┘"
            ]
          },
          "metadata": {},
          "execution_count": 8
        }
      ]
    },
    {
      "cell_type": "markdown",
      "source": [
        "## Query Like API"
      ],
      "metadata": {
        "id": "x58jJUGUQtOy"
      }
    },
    {
      "cell_type": "code",
      "source": [
        "# query like an API\n",
        "\n",
        "QUERY_COVID_DATA = \"\"\"\n",
        "FROM read_csv_auto('https://raw.githubusercontent.com/pcm-dpc/COVID-19/master/dati-regioni/dpc-covid19-ita-regioni.csv')\n",
        "SELECT denominazione_regione,data,nuovi_positivi,AVG(nuovi_positivi)\n",
        "OVER (\n",
        "  PARTITION BY denominazione_regione\n",
        "  ORDER BY data\n",
        "  RANGE BETWEEN INTERVAL 7 DAYS PRECEDING\n",
        "  AND INTERVAL 0 DAYS FOLLOWING\n",
        "  ) AS media_mobile\n",
        "ORDER BY 1,2;\n",
        "\"\"\"\n",
        "\n",
        "duckdb.sql(QUERY_COVID_DATA)"
      ],
      "metadata": {
        "colab": {
          "base_uri": "https://localhost:8080/"
        },
        "id": "dLFpeQvtOnaX",
        "outputId": "3777a1b6-b1b0-4c6f-e0e5-91ba93ff73b3"
      },
      "execution_count": 9,
      "outputs": [
        {
          "output_type": "execute_result",
          "data": {
            "text/plain": [
              "┌───────────────────────┬─────────────────────┬────────────────┬────────────────────┐\n",
              "│ denominazione_regione │        data         │ nuovi_positivi │    media_mobile    │\n",
              "│        varchar        │      timestamp      │     int64      │       double       │\n",
              "├───────────────────────┼─────────────────────┼────────────────┼────────────────────┤\n",
              "│ Abruzzo               │ 2020-02-24 18:00:00 │              0 │                0.0 │\n",
              "│ Abruzzo               │ 2020-02-25 18:00:00 │              0 │                0.0 │\n",
              "│ Abruzzo               │ 2020-02-26 18:00:00 │              0 │                0.0 │\n",
              "│ Abruzzo               │ 2020-02-27 18:00:00 │              1 │               0.25 │\n",
              "│ Abruzzo               │ 2020-02-28 18:00:00 │              0 │                0.2 │\n",
              "│ Abruzzo               │ 2020-02-29 17:00:00 │              1 │ 0.3333333333333333 │\n",
              "│ Abruzzo               │ 2020-03-01 17:00:00 │              3 │ 0.7142857142857143 │\n",
              "│ Abruzzo               │ 2020-03-02 18:00:00 │              0 │              0.625 │\n",
              "│ Abruzzo               │ 2020-03-03 18:00:00 │              1 │               0.75 │\n",
              "│ Abruzzo               │ 2020-03-04 17:00:00 │              1 │              0.875 │\n",
              "│    ·                  │          ·          │              · │                ·   │\n",
              "│    ·                  │          ·          │              · │                ·   │\n",
              "│    ·                  │          ·          │              · │                ·   │\n",
              "│ Liguria               │ 2020-05-05 17:00:00 │             63 │            104.125 │\n",
              "│ Liguria               │ 2020-05-06 17:00:00 │             76 │             97.375 │\n",
              "│ Liguria               │ 2020-05-07 17:00:00 │             94 │               94.5 │\n",
              "│ Liguria               │ 2020-05-08 17:00:00 │             78 │              91.25 │\n",
              "│ Liguria               │ 2020-05-09 17:00:00 │             15 │               76.5 │\n",
              "│ Liguria               │ 2020-05-10 17:00:00 │             50 │               59.5 │\n",
              "│ Liguria               │ 2020-05-11 17:00:00 │             44 │             59.125 │\n",
              "│ Liguria               │ 2020-05-12 17:00:00 │             31 │             56.375 │\n",
              "│ Liguria               │ 2020-05-13 17:00:00 │             67 │             56.875 │\n",
              "│ Liguria               │ 2020-05-14 17:00:00 │             65 │               55.5 │\n",
              "├───────────────────────┴─────────────────────┴────────────────┴────────────────────┤\n",
              "│ ? rows (>9999 rows, 20 shown)                                           4 columns │\n",
              "└───────────────────────────────────────────────────────────────────────────────────┘"
            ]
          },
          "metadata": {},
          "execution_count": 9
        }
      ]
    },
    {
      "cell_type": "code",
      "source": [
        "# query like an API\n",
        "\n",
        "QUERY_MISSIONI = \"\"\"\n",
        "SELECT \"Descrizione Missione\" missione,COUNT(*) numero_progetti,\n",
        "SUM(\"Finanziamento PNRR\") finanziamento_pnrr\n",
        "FROM \"https://raw.githubusercontent.com/aborruso/aborruso.github.io//main/posts/duckdb-intro-csv/file/PNRR_Progetti-Universo_REGIS_v2.1.parquet\"\n",
        "GROUP by \"Descrizione Missione\"\n",
        "ORDER BY finanziamento_pnrr desc;\n",
        "\"\"\"\n",
        "\n",
        "duckdb.sql(QUERY_MISSIONI)"
      ],
      "metadata": {
        "colab": {
          "base_uri": "https://localhost:8080/"
        },
        "id": "koA410WsOno6",
        "outputId": "cfe050e3-f279-409e-a5bf-fde83f2f221b"
      },
      "execution_count": 11,
      "outputs": [
        {
          "output_type": "execute_result",
          "data": {
            "text/plain": [
              "┌────────────────────────────────────────────────────────┬─────────────────┬────────────────────┐\n",
              "│                        missione                        │ numero_progetti │ finanziamento_pnrr │\n",
              "│                        varchar                         │      int64      │       double       │\n",
              "├────────────────────────────────────────────────────────┼─────────────────┼────────────────────┤\n",
              "│ Rivoluzione verde e transizione ecologica              │           49621 │ 22688516407.240803 │\n",
              "│ Infrastrutture per una mobilità sostenibile            │             206 │ 22563735313.390625 │\n",
              "│ Istruzione e ricerca                                   │           65403 │ 20129269029.008453 │\n",
              "│ Digitalizzazione, innovazione, competitività e cultura │           63025 │ 19245334466.823135 │\n",
              "│ Inclusione e coesione                                  │           11764 │ 12998257338.579054 │\n",
              "│ Salute                                                 │            7527 │  8059988416.008047 │\n",
              "└────────────────────────────────────────────────────────┴─────────────────┴────────────────────┘"
            ]
          },
          "metadata": {},
          "execution_count": 11
        }
      ]
    },
    {
      "cell_type": "markdown",
      "source": [
        "## Easy SQL"
      ],
      "metadata": {
        "id": "tuJCU0A5QxCN"
      }
    },
    {
      "cell_type": "code",
      "source": [
        "# sql exclude\n",
        "\n",
        "QUERY_EXCLUDE = \"\"\"\n",
        "SELECT * EXCLUDE (Property_Area, Loan_status) FROM train;\n",
        "\"\"\"\n",
        "\n",
        "duckdb.sql(QUERY_EXCLUDE)"
      ],
      "metadata": {
        "colab": {
          "base_uri": "https://localhost:8080/"
        },
        "id": "GdpJY7D8Onz9",
        "outputId": "6a38d6a2-4093-47ac-c282-2c9a2d0c5b22"
      },
      "execution_count": 13,
      "outputs": [
        {
          "output_type": "execute_result",
          "data": {
            "text/plain": [
              "┌──────────┬─────────┬─────────┬────────────┬───┬───────────────────┬────────────┬──────────────────┬────────────────┐\n",
              "│ Loan_ID  │ Gender  │ Married │ Dependents │ … │ CoapplicantIncome │ LoanAmount │ Loan_Amount_Term │ Credit_History │\n",
              "│ varchar  │ varchar │ varchar │  varchar   │   │      double       │   int64    │      int64       │     int64      │\n",
              "├──────────┼─────────┼─────────┼────────────┼───┼───────────────────┼────────────┼──────────────────┼────────────────┤\n",
              "│ LP001002 │ Male    │ No      │ 0          │ … │               0.0 │       NULL │              360 │              1 │\n",
              "│ LP001003 │ Male    │ Yes     │ 1          │ … │            1508.0 │        128 │              360 │              1 │\n",
              "│ LP001005 │ Male    │ Yes     │ 0          │ … │               0.0 │         66 │              360 │              1 │\n",
              "│ LP001006 │ Male    │ Yes     │ 0          │ … │            2358.0 │        120 │              360 │              1 │\n",
              "│ LP001008 │ Male    │ No      │ 0          │ … │               0.0 │        141 │              360 │              1 │\n",
              "│ LP001011 │ Male    │ Yes     │ 2          │ … │            4196.0 │        267 │              360 │              1 │\n",
              "│ LP001013 │ Male    │ Yes     │ 0          │ … │            1516.0 │         95 │              360 │              1 │\n",
              "│ LP001014 │ Male    │ Yes     │ 3+         │ … │            2504.0 │        158 │              360 │              0 │\n",
              "│ LP001018 │ Male    │ Yes     │ 2          │ … │            1526.0 │        168 │              360 │              1 │\n",
              "│ LP001020 │ Male    │ Yes     │ 1          │ … │           10968.0 │        349 │              360 │              1 │\n",
              "│    ·     │  ·      │  ·      │ ·          │ · │                ·  │         ·  │               ·  │              · │\n",
              "│    ·     │  ·      │  ·      │ ·          │ · │                ·  │         ·  │               ·  │              · │\n",
              "│    ·     │  ·      │  ·      │ ·          │ · │                ·  │         ·  │               ·  │              · │\n",
              "│ LP002959 │ Female  │ Yes     │ 1          │ … │               0.0 │        496 │              360 │              1 │\n",
              "│ LP002960 │ Male    │ Yes     │ 0          │ … │            3800.0 │       NULL │              180 │              1 │\n",
              "│ LP002961 │ Male    │ Yes     │ 1          │ … │            2500.0 │        173 │              360 │              1 │\n",
              "│ LP002964 │ Male    │ Yes     │ 2          │ … │            1411.0 │        157 │              360 │              1 │\n",
              "│ LP002974 │ Male    │ Yes     │ 0          │ … │            1950.0 │        108 │              360 │              1 │\n",
              "│ LP002978 │ Female  │ No      │ 0          │ … │               0.0 │         71 │              360 │              1 │\n",
              "│ LP002979 │ Male    │ Yes     │ 3+         │ … │               0.0 │         40 │              180 │              1 │\n",
              "│ LP002983 │ Male    │ Yes     │ 1          │ … │             240.0 │        253 │              360 │              1 │\n",
              "│ LP002984 │ Male    │ Yes     │ 2          │ … │               0.0 │        187 │              360 │              1 │\n",
              "│ LP002990 │ Female  │ No      │ 0          │ … │               0.0 │        133 │              360 │              0 │\n",
              "├──────────┴─────────┴─────────┴────────────┴───┴───────────────────┴────────────┴──────────────────┴────────────────┤\n",
              "│ 614 rows (20 shown)                                                                           11 columns (8 shown) │\n",
              "└────────────────────────────────────────────────────────────────────────────────────────────────────────────────────┘"
            ]
          },
          "metadata": {},
          "execution_count": 13
        }
      ]
    },
    {
      "cell_type": "code",
      "source": [
        "duckdb.sql('SELECT Gender, Married, count(*) AS n_obs FROM train GROUP BY ALL')"
      ],
      "metadata": {
        "colab": {
          "base_uri": "https://localhost:8080/"
        },
        "id": "tEQB78yuOn-8",
        "outputId": "6e95970b-0fa6-4cd0-a2e7-7149f4952392"
      },
      "execution_count": 14,
      "outputs": [
        {
          "output_type": "execute_result",
          "data": {
            "text/plain": [
              "┌─────────┬─────────┬───────┐\n",
              "│ Gender  │ Married │ n_obs │\n",
              "│ varchar │ varchar │ int64 │\n",
              "├─────────┼─────────┼───────┤\n",
              "│ Male    │ No      │   130 │\n",
              "│ Female  │ No      │    80 │\n",
              "│ Male    │ NULL    │     2 │\n",
              "│ Female  │ NULL    │     1 │\n",
              "│ NULL    │ No      │     3 │\n",
              "│ Male    │ Yes     │   357 │\n",
              "│ NULL    │ Yes     │    10 │\n",
              "│ Female  │ Yes     │    31 │\n",
              "└─────────┴─────────┴───────┘"
            ]
          },
          "metadata": {},
          "execution_count": 14
        }
      ]
    },
    {
      "cell_type": "code",
      "source": [
        "QUERY_PIVOT = \"\"\"\n",
        "PIVOT train ON Married USING count(*) GROUP BY Gender;\n",
        "\"\"\"\n",
        "\n",
        "duckdb.sql(QUERY_PIVOT)"
      ],
      "metadata": {
        "colab": {
          "base_uri": "https://localhost:8080/"
        },
        "id": "SPYds0b9OoIc",
        "outputId": "18ce2b53-f069-44ec-8e0e-6a8b1b62e5e4"
      },
      "execution_count": 16,
      "outputs": [
        {
          "output_type": "execute_result",
          "data": {
            "text/plain": [
              "┌─────────┬───────┬───────┐\n",
              "│ Gender  │  No   │  Yes  │\n",
              "│ varchar │ int64 │ int64 │\n",
              "├─────────┼───────┼───────┤\n",
              "│ NULL    │     3 │    10 │\n",
              "│ Male    │   130 │   357 │\n",
              "│ Female  │    80 │    31 │\n",
              "└─────────┴───────┴───────┘"
            ]
          },
          "metadata": {},
          "execution_count": 16
        }
      ]
    },
    {
      "cell_type": "code",
      "source": [
        "QUERY_PIVOT = \"\"\"\n",
        "PIVOT train ON Married USING avg(ApplicantIncome) GROUP BY Gender;\n",
        "\"\"\"\n",
        "\n",
        "duckdb.sql(QUERY_PIVOT)"
      ],
      "metadata": {
        "colab": {
          "base_uri": "https://localhost:8080/"
        },
        "id": "RRBH8MjZSisM",
        "outputId": "251e7fb8-6d64-4372-a675-077b77762600"
      },
      "execution_count": 18,
      "outputs": [
        {
          "output_type": "execute_result",
          "data": {
            "text/plain": [
              "┌─────────┬────────────────────┬───────────────────┐\n",
              "│ Gender  │         No         │        Yes        │\n",
              "│ varchar │       double       │      double       │\n",
              "├─────────┼────────────────────┼───────────────────┤\n",
              "│ NULL    │  5896.666666666667 │           11664.6 │\n",
              "│ Male    │ 5236.1461538461535 │ 5529.540616246499 │\n",
              "│ Female  │          4503.7875 │ 4829.645161290323 │\n",
              "└─────────┴────────────────────┴───────────────────┘"
            ]
          },
          "metadata": {},
          "execution_count": 18
        }
      ]
    },
    {
      "cell_type": "markdown",
      "source": [
        "## Back 2 Pandas"
      ],
      "metadata": {
        "id": "3UZFJuu_TuQ3"
      }
    },
    {
      "cell_type": "code",
      "source": [
        "duckdb.sql(QUERY_PIVOT).df()"
      ],
      "metadata": {
        "colab": {
          "base_uri": "https://localhost:8080/",
          "height": 143
        },
        "id": "V0ppMdOoTf3Q",
        "outputId": "2131c355-787c-4589-a3a0-b71c5c1ee8a3"
      },
      "execution_count": 19,
      "outputs": [
        {
          "output_type": "execute_result",
          "data": {
            "text/plain": [
              "   Gender           No           Yes\n",
              "0    None  5896.666667  11664.600000\n",
              "1    Male  5236.146154   5529.540616\n",
              "2  Female  4503.787500   4829.645161"
            ],
            "text/html": [
              "\n",
              "  <div id=\"df-54a96512-83ad-4d29-9a80-0810cf61c68d\" class=\"colab-df-container\">\n",
              "    <div>\n",
              "<style scoped>\n",
              "    .dataframe tbody tr th:only-of-type {\n",
              "        vertical-align: middle;\n",
              "    }\n",
              "\n",
              "    .dataframe tbody tr th {\n",
              "        vertical-align: top;\n",
              "    }\n",
              "\n",
              "    .dataframe thead th {\n",
              "        text-align: right;\n",
              "    }\n",
              "</style>\n",
              "<table border=\"1\" class=\"dataframe\">\n",
              "  <thead>\n",
              "    <tr style=\"text-align: right;\">\n",
              "      <th></th>\n",
              "      <th>Gender</th>\n",
              "      <th>No</th>\n",
              "      <th>Yes</th>\n",
              "    </tr>\n",
              "  </thead>\n",
              "  <tbody>\n",
              "    <tr>\n",
              "      <th>0</th>\n",
              "      <td>None</td>\n",
              "      <td>5896.666667</td>\n",
              "      <td>11664.600000</td>\n",
              "    </tr>\n",
              "    <tr>\n",
              "      <th>1</th>\n",
              "      <td>Male</td>\n",
              "      <td>5236.146154</td>\n",
              "      <td>5529.540616</td>\n",
              "    </tr>\n",
              "    <tr>\n",
              "      <th>2</th>\n",
              "      <td>Female</td>\n",
              "      <td>4503.787500</td>\n",
              "      <td>4829.645161</td>\n",
              "    </tr>\n",
              "  </tbody>\n",
              "</table>\n",
              "</div>\n",
              "    <div class=\"colab-df-buttons\">\n",
              "\n",
              "  <div class=\"colab-df-container\">\n",
              "    <button class=\"colab-df-convert\" onclick=\"convertToInteractive('df-54a96512-83ad-4d29-9a80-0810cf61c68d')\"\n",
              "            title=\"Convert this dataframe to an interactive table.\"\n",
              "            style=\"display:none;\">\n",
              "\n",
              "  <svg xmlns=\"http://www.w3.org/2000/svg\" height=\"24px\" viewBox=\"0 -960 960 960\">\n",
              "    <path d=\"M120-120v-720h720v720H120Zm60-500h600v-160H180v160Zm220 220h160v-160H400v160Zm0 220h160v-160H400v160ZM180-400h160v-160H180v160Zm440 0h160v-160H620v160ZM180-180h160v-160H180v160Zm440 0h160v-160H620v160Z\"/>\n",
              "  </svg>\n",
              "    </button>\n",
              "\n",
              "  <style>\n",
              "    .colab-df-container {\n",
              "      display:flex;\n",
              "      gap: 12px;\n",
              "    }\n",
              "\n",
              "    .colab-df-convert {\n",
              "      background-color: #E8F0FE;\n",
              "      border: none;\n",
              "      border-radius: 50%;\n",
              "      cursor: pointer;\n",
              "      display: none;\n",
              "      fill: #1967D2;\n",
              "      height: 32px;\n",
              "      padding: 0 0 0 0;\n",
              "      width: 32px;\n",
              "    }\n",
              "\n",
              "    .colab-df-convert:hover {\n",
              "      background-color: #E2EBFA;\n",
              "      box-shadow: 0px 1px 2px rgba(60, 64, 67, 0.3), 0px 1px 3px 1px rgba(60, 64, 67, 0.15);\n",
              "      fill: #174EA6;\n",
              "    }\n",
              "\n",
              "    .colab-df-buttons div {\n",
              "      margin-bottom: 4px;\n",
              "    }\n",
              "\n",
              "    [theme=dark] .colab-df-convert {\n",
              "      background-color: #3B4455;\n",
              "      fill: #D2E3FC;\n",
              "    }\n",
              "\n",
              "    [theme=dark] .colab-df-convert:hover {\n",
              "      background-color: #434B5C;\n",
              "      box-shadow: 0px 1px 3px 1px rgba(0, 0, 0, 0.15);\n",
              "      filter: drop-shadow(0px 1px 2px rgba(0, 0, 0, 0.3));\n",
              "      fill: #FFFFFF;\n",
              "    }\n",
              "  </style>\n",
              "\n",
              "    <script>\n",
              "      const buttonEl =\n",
              "        document.querySelector('#df-54a96512-83ad-4d29-9a80-0810cf61c68d button.colab-df-convert');\n",
              "      buttonEl.style.display =\n",
              "        google.colab.kernel.accessAllowed ? 'block' : 'none';\n",
              "\n",
              "      async function convertToInteractive(key) {\n",
              "        const element = document.querySelector('#df-54a96512-83ad-4d29-9a80-0810cf61c68d');\n",
              "        const dataTable =\n",
              "          await google.colab.kernel.invokeFunction('convertToInteractive',\n",
              "                                                    [key], {});\n",
              "        if (!dataTable) return;\n",
              "\n",
              "        const docLinkHtml = 'Like what you see? Visit the ' +\n",
              "          '<a target=\"_blank\" href=https://colab.research.google.com/notebooks/data_table.ipynb>data table notebook</a>'\n",
              "          + ' to learn more about interactive tables.';\n",
              "        element.innerHTML = '';\n",
              "        dataTable['output_type'] = 'display_data';\n",
              "        await google.colab.output.renderOutput(dataTable, element);\n",
              "        const docLink = document.createElement('div');\n",
              "        docLink.innerHTML = docLinkHtml;\n",
              "        element.appendChild(docLink);\n",
              "      }\n",
              "    </script>\n",
              "  </div>\n",
              "\n",
              "\n",
              "<div id=\"df-e9793fc0-c22a-4881-a8e1-71e17d7abc2f\">\n",
              "  <button class=\"colab-df-quickchart\" onclick=\"quickchart('df-e9793fc0-c22a-4881-a8e1-71e17d7abc2f')\"\n",
              "            title=\"Suggest charts\"\n",
              "            style=\"display:none;\">\n",
              "\n",
              "<svg xmlns=\"http://www.w3.org/2000/svg\" height=\"24px\"viewBox=\"0 0 24 24\"\n",
              "     width=\"24px\">\n",
              "    <g>\n",
              "        <path d=\"M19 3H5c-1.1 0-2 .9-2 2v14c0 1.1.9 2 2 2h14c1.1 0 2-.9 2-2V5c0-1.1-.9-2-2-2zM9 17H7v-7h2v7zm4 0h-2V7h2v10zm4 0h-2v-4h2v4z\"/>\n",
              "    </g>\n",
              "</svg>\n",
              "  </button>\n",
              "\n",
              "<style>\n",
              "  .colab-df-quickchart {\n",
              "      --bg-color: #E8F0FE;\n",
              "      --fill-color: #1967D2;\n",
              "      --hover-bg-color: #E2EBFA;\n",
              "      --hover-fill-color: #174EA6;\n",
              "      --disabled-fill-color: #AAA;\n",
              "      --disabled-bg-color: #DDD;\n",
              "  }\n",
              "\n",
              "  [theme=dark] .colab-df-quickchart {\n",
              "      --bg-color: #3B4455;\n",
              "      --fill-color: #D2E3FC;\n",
              "      --hover-bg-color: #434B5C;\n",
              "      --hover-fill-color: #FFFFFF;\n",
              "      --disabled-bg-color: #3B4455;\n",
              "      --disabled-fill-color: #666;\n",
              "  }\n",
              "\n",
              "  .colab-df-quickchart {\n",
              "    background-color: var(--bg-color);\n",
              "    border: none;\n",
              "    border-radius: 50%;\n",
              "    cursor: pointer;\n",
              "    display: none;\n",
              "    fill: var(--fill-color);\n",
              "    height: 32px;\n",
              "    padding: 0;\n",
              "    width: 32px;\n",
              "  }\n",
              "\n",
              "  .colab-df-quickchart:hover {\n",
              "    background-color: var(--hover-bg-color);\n",
              "    box-shadow: 0 1px 2px rgba(60, 64, 67, 0.3), 0 1px 3px 1px rgba(60, 64, 67, 0.15);\n",
              "    fill: var(--button-hover-fill-color);\n",
              "  }\n",
              "\n",
              "  .colab-df-quickchart-complete:disabled,\n",
              "  .colab-df-quickchart-complete:disabled:hover {\n",
              "    background-color: var(--disabled-bg-color);\n",
              "    fill: var(--disabled-fill-color);\n",
              "    box-shadow: none;\n",
              "  }\n",
              "\n",
              "  .colab-df-spinner {\n",
              "    border: 2px solid var(--fill-color);\n",
              "    border-color: transparent;\n",
              "    border-bottom-color: var(--fill-color);\n",
              "    animation:\n",
              "      spin 1s steps(1) infinite;\n",
              "  }\n",
              "\n",
              "  @keyframes spin {\n",
              "    0% {\n",
              "      border-color: transparent;\n",
              "      border-bottom-color: var(--fill-color);\n",
              "      border-left-color: var(--fill-color);\n",
              "    }\n",
              "    20% {\n",
              "      border-color: transparent;\n",
              "      border-left-color: var(--fill-color);\n",
              "      border-top-color: var(--fill-color);\n",
              "    }\n",
              "    30% {\n",
              "      border-color: transparent;\n",
              "      border-left-color: var(--fill-color);\n",
              "      border-top-color: var(--fill-color);\n",
              "      border-right-color: var(--fill-color);\n",
              "    }\n",
              "    40% {\n",
              "      border-color: transparent;\n",
              "      border-right-color: var(--fill-color);\n",
              "      border-top-color: var(--fill-color);\n",
              "    }\n",
              "    60% {\n",
              "      border-color: transparent;\n",
              "      border-right-color: var(--fill-color);\n",
              "    }\n",
              "    80% {\n",
              "      border-color: transparent;\n",
              "      border-right-color: var(--fill-color);\n",
              "      border-bottom-color: var(--fill-color);\n",
              "    }\n",
              "    90% {\n",
              "      border-color: transparent;\n",
              "      border-bottom-color: var(--fill-color);\n",
              "    }\n",
              "  }\n",
              "</style>\n",
              "\n",
              "  <script>\n",
              "    async function quickchart(key) {\n",
              "      const quickchartButtonEl =\n",
              "        document.querySelector('#' + key + ' button');\n",
              "      quickchartButtonEl.disabled = true;  // To prevent multiple clicks.\n",
              "      quickchartButtonEl.classList.add('colab-df-spinner');\n",
              "      try {\n",
              "        const charts = await google.colab.kernel.invokeFunction(\n",
              "            'suggestCharts', [key], {});\n",
              "      } catch (error) {\n",
              "        console.error('Error during call to suggestCharts:', error);\n",
              "      }\n",
              "      quickchartButtonEl.classList.remove('colab-df-spinner');\n",
              "      quickchartButtonEl.classList.add('colab-df-quickchart-complete');\n",
              "    }\n",
              "    (() => {\n",
              "      let quickchartButtonEl =\n",
              "        document.querySelector('#df-e9793fc0-c22a-4881-a8e1-71e17d7abc2f button');\n",
              "      quickchartButtonEl.style.display =\n",
              "        google.colab.kernel.accessAllowed ? 'block' : 'none';\n",
              "    })();\n",
              "  </script>\n",
              "</div>\n",
              "    </div>\n",
              "  </div>\n"
            ]
          },
          "metadata": {},
          "execution_count": 19
        }
      ]
    }
  ]
}
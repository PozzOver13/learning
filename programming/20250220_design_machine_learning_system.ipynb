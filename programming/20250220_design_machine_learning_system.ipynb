{
  "nbformat": 4,
  "nbformat_minor": 0,
  "metadata": {
    "colab": {
      "provenance": [],
      "authorship_tag": "ABX9TyNzAARa9RuoqcZagJoi0vH8",
      "include_colab_link": true
    },
    "kernelspec": {
      "name": "python3",
      "display_name": "Python 3"
    },
    "language_info": {
      "name": "python"
    }
  },
  "cells": [
    {
      "cell_type": "markdown",
      "metadata": {
        "id": "view-in-github",
        "colab_type": "text"
      },
      "source": [
        "<a href=\"https://colab.research.google.com/github/PozzOver13/learning/blob/main/programming/20250220_design_machine_learning_system.ipynb\" target=\"_parent\"><img src=\"https://colab.research.google.com/assets/colab-badge.svg\" alt=\"Open In Colab\"/></a>"
      ]
    },
    {
      "cell_type": "markdown",
      "source": [
        "# Design Machine Learning Systems by Chip Huyen\n",
        "\n",
        "Chip Huyen è una **scrittrice e computer scientist specializzata in machine learning e MLOps**. Ha lavorato presso NVIDIA e Snorkel AI e ha co-fondato Claypot AI, una startup focalizzata sull’implementazione di modelli di machine learning in tempo reale.\n",
        "\n",
        "È anche **autrice di \"Designing Machine Learning Systems\"**, un libro molto apprezzato che tratta le migliori pratiche per costruire sistemi di ML scalabili e robusti. Inoltre, ha **insegnato alla Stanford University** un corso su MLOps e sistemi di ML.\n",
        "\n",
        "Chip Huyen è nota per i suoi post e articoli su blog e social, dove condivide riflessioni su AI, MLOps e ingegneria del software applicata al machine learning."
      ],
      "metadata": {
        "id": "F8iyi8Egh6eP"
      }
    },
    {
      "cell_type": "markdown",
      "source": [
        "## 1. Overview of Machine Learning Systems\n"
      ],
      "metadata": {
        "id": "LL7uX1Cb0qhe"
      }
    },
    {
      "cell_type": "markdown",
      "source": [
        "## 2. Introduction to Machine Learning Systems Design\n",
        "## 3. Data Engineering Fundamentals\n",
        "## 4. Training Data\n",
        "## 5. Feature Engineering\n",
        "## 6. Model Development and Offline Evaluation\n",
        "## 7. Model Deployment and Prediction Service\n",
        "## 8. Data Distribution Shifts and Monitoring\n",
        "## 9. Continual Learning and Test in Production\n",
        "## 10. Infrastructure and Tooling for MLOps\n",
        "## 11. The Human Side of Machine Learning"
      ],
      "metadata": {
        "id": "AiunTjJe0xb4"
      }
    },
    {
      "cell_type": "code",
      "execution_count": null,
      "metadata": {
        "id": "80Ws-vIohu29"
      },
      "outputs": [],
      "source": []
    }
  ]
}
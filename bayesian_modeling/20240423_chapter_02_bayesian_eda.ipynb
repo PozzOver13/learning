{
 "cells": [
  {
   "cell_type": "markdown",
   "source": [
    "# Exploratory Data Analysis\n",
    "\n",
    "In a real life setting, Bayesian inference and exploratory analysis of Bayesian models  get tangled into an iterative workflow, that includes silly coding mistakes, computational  problems, doubts about the adequacy of models, doubts about our current understanding  of the data, nonlinear model building, model checking, etc. Trying to emulate this intricate  workflow in a book is challenging.\n",
    "\n",
    "By sampling  from the prior predictive distribution, the computer does the work of translating choices we  made in the parameter space into the observed data space. Using these samples to evaluate  priors is known as prior predictive checks. \n",
    "\n",
    "Other example: https://www.pymc.io/projects/examples/en/latest/case_studies/putting_workflow.html"
   ],
   "metadata": {
    "collapsed": false
   },
   "id": "bdf93f28e2853297"
  },
  {
   "cell_type": "code",
   "execution_count": null,
   "outputs": [],
   "source": [],
   "metadata": {
    "collapsed": false
   },
   "id": "13b0da721c7629bf"
  }
 ],
 "metadata": {
  "kernelspec": {
   "display_name": "Python 3",
   "language": "python",
   "name": "python3"
  },
  "language_info": {
   "codemirror_mode": {
    "name": "ipython",
    "version": 2
   },
   "file_extension": ".py",
   "mimetype": "text/x-python",
   "name": "python",
   "nbconvert_exporter": "python",
   "pygments_lexer": "ipython2",
   "version": "2.7.6"
  }
 },
 "nbformat": 4,
 "nbformat_minor": 5
}

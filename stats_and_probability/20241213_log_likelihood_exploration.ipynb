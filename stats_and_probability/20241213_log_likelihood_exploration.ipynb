{
 "cells": [
  {
   "cell_type": "markdown",
   "source": [
    "# Log Likelihood\n",
    "\n",
    "The log likelihood is a measure of how well a model explains the data. It is used in maximum likelihood estimation to estimate the parameters of a model. The log likelihood is the logarithm of the likelihood function. The likelihood function is the probability of the data given the model parameters. The log likelihood is used because it is easier to work with than the likelihood function. The log likelihood is used in many statistical models, including linear regression, logistic regression, and survival analysis.\n",
    "\n",
    "https://it.wikipedia.org/wiki/Funzione_di_verosimiglianza\n",
    "https://youtu.be/XepXtl9YKwc?si=grjQYZ8ka5NsAGfC\n",
    "https://youtu.be/BfKanl1aSG0?si=wsKKikNgM_oPDxWa"
   ],
   "metadata": {
    "collapsed": false
   },
   "id": "96b2233a8517a8d5"
  },
  {
   "cell_type": "code",
   "execution_count": 1,
   "outputs": [],
   "source": [
    "import numpy as np\n",
    "import matplotlib.pyplot as plt\n",
    "\n",
    "from scipy.optimize import minimize"
   ],
   "metadata": {
    "collapsed": false,
    "ExecuteTime": {
     "end_time": "2024-12-13T09:34:12.051159900Z",
     "start_time": "2024-12-13T09:34:09.735406700Z"
    }
   },
   "id": "975bc34b0fb9017"
  },
  {
   "cell_type": "code",
   "execution_count": 2,
   "outputs": [],
   "source": [
    "# Generazione di dati di esempio\n",
    "np.random.seed(42)\n",
    "n = 100\n",
    "X = np.random.rand(n, 1)  # Variabile indipendente\n",
    "X = np.c_[np.ones_like(X), X]  # Aggiunta del termine di bias (intercetta)\n",
    "true_beta = np.array([2, 3])  # Coefficienti reali\n",
    "y = X @ true_beta + np.random.normal(0, 1, size=n)  # Variabile dipendente con rumore"
   ],
   "metadata": {
    "collapsed": false,
    "ExecuteTime": {
     "end_time": "2024-12-13T09:34:12.066242Z",
     "start_time": "2024-12-13T09:34:12.051159900Z"
    }
   },
   "id": "37f687f95780572c"
  },
  {
   "cell_type": "code",
   "execution_count": 3,
   "outputs": [],
   "source": [
    "# Definizione della log-likelihood\n",
    "# La log-likelihood di una distribuzione normale è proporzionale a:\n",
    "# L(beta, sigma^2) = -n/2 log(2*pi) - n/2 log(sigma^2) - 1/(2*sigma^2) * RSS\n",
    "# Dove RSS = somma dei residui al quadrato\n",
    "\n",
    "def log_likelihood(params):\n",
    "    beta = params[:-1]  # Coefficienti della regressione\n",
    "    sigma = params[-1]  # Deviazione standard degli errori\n",
    "    \n",
    "    if sigma <= 0:\n",
    "        return np.inf  # Per evitare valori di sigma non validi\n",
    "\n",
    "    residuals = y - X @ beta\n",
    "    rss = np.sum(residuals ** 2)\n",
    "    ll = -n / 2 * np.log(2 * np.pi) - n / 2 * np.log(sigma ** 2) - rss / (2 * sigma ** 2)\n",
    "    return -ll  # Negativo perché minimizziamo"
   ],
   "metadata": {
    "collapsed": false,
    "ExecuteTime": {
     "end_time": "2024-12-13T09:34:12.098032300Z",
     "start_time": "2024-12-13T09:34:12.082662Z"
    }
   },
   "id": "7572d2992bb1f9f7"
  },
  {
   "cell_type": "code",
   "execution_count": 4,
   "outputs": [],
   "source": [
    "# Inizializzazione dei parametri\n",
    "initial_params = np.append(np.zeros(X.shape[1]), 1)  # Coefficienti iniziali e sigma"
   ],
   "metadata": {
    "collapsed": false,
    "ExecuteTime": {
     "end_time": "2024-12-13T09:34:12.098032300Z",
     "start_time": "2024-12-13T09:34:12.082662Z"
    }
   },
   "id": "8143e948cc4e7c36"
  },
  {
   "cell_type": "code",
   "execution_count": 5,
   "outputs": [],
   "source": [
    "# Ottimizzazione della log-likelihood\n",
    "result = minimize(log_likelihood, initial_params, method='L-BFGS-B', bounds=[(None, None)] * X.shape[1] + [(1e-5, None)])"
   ],
   "metadata": {
    "collapsed": false,
    "ExecuteTime": {
     "end_time": "2024-12-13T09:34:12.160502Z",
     "start_time": "2024-12-13T09:34:12.109856400Z"
    }
   },
   "id": "89b57e5bf0c2c8c8"
  },
  {
   "cell_type": "code",
   "execution_count": 6,
   "outputs": [
    {
     "name": "stdout",
     "output_type": "stream",
     "text": [
      "Coefficienti stimati (beta): [2.21509437 2.54023294]\n",
      "Deviazione standard stimata (sigma): 0.8981008978144275\n",
      "Log-likelihood massima: -131.1465266264861\n"
     ]
    }
   ],
   "source": [
    "# Risultati\n",
    "optimized_params = result.x\n",
    "beta_hat = optimized_params[:-1]\n",
    "sigma_hat = optimized_params[-1]\n",
    "\n",
    "print(\"Coefficienti stimati (beta):\", beta_hat)\n",
    "print(\"Deviazione standard stimata (sigma):\", sigma_hat)\n",
    "print(\"Log-likelihood massima:\", -result.fun)"
   ],
   "metadata": {
    "collapsed": false,
    "ExecuteTime": {
     "end_time": "2024-12-13T09:34:12.160502Z",
     "start_time": "2024-12-13T09:34:12.144465100Z"
    }
   },
   "id": "3d7a6482a730f4d6"
  },
  {
   "cell_type": "code",
   "execution_count": 7,
   "outputs": [
    {
     "data": {
      "text/plain": "<Figure size 640x480 with 1 Axes>",
      "image/png": "[encoded data removed]"
     },
     "metadata": {},
     "output_type": "display_data"
    }
   ],
   "source": [
    "plt.scatter(X[:, 1], y)\n",
    "plt.show()"
   ],
   "metadata": {
    "collapsed": false,
    "ExecuteTime": {
     "end_time": "2024-12-13T09:34:12.427881Z",
     "start_time": "2024-12-13T09:34:12.160502Z"
    }
   },
   "id": "c05b8dc4c9141d8d"
  }
 ],
 "metadata": {
  "kernelspec": {
   "display_name": "Python 3",
   "language": "python",
   "name": "python3"
  },
  "language_info": {
   "codemirror_mode": {
    "name": "ipython",
    "version": 2
   },
   "file_extension": ".py",
   "mimetype": "text/x-python",
   "name": "python",
   "nbconvert_exporter": "python",
   "pygments_lexer": "ipython2",
   "version": "2.7.6"
  }
 },
 "nbformat": 4,
 "nbformat_minor": 5
}

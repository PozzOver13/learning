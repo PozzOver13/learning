{
  "nbformat": 4,
  "nbformat_minor": 0,
  "metadata": {
    "colab": {
      "provenance": [],
      "toc_visible": true,
      "collapsed_sections": [
        "pNm2CD0FU4-q"
      ],
      "authorship_tag": "ABX9TyMMKGOtUPA97AJz68Q83Gpx",
      "include_colab_link": true
    },
    "kernelspec": {
      "name": "python3",
      "display_name": "Python 3"
    },
    "language_info": {
      "name": "python"
    }
  },
  "cells": [
    {
      "cell_type": "markdown",
      "metadata": {
        "id": "view-in-github",
        "colab_type": "text"
      },
      "source": [
        "<a href=\"https://colab.research.google.com/github/PozzOver13/learning/blob/main/polars/20231110_tutorial_polars.ipynb\" target=\"_parent\"><img src=\"https://colab.research.google.com/assets/colab-badge.svg\" alt=\"Open In Colab\"/></a>"
      ]
    },
    {
      "cell_type": "markdown",
      "source": [
        "# Polars Tutorial 🐻\n",
        "\n",
        "\n"
      ],
      "metadata": {
        "id": "dAvk6fbFDsxQ"
      }
    },
    {
      "cell_type": "markdown",
      "source": [
        "# References\n",
        "https://realpython.com/polars-python/  \n",
        "https://www.pola.rs/  \n",
        "https://pola-rs.github.io/polars/user-guide/  \n",
        "https://www.kaggle.com/code/skalskip/pandas-vs-polars-eda  \n",
        "https://wesmckinney.com/blog/apache-arrow-pandas-internals/  \n",
        "https://www.youtube.com/watch?v=LGAHTp4DYZY  \n",
        "https://www.youtube.com/watch?v=CtkMzCIXOWk  Thomas Bierhance: Polars - make the switch to lightning-fast dataframes 🟢\n"
      ],
      "metadata": {
        "id": "umGfIiRV_bAy"
      }
    },
    {
      "cell_type": "markdown",
      "source": [
        "# Introduction"
      ],
      "metadata": {
        "id": "WejA_j0gMf87"
      }
    },
    {
      "cell_type": "markdown",
      "source": [
        "## What is Polars?\n",
        "\n",
        "Polars is a fast and efficient DataFrame library for the Python programming language. It is designed to provide high-performance data manipulation and analysis capabilities similar to those offered by popular libraries like Pandas, but with a focus on speed and parallel processing.\n",
        "\n",
        "Key features of Polars include:\n",
        "1. **Performance**: Polars is built with performance in mind and is optimized for speed. It aims to provide faster data processing compared to Pandas, especially for large datasets.\n",
        "1. **Lazy Evaluation**: Polars uses lazy evaluation, which means that operations are not immediately executed. Instead, they are recorded as a query plan, allowing for optimization and efficient execution of operations.\n",
        "1. **Parallel Processing**: Polars is designed to take advantage of parallel processing and multicore systems, which can significantly speed up data manipulation tasks.\n",
        "1. **Memory Efficiency**: Polars is optimized for memory efficiency, allowing users to work with large datasets without running into memory constraints.\n",
        "1. **Expressive API**: Polars provides a concise and expressive API for working with data, making it easy to perform common data manipulation tasks.\n",
        "1. **Integration with Arrow**: Polars leverages the Apache Arrow project for efficient in-memory columnar data representation, enabling seamless interoperability with other systems and libraries that support Arrow."
      ],
      "metadata": {
        "id": "rS_CfGlK_bF6"
      }
    },
    {
      "cell_type": "markdown",
      "source": [
        "## What is Rust?\n",
        "\n",
        "Rust is a programming language that is focused on providing performance, reliability, and safety. It was designed by Mozilla and first announced in 2010. Rust is often praised for its memory safety guarantees, zero-cost abstractions, and strong type system. It is intended for systems-level programming where low-level control over system resources and high performance are crucial.\n",
        "\n",
        "Key features of Rust include:\n",
        "\n",
        "1. **Memory Safety:** Rust uses a system of ownership, borrowing, and lifetimes to enforce memory safety without the need for a garbage collector. This helps prevent common programming errors like null pointer dereferencing and data races.\n",
        "2. **Concurrency without Data Races:** Rust has a concurrency model that allows for safe and concurrent programming by avoiding data races. The ownership system helps prevent multiple threads from accessing the same data simultaneously, reducing the likelihood of bugs related to parallelism.\n",
        "3. **Zero-Cost Abstractions:** Rust provides high-level abstractions without sacrificing performance. The language aims to eliminate the trade-off between high-level programming constructs and low-level control over system resources.\n",
        "4. **Cargo Build System:** Rust comes with a build tool called Cargo, which makes it easy to manage dependencies, build projects, and run tests. Cargo simplifies the process of creating, building, and distributing Rust projects.\n",
        "5. **Pattern Matching:** Rust includes a powerful pattern matching system that makes it expressive and allows for concise and readable code.\n",
        "6. **C and C++ Interoperability:** Rust can be integrated with existing C and C++ codebases, allowing for gradual adoption or collaboration with projects written in these languages.\n",
        "7. **Community and Ecosystem:** Rust has a growing and active community, and it is supported by a rich ecosystem of libraries and tools. The community values documentation, and Rust projects often come with well-documented code.\n",
        "\n",
        "Rust has gained popularity for its focus on safety and performance, making it suitable for a wide range of applications, including system-level programming, embedded systems, and performance-critical applications. It is often used in projects where both low-level control and modern language features are important."
      ],
      "metadata": {
        "id": "Hfx0xDwV_Qat"
      }
    },
    {
      "cell_type": "markdown",
      "source": [
        "## Why it is worth to know it?\n",
        "\n",
        "**Philosophy**  \n",
        "The goal of Polars is to provide a lightning fast DataFrame library that:\n",
        "\n",
        "\n",
        "\n",
        "1.   Utilizes all available cores on your machine.\n",
        "1.   Optimizes queries to reduce unneeded work/memory allocations.\n",
        "1.   Handles datasets much larger than your available RAM.\n",
        "1.   Has an API that is consistent and predictable.\n",
        "1. Has a strict schema (data-types should be known before running the query).\n",
        "1. Polars is written in Rust which gives it C/C++ performance and allows it to fully control performance critical parts in a query engine.\n",
        "\n",
        "As such Polars goes to great lengths to:\n",
        "\n",
        "1. Reduce redundant copies.\n",
        "1. Traverse memory cache efficiently.\n",
        "1. Minimize contention in parallelism.\n",
        "1. Process data in chunks.\n",
        "1. Reuse memory allocations.\n",
        "\n",
        "**7 verbs get most jobs done (who's thinking to Dplyr?)**\n",
        "\n",
        "\n",
        "```python\n",
        "# select / slice columns\n",
        "select\n",
        "# create / transform / assign columns\n",
        "with_columns\n",
        "# filter / slice / query rows\n",
        "filter\n",
        "# join / merge another dataframe\n",
        "join\n",
        "# group dataframe rows\n",
        "groupby\n",
        "# aggregate groups\n",
        "agg\n",
        "# sort dataframe\n",
        "sort\n",
        "```\n"
      ],
      "metadata": {
        "id": "wwv8nQq4-v2v"
      }
    },
    {
      "cell_type": "markdown",
      "source": [
        "## Pandas Alternatives?\n",
        "\n",
        "1. **Pandas:**\n",
        "   - **Overview:** Pandas is one of the most widely used data manipulation libraries in Python. It provides high-performance, easy-to-use data structures such as DataFrames for data analysis and manipulation.\n",
        "   - **Strengths:** Great for exploratory data analysis, cleaning, and transformation. It has a large and active community.\n",
        "   - **Considerations:** While Pandas is powerful, it might struggle with very large datasets due to its in-memory nature.\n",
        "\n",
        "2. **Apache Arrow:**\n",
        "   - **Overview:** Apache Arrow is a cross-language development platform for in-memory data that specifies a standardized language-independent columnar memory format for flat and hierarchical data.\n",
        "   - **Strengths:** Efficient in-memory representation, supports multiple languages, and facilitates high-speed data interchange.\n",
        "   - **Considerations:** While Arrow is crucial for interoperability, it doesn't provide the full range of data manipulation operations found in libraries like Pandas.\n",
        "\n",
        "3. **Dask:**\n",
        "   - **Overview:** Dask is a parallel computing library that integrates with existing Python libraries like NumPy, Pandas, and Scikit-Learn to enable parallel processing for larger-than-memory computations.\n",
        "   - **Strengths:** Scales from a laptop to a cluster, enabling parallel and distributed computing. It's particularly useful for handling larger-than-memory datasets.\n",
        "   - **Considerations:** Dask integrates with Pandas, but it doesn't replace Pandas; it extends its capabilities to larger datasets.\n",
        "\n",
        "Other alternatives you might want to explore include:\n",
        "\n",
        "4. **Vaex:**\n",
        "   - **Overview:** Vaex is a Python library for lazy, out-of-core DataFrames. It aims to provide a Pandas-like API but with the ability to work with datasets larger than memory.\n",
        "   - **Strengths:** Designed for handling larger-than-memory datasets, lazy evaluation for efficiency, and fast performance.\n",
        "\n",
        "5. **Modin:**\n",
        "   - **Overview:** Modin is a library that seeks to accelerate Pandas workflows by providing parallel and distributed computing capabilities.\n",
        "   - **Strengths:** It allows you to scale your Pandas workflows using Dask or Ray, providing increased performance for some operations.\n"
      ],
      "metadata": {
        "id": "yWVLqqToF5vd"
      }
    },
    {
      "cell_type": "markdown",
      "source": [
        "## Vectorized and Columnar processing\n",
        "\n",
        "**Vectorization** refers to the practice of applying operations to entire arrays (vectors) of data at once, rather than performing operations element-wise. In a vectorized approach, operations are executed in parallel on entire columns or arrays, which can significantly improve computational efficiency. This is in contrast to traditional scalar processing, where operations are applied element by element.\n",
        "\n",
        "In the context of data manipulation libraries:\n",
        "\n",
        "- **Pandas (Row-Based Processing):** Pandas traditionally operates row-wise. Many Pandas operations involve iterating over rows of a DataFrame, which can be less efficient for certain types of computations, especially on large datasets. This is because iterating over rows doesn't take full advantage of modern CPU architectures optimized for vectorized operations. [⚠️ NEED VERIFICATION ⚠️]\n",
        "\n",
        "- **Polars (Columnar Processing):** Polars, on the other hand, adopts a columnar processing approach. It organizes data internally in a columnar format, meaning that each column is stored separately in memory. This allows operations to be applied to entire columns at once, taking advantage of vectorized processing and providing better performance, especially for tasks like filtering, aggregating, and transforming data.\n",
        "\n",
        "**Columnar Processing** involves storing and processing data by column rather than by row. Each column is stored as a contiguous block in memory, which can improve cache locality and reduce the amount of data that needs to be loaded into memory for a particular operation.\n",
        "\n",
        "In a columnar storage format:\n",
        "\n",
        "- **Pandas (Row-Based Storage):** Pandas typically stores data in a row-wise format, where each row is stored as a contiguous block. While this format is intuitive for many users, it may not be as cache-friendly or efficient for certain types of operations compared to columnar storage.\n",
        "\n",
        "- **Polars (Columnar Storage):** Polars, being designed for columnar processing, stores data in a column-wise format. This can lead to more efficient memory access patterns, especially when performing operations that involve entire columns, as only the relevant columns need to be loaded into memory.\n",
        "\n",
        "**Key Differences**:\n",
        "\n",
        "1. **Memory Access Patterns:** Columnar processing is often more efficient for certain types of operations because it minimizes the amount of data that needs to be loaded into memory for a given computation.\n",
        "\n",
        "2. **Parallelism:** Columnar processing facilitates better parallelism, as operations can be performed independently on each column, taking advantage of vectorized instructions in modern CPUs.\n",
        "\n",
        "3. **Performance on Large Datasets:** Columnar processing can offer better performance for certain operations, especially on large datasets, due to improved cache efficiency and parallelism.\n",
        "\n"
      ],
      "metadata": {
        "id": "PaBCWOdRNtbr"
      }
    },
    {
      "cell_type": "markdown",
      "source": [
        "## Use Case Ideas\n",
        "1. Provare a sostituire una parte di Financial Forecast con le espressioni di Polar"
      ],
      "metadata": {
        "id": "ZmuD5yJfQo9z"
      }
    },
    {
      "cell_type": "markdown",
      "source": [
        "# Pandas🐼 vs Polars🐻"
      ],
      "metadata": {
        "id": "LwGIluCAAK_S"
      }
    },
    {
      "cell_type": "code",
      "execution_count": 1,
      "metadata": {
        "colab": {
          "base_uri": "https://localhost:8080/"
        },
        "id": "TXxGP-MbDiUR",
        "outputId": "1764ba77-d261-40f2-b860-7aaeae33cb9e"
      },
      "outputs": [
        {
          "output_type": "stream",
          "name": "stdout",
          "text": [
            "Python 3.10.12\n"
          ]
        }
      ],
      "source": [
        "!python --version"
      ]
    },
    {
      "cell_type": "code",
      "source": [
        "!pip install polars==0.19"
      ],
      "metadata": {
        "id": "U2vCjx8lwRGZ"
      },
      "execution_count": null,
      "outputs": []
    },
    {
      "cell_type": "markdown",
      "source": [
        "## Importing libraries"
      ],
      "metadata": {
        "id": "FfyzoAQ3AOdb"
      }
    },
    {
      "cell_type": "code",
      "source": [
        "import pandas as pd\n",
        "import polars as pl\n",
        "import numpy as np\n",
        "\n",
        "import polars.selectors as cs\n",
        "\n",
        "# Mount your Google Drive\n",
        "from google.colab import drive\n",
        "drive.mount('/content/drive')"
      ],
      "metadata": {
        "id": "aK5xNQ1KEOVW",
        "colab": {
          "base_uri": "https://localhost:8080/"
        },
        "outputId": "2e20f2d3-a36f-4235-9153-d6244ebbe399"
      },
      "execution_count": 2,
      "outputs": [
        {
          "output_type": "stream",
          "name": "stdout",
          "text": [
            "Mounted at /content/drive\n"
          ]
        }
      ]
    },
    {
      "cell_type": "code",
      "source": [
        "TRAIN_CSV_PATH = \"/content/drive/MyDrive/Personale/Dataset/finance_loan_approval/train.csv\"\n",
        "TEST_CSV_PATH = \"/content/drive/MyDrive/Personale/Dataset/finance_loan_approval/test.csv\""
      ],
      "metadata": {
        "id": "-k-6J6Y9AbID"
      },
      "execution_count": 3,
      "outputs": []
    },
    {
      "cell_type": "markdown",
      "source": [
        "## Reading Files\n",
        "\n",
        "https://pola-rs.github.io/polars/user-guide/basics/reading-writing/"
      ],
      "metadata": {
        "id": "_RFuSu9B_ffq"
      }
    },
    {
      "cell_type": "code",
      "source": [
        "# Read the CSV file into a pandas DataFrame\n",
        "train_pd = pd.read_csv(TRAIN_CSV_PATH)\n",
        "train_pl = pl.read_csv(TRAIN_CSV_PATH, infer_schema_length=10000) # without infer_schema_length generates an error interpreting a column as i64 instead of float"
      ],
      "metadata": {
        "id": "2EYBKEkRAwaA"
      },
      "execution_count": 38,
      "outputs": []
    },
    {
      "cell_type": "markdown",
      "source": [
        "## Types & Memory Usage\n",
        "\n",
        "Polars is entirely based on Arrow data types and backed by Arrow memory arrays. This makes data processing cache-efficient and well-supported for Inter Process Communication. Most data types follow the exact implementation from Arrow, with the exception of Utf8 (this is actually LargeUtf8), Categorical, and Object (support is limited).  \n",
        "https://pola-rs.github.io/polars/user-guide/concepts/data-types/  \n",
        "\n",
        "https://pola-rs.github.io/polars/user-guide/concepts/data-structures/"
      ],
      "metadata": {
        "id": "rstbM8JPSVW4"
      }
    },
    {
      "cell_type": "markdown",
      "source": [
        "### is there an equivalent of pandas \"memory_usage\" method  in polars?"
      ],
      "metadata": {
        "id": "pNm2CD0FU4-q"
      }
    },
    {
      "cell_type": "markdown",
      "source": [
        "As of my last knowledge update in January 2022, Polars does not have an exact equivalent method to Pandas' `memory_usage` for directly calculating the memory usage of a DataFrame. However, you can achieve similar results by using other approaches.\n",
        "\n",
        "In Pandas, the `memory_usage` method provides information about the memory usage of each column in a DataFrame. Polars, being designed for efficient memory usage, may not expose a direct method for this purpose. However, you can estimate memory usage in Polars using alternative methods:\n",
        "\n",
        "1. **Using the `memory_usage()` Method in Pandas:**\n",
        "   If you have a Polars DataFrame and want to estimate memory usage, you can convert it to a Pandas DataFrame temporarily and use the Pandas `memory_usage` method. Here's an example:\n",
        "\n",
        "   ```python\n",
        "   import pandas as pd\n",
        "   import polars as pl\n",
        "\n",
        "   # Create a Polars DataFrame\n",
        "   polars_df = pl.DataFrame({\n",
        "       'A': [1, 2, 3],\n",
        "       'B': ['foo', 'bar', 'baz']\n",
        "   })\n",
        "\n",
        "   # Convert to Pandas DataFrame and use memory_usage\n",
        "   pandas_df = polars_df.to_pandas()\n",
        "   memory_usage = pandas_df.memory_usage(deep=True)\n",
        "   print(memory_usage)\n",
        "   ```\n",
        "\n",
        "   Note that the `deep=True` argument in `memory_usage` considers the memory usage of the underlying objects, which can be more accurate but also more computationally expensive.\n",
        "\n",
        "2. **Estimating Memory Usage in Polars:**\n",
        "   While there may not be a dedicated method for memory usage in Polars, you can get an estimate of the size of a DataFrame using the `arrow_memory_size` method. This method returns the size of a `RecordBatch` in bytes. While it's not an exact memory usage for the DataFrame, it can give you an idea of the memory footprint.\n",
        "\n",
        "   ```python\n",
        "   import polars as pl\n",
        "\n",
        "   # Create a Polars DataFrame\n",
        "   polars_df = pl.DataFrame({\n",
        "       'A': [1, 2, 3],\n",
        "       'B': ['foo', 'bar', 'baz']\n",
        "   })\n",
        "\n",
        "   # Get an estimate of the memory usage\n",
        "   memory_size_estimate = polars_df.arrow_memory_size()\n",
        "   print(f\"Estimated memory usage: {memory_size_estimate} bytes\")\n",
        "   ```\n",
        "\n",
        "   Keep in mind that these approaches provide estimates, and the actual memory usage may depend on various factors, including the data types of the columns and other internal optimizations performed by the library. Always consider the specific requirements of your use case when estimating memory usage. Additionally, check the Polars documentation for any updates or new methods related to memory usage that may have been introduced after my last knowledge update."
      ],
      "metadata": {
        "id": "Pi9fGtKWUu4-"
      }
    },
    {
      "cell_type": "markdown",
      "source": [
        "### schemas"
      ],
      "metadata": {
        "id": "x9_yTrYMU_Uw"
      }
    },
    {
      "cell_type": "code",
      "source": [
        "train_pl.schema"
      ],
      "metadata": {
        "colab": {
          "base_uri": "https://localhost:8080/"
        },
        "id": "ma4yjPOSQ4Nd",
        "outputId": "be10c9be-9790-4d48-8d61-0d71911c4907"
      },
      "execution_count": 5,
      "outputs": [
        {
          "output_type": "execute_result",
          "data": {
            "text/plain": [
              "{'Loan_ID': Utf8,\n",
              " 'Gender': Utf8,\n",
              " 'Married': Utf8,\n",
              " 'Dependents': Utf8,\n",
              " 'Education': Utf8,\n",
              " 'Self_Employed': Utf8,\n",
              " 'ApplicantIncome': Int64,\n",
              " 'CoapplicantIncome': Float64,\n",
              " 'LoanAmount': Int64,\n",
              " 'Loan_Amount_Term': Int64,\n",
              " 'Credit_History': Int64,\n",
              " 'Property_Area': Utf8,\n",
              " 'Loan_Status': Utf8}"
            ]
          },
          "metadata": {},
          "execution_count": 5
        }
      ]
    },
    {
      "cell_type": "code",
      "source": [
        "train_pd.dtypes"
      ],
      "metadata": {
        "colab": {
          "base_uri": "https://localhost:8080/"
        },
        "id": "rR9boy5iQ9H7",
        "outputId": "ad82b956-f13b-437d-ccb9-e46602feab25"
      },
      "execution_count": 6,
      "outputs": [
        {
          "output_type": "execute_result",
          "data": {
            "text/plain": [
              "Loan_ID               object\n",
              "Gender                object\n",
              "Married               object\n",
              "Dependents            object\n",
              "Education             object\n",
              "Self_Employed         object\n",
              "ApplicantIncome        int64\n",
              "CoapplicantIncome    float64\n",
              "LoanAmount           float64\n",
              "Loan_Amount_Term     float64\n",
              "Credit_History       float64\n",
              "Property_Area         object\n",
              "Loan_Status           object\n",
              "dtype: object"
            ]
          },
          "metadata": {},
          "execution_count": 6
        }
      ]
    },
    {
      "cell_type": "code",
      "source": [
        "def print_memory_usage(df):\n",
        "    mem_MB = df.memory_usage(index=True, deep=True).sum() / 1024 / 1024\n",
        "    print(f\"memory used: {mem_MB:.1f} MB\")\n",
        "    # return df"
      ],
      "metadata": {
        "id": "6ua_hLrpSuMn"
      },
      "execution_count": 7,
      "outputs": []
    },
    {
      "cell_type": "code",
      "source": [
        "print_memory_usage(train_pd)"
      ],
      "metadata": {
        "colab": {
          "base_uri": "https://localhost:8080/"
        },
        "id": "Sgnin-DESu82",
        "outputId": "3e022105-a243-4e01-cac8-c60a66a62aa4"
      },
      "execution_count": 8,
      "outputs": [
        {
          "output_type": "stream",
          "name": "stdout",
          "text": [
            "memory used: 0.3 MB\n"
          ]
        }
      ]
    },
    {
      "cell_type": "code",
      "source": [
        "# using the previous steps to extract the schema\n",
        "dset_schema = train_pl.schema\n",
        "train_pl = pl.read_csv(TRAIN_CSV_PATH, dtypes=dset_schema)"
      ],
      "metadata": {
        "id": "oJbO_XvPUejw"
      },
      "execution_count": 9,
      "outputs": []
    },
    {
      "cell_type": "markdown",
      "source": [
        "## Heading"
      ],
      "metadata": {
        "id": "zrHbqFnzBBsd"
      }
    },
    {
      "cell_type": "code",
      "source": [
        "train_pd.head(3)"
      ],
      "metadata": {
        "colab": {
          "base_uri": "https://localhost:8080/",
          "height": 143
        },
        "id": "puJpCq1QE3tm",
        "outputId": "28d158e7-3409-4e48-8f2a-3df72b6ae7b5"
      },
      "execution_count": 10,
      "outputs": [
        {
          "output_type": "execute_result",
          "data": {
            "text/plain": [
              "    Loan_ID Gender Married Dependents Education Self_Employed  \\\n",
              "0  LP001002   Male      No          0  Graduate            No   \n",
              "1  LP001003   Male     Yes          1  Graduate            No   \n",
              "2  LP001005   Male     Yes          0  Graduate           Yes   \n",
              "\n",
              "   ApplicantIncome  CoapplicantIncome  LoanAmount  Loan_Amount_Term  \\\n",
              "0             5849                0.0         NaN             360.0   \n",
              "1             4583             1508.0       128.0             360.0   \n",
              "2             3000                0.0        66.0             360.0   \n",
              "\n",
              "   Credit_History Property_Area Loan_Status  \n",
              "0             1.0         Urban           Y  \n",
              "1             1.0         Rural           N  \n",
              "2             1.0         Urban           Y  "
            ],
            "text/html": [
              "\n",
              "  <div id=\"df-aecee9e6-6b18-462c-bf56-5a4e62ad896a\" class=\"colab-df-container\">\n",
              "    <div>\n",
              "<style scoped>\n",
              "    .dataframe tbody tr th:only-of-type {\n",
              "        vertical-align: middle;\n",
              "    }\n",
              "\n",
              "    .dataframe tbody tr th {\n",
              "        vertical-align: top;\n",
              "    }\n",
              "\n",
              "    .dataframe thead th {\n",
              "        text-align: right;\n",
              "    }\n",
              "</style>\n",
              "<table border=\"1\" class=\"dataframe\">\n",
              "  <thead>\n",
              "    <tr style=\"text-align: right;\">\n",
              "      <th></th>\n",
              "      <th>Loan_ID</th>\n",
              "      <th>Gender</th>\n",
              "      <th>Married</th>\n",
              "      <th>Dependents</th>\n",
              "      <th>Education</th>\n",
              "      <th>Self_Employed</th>\n",
              "      <th>ApplicantIncome</th>\n",
              "      <th>CoapplicantIncome</th>\n",
              "      <th>LoanAmount</th>\n",
              "      <th>Loan_Amount_Term</th>\n",
              "      <th>Credit_History</th>\n",
              "      <th>Property_Area</th>\n",
              "      <th>Loan_Status</th>\n",
              "    </tr>\n",
              "  </thead>\n",
              "  <tbody>\n",
              "    <tr>\n",
              "      <th>0</th>\n",
              "      <td>LP001002</td>\n",
              "      <td>Male</td>\n",
              "      <td>No</td>\n",
              "      <td>0</td>\n",
              "      <td>Graduate</td>\n",
              "      <td>No</td>\n",
              "      <td>5849</td>\n",
              "      <td>0.0</td>\n",
              "      <td>NaN</td>\n",
              "      <td>360.0</td>\n",
              "      <td>1.0</td>\n",
              "      <td>Urban</td>\n",
              "      <td>Y</td>\n",
              "    </tr>\n",
              "    <tr>\n",
              "      <th>1</th>\n",
              "      <td>LP001003</td>\n",
              "      <td>Male</td>\n",
              "      <td>Yes</td>\n",
              "      <td>1</td>\n",
              "      <td>Graduate</td>\n",
              "      <td>No</td>\n",
              "      <td>4583</td>\n",
              "      <td>1508.0</td>\n",
              "      <td>128.0</td>\n",
              "      <td>360.0</td>\n",
              "      <td>1.0</td>\n",
              "      <td>Rural</td>\n",
              "      <td>N</td>\n",
              "    </tr>\n",
              "    <tr>\n",
              "      <th>2</th>\n",
              "      <td>LP001005</td>\n",
              "      <td>Male</td>\n",
              "      <td>Yes</td>\n",
              "      <td>0</td>\n",
              "      <td>Graduate</td>\n",
              "      <td>Yes</td>\n",
              "      <td>3000</td>\n",
              "      <td>0.0</td>\n",
              "      <td>66.0</td>\n",
              "      <td>360.0</td>\n",
              "      <td>1.0</td>\n",
              "      <td>Urban</td>\n",
              "      <td>Y</td>\n",
              "    </tr>\n",
              "  </tbody>\n",
              "</table>\n",
              "</div>\n",
              "    <div class=\"colab-df-buttons\">\n",
              "\n",
              "  <div class=\"colab-df-container\">\n",
              "    <button class=\"colab-df-convert\" onclick=\"convertToInteractive('df-aecee9e6-6b18-462c-bf56-5a4e62ad896a')\"\n",
              "            title=\"Convert this dataframe to an interactive table.\"\n",
              "            style=\"display:none;\">\n",
              "\n",
              "  <svg xmlns=\"http://www.w3.org/2000/svg\" height=\"24px\" viewBox=\"0 -960 960 960\">\n",
              "    <path d=\"M120-120v-720h720v720H120Zm60-500h600v-160H180v160Zm220 220h160v-160H400v160Zm0 220h160v-160H400v160ZM180-400h160v-160H180v160Zm440 0h160v-160H620v160ZM180-180h160v-160H180v160Zm440 0h160v-160H620v160Z\"/>\n",
              "  </svg>\n",
              "    </button>\n",
              "\n",
              "  <style>\n",
              "    .colab-df-container {\n",
              "      display:flex;\n",
              "      gap: 12px;\n",
              "    }\n",
              "\n",
              "    .colab-df-convert {\n",
              "      background-color: #E8F0FE;\n",
              "      border: none;\n",
              "      border-radius: 50%;\n",
              "      cursor: pointer;\n",
              "      display: none;\n",
              "      fill: #1967D2;\n",
              "      height: 32px;\n",
              "      padding: 0 0 0 0;\n",
              "      width: 32px;\n",
              "    }\n",
              "\n",
              "    .colab-df-convert:hover {\n",
              "      background-color: #E2EBFA;\n",
              "      box-shadow: 0px 1px 2px rgba(60, 64, 67, 0.3), 0px 1px 3px 1px rgba(60, 64, 67, 0.15);\n",
              "      fill: #174EA6;\n",
              "    }\n",
              "\n",
              "    .colab-df-buttons div {\n",
              "      margin-bottom: 4px;\n",
              "    }\n",
              "\n",
              "    [theme=dark] .colab-df-convert {\n",
              "      background-color: #3B4455;\n",
              "      fill: #D2E3FC;\n",
              "    }\n",
              "\n",
              "    [theme=dark] .colab-df-convert:hover {\n",
              "      background-color: #434B5C;\n",
              "      box-shadow: 0px 1px 3px 1px rgba(0, 0, 0, 0.15);\n",
              "      filter: drop-shadow(0px 1px 2px rgba(0, 0, 0, 0.3));\n",
              "      fill: #FFFFFF;\n",
              "    }\n",
              "  </style>\n",
              "\n",
              "    <script>\n",
              "      const buttonEl =\n",
              "        document.querySelector('#df-aecee9e6-6b18-462c-bf56-5a4e62ad896a button.colab-df-convert');\n",
              "      buttonEl.style.display =\n",
              "        google.colab.kernel.accessAllowed ? 'block' : 'none';\n",
              "\n",
              "      async function convertToInteractive(key) {\n",
              "        const element = document.querySelector('#df-aecee9e6-6b18-462c-bf56-5a4e62ad896a');\n",
              "        const dataTable =\n",
              "          await google.colab.kernel.invokeFunction('convertToInteractive',\n",
              "                                                    [key], {});\n",
              "        if (!dataTable) return;\n",
              "\n",
              "        const docLinkHtml = 'Like what you see? Visit the ' +\n",
              "          '<a target=\"_blank\" href=https://colab.research.google.com/notebooks/data_table.ipynb>data table notebook</a>'\n",
              "          + ' to learn more about interactive tables.';\n",
              "        element.innerHTML = '';\n",
              "        dataTable['output_type'] = 'display_data';\n",
              "        await google.colab.output.renderOutput(dataTable, element);\n",
              "        const docLink = document.createElement('div');\n",
              "        docLink.innerHTML = docLinkHtml;\n",
              "        element.appendChild(docLink);\n",
              "      }\n",
              "    </script>\n",
              "  </div>\n",
              "\n",
              "\n",
              "<div id=\"df-61546756-2ec1-4420-b154-fab8d665c609\">\n",
              "  <button class=\"colab-df-quickchart\" onclick=\"quickchart('df-61546756-2ec1-4420-b154-fab8d665c609')\"\n",
              "            title=\"Suggest charts\"\n",
              "            style=\"display:none;\">\n",
              "\n",
              "<svg xmlns=\"http://www.w3.org/2000/svg\" height=\"24px\"viewBox=\"0 0 24 24\"\n",
              "     width=\"24px\">\n",
              "    <g>\n",
              "        <path d=\"M19 3H5c-1.1 0-2 .9-2 2v14c0 1.1.9 2 2 2h14c1.1 0 2-.9 2-2V5c0-1.1-.9-2-2-2zM9 17H7v-7h2v7zm4 0h-2V7h2v10zm4 0h-2v-4h2v4z\"/>\n",
              "    </g>\n",
              "</svg>\n",
              "  </button>\n",
              "\n",
              "<style>\n",
              "  .colab-df-quickchart {\n",
              "      --bg-color: #E8F0FE;\n",
              "      --fill-color: #1967D2;\n",
              "      --hover-bg-color: #E2EBFA;\n",
              "      --hover-fill-color: #174EA6;\n",
              "      --disabled-fill-color: #AAA;\n",
              "      --disabled-bg-color: #DDD;\n",
              "  }\n",
              "\n",
              "  [theme=dark] .colab-df-quickchart {\n",
              "      --bg-color: #3B4455;\n",
              "      --fill-color: #D2E3FC;\n",
              "      --hover-bg-color: #434B5C;\n",
              "      --hover-fill-color: #FFFFFF;\n",
              "      --disabled-bg-color: #3B4455;\n",
              "      --disabled-fill-color: #666;\n",
              "  }\n",
              "\n",
              "  .colab-df-quickchart {\n",
              "    background-color: var(--bg-color);\n",
              "    border: none;\n",
              "    border-radius: 50%;\n",
              "    cursor: pointer;\n",
              "    display: none;\n",
              "    fill: var(--fill-color);\n",
              "    height: 32px;\n",
              "    padding: 0;\n",
              "    width: 32px;\n",
              "  }\n",
              "\n",
              "  .colab-df-quickchart:hover {\n",
              "    background-color: var(--hover-bg-color);\n",
              "    box-shadow: 0 1px 2px rgba(60, 64, 67, 0.3), 0 1px 3px 1px rgba(60, 64, 67, 0.15);\n",
              "    fill: var(--button-hover-fill-color);\n",
              "  }\n",
              "\n",
              "  .colab-df-quickchart-complete:disabled,\n",
              "  .colab-df-quickchart-complete:disabled:hover {\n",
              "    background-color: var(--disabled-bg-color);\n",
              "    fill: var(--disabled-fill-color);\n",
              "    box-shadow: none;\n",
              "  }\n",
              "\n",
              "  .colab-df-spinner {\n",
              "    border: 2px solid var(--fill-color);\n",
              "    border-color: transparent;\n",
              "    border-bottom-color: var(--fill-color);\n",
              "    animation:\n",
              "      spin 1s steps(1) infinite;\n",
              "  }\n",
              "\n",
              "  @keyframes spin {\n",
              "    0% {\n",
              "      border-color: transparent;\n",
              "      border-bottom-color: var(--fill-color);\n",
              "      border-left-color: var(--fill-color);\n",
              "    }\n",
              "    20% {\n",
              "      border-color: transparent;\n",
              "      border-left-color: var(--fill-color);\n",
              "      border-top-color: var(--fill-color);\n",
              "    }\n",
              "    30% {\n",
              "      border-color: transparent;\n",
              "      border-left-color: var(--fill-color);\n",
              "      border-top-color: var(--fill-color);\n",
              "      border-right-color: var(--fill-color);\n",
              "    }\n",
              "    40% {\n",
              "      border-color: transparent;\n",
              "      border-right-color: var(--fill-color);\n",
              "      border-top-color: var(--fill-color);\n",
              "    }\n",
              "    60% {\n",
              "      border-color: transparent;\n",
              "      border-right-color: var(--fill-color);\n",
              "    }\n",
              "    80% {\n",
              "      border-color: transparent;\n",
              "      border-right-color: var(--fill-color);\n",
              "      border-bottom-color: var(--fill-color);\n",
              "    }\n",
              "    90% {\n",
              "      border-color: transparent;\n",
              "      border-bottom-color: var(--fill-color);\n",
              "    }\n",
              "  }\n",
              "</style>\n",
              "\n",
              "  <script>\n",
              "    async function quickchart(key) {\n",
              "      const quickchartButtonEl =\n",
              "        document.querySelector('#' + key + ' button');\n",
              "      quickchartButtonEl.disabled = true;  // To prevent multiple clicks.\n",
              "      quickchartButtonEl.classList.add('colab-df-spinner');\n",
              "      try {\n",
              "        const charts = await google.colab.kernel.invokeFunction(\n",
              "            'suggestCharts', [key], {});\n",
              "      } catch (error) {\n",
              "        console.error('Error during call to suggestCharts:', error);\n",
              "      }\n",
              "      quickchartButtonEl.classList.remove('colab-df-spinner');\n",
              "      quickchartButtonEl.classList.add('colab-df-quickchart-complete');\n",
              "    }\n",
              "    (() => {\n",
              "      let quickchartButtonEl =\n",
              "        document.querySelector('#df-61546756-2ec1-4420-b154-fab8d665c609 button');\n",
              "      quickchartButtonEl.style.display =\n",
              "        google.colab.kernel.accessAllowed ? 'block' : 'none';\n",
              "    })();\n",
              "  </script>\n",
              "</div>\n",
              "    </div>\n",
              "  </div>\n"
            ]
          },
          "metadata": {},
          "execution_count": 10
        }
      ]
    },
    {
      "cell_type": "code",
      "source": [
        "train_pl.head(3)"
      ],
      "metadata": {
        "colab": {
          "base_uri": "https://localhost:8080/",
          "height": 192
        },
        "id": "klfxlYoQAGd3",
        "outputId": "c55b8f72-e6b3-4f39-b908-91cc62c07824"
      },
      "execution_count": 11,
      "outputs": [
        {
          "output_type": "execute_result",
          "data": {
            "text/plain": [
              "shape: (3, 13)\n",
              "┌──────────┬────────┬─────────┬────────────┬───┬────────────┬────────────┬────────────┬───────────┐\n",
              "│ Loan_ID  ┆ Gender ┆ Married ┆ Dependents ┆ … ┆ Loan_Amoun ┆ Credit_His ┆ Property_A ┆ Loan_Stat │\n",
              "│ ---      ┆ ---    ┆ ---     ┆ ---        ┆   ┆ t_Term     ┆ tory       ┆ rea        ┆ us        │\n",
              "│ str      ┆ str    ┆ str     ┆ str        ┆   ┆ ---        ┆ ---        ┆ ---        ┆ ---       │\n",
              "│          ┆        ┆         ┆            ┆   ┆ i64        ┆ i64        ┆ str        ┆ str       │\n",
              "╞══════════╪════════╪═════════╪════════════╪═══╪════════════╪════════════╪════════════╪═══════════╡\n",
              "│ LP001002 ┆ Male   ┆ No      ┆ 0          ┆ … ┆ 360        ┆ 1          ┆ Urban      ┆ Y         │\n",
              "│ LP001003 ┆ Male   ┆ Yes     ┆ 1          ┆ … ┆ 360        ┆ 1          ┆ Rural      ┆ N         │\n",
              "│ LP001005 ┆ Male   ┆ Yes     ┆ 0          ┆ … ┆ 360        ┆ 1          ┆ Urban      ┆ Y         │\n",
              "└──────────┴────────┴─────────┴────────────┴───┴────────────┴────────────┴────────────┴───────────┘"
            ],
            "text/html": [
              "<div><style>\n",
              ".dataframe > thead > tr > th,\n",
              ".dataframe > tbody > tr > td {\n",
              "  text-align: right;\n",
              "}\n",
              "</style>\n",
              "<small>shape: (3, 13)</small><table border=\"1\" class=\"dataframe\"><thead><tr><th>Loan_ID</th><th>Gender</th><th>Married</th><th>Dependents</th><th>Education</th><th>Self_Employed</th><th>ApplicantIncome</th><th>CoapplicantIncome</th><th>LoanAmount</th><th>Loan_Amount_Term</th><th>Credit_History</th><th>Property_Area</th><th>Loan_Status</th></tr><tr><td>str</td><td>str</td><td>str</td><td>str</td><td>str</td><td>str</td><td>i64</td><td>f64</td><td>i64</td><td>i64</td><td>i64</td><td>str</td><td>str</td></tr></thead><tbody><tr><td>&quot;LP001002&quot;</td><td>&quot;Male&quot;</td><td>&quot;No&quot;</td><td>&quot;0&quot;</td><td>&quot;Graduate&quot;</td><td>&quot;No&quot;</td><td>5849</td><td>0.0</td><td>null</td><td>360</td><td>1</td><td>&quot;Urban&quot;</td><td>&quot;Y&quot;</td></tr><tr><td>&quot;LP001003&quot;</td><td>&quot;Male&quot;</td><td>&quot;Yes&quot;</td><td>&quot;1&quot;</td><td>&quot;Graduate&quot;</td><td>&quot;No&quot;</td><td>4583</td><td>1508.0</td><td>128</td><td>360</td><td>1</td><td>&quot;Rural&quot;</td><td>&quot;N&quot;</td></tr><tr><td>&quot;LP001005&quot;</td><td>&quot;Male&quot;</td><td>&quot;Yes&quot;</td><td>&quot;0&quot;</td><td>&quot;Graduate&quot;</td><td>&quot;Yes&quot;</td><td>3000</td><td>0.0</td><td>66</td><td>360</td><td>1</td><td>&quot;Urban&quot;</td><td>&quot;Y&quot;</td></tr></tbody></table></div>"
            ]
          },
          "metadata": {},
          "execution_count": 11
        }
      ]
    },
    {
      "cell_type": "markdown",
      "source": [
        "## Unique Values\n",
        "\n",
        "**Count unique values**\n",
        "There are two ways to count unique values in Polars: an exact methodology and an approximation. The approximation uses the HyperLogLog++ algorithm to approximate the cardinality and is especially useful for very large datasets where an approximation is good enough.\n",
        "\n",
        "https://pola-rs.github.io/polars/user-guide/expressions/functions/#count-unique-values"
      ],
      "metadata": {
        "id": "QMGDavAzBFzV"
      }
    },
    {
      "cell_type": "code",
      "source": [
        "print('Gender', train_pd['Gender'].nunique())\n",
        "print('Married', train_pd['Married'].nunique())\n",
        "print('Property_Area', train_pd['Property_Area'].nunique())"
      ],
      "metadata": {
        "colab": {
          "base_uri": "https://localhost:8080/"
        },
        "id": "GvhUKtDVAfey",
        "outputId": "d002e306-0135-4f89-f5ea-27412b96c7fd"
      },
      "execution_count": 12,
      "outputs": [
        {
          "output_type": "stream",
          "name": "stdout",
          "text": [
            "Gender 2\n",
            "Married 2\n",
            "Property_Area 3\n"
          ]
        }
      ]
    },
    {
      "cell_type": "code",
      "source": [
        "print('Gender', train_pl['Gender'].n_unique())\n",
        "print('Married', train_pl['Married'].n_unique())\n",
        "print('Property_Area', train_pl['Property_Area'].n_unique())"
      ],
      "metadata": {
        "colab": {
          "base_uri": "https://localhost:8080/"
        },
        "id": "e-5SqcgfAftB",
        "outputId": "a014aacc-4114-4182-e8e4-068328a1c789"
      },
      "execution_count": 13,
      "outputs": [
        {
          "output_type": "stream",
          "name": "stdout",
          "text": [
            "Gender 3\n",
            "Married 3\n",
            "Property_Area 3\n"
          ]
        }
      ]
    },
    {
      "cell_type": "code",
      "source": [
        "train_pd['Gender'].unique()"
      ],
      "metadata": {
        "colab": {
          "base_uri": "https://localhost:8080/"
        },
        "id": "qHNt3McLAf0_",
        "outputId": "cd50405e-5c50-4476-bd77-7532d24ac2b8"
      },
      "execution_count": 14,
      "outputs": [
        {
          "output_type": "execute_result",
          "data": {
            "text/plain": [
              "array(['Male', 'Female', nan], dtype=object)"
            ]
          },
          "metadata": {},
          "execution_count": 14
        }
      ]
    },
    {
      "cell_type": "code",
      "source": [
        "train_pl['Gender'].unique() # in polars i valori missing sono considerati valori oppure e' una questione di lettura?"
      ],
      "metadata": {
        "colab": {
          "base_uri": "https://localhost:8080/",
          "height": 192
        },
        "id": "HeA2varCAf7N",
        "outputId": "e4df519d-77ca-45dc-8159-2dab64b2293d"
      },
      "execution_count": 15,
      "outputs": [
        {
          "output_type": "execute_result",
          "data": {
            "text/plain": [
              "shape: (3,)\n",
              "Series: 'Gender' [str]\n",
              "[\n",
              "\t\"Female\"\n",
              "\tnull\n",
              "\t\"Male\"\n",
              "]"
            ],
            "text/html": [
              "<div><style>\n",
              ".dataframe > thead > tr > th,\n",
              ".dataframe > tbody > tr > td {\n",
              "  text-align: right;\n",
              "}\n",
              "</style>\n",
              "<small>shape: (3,)</small><table border=\"1\" class=\"dataframe\"><thead><tr><th>Gender</th></tr><tr><td>str</td></tr></thead><tbody><tr><td>&quot;Female&quot;</td></tr><tr><td>null</td></tr><tr><td>&quot;Male&quot;</td></tr></tbody></table></div>"
            ]
          },
          "metadata": {},
          "execution_count": 15
        }
      ]
    },
    {
      "cell_type": "code",
      "source": [
        "train_pd['Property_Area'].unique()"
      ],
      "metadata": {
        "colab": {
          "base_uri": "https://localhost:8080/"
        },
        "id": "wKt5FLfSAf9m",
        "outputId": "5e150a25-2d8d-4934-ae63-25278ad49dc6"
      },
      "execution_count": 16,
      "outputs": [
        {
          "output_type": "execute_result",
          "data": {
            "text/plain": [
              "array(['Urban', 'Rural', 'Semiurban'], dtype=object)"
            ]
          },
          "metadata": {},
          "execution_count": 16
        }
      ]
    },
    {
      "cell_type": "code",
      "source": [
        "train_pl['Property_Area'].unique()"
      ],
      "metadata": {
        "colab": {
          "base_uri": "https://localhost:8080/",
          "height": 192
        },
        "id": "520MVS3RAf_9",
        "outputId": "ad10b9b8-e4b8-4471-b323-31fdc66b58bf"
      },
      "execution_count": 17,
      "outputs": [
        {
          "output_type": "execute_result",
          "data": {
            "text/plain": [
              "shape: (3,)\n",
              "Series: 'Property_Area' [str]\n",
              "[\n",
              "\t\"Urban\"\n",
              "\t\"Semiurban\"\n",
              "\t\"Rural\"\n",
              "]"
            ],
            "text/html": [
              "<div><style>\n",
              ".dataframe > thead > tr > th,\n",
              ".dataframe > tbody > tr > td {\n",
              "  text-align: right;\n",
              "}\n",
              "</style>\n",
              "<small>shape: (3,)</small><table border=\"1\" class=\"dataframe\"><thead><tr><th>Property_Area</th></tr><tr><td>str</td></tr></thead><tbody><tr><td>&quot;Urban&quot;</td></tr><tr><td>&quot;Semiurban&quot;</td></tr><tr><td>&quot;Rural&quot;</td></tr></tbody></table></div>"
            ]
          },
          "metadata": {},
          "execution_count": 17
        }
      ]
    },
    {
      "cell_type": "markdown",
      "source": [
        "## Expressions"
      ],
      "metadata": {
        "id": "id0Hczh9HaaH"
      }
    },
    {
      "cell_type": "markdown",
      "source": [
        "### Select"
      ],
      "metadata": {
        "id": "L2owjcZinMKa"
      }
    },
    {
      "cell_type": "code",
      "source": [
        "train_pl.select(pl.col(\"*\")).limit(3) # equivalent to df.select(pl.all())"
      ],
      "metadata": {
        "id": "nBQjxHE9mh7b",
        "outputId": "2f4a0115-9c1d-4740-bfa5-c28f994e154f",
        "colab": {
          "base_uri": "https://localhost:8080/",
          "height": 192
        }
      },
      "execution_count": 23,
      "outputs": [
        {
          "output_type": "execute_result",
          "data": {
            "text/plain": [
              "shape: (3, 13)\n",
              "┌──────────┬────────┬─────────┬────────────┬───┬────────────┬────────────┬────────────┬───────────┐\n",
              "│ Loan_ID  ┆ Gender ┆ Married ┆ Dependents ┆ … ┆ Loan_Amoun ┆ Credit_His ┆ Property_A ┆ Loan_Stat │\n",
              "│ ---      ┆ ---    ┆ ---     ┆ ---        ┆   ┆ t_Term     ┆ tory       ┆ rea        ┆ us        │\n",
              "│ str      ┆ str    ┆ str     ┆ str        ┆   ┆ ---        ┆ ---        ┆ ---        ┆ ---       │\n",
              "│          ┆        ┆         ┆            ┆   ┆ i64        ┆ i64        ┆ str        ┆ str       │\n",
              "╞══════════╪════════╪═════════╪════════════╪═══╪════════════╪════════════╪════════════╪═══════════╡\n",
              "│ LP001002 ┆ Male   ┆ No      ┆ 0          ┆ … ┆ 360        ┆ 1          ┆ Urban      ┆ Y         │\n",
              "│ LP001003 ┆ Male   ┆ Yes     ┆ 1          ┆ … ┆ 360        ┆ 1          ┆ Rural      ┆ N         │\n",
              "│ LP001005 ┆ Male   ┆ Yes     ┆ 0          ┆ … ┆ 360        ┆ 1          ┆ Urban      ┆ Y         │\n",
              "└──────────┴────────┴─────────┴────────────┴───┴────────────┴────────────┴────────────┴───────────┘"
            ],
            "text/html": [
              "<div><style>\n",
              ".dataframe > thead > tr > th,\n",
              ".dataframe > tbody > tr > td {\n",
              "  text-align: right;\n",
              "}\n",
              "</style>\n",
              "<small>shape: (3, 13)</small><table border=\"1\" class=\"dataframe\"><thead><tr><th>Loan_ID</th><th>Gender</th><th>Married</th><th>Dependents</th><th>Education</th><th>Self_Employed</th><th>ApplicantIncome</th><th>CoapplicantIncome</th><th>LoanAmount</th><th>Loan_Amount_Term</th><th>Credit_History</th><th>Property_Area</th><th>Loan_Status</th></tr><tr><td>str</td><td>str</td><td>str</td><td>str</td><td>str</td><td>str</td><td>i64</td><td>f64</td><td>i64</td><td>i64</td><td>i64</td><td>str</td><td>str</td></tr></thead><tbody><tr><td>&quot;LP001002&quot;</td><td>&quot;Male&quot;</td><td>&quot;No&quot;</td><td>&quot;0&quot;</td><td>&quot;Graduate&quot;</td><td>&quot;No&quot;</td><td>5849</td><td>0.0</td><td>null</td><td>360</td><td>1</td><td>&quot;Urban&quot;</td><td>&quot;Y&quot;</td></tr><tr><td>&quot;LP001003&quot;</td><td>&quot;Male&quot;</td><td>&quot;Yes&quot;</td><td>&quot;1&quot;</td><td>&quot;Graduate&quot;</td><td>&quot;No&quot;</td><td>4583</td><td>1508.0</td><td>128</td><td>360</td><td>1</td><td>&quot;Rural&quot;</td><td>&quot;N&quot;</td></tr><tr><td>&quot;LP001005&quot;</td><td>&quot;Male&quot;</td><td>&quot;Yes&quot;</td><td>&quot;0&quot;</td><td>&quot;Graduate&quot;</td><td>&quot;Yes&quot;</td><td>3000</td><td>0.0</td><td>66</td><td>360</td><td>1</td><td>&quot;Urban&quot;</td><td>&quot;Y&quot;</td></tr></tbody></table></div>"
            ]
          },
          "metadata": {},
          "execution_count": 23
        }
      ]
    },
    {
      "cell_type": "code",
      "source": [
        "train_pl.select(pl.col(\"Gender\",\t\"Married\")).limit(3)"
      ],
      "metadata": {
        "id": "PkekYCbkmvYd",
        "outputId": "e3fb572d-b1ae-4fb0-e216-ada0cab4b950",
        "colab": {
          "base_uri": "https://localhost:8080/",
          "height": 192
        }
      },
      "execution_count": 24,
      "outputs": [
        {
          "output_type": "execute_result",
          "data": {
            "text/plain": [
              "shape: (3, 2)\n",
              "┌────────┬─────────┐\n",
              "│ Gender ┆ Married │\n",
              "│ ---    ┆ ---     │\n",
              "│ str    ┆ str     │\n",
              "╞════════╪═════════╡\n",
              "│ Male   ┆ No      │\n",
              "│ Male   ┆ Yes     │\n",
              "│ Male   ┆ Yes     │\n",
              "└────────┴─────────┘"
            ],
            "text/html": [
              "<div><style>\n",
              ".dataframe > thead > tr > th,\n",
              ".dataframe > tbody > tr > td {\n",
              "  text-align: right;\n",
              "}\n",
              "</style>\n",
              "<small>shape: (3, 2)</small><table border=\"1\" class=\"dataframe\"><thead><tr><th>Gender</th><th>Married</th></tr><tr><td>str</td><td>str</td></tr></thead><tbody><tr><td>&quot;Male&quot;</td><td>&quot;No&quot;</td></tr><tr><td>&quot;Male&quot;</td><td>&quot;Yes&quot;</td></tr><tr><td>&quot;Male&quot;</td><td>&quot;Yes&quot;</td></tr></tbody></table></div>"
            ]
          },
          "metadata": {},
          "execution_count": 24
        }
      ]
    },
    {
      "cell_type": "code",
      "source": [
        "train_pl.select(pl.exclude(\"Gender\",\t\"Married\")).limit(3)"
      ],
      "metadata": {
        "id": "_huYk-wDmv89",
        "outputId": "f15bd3aa-c524-4e22-97ce-888e8f6089b7",
        "colab": {
          "base_uri": "https://localhost:8080/",
          "height": 192
        }
      },
      "execution_count": 25,
      "outputs": [
        {
          "output_type": "execute_result",
          "data": {
            "text/plain": [
              "shape: (3, 11)\n",
              "┌──────────┬──────────┬───────────┬────────────┬───┬────────────┬────────────┬────────────┬───────────┐\n",
              "│ Loan_ID  ┆ Dependen ┆ Education ┆ Self_Emplo ┆ … ┆ Loan_Amoun ┆ Credit_His ┆ Property_A ┆ Loan_Stat │\n",
              "│ ---      ┆ ts       ┆ ---       ┆ yed        ┆   ┆ t_Term     ┆ tory       ┆ rea        ┆ us        │\n",
              "│ str      ┆ ---      ┆ str       ┆ ---        ┆   ┆ ---        ┆ ---        ┆ ---        ┆ ---       │\n",
              "│          ┆ str      ┆           ┆ str        ┆   ┆ i64        ┆ i64        ┆ str        ┆ str       │\n",
              "╞══════════╪══════════╪═══════════╪════════════╪═══╪════════════╪════════════╪════════════╪═══════════╡\n",
              "│ LP001002 ┆ 0        ┆ Graduate  ┆ No         ┆ … ┆ 360        ┆ 1          ┆ Urban      ┆ Y         │\n",
              "│ LP001003 ┆ 1        ┆ Graduate  ┆ No         ┆ … ┆ 360        ┆ 1          ┆ Rural      ┆ N         │\n",
              "│ LP001005 ┆ 0        ┆ Graduate  ┆ Yes        ┆ … ┆ 360        ┆ 1          ┆ Urban      ┆ Y         │\n",
              "└──────────┴──────────┴───────────┴────────────┴───┴────────────┴────────────┴────────────┴───────────┘"
            ],
            "text/html": [
              "<div><style>\n",
              ".dataframe > thead > tr > th,\n",
              ".dataframe > tbody > tr > td {\n",
              "  text-align: right;\n",
              "}\n",
              "</style>\n",
              "<small>shape: (3, 11)</small><table border=\"1\" class=\"dataframe\"><thead><tr><th>Loan_ID</th><th>Dependents</th><th>Education</th><th>Self_Employed</th><th>ApplicantIncome</th><th>CoapplicantIncome</th><th>LoanAmount</th><th>Loan_Amount_Term</th><th>Credit_History</th><th>Property_Area</th><th>Loan_Status</th></tr><tr><td>str</td><td>str</td><td>str</td><td>str</td><td>i64</td><td>f64</td><td>i64</td><td>i64</td><td>i64</td><td>str</td><td>str</td></tr></thead><tbody><tr><td>&quot;LP001002&quot;</td><td>&quot;0&quot;</td><td>&quot;Graduate&quot;</td><td>&quot;No&quot;</td><td>5849</td><td>0.0</td><td>null</td><td>360</td><td>1</td><td>&quot;Urban&quot;</td><td>&quot;Y&quot;</td></tr><tr><td>&quot;LP001003&quot;</td><td>&quot;1&quot;</td><td>&quot;Graduate&quot;</td><td>&quot;No&quot;</td><td>4583</td><td>1508.0</td><td>128</td><td>360</td><td>1</td><td>&quot;Rural&quot;</td><td>&quot;N&quot;</td></tr><tr><td>&quot;LP001005&quot;</td><td>&quot;0&quot;</td><td>&quot;Graduate&quot;</td><td>&quot;Yes&quot;</td><td>3000</td><td>0.0</td><td>66</td><td>360</td><td>1</td><td>&quot;Urban&quot;</td><td>&quot;Y&quot;</td></tr></tbody></table></div>"
            ]
          },
          "metadata": {},
          "execution_count": 25
        }
      ]
    },
    {
      "cell_type": "code",
      "source": [
        "train_pl.select(cs.matches(\"*[A-a]pplicant\")).limit(3) # matches works with regex"
      ],
      "metadata": {
        "id": "cOiB5LP2s5_d",
        "outputId": "2fa56544-7f8f-4b2f-bf9b-3594a7ff1aa2",
        "colab": {
          "base_uri": "https://localhost:8080/",
          "height": 192
        }
      },
      "execution_count": 73,
      "outputs": [
        {
          "output_type": "execute_result",
          "data": {
            "text/plain": [
              "shape: (3, 2)\n",
              "┌─────────────────┬───────────────────┐\n",
              "│ ApplicantIncome ┆ CoapplicantIncome │\n",
              "│ ---             ┆ ---               │\n",
              "│ i64             ┆ f64               │\n",
              "╞═════════════════╪═══════════════════╡\n",
              "│ 5849            ┆ 0.0               │\n",
              "│ 4583            ┆ 1508.0            │\n",
              "│ 3000            ┆ 0.0               │\n",
              "└─────────────────┴───────────────────┘"
            ],
            "text/html": [
              "<div><style>\n",
              ".dataframe > thead > tr > th,\n",
              ".dataframe > tbody > tr > td {\n",
              "  text-align: right;\n",
              "}\n",
              "</style>\n",
              "<small>shape: (3, 2)</small><table border=\"1\" class=\"dataframe\"><thead><tr><th>ApplicantIncome</th><th>CoapplicantIncome</th></tr><tr><td>i64</td><td>f64</td></tr></thead><tbody><tr><td>5849</td><td>0.0</td></tr><tr><td>4583</td><td>1508.0</td></tr><tr><td>3000</td><td>0.0</td></tr></tbody></table></div>"
            ]
          },
          "metadata": {},
          "execution_count": 73
        }
      ]
    },
    {
      "cell_type": "code",
      "source": [
        "train_pl.select(cs.contains(\"Income\"), cs.contains(\"_\")).limit(3)"
      ],
      "metadata": {
        "id": "bXRradFkxRFe",
        "outputId": "480a8eb1-d6cb-4132-a03c-7b33c6c93645",
        "colab": {
          "base_uri": "https://localhost:8080/",
          "height": 192
        }
      },
      "execution_count": 78,
      "outputs": [
        {
          "output_type": "execute_result",
          "data": {
            "text/plain": [
              "shape: (3, 8)\n",
              "┌────────────┬────────────┬──────────┬────────────┬────────────┬────────────┬────────────┬───────────┐\n",
              "│ ApplicantI ┆ Coapplican ┆ Loan_ID  ┆ Self_Emplo ┆ Loan_Amoun ┆ Credit_His ┆ Property_A ┆ Loan_Stat │\n",
              "│ ncome      ┆ tIncome    ┆ ---      ┆ yed        ┆ t_Term     ┆ tory       ┆ rea        ┆ us        │\n",
              "│ ---        ┆ ---        ┆ str      ┆ ---        ┆ ---        ┆ ---        ┆ ---        ┆ ---       │\n",
              "│ i64        ┆ f64        ┆          ┆ str        ┆ i64        ┆ i64        ┆ str        ┆ str       │\n",
              "╞════════════╪════════════╪══════════╪════════════╪════════════╪════════════╪════════════╪═══════════╡\n",
              "│ 5849       ┆ 0.0        ┆ LP001002 ┆ No         ┆ 360        ┆ 1          ┆ Urban      ┆ Y         │\n",
              "│ 4583       ┆ 1508.0     ┆ LP001003 ┆ No         ┆ 360        ┆ 1          ┆ Rural      ┆ N         │\n",
              "│ 3000       ┆ 0.0        ┆ LP001005 ┆ Yes        ┆ 360        ┆ 1          ┆ Urban      ┆ Y         │\n",
              "└────────────┴────────────┴──────────┴────────────┴────────────┴────────────┴────────────┴───────────┘"
            ],
            "text/html": [
              "<div><style>\n",
              ".dataframe > thead > tr > th,\n",
              ".dataframe > tbody > tr > td {\n",
              "  text-align: right;\n",
              "}\n",
              "</style>\n",
              "<small>shape: (3, 8)</small><table border=\"1\" class=\"dataframe\"><thead><tr><th>ApplicantIncome</th><th>CoapplicantIncome</th><th>Loan_ID</th><th>Self_Employed</th><th>Loan_Amount_Term</th><th>Credit_History</th><th>Property_Area</th><th>Loan_Status</th></tr><tr><td>i64</td><td>f64</td><td>str</td><td>str</td><td>i64</td><td>i64</td><td>str</td><td>str</td></tr></thead><tbody><tr><td>5849</td><td>0.0</td><td>&quot;LP001002&quot;</td><td>&quot;No&quot;</td><td>360</td><td>1</td><td>&quot;Urban&quot;</td><td>&quot;Y&quot;</td></tr><tr><td>4583</td><td>1508.0</td><td>&quot;LP001003&quot;</td><td>&quot;No&quot;</td><td>360</td><td>1</td><td>&quot;Rural&quot;</td><td>&quot;N&quot;</td></tr><tr><td>3000</td><td>0.0</td><td>&quot;LP001005&quot;</td><td>&quot;Yes&quot;</td><td>360</td><td>1</td><td>&quot;Urban&quot;</td><td>&quot;Y&quot;</td></tr></tbody></table></div>"
            ]
          },
          "metadata": {},
          "execution_count": 78
        }
      ]
    },
    {
      "cell_type": "code",
      "source": [
        "train_pl.select(pl.col(pl.Int64, pl.UInt32, pl.Boolean).n_unique())"
      ],
      "metadata": {
        "id": "NbZi3J8tuSyB",
        "outputId": "27859523-de54-447f-fea5-0a336067196f",
        "colab": {
          "base_uri": "https://localhost:8080/",
          "height": 129
        }
      },
      "execution_count": 51,
      "outputs": [
        {
          "output_type": "execute_result",
          "data": {
            "text/plain": [
              "shape: (1, 4)\n",
              "┌─────────────────┬────────────┬──────────────────┬────────────────┐\n",
              "│ ApplicantIncome ┆ LoanAmount ┆ Loan_Amount_Term ┆ Credit_History │\n",
              "│ ---             ┆ ---        ┆ ---              ┆ ---            │\n",
              "│ u32             ┆ u32        ┆ u32              ┆ u32            │\n",
              "╞═════════════════╪════════════╪══════════════════╪════════════════╡\n",
              "│ 505             ┆ 204        ┆ 11               ┆ 3              │\n",
              "└─────────────────┴────────────┴──────────────────┴────────────────┘"
            ],
            "text/html": [
              "<div><style>\n",
              ".dataframe > thead > tr > th,\n",
              ".dataframe > tbody > tr > td {\n",
              "  text-align: right;\n",
              "}\n",
              "</style>\n",
              "<small>shape: (1, 4)</small><table border=\"1\" class=\"dataframe\"><thead><tr><th>ApplicantIncome</th><th>LoanAmount</th><th>Loan_Amount_Term</th><th>Credit_History</th></tr><tr><td>u32</td><td>u32</td><td>u32</td><td>u32</td></tr></thead><tbody><tr><td>505</td><td>204</td><td>11</td><td>3</td></tr></tbody></table></div>"
            ]
          },
          "metadata": {},
          "execution_count": 51
        }
      ]
    },
    {
      "cell_type": "code",
      "source": [
        "train_pl.select(cs.string())\n"
      ],
      "metadata": {
        "id": "59PzoQoUud3_",
        "outputId": "72e9eb76-9435-4ac1-d9c7-399b0f751794",
        "colab": {
          "base_uri": "https://localhost:8080/",
          "height": 882
        }
      },
      "execution_count": 67,
      "outputs": [
        {
          "output_type": "execute_result",
          "data": {
            "text/plain": [
              "shape: (614, 8)\n",
              "┌──────────┬────────┬─────────┬────────────┬───────────────┬────────────┬────────────┬─────────────┐\n",
              "│ Loan_ID  ┆ Gender ┆ Married ┆ Dependents ┆ Education     ┆ Self_Emplo ┆ Property_A ┆ Loan_Status │\n",
              "│ ---      ┆ ---    ┆ ---     ┆ ---        ┆ ---           ┆ yed        ┆ rea        ┆ ---         │\n",
              "│ str      ┆ str    ┆ str     ┆ str        ┆ str           ┆ ---        ┆ ---        ┆ str         │\n",
              "│          ┆        ┆         ┆            ┆               ┆ str        ┆ str        ┆             │\n",
              "╞══════════╪════════╪═════════╪════════════╪═══════════════╪════════════╪════════════╪═════════════╡\n",
              "│ LP001002 ┆ Male   ┆ No      ┆ 0          ┆ Graduate      ┆ No         ┆ Urban      ┆ Y           │\n",
              "│ LP001003 ┆ Male   ┆ Yes     ┆ 1          ┆ Graduate      ┆ No         ┆ Rural      ┆ N           │\n",
              "│ LP001005 ┆ Male   ┆ Yes     ┆ 0          ┆ Graduate      ┆ Yes        ┆ Urban      ┆ Y           │\n",
              "│ LP001006 ┆ Male   ┆ Yes     ┆ 0          ┆ Not Graduate  ┆ No         ┆ Urban      ┆ Y           │\n",
              "│ …        ┆ …      ┆ …       ┆ …          ┆ …             ┆ …          ┆ …          ┆ …           │\n",
              "│ LP002979 ┆ Male   ┆ Yes     ┆ 3+         ┆ Graduate      ┆ No         ┆ Rural      ┆ Y           │\n",
              "│ LP002983 ┆ Male   ┆ Yes     ┆ 1          ┆ Graduate      ┆ No         ┆ Urban      ┆ Y           │\n",
              "│ LP002984 ┆ Male   ┆ Yes     ┆ 2          ┆ Graduate      ┆ No         ┆ Urban      ┆ Y           │\n",
              "│ LP002990 ┆ Female ┆ No      ┆ 0          ┆ Graduate      ┆ Yes        ┆ Semiurban  ┆ N           │\n",
              "└──────────┴────────┴─────────┴────────────┴───────────────┴────────────┴────────────┴─────────────┘"
            ],
            "text/html": [
              "<div><style>\n",
              ".dataframe > thead > tr > th,\n",
              ".dataframe > tbody > tr > td {\n",
              "  text-align: right;\n",
              "}\n",
              "</style>\n",
              "<small>shape: (614, 8)</small><table border=\"1\" class=\"dataframe\"><thead><tr><th>Loan_ID</th><th>Gender</th><th>Married</th><th>Dependents</th><th>Education</th><th>Self_Employed</th><th>Property_Area</th><th>Loan_Status</th></tr><tr><td>str</td><td>str</td><td>str</td><td>str</td><td>str</td><td>str</td><td>str</td><td>str</td></tr></thead><tbody><tr><td>&quot;LP001002&quot;</td><td>&quot;Male&quot;</td><td>&quot;No&quot;</td><td>&quot;0&quot;</td><td>&quot;Graduate&quot;</td><td>&quot;No&quot;</td><td>&quot;Urban&quot;</td><td>&quot;Y&quot;</td></tr><tr><td>&quot;LP001003&quot;</td><td>&quot;Male&quot;</td><td>&quot;Yes&quot;</td><td>&quot;1&quot;</td><td>&quot;Graduate&quot;</td><td>&quot;No&quot;</td><td>&quot;Rural&quot;</td><td>&quot;N&quot;</td></tr><tr><td>&quot;LP001005&quot;</td><td>&quot;Male&quot;</td><td>&quot;Yes&quot;</td><td>&quot;0&quot;</td><td>&quot;Graduate&quot;</td><td>&quot;Yes&quot;</td><td>&quot;Urban&quot;</td><td>&quot;Y&quot;</td></tr><tr><td>&quot;LP001006&quot;</td><td>&quot;Male&quot;</td><td>&quot;Yes&quot;</td><td>&quot;0&quot;</td><td>&quot;Not Graduate&quot;</td><td>&quot;No&quot;</td><td>&quot;Urban&quot;</td><td>&quot;Y&quot;</td></tr><tr><td>&quot;LP001008&quot;</td><td>&quot;Male&quot;</td><td>&quot;No&quot;</td><td>&quot;0&quot;</td><td>&quot;Graduate&quot;</td><td>&quot;No&quot;</td><td>&quot;Urban&quot;</td><td>&quot;Y&quot;</td></tr><tr><td>&quot;LP001011&quot;</td><td>&quot;Male&quot;</td><td>&quot;Yes&quot;</td><td>&quot;2&quot;</td><td>&quot;Graduate&quot;</td><td>&quot;Yes&quot;</td><td>&quot;Urban&quot;</td><td>&quot;Y&quot;</td></tr><tr><td>&quot;LP001013&quot;</td><td>&quot;Male&quot;</td><td>&quot;Yes&quot;</td><td>&quot;0&quot;</td><td>&quot;Not Graduate&quot;</td><td>&quot;No&quot;</td><td>&quot;Urban&quot;</td><td>&quot;Y&quot;</td></tr><tr><td>&quot;LP001014&quot;</td><td>&quot;Male&quot;</td><td>&quot;Yes&quot;</td><td>&quot;3+&quot;</td><td>&quot;Graduate&quot;</td><td>&quot;No&quot;</td><td>&quot;Semiurban&quot;</td><td>&quot;N&quot;</td></tr><tr><td>&quot;LP001018&quot;</td><td>&quot;Male&quot;</td><td>&quot;Yes&quot;</td><td>&quot;2&quot;</td><td>&quot;Graduate&quot;</td><td>&quot;No&quot;</td><td>&quot;Urban&quot;</td><td>&quot;Y&quot;</td></tr><tr><td>&quot;LP001020&quot;</td><td>&quot;Male&quot;</td><td>&quot;Yes&quot;</td><td>&quot;1&quot;</td><td>&quot;Graduate&quot;</td><td>&quot;No&quot;</td><td>&quot;Semiurban&quot;</td><td>&quot;N&quot;</td></tr><tr><td>&quot;LP001024&quot;</td><td>&quot;Male&quot;</td><td>&quot;Yes&quot;</td><td>&quot;2&quot;</td><td>&quot;Graduate&quot;</td><td>&quot;No&quot;</td><td>&quot;Urban&quot;</td><td>&quot;Y&quot;</td></tr><tr><td>&quot;LP001027&quot;</td><td>&quot;Male&quot;</td><td>&quot;Yes&quot;</td><td>&quot;2&quot;</td><td>&quot;Graduate&quot;</td><td>null</td><td>&quot;Urban&quot;</td><td>&quot;Y&quot;</td></tr><tr><td>&hellip;</td><td>&hellip;</td><td>&hellip;</td><td>&hellip;</td><td>&hellip;</td><td>&hellip;</td><td>&hellip;</td><td>&hellip;</td></tr><tr><td>&quot;LP002953&quot;</td><td>&quot;Male&quot;</td><td>&quot;Yes&quot;</td><td>&quot;3+&quot;</td><td>&quot;Graduate&quot;</td><td>&quot;No&quot;</td><td>&quot;Urban&quot;</td><td>&quot;Y&quot;</td></tr><tr><td>&quot;LP002958&quot;</td><td>&quot;Male&quot;</td><td>&quot;No&quot;</td><td>&quot;0&quot;</td><td>&quot;Graduate&quot;</td><td>&quot;No&quot;</td><td>&quot;Rural&quot;</td><td>&quot;Y&quot;</td></tr><tr><td>&quot;LP002959&quot;</td><td>&quot;Female&quot;</td><td>&quot;Yes&quot;</td><td>&quot;1&quot;</td><td>&quot;Graduate&quot;</td><td>&quot;No&quot;</td><td>&quot;Semiurban&quot;</td><td>&quot;Y&quot;</td></tr><tr><td>&quot;LP002960&quot;</td><td>&quot;Male&quot;</td><td>&quot;Yes&quot;</td><td>&quot;0&quot;</td><td>&quot;Not Graduate&quot;</td><td>&quot;No&quot;</td><td>&quot;Urban&quot;</td><td>&quot;N&quot;</td></tr><tr><td>&quot;LP002961&quot;</td><td>&quot;Male&quot;</td><td>&quot;Yes&quot;</td><td>&quot;1&quot;</td><td>&quot;Graduate&quot;</td><td>&quot;No&quot;</td><td>&quot;Semiurban&quot;</td><td>&quot;Y&quot;</td></tr><tr><td>&quot;LP002964&quot;</td><td>&quot;Male&quot;</td><td>&quot;Yes&quot;</td><td>&quot;2&quot;</td><td>&quot;Not Graduate&quot;</td><td>&quot;No&quot;</td><td>&quot;Rural&quot;</td><td>&quot;Y&quot;</td></tr><tr><td>&quot;LP002974&quot;</td><td>&quot;Male&quot;</td><td>&quot;Yes&quot;</td><td>&quot;0&quot;</td><td>&quot;Graduate&quot;</td><td>&quot;No&quot;</td><td>&quot;Rural&quot;</td><td>&quot;Y&quot;</td></tr><tr><td>&quot;LP002978&quot;</td><td>&quot;Female&quot;</td><td>&quot;No&quot;</td><td>&quot;0&quot;</td><td>&quot;Graduate&quot;</td><td>&quot;No&quot;</td><td>&quot;Rural&quot;</td><td>&quot;Y&quot;</td></tr><tr><td>&quot;LP002979&quot;</td><td>&quot;Male&quot;</td><td>&quot;Yes&quot;</td><td>&quot;3+&quot;</td><td>&quot;Graduate&quot;</td><td>&quot;No&quot;</td><td>&quot;Rural&quot;</td><td>&quot;Y&quot;</td></tr><tr><td>&quot;LP002983&quot;</td><td>&quot;Male&quot;</td><td>&quot;Yes&quot;</td><td>&quot;1&quot;</td><td>&quot;Graduate&quot;</td><td>&quot;No&quot;</td><td>&quot;Urban&quot;</td><td>&quot;Y&quot;</td></tr><tr><td>&quot;LP002984&quot;</td><td>&quot;Male&quot;</td><td>&quot;Yes&quot;</td><td>&quot;2&quot;</td><td>&quot;Graduate&quot;</td><td>&quot;No&quot;</td><td>&quot;Urban&quot;</td><td>&quot;Y&quot;</td></tr><tr><td>&quot;LP002990&quot;</td><td>&quot;Female&quot;</td><td>&quot;No&quot;</td><td>&quot;0&quot;</td><td>&quot;Graduate&quot;</td><td>&quot;Yes&quot;</td><td>&quot;Semiurban&quot;</td><td>&quot;N&quot;</td></tr></tbody></table></div>"
            ]
          },
          "metadata": {},
          "execution_count": 67
        }
      ]
    },
    {
      "cell_type": "markdown",
      "source": [
        "### Filter"
      ],
      "metadata": {
        "id": "Jyi0YstknTWQ"
      }
    },
    {
      "cell_type": "code",
      "source": [
        "train_pl.\\\n",
        "    filter(\n",
        "        pl.col(\"Gender\") == \"Female\"\n",
        "        ).\\\n",
        "    limit(3)"
      ],
      "metadata": {
        "id": "TXBYaThQzuAD",
        "outputId": "d66cd57f-d22d-4378-d423-cd5d4578db4b",
        "colab": {
          "base_uri": "https://localhost:8080/",
          "height": 192
        }
      },
      "execution_count": 84,
      "outputs": [
        {
          "output_type": "execute_result",
          "data": {
            "text/plain": [
              "shape: (3, 13)\n",
              "┌──────────┬────────┬─────────┬────────────┬───┬────────────┬────────────┬────────────┬───────────┐\n",
              "│ Loan_ID  ┆ Gender ┆ Married ┆ Dependents ┆ … ┆ Loan_Amoun ┆ Credit_His ┆ Property_A ┆ Loan_Stat │\n",
              "│ ---      ┆ ---    ┆ ---     ┆ ---        ┆   ┆ t_Term     ┆ tory       ┆ rea        ┆ us        │\n",
              "│ str      ┆ str    ┆ str     ┆ str        ┆   ┆ ---        ┆ ---        ┆ ---        ┆ ---       │\n",
              "│          ┆        ┆         ┆            ┆   ┆ i64        ┆ i64        ┆ str        ┆ str       │\n",
              "╞══════════╪════════╪═════════╪════════════╪═══╪════════════╪════════════╪════════════╪═══════════╡\n",
              "│ LP001036 ┆ Female ┆ No      ┆ 0          ┆ … ┆ 360        ┆ 0          ┆ Urban      ┆ N         │\n",
              "│ LP001087 ┆ Female ┆ No      ┆ 2          ┆ … ┆ 360        ┆ 1          ┆ Semiurban  ┆ Y         │\n",
              "│ LP001112 ┆ Female ┆ Yes     ┆ 0          ┆ … ┆ 360        ┆ 1          ┆ Semiurban  ┆ Y         │\n",
              "└──────────┴────────┴─────────┴────────────┴───┴────────────┴────────────┴────────────┴───────────┘"
            ],
            "text/html": [
              "<div><style>\n",
              ".dataframe > thead > tr > th,\n",
              ".dataframe > tbody > tr > td {\n",
              "  text-align: right;\n",
              "}\n",
              "</style>\n",
              "<small>shape: (3, 13)</small><table border=\"1\" class=\"dataframe\"><thead><tr><th>Loan_ID</th><th>Gender</th><th>Married</th><th>Dependents</th><th>Education</th><th>Self_Employed</th><th>ApplicantIncome</th><th>CoapplicantIncome</th><th>LoanAmount</th><th>Loan_Amount_Term</th><th>Credit_History</th><th>Property_Area</th><th>Loan_Status</th></tr><tr><td>str</td><td>str</td><td>str</td><td>str</td><td>str</td><td>str</td><td>i64</td><td>f64</td><td>i64</td><td>i64</td><td>i64</td><td>str</td><td>str</td></tr></thead><tbody><tr><td>&quot;LP001036&quot;</td><td>&quot;Female&quot;</td><td>&quot;No&quot;</td><td>&quot;0&quot;</td><td>&quot;Graduate&quot;</td><td>&quot;No&quot;</td><td>3510</td><td>0.0</td><td>76</td><td>360</td><td>0</td><td>&quot;Urban&quot;</td><td>&quot;N&quot;</td></tr><tr><td>&quot;LP001087&quot;</td><td>&quot;Female&quot;</td><td>&quot;No&quot;</td><td>&quot;2&quot;</td><td>&quot;Graduate&quot;</td><td>null</td><td>3750</td><td>2083.0</td><td>120</td><td>360</td><td>1</td><td>&quot;Semiurban&quot;</td><td>&quot;Y&quot;</td></tr><tr><td>&quot;LP001112&quot;</td><td>&quot;Female&quot;</td><td>&quot;Yes&quot;</td><td>&quot;0&quot;</td><td>&quot;Graduate&quot;</td><td>&quot;No&quot;</td><td>3667</td><td>1459.0</td><td>144</td><td>360</td><td>1</td><td>&quot;Semiurban&quot;</td><td>&quot;Y&quot;</td></tr></tbody></table></div>"
            ]
          },
          "metadata": {},
          "execution_count": 84
        }
      ]
    },
    {
      "cell_type": "code",
      "source": [
        "train_pl.filter(\n",
        "    pl.col(\"ApplicantIncome\").is_between(2000, 4000),\n",
        ").limit(3)"
      ],
      "metadata": {
        "id": "VyGy4bQ-nJlO",
        "outputId": "68493137-108e-4107-f1f6-3742409f7084",
        "colab": {
          "base_uri": "https://localhost:8080/",
          "height": 192
        }
      },
      "execution_count": 26,
      "outputs": [
        {
          "output_type": "execute_result",
          "data": {
            "text/plain": [
              "shape: (3, 13)\n",
              "┌──────────┬────────┬─────────┬────────────┬───┬────────────┬────────────┬────────────┬───────────┐\n",
              "│ Loan_ID  ┆ Gender ┆ Married ┆ Dependents ┆ … ┆ Loan_Amoun ┆ Credit_His ┆ Property_A ┆ Loan_Stat │\n",
              "│ ---      ┆ ---    ┆ ---     ┆ ---        ┆   ┆ t_Term     ┆ tory       ┆ rea        ┆ us        │\n",
              "│ str      ┆ str    ┆ str     ┆ str        ┆   ┆ ---        ┆ ---        ┆ ---        ┆ ---       │\n",
              "│          ┆        ┆         ┆            ┆   ┆ i64        ┆ i64        ┆ str        ┆ str       │\n",
              "╞══════════╪════════╪═════════╪════════════╪═══╪════════════╪════════════╪════════════╪═══════════╡\n",
              "│ LP001005 ┆ Male   ┆ Yes     ┆ 0          ┆ … ┆ 360        ┆ 1          ┆ Urban      ┆ Y         │\n",
              "│ LP001006 ┆ Male   ┆ Yes     ┆ 0          ┆ … ┆ 360        ┆ 1          ┆ Urban      ┆ Y         │\n",
              "│ LP001013 ┆ Male   ┆ Yes     ┆ 0          ┆ … ┆ 360        ┆ 1          ┆ Urban      ┆ Y         │\n",
              "└──────────┴────────┴─────────┴────────────┴───┴────────────┴────────────┴────────────┴───────────┘"
            ],
            "text/html": [
              "<div><style>\n",
              ".dataframe > thead > tr > th,\n",
              ".dataframe > tbody > tr > td {\n",
              "  text-align: right;\n",
              "}\n",
              "</style>\n",
              "<small>shape: (3, 13)</small><table border=\"1\" class=\"dataframe\"><thead><tr><th>Loan_ID</th><th>Gender</th><th>Married</th><th>Dependents</th><th>Education</th><th>Self_Employed</th><th>ApplicantIncome</th><th>CoapplicantIncome</th><th>LoanAmount</th><th>Loan_Amount_Term</th><th>Credit_History</th><th>Property_Area</th><th>Loan_Status</th></tr><tr><td>str</td><td>str</td><td>str</td><td>str</td><td>str</td><td>str</td><td>i64</td><td>f64</td><td>i64</td><td>i64</td><td>i64</td><td>str</td><td>str</td></tr></thead><tbody><tr><td>&quot;LP001005&quot;</td><td>&quot;Male&quot;</td><td>&quot;Yes&quot;</td><td>&quot;0&quot;</td><td>&quot;Graduate&quot;</td><td>&quot;Yes&quot;</td><td>3000</td><td>0.0</td><td>66</td><td>360</td><td>1</td><td>&quot;Urban&quot;</td><td>&quot;Y&quot;</td></tr><tr><td>&quot;LP001006&quot;</td><td>&quot;Male&quot;</td><td>&quot;Yes&quot;</td><td>&quot;0&quot;</td><td>&quot;Not Graduate&quot;</td><td>&quot;No&quot;</td><td>2583</td><td>2358.0</td><td>120</td><td>360</td><td>1</td><td>&quot;Urban&quot;</td><td>&quot;Y&quot;</td></tr><tr><td>&quot;LP001013&quot;</td><td>&quot;Male&quot;</td><td>&quot;Yes&quot;</td><td>&quot;0&quot;</td><td>&quot;Not Graduate&quot;</td><td>&quot;No&quot;</td><td>2333</td><td>1516.0</td><td>95</td><td>360</td><td>1</td><td>&quot;Urban&quot;</td><td>&quot;Y&quot;</td></tr></tbody></table></div>"
            ]
          },
          "metadata": {},
          "execution_count": 26
        }
      ]
    },
    {
      "cell_type": "code",
      "source": [
        "# train_pl.filter((pl.col(\"ApplicantIncome\") <= 2000) & (pl.col(\"Gender\").is_not_nan())) # InvalidOperationError: `is_not_nan` operation not supported for dtype `str`\n",
        "# train_pl.filter((pl.col(\"ApplicantIncome\") <= 2000) & (pl.col(\"Gender\").is_null())) # is_not_null() is needed for string columns\n",
        "train_pl.filter((pl.col(\"ApplicantIncome\") <= 2000) & (pl.col(\"Gender\").is_null()))"
      ],
      "metadata": {
        "id": "RKTSNe4jnq1o",
        "outputId": "68d0b931-5b16-4941-848c-1df8da2930e7",
        "colab": {
          "base_uri": "https://localhost:8080/",
          "height": 129
        }
      },
      "execution_count": 29,
      "outputs": [
        {
          "output_type": "execute_result",
          "data": {
            "text/plain": [
              "shape: (1, 13)\n",
              "┌──────────┬────────┬─────────┬────────────┬───┬────────────┬────────────┬────────────┬───────────┐\n",
              "│ Loan_ID  ┆ Gender ┆ Married ┆ Dependents ┆ … ┆ Loan_Amoun ┆ Credit_His ┆ Property_A ┆ Loan_Stat │\n",
              "│ ---      ┆ ---    ┆ ---     ┆ ---        ┆   ┆ t_Term     ┆ tory       ┆ rea        ┆ us        │\n",
              "│ str      ┆ str    ┆ str     ┆ str        ┆   ┆ ---        ┆ ---        ┆ ---        ┆ ---       │\n",
              "│          ┆        ┆         ┆            ┆   ┆ i64        ┆ i64        ┆ str        ┆ str       │\n",
              "╞══════════╪════════╪═════════╪════════════╪═══╪════════════╪════════════╪════════════╪═══════════╡\n",
              "│ LP001644 ┆ null   ┆ Yes     ┆ 0          ┆ … ┆ 360        ┆ 1          ┆ Rural      ┆ Y         │\n",
              "└──────────┴────────┴─────────┴────────────┴───┴────────────┴────────────┴────────────┴───────────┘"
            ],
            "text/html": [
              "<div><style>\n",
              ".dataframe > thead > tr > th,\n",
              ".dataframe > tbody > tr > td {\n",
              "  text-align: right;\n",
              "}\n",
              "</style>\n",
              "<small>shape: (1, 13)</small><table border=\"1\" class=\"dataframe\"><thead><tr><th>Loan_ID</th><th>Gender</th><th>Married</th><th>Dependents</th><th>Education</th><th>Self_Employed</th><th>ApplicantIncome</th><th>CoapplicantIncome</th><th>LoanAmount</th><th>Loan_Amount_Term</th><th>Credit_History</th><th>Property_Area</th><th>Loan_Status</th></tr><tr><td>str</td><td>str</td><td>str</td><td>str</td><td>str</td><td>str</td><td>i64</td><td>f64</td><td>i64</td><td>i64</td><td>i64</td><td>str</td><td>str</td></tr></thead><tbody><tr><td>&quot;LP001644&quot;</td><td>null</td><td>&quot;Yes&quot;</td><td>&quot;0&quot;</td><td>&quot;Graduate&quot;</td><td>&quot;Yes&quot;</td><td>674</td><td>5296.0</td><td>168</td><td>360</td><td>1</td><td>&quot;Rural&quot;</td><td>&quot;Y&quot;</td></tr></tbody></table></div>"
            ]
          },
          "metadata": {},
          "execution_count": 29
        }
      ]
    },
    {
      "cell_type": "markdown",
      "source": [
        "### With columns"
      ],
      "metadata": {
        "id": "mR5cw6G4o7sO"
      }
    },
    {
      "cell_type": "code",
      "source": [
        "# train_pl.with_columns(\n",
        "#     (pl.col(\"ApplicantIncome\") + pl.col(\"CoapplicantIncome\")).alias(\"TotalIncome\"),\n",
        "#     (pl.col(\"ApplicantIncome\") / pl.col(\"TotalIncome\")).alias(\"ApplicantIncome %\")\n",
        "# ).limit(3)\n",
        "\n",
        "train_pl.\\\n",
        "    with_columns((pl.col(\"ApplicantIncome\") + pl.col(\"CoapplicantIncome\")).alias(\"TotalIncome\")). \\\n",
        "    with_columns((pl.col(\"ApplicantIncome\") / pl.col(\"TotalIncome\")).alias(\"ApplicantIncome %\")).limit(3)"
      ],
      "metadata": {
        "id": "mZHDe75Onqqo",
        "outputId": "2717e6d5-4ad5-4534-8e98-350d41e7a23b",
        "colab": {
          "base_uri": "https://localhost:8080/",
          "height": 192
        }
      },
      "execution_count": 41,
      "outputs": [
        {
          "output_type": "execute_result",
          "data": {
            "text/plain": [
              "shape: (3, 15)\n",
              "┌──────────┬────────┬─────────┬────────────┬───┬────────────┬───────────┬───────────┬──────────────┐\n",
              "│ Loan_ID  ┆ Gender ┆ Married ┆ Dependents ┆ … ┆ Property_A ┆ Loan_Stat ┆ TotalInco ┆ ApplicantInc │\n",
              "│ ---      ┆ ---    ┆ ---     ┆ ---        ┆   ┆ rea        ┆ us        ┆ me        ┆ ome %        │\n",
              "│ str      ┆ str    ┆ str     ┆ str        ┆   ┆ ---        ┆ ---       ┆ ---       ┆ ---          │\n",
              "│          ┆        ┆         ┆            ┆   ┆ str        ┆ str       ┆ f64       ┆ f64          │\n",
              "╞══════════╪════════╪═════════╪════════════╪═══╪════════════╪═══════════╪═══════════╪══════════════╡\n",
              "│ LP001002 ┆ Male   ┆ No      ┆ 0          ┆ … ┆ Urban      ┆ Y         ┆ 5849.0    ┆ 1.0          │\n",
              "│ LP001003 ┆ Male   ┆ Yes     ┆ 1          ┆ … ┆ Rural      ┆ N         ┆ 6091.0    ┆ 0.752422     │\n",
              "│ LP001005 ┆ Male   ┆ Yes     ┆ 0          ┆ … ┆ Urban      ┆ Y         ┆ 3000.0    ┆ 1.0          │\n",
              "└──────────┴────────┴─────────┴────────────┴───┴────────────┴───────────┴───────────┴──────────────┘"
            ],
            "text/html": [
              "<div><style>\n",
              ".dataframe > thead > tr > th,\n",
              ".dataframe > tbody > tr > td {\n",
              "  text-align: right;\n",
              "}\n",
              "</style>\n",
              "<small>shape: (3, 15)</small><table border=\"1\" class=\"dataframe\"><thead><tr><th>Loan_ID</th><th>Gender</th><th>Married</th><th>Dependents</th><th>Education</th><th>Self_Employed</th><th>ApplicantIncome</th><th>CoapplicantIncome</th><th>LoanAmount</th><th>Loan_Amount_Term</th><th>Credit_History</th><th>Property_Area</th><th>Loan_Status</th><th>TotalIncome</th><th>ApplicantIncome %</th></tr><tr><td>str</td><td>str</td><td>str</td><td>str</td><td>str</td><td>str</td><td>i64</td><td>f64</td><td>i64</td><td>i64</td><td>i64</td><td>str</td><td>str</td><td>f64</td><td>f64</td></tr></thead><tbody><tr><td>&quot;LP001002&quot;</td><td>&quot;Male&quot;</td><td>&quot;No&quot;</td><td>&quot;0&quot;</td><td>&quot;Graduate&quot;</td><td>&quot;No&quot;</td><td>5849</td><td>0.0</td><td>null</td><td>360</td><td>1</td><td>&quot;Urban&quot;</td><td>&quot;Y&quot;</td><td>5849.0</td><td>1.0</td></tr><tr><td>&quot;LP001003&quot;</td><td>&quot;Male&quot;</td><td>&quot;Yes&quot;</td><td>&quot;1&quot;</td><td>&quot;Graduate&quot;</td><td>&quot;No&quot;</td><td>4583</td><td>1508.0</td><td>128</td><td>360</td><td>1</td><td>&quot;Rural&quot;</td><td>&quot;N&quot;</td><td>6091.0</td><td>0.752422</td></tr><tr><td>&quot;LP001005&quot;</td><td>&quot;Male&quot;</td><td>&quot;Yes&quot;</td><td>&quot;0&quot;</td><td>&quot;Graduate&quot;</td><td>&quot;Yes&quot;</td><td>3000</td><td>0.0</td><td>66</td><td>360</td><td>1</td><td>&quot;Urban&quot;</td><td>&quot;Y&quot;</td><td>3000.0</td><td>1.0</td></tr></tbody></table></div>"
            ]
          },
          "metadata": {},
          "execution_count": 41
        }
      ]
    },
    {
      "cell_type": "code",
      "source": [
        "train_pl.\\\n",
        "    select(\n",
        "        pl.all(),\n",
        "        pl.col(\"ApplicantIncome\").sum().over(\"Education\").alias(\"ApplicantIncome_by_education\")\n",
        "    ).\\\n",
        "    limit(3)"
      ],
      "metadata": {
        "id": "Ps8XJ2i2y4fn",
        "outputId": "a7d48016-22b1-470d-dbf4-8e7e679fd5be",
        "colab": {
          "base_uri": "https://localhost:8080/",
          "height": 192
        }
      },
      "execution_count": 90,
      "outputs": [
        {
          "output_type": "execute_result",
          "data": {
            "text/plain": [
              "shape: (3, 14)\n",
              "┌──────────┬────────┬─────────┬────────────┬───┬────────────┬────────────┬───────────┬────────────┐\n",
              "│ Loan_ID  ┆ Gender ┆ Married ┆ Dependents ┆ … ┆ Credit_His ┆ Property_A ┆ Loan_Stat ┆ ApplicantI │\n",
              "│ ---      ┆ ---    ┆ ---     ┆ ---        ┆   ┆ tory       ┆ rea        ┆ us        ┆ ncome_by_e │\n",
              "│ str      ┆ str    ┆ str     ┆ str        ┆   ┆ ---        ┆ ---        ┆ ---       ┆ ducation   │\n",
              "│          ┆        ┆         ┆            ┆   ┆ i64        ┆ str        ┆ str       ┆ ---        │\n",
              "│          ┆        ┆         ┆            ┆   ┆            ┆            ┆           ┆ i64        │\n",
              "╞══════════╪════════╪═════════╪════════════╪═══╪════════════╪════════════╪═══════════╪════════════╡\n",
              "│ LP001002 ┆ Male   ┆ No      ┆ 0          ┆ … ┆ 1          ┆ Urban      ┆ Y         ┆ 2811568    │\n",
              "│ LP001003 ┆ Male   ┆ Yes     ┆ 1          ┆ … ┆ 1          ┆ Rural      ┆ N         ┆ 2811568    │\n",
              "│ LP001005 ┆ Male   ┆ Yes     ┆ 0          ┆ … ┆ 1          ┆ Urban      ┆ Y         ┆ 2811568    │\n",
              "└──────────┴────────┴─────────┴────────────┴───┴────────────┴────────────┴───────────┴────────────┘"
            ],
            "text/html": [
              "<div><style>\n",
              ".dataframe > thead > tr > th,\n",
              ".dataframe > tbody > tr > td {\n",
              "  text-align: right;\n",
              "}\n",
              "</style>\n",
              "<small>shape: (3, 14)</small><table border=\"1\" class=\"dataframe\"><thead><tr><th>Loan_ID</th><th>Gender</th><th>Married</th><th>Dependents</th><th>Education</th><th>Self_Employed</th><th>ApplicantIncome</th><th>CoapplicantIncome</th><th>LoanAmount</th><th>Loan_Amount_Term</th><th>Credit_History</th><th>Property_Area</th><th>Loan_Status</th><th>ApplicantIncome_by_education</th></tr><tr><td>str</td><td>str</td><td>str</td><td>str</td><td>str</td><td>str</td><td>i64</td><td>f64</td><td>i64</td><td>i64</td><td>i64</td><td>str</td><td>str</td><td>i64</td></tr></thead><tbody><tr><td>&quot;LP001002&quot;</td><td>&quot;Male&quot;</td><td>&quot;No&quot;</td><td>&quot;0&quot;</td><td>&quot;Graduate&quot;</td><td>&quot;No&quot;</td><td>5849</td><td>0.0</td><td>null</td><td>360</td><td>1</td><td>&quot;Urban&quot;</td><td>&quot;Y&quot;</td><td>2811568</td></tr><tr><td>&quot;LP001003&quot;</td><td>&quot;Male&quot;</td><td>&quot;Yes&quot;</td><td>&quot;1&quot;</td><td>&quot;Graduate&quot;</td><td>&quot;No&quot;</td><td>4583</td><td>1508.0</td><td>128</td><td>360</td><td>1</td><td>&quot;Rural&quot;</td><td>&quot;N&quot;</td><td>2811568</td></tr><tr><td>&quot;LP001005&quot;</td><td>&quot;Male&quot;</td><td>&quot;Yes&quot;</td><td>&quot;0&quot;</td><td>&quot;Graduate&quot;</td><td>&quot;Yes&quot;</td><td>3000</td><td>0.0</td><td>66</td><td>360</td><td>1</td><td>&quot;Urban&quot;</td><td>&quot;Y&quot;</td><td>2811568</td></tr></tbody></table></div>"
            ]
          },
          "metadata": {},
          "execution_count": 90
        }
      ]
    },
    {
      "cell_type": "markdown",
      "source": [
        "### Grouping"
      ],
      "metadata": {
        "id": "08k9Qf3MFcAm"
      }
    },
    {
      "cell_type": "code",
      "source": [
        "train_pd.groupby(['Gender', 'Married'], dropna=False).size().to_frame('N').reset_index()"
      ],
      "metadata": {
        "colab": {
          "base_uri": "https://localhost:8080/",
          "height": 300
        },
        "id": "VbrvWoAVAgC0",
        "outputId": "fdf952ec-22a7-4890-cefe-53396fc77788"
      },
      "execution_count": 18,
      "outputs": [
        {
          "output_type": "execute_result",
          "data": {
            "text/plain": [
              "   Gender Married    N\n",
              "0  Female      No   80\n",
              "1  Female     Yes   31\n",
              "2  Female     NaN    1\n",
              "3    Male      No  130\n",
              "4    Male     Yes  357\n",
              "5    Male     NaN    2\n",
              "6     NaN      No    3\n",
              "7     NaN     Yes   10"
            ],
            "text/html": [
              "\n",
              "  <div id=\"df-2d196d9e-d2b9-4453-968a-94290dc3d20d\" class=\"colab-df-container\">\n",
              "    <div>\n",
              "<style scoped>\n",
              "    .dataframe tbody tr th:only-of-type {\n",
              "        vertical-align: middle;\n",
              "    }\n",
              "\n",
              "    .dataframe tbody tr th {\n",
              "        vertical-align: top;\n",
              "    }\n",
              "\n",
              "    .dataframe thead th {\n",
              "        text-align: right;\n",
              "    }\n",
              "</style>\n",
              "<table border=\"1\" class=\"dataframe\">\n",
              "  <thead>\n",
              "    <tr style=\"text-align: right;\">\n",
              "      <th></th>\n",
              "      <th>Gender</th>\n",
              "      <th>Married</th>\n",
              "      <th>N</th>\n",
              "    </tr>\n",
              "  </thead>\n",
              "  <tbody>\n",
              "    <tr>\n",
              "      <th>0</th>\n",
              "      <td>Female</td>\n",
              "      <td>No</td>\n",
              "      <td>80</td>\n",
              "    </tr>\n",
              "    <tr>\n",
              "      <th>1</th>\n",
              "      <td>Female</td>\n",
              "      <td>Yes</td>\n",
              "      <td>31</td>\n",
              "    </tr>\n",
              "    <tr>\n",
              "      <th>2</th>\n",
              "      <td>Female</td>\n",
              "      <td>NaN</td>\n",
              "      <td>1</td>\n",
              "    </tr>\n",
              "    <tr>\n",
              "      <th>3</th>\n",
              "      <td>Male</td>\n",
              "      <td>No</td>\n",
              "      <td>130</td>\n",
              "    </tr>\n",
              "    <tr>\n",
              "      <th>4</th>\n",
              "      <td>Male</td>\n",
              "      <td>Yes</td>\n",
              "      <td>357</td>\n",
              "    </tr>\n",
              "    <tr>\n",
              "      <th>5</th>\n",
              "      <td>Male</td>\n",
              "      <td>NaN</td>\n",
              "      <td>2</td>\n",
              "    </tr>\n",
              "    <tr>\n",
              "      <th>6</th>\n",
              "      <td>NaN</td>\n",
              "      <td>No</td>\n",
              "      <td>3</td>\n",
              "    </tr>\n",
              "    <tr>\n",
              "      <th>7</th>\n",
              "      <td>NaN</td>\n",
              "      <td>Yes</td>\n",
              "      <td>10</td>\n",
              "    </tr>\n",
              "  </tbody>\n",
              "</table>\n",
              "</div>\n",
              "    <div class=\"colab-df-buttons\">\n",
              "\n",
              "  <div class=\"colab-df-container\">\n",
              "    <button class=\"colab-df-convert\" onclick=\"convertToInteractive('df-2d196d9e-d2b9-4453-968a-94290dc3d20d')\"\n",
              "            title=\"Convert this dataframe to an interactive table.\"\n",
              "            style=\"display:none;\">\n",
              "\n",
              "  <svg xmlns=\"http://www.w3.org/2000/svg\" height=\"24px\" viewBox=\"0 -960 960 960\">\n",
              "    <path d=\"M120-120v-720h720v720H120Zm60-500h600v-160H180v160Zm220 220h160v-160H400v160Zm0 220h160v-160H400v160ZM180-400h160v-160H180v160Zm440 0h160v-160H620v160ZM180-180h160v-160H180v160Zm440 0h160v-160H620v160Z\"/>\n",
              "  </svg>\n",
              "    </button>\n",
              "\n",
              "  <style>\n",
              "    .colab-df-container {\n",
              "      display:flex;\n",
              "      gap: 12px;\n",
              "    }\n",
              "\n",
              "    .colab-df-convert {\n",
              "      background-color: #E8F0FE;\n",
              "      border: none;\n",
              "      border-radius: 50%;\n",
              "      cursor: pointer;\n",
              "      display: none;\n",
              "      fill: #1967D2;\n",
              "      height: 32px;\n",
              "      padding: 0 0 0 0;\n",
              "      width: 32px;\n",
              "    }\n",
              "\n",
              "    .colab-df-convert:hover {\n",
              "      background-color: #E2EBFA;\n",
              "      box-shadow: 0px 1px 2px rgba(60, 64, 67, 0.3), 0px 1px 3px 1px rgba(60, 64, 67, 0.15);\n",
              "      fill: #174EA6;\n",
              "    }\n",
              "\n",
              "    .colab-df-buttons div {\n",
              "      margin-bottom: 4px;\n",
              "    }\n",
              "\n",
              "    [theme=dark] .colab-df-convert {\n",
              "      background-color: #3B4455;\n",
              "      fill: #D2E3FC;\n",
              "    }\n",
              "\n",
              "    [theme=dark] .colab-df-convert:hover {\n",
              "      background-color: #434B5C;\n",
              "      box-shadow: 0px 1px 3px 1px rgba(0, 0, 0, 0.15);\n",
              "      filter: drop-shadow(0px 1px 2px rgba(0, 0, 0, 0.3));\n",
              "      fill: #FFFFFF;\n",
              "    }\n",
              "  </style>\n",
              "\n",
              "    <script>\n",
              "      const buttonEl =\n",
              "        document.querySelector('#df-2d196d9e-d2b9-4453-968a-94290dc3d20d button.colab-df-convert');\n",
              "      buttonEl.style.display =\n",
              "        google.colab.kernel.accessAllowed ? 'block' : 'none';\n",
              "\n",
              "      async function convertToInteractive(key) {\n",
              "        const element = document.querySelector('#df-2d196d9e-d2b9-4453-968a-94290dc3d20d');\n",
              "        const dataTable =\n",
              "          await google.colab.kernel.invokeFunction('convertToInteractive',\n",
              "                                                    [key], {});\n",
              "        if (!dataTable) return;\n",
              "\n",
              "        const docLinkHtml = 'Like what you see? Visit the ' +\n",
              "          '<a target=\"_blank\" href=https://colab.research.google.com/notebooks/data_table.ipynb>data table notebook</a>'\n",
              "          + ' to learn more about interactive tables.';\n",
              "        element.innerHTML = '';\n",
              "        dataTable['output_type'] = 'display_data';\n",
              "        await google.colab.output.renderOutput(dataTable, element);\n",
              "        const docLink = document.createElement('div');\n",
              "        docLink.innerHTML = docLinkHtml;\n",
              "        element.appendChild(docLink);\n",
              "      }\n",
              "    </script>\n",
              "  </div>\n",
              "\n",
              "\n",
              "<div id=\"df-fc83ff7c-4a58-4eda-8ecb-d7221390882f\">\n",
              "  <button class=\"colab-df-quickchart\" onclick=\"quickchart('df-fc83ff7c-4a58-4eda-8ecb-d7221390882f')\"\n",
              "            title=\"Suggest charts\"\n",
              "            style=\"display:none;\">\n",
              "\n",
              "<svg xmlns=\"http://www.w3.org/2000/svg\" height=\"24px\"viewBox=\"0 0 24 24\"\n",
              "     width=\"24px\">\n",
              "    <g>\n",
              "        <path d=\"M19 3H5c-1.1 0-2 .9-2 2v14c0 1.1.9 2 2 2h14c1.1 0 2-.9 2-2V5c0-1.1-.9-2-2-2zM9 17H7v-7h2v7zm4 0h-2V7h2v10zm4 0h-2v-4h2v4z\"/>\n",
              "    </g>\n",
              "</svg>\n",
              "  </button>\n",
              "\n",
              "<style>\n",
              "  .colab-df-quickchart {\n",
              "      --bg-color: #E8F0FE;\n",
              "      --fill-color: #1967D2;\n",
              "      --hover-bg-color: #E2EBFA;\n",
              "      --hover-fill-color: #174EA6;\n",
              "      --disabled-fill-color: #AAA;\n",
              "      --disabled-bg-color: #DDD;\n",
              "  }\n",
              "\n",
              "  [theme=dark] .colab-df-quickchart {\n",
              "      --bg-color: #3B4455;\n",
              "      --fill-color: #D2E3FC;\n",
              "      --hover-bg-color: #434B5C;\n",
              "      --hover-fill-color: #FFFFFF;\n",
              "      --disabled-bg-color: #3B4455;\n",
              "      --disabled-fill-color: #666;\n",
              "  }\n",
              "\n",
              "  .colab-df-quickchart {\n",
              "    background-color: var(--bg-color);\n",
              "    border: none;\n",
              "    border-radius: 50%;\n",
              "    cursor: pointer;\n",
              "    display: none;\n",
              "    fill: var(--fill-color);\n",
              "    height: 32px;\n",
              "    padding: 0;\n",
              "    width: 32px;\n",
              "  }\n",
              "\n",
              "  .colab-df-quickchart:hover {\n",
              "    background-color: var(--hover-bg-color);\n",
              "    box-shadow: 0 1px 2px rgba(60, 64, 67, 0.3), 0 1px 3px 1px rgba(60, 64, 67, 0.15);\n",
              "    fill: var(--button-hover-fill-color);\n",
              "  }\n",
              "\n",
              "  .colab-df-quickchart-complete:disabled,\n",
              "  .colab-df-quickchart-complete:disabled:hover {\n",
              "    background-color: var(--disabled-bg-color);\n",
              "    fill: var(--disabled-fill-color);\n",
              "    box-shadow: none;\n",
              "  }\n",
              "\n",
              "  .colab-df-spinner {\n",
              "    border: 2px solid var(--fill-color);\n",
              "    border-color: transparent;\n",
              "    border-bottom-color: var(--fill-color);\n",
              "    animation:\n",
              "      spin 1s steps(1) infinite;\n",
              "  }\n",
              "\n",
              "  @keyframes spin {\n",
              "    0% {\n",
              "      border-color: transparent;\n",
              "      border-bottom-color: var(--fill-color);\n",
              "      border-left-color: var(--fill-color);\n",
              "    }\n",
              "    20% {\n",
              "      border-color: transparent;\n",
              "      border-left-color: var(--fill-color);\n",
              "      border-top-color: var(--fill-color);\n",
              "    }\n",
              "    30% {\n",
              "      border-color: transparent;\n",
              "      border-left-color: var(--fill-color);\n",
              "      border-top-color: var(--fill-color);\n",
              "      border-right-color: var(--fill-color);\n",
              "    }\n",
              "    40% {\n",
              "      border-color: transparent;\n",
              "      border-right-color: var(--fill-color);\n",
              "      border-top-color: var(--fill-color);\n",
              "    }\n",
              "    60% {\n",
              "      border-color: transparent;\n",
              "      border-right-color: var(--fill-color);\n",
              "    }\n",
              "    80% {\n",
              "      border-color: transparent;\n",
              "      border-right-color: var(--fill-color);\n",
              "      border-bottom-color: var(--fill-color);\n",
              "    }\n",
              "    90% {\n",
              "      border-color: transparent;\n",
              "      border-bottom-color: var(--fill-color);\n",
              "    }\n",
              "  }\n",
              "</style>\n",
              "\n",
              "  <script>\n",
              "    async function quickchart(key) {\n",
              "      const quickchartButtonEl =\n",
              "        document.querySelector('#' + key + ' button');\n",
              "      quickchartButtonEl.disabled = true;  // To prevent multiple clicks.\n",
              "      quickchartButtonEl.classList.add('colab-df-spinner');\n",
              "      try {\n",
              "        const charts = await google.colab.kernel.invokeFunction(\n",
              "            'suggestCharts', [key], {});\n",
              "      } catch (error) {\n",
              "        console.error('Error during call to suggestCharts:', error);\n",
              "      }\n",
              "      quickchartButtonEl.classList.remove('colab-df-spinner');\n",
              "      quickchartButtonEl.classList.add('colab-df-quickchart-complete');\n",
              "    }\n",
              "    (() => {\n",
              "      let quickchartButtonEl =\n",
              "        document.querySelector('#df-fc83ff7c-4a58-4eda-8ecb-d7221390882f button');\n",
              "      quickchartButtonEl.style.display =\n",
              "        google.colab.kernel.accessAllowed ? 'block' : 'none';\n",
              "    })();\n",
              "  </script>\n",
              "</div>\n",
              "    </div>\n",
              "  </div>\n"
            ]
          },
          "metadata": {},
          "execution_count": 18
        }
      ]
    },
    {
      "cell_type": "code",
      "source": [
        "train_pl.groupby(['Gender', 'Married'], maintain_order=True).count().sort(by='Gender') # unexpected keyword argument 'dropna', object has no attribute 'to_frame'\n",
        "# non mi sembra ordinato"
      ],
      "metadata": {
        "colab": {
          "base_uri": "https://localhost:8080/",
          "height": 349
        },
        "id": "rYqhsKCtDY4j",
        "outputId": "b4cad0c2-95d4-42ec-d36a-dee3eebecda7"
      },
      "execution_count": 32,
      "outputs": [
        {
          "output_type": "execute_result",
          "data": {
            "text/plain": [
              "shape: (8, 3)\n",
              "┌────────┬─────────┬───────┐\n",
              "│ Gender ┆ Married ┆ count │\n",
              "│ ---    ┆ ---     ┆ ---   │\n",
              "│ str    ┆ str     ┆ u32   │\n",
              "╞════════╪═════════╪═══════╡\n",
              "│ null   ┆ Yes     ┆ 10    │\n",
              "│ null   ┆ No      ┆ 3     │\n",
              "│ Female ┆ No      ┆ 80    │\n",
              "│ Female ┆ Yes     ┆ 31    │\n",
              "│ Female ┆ null    ┆ 1     │\n",
              "│ Male   ┆ No      ┆ 130   │\n",
              "│ Male   ┆ Yes     ┆ 357   │\n",
              "│ Male   ┆ null    ┆ 2     │\n",
              "└────────┴─────────┴───────┘"
            ],
            "text/html": [
              "<div><style>\n",
              ".dataframe > thead > tr > th,\n",
              ".dataframe > tbody > tr > td {\n",
              "  text-align: right;\n",
              "}\n",
              "</style>\n",
              "<small>shape: (8, 3)</small><table border=\"1\" class=\"dataframe\"><thead><tr><th>Gender</th><th>Married</th><th>count</th></tr><tr><td>str</td><td>str</td><td>u32</td></tr></thead><tbody><tr><td>null</td><td>&quot;Yes&quot;</td><td>10</td></tr><tr><td>null</td><td>&quot;No&quot;</td><td>3</td></tr><tr><td>&quot;Female&quot;</td><td>&quot;No&quot;</td><td>80</td></tr><tr><td>&quot;Female&quot;</td><td>&quot;Yes&quot;</td><td>31</td></tr><tr><td>&quot;Female&quot;</td><td>null</td><td>1</td></tr><tr><td>&quot;Male&quot;</td><td>&quot;No&quot;</td><td>130</td></tr><tr><td>&quot;Male&quot;</td><td>&quot;Yes&quot;</td><td>357</td></tr><tr><td>&quot;Male&quot;</td><td>null</td><td>2</td></tr></tbody></table></div>"
            ]
          },
          "metadata": {},
          "execution_count": 32
        }
      ]
    },
    {
      "cell_type": "code",
      "source": [],
      "metadata": {
        "id": "tKtqmI1RnqeV",
        "outputId": "16d5205a-8a9e-4c59-a278-9a370f95e961",
        "colab": {
          "base_uri": "https://localhost:8080/"
        }
      },
      "execution_count": 34,
      "outputs": [
        {
          "output_type": "execute_result",
          "data": {
            "text/plain": [
              "['Loan_ID',\n",
              " 'Gender',\n",
              " 'Married',\n",
              " 'Dependents',\n",
              " 'Education',\n",
              " 'Self_Employed',\n",
              " 'ApplicantIncome',\n",
              " 'CoapplicantIncome',\n",
              " 'LoanAmount',\n",
              " 'Loan_Amount_Term',\n",
              " 'Credit_History',\n",
              " 'Property_Area',\n",
              " 'Loan_Status',\n",
              " 'TotalIncome',\n",
              " 'Reimbursement']"
            ]
          },
          "metadata": {},
          "execution_count": 34
        }
      ]
    },
    {
      "cell_type": "code",
      "source": [],
      "metadata": {
        "id": "pr3G0pF4nqSG"
      },
      "execution_count": null,
      "outputs": []
    },
    {
      "cell_type": "code",
      "source": [],
      "metadata": {
        "id": "XoqaC7EPnp2-"
      },
      "execution_count": null,
      "outputs": []
    },
    {
      "cell_type": "code",
      "source": [
        "median_applicant_income = (\n",
        "    pl.col(\"ApplicantIncome\")\n",
        "    .median()\n",
        "    .alias(\"median_ApplicantIncome\")\n",
        ")"
      ],
      "metadata": {
        "id": "vz1wgbP8DZSQ"
      },
      "execution_count": null,
      "outputs": []
    },
    {
      "cell_type": "code",
      "source": [
        "median_applicant_income"
      ],
      "metadata": {
        "colab": {
          "base_uri": "https://localhost:8080/",
          "height": 34
        },
        "id": "2Nz49uAuDZUk",
        "outputId": "4c4501e5-f7fa-4b6a-b9f0-7c3310b23cc5"
      },
      "execution_count": null,
      "outputs": [
        {
          "output_type": "execute_result",
          "data": {
            "text/plain": [
              "<polars.expr.expr.Expr at 0x7fbaf03a2950>"
            ],
            "text/html": [
              "col(\"ApplicantIncome\").median().alias(\"median_ApplicantIncome\")"
            ]
          },
          "metadata": {},
          "execution_count": 43
        }
      ]
    },
    {
      "cell_type": "code",
      "source": [
        "n_unique_Loan_ID = (\n",
        "    pl.col(\"Loan_ID\")\n",
        "    .n_unique()\n",
        "    .alias(\"n_unique_Loan_ID\")\n",
        ")"
      ],
      "metadata": {
        "id": "wpcucni1DZXB"
      },
      "execution_count": null,
      "outputs": []
    },
    {
      "cell_type": "code",
      "source": [
        "train_pl.select(median_applicant_income)"
      ],
      "metadata": {
        "colab": {
          "base_uri": "https://localhost:8080/",
          "height": 129
        },
        "id": "a-BjU-HKDZZn",
        "outputId": "b30fac72-c70a-4b0d-eb4e-706e8153f591"
      },
      "execution_count": null,
      "outputs": [
        {
          "output_type": "execute_result",
          "data": {
            "text/plain": [
              "shape: (1, 1)\n",
              "┌────────────────────────┐\n",
              "│ median_ApplicantIncome │\n",
              "│ ---                    │\n",
              "│ f64                    │\n",
              "╞════════════════════════╡\n",
              "│ 3812.5                 │\n",
              "└────────────────────────┘"
            ],
            "text/html": [
              "<div><style>\n",
              ".dataframe > thead > tr > th,\n",
              ".dataframe > tbody > tr > td {\n",
              "  text-align: right;\n",
              "}\n",
              "</style>\n",
              "<small>shape: (1, 1)</small><table border=\"1\" class=\"dataframe\"><thead><tr><th>median_ApplicantIncome</th></tr><tr><td>f64</td></tr></thead><tbody><tr><td>3812.5</td></tr></tbody></table></div>"
            ]
          },
          "metadata": {},
          "execution_count": 44
        }
      ]
    },
    {
      "cell_type": "code",
      "source": [
        "train_pl.select(n_unique_Loan_ID)"
      ],
      "metadata": {
        "colab": {
          "base_uri": "https://localhost:8080/",
          "height": 129
        },
        "id": "ugf0J2ALI7WM",
        "outputId": "de1515f3-9da3-4ff0-ec6d-434b6691b7e7"
      },
      "execution_count": null,
      "outputs": [
        {
          "output_type": "execute_result",
          "data": {
            "text/plain": [
              "shape: (1, 1)\n",
              "┌──────────────────┐\n",
              "│ n_unique_Loan_ID │\n",
              "│ ---              │\n",
              "│ u32              │\n",
              "╞══════════════════╡\n",
              "│ 614              │\n",
              "└──────────────────┘"
            ],
            "text/html": [
              "<div><style>\n",
              ".dataframe > thead > tr > th,\n",
              ".dataframe > tbody > tr > td {\n",
              "  text-align: right;\n",
              "}\n",
              "</style>\n",
              "<small>shape: (1, 1)</small><table border=\"1\" class=\"dataframe\"><thead><tr><th>n_unique_Loan_ID</th></tr><tr><td>u32</td></tr></thead><tbody><tr><td>614</td></tr></tbody></table></div>"
            ]
          },
          "metadata": {},
          "execution_count": 47
        }
      ]
    },
    {
      "cell_type": "code",
      "source": [
        "train_pl.groupby(['Gender']).agg(median_applicant_income, n_unique_Loan_ID)"
      ],
      "metadata": {
        "colab": {
          "base_uri": "https://localhost:8080/",
          "height": 192
        },
        "id": "4UO3HWNDDZb5",
        "outputId": "4ca0f818-3895-4f10-80a9-57c195373fc7"
      },
      "execution_count": null,
      "outputs": [
        {
          "output_type": "execute_result",
          "data": {
            "text/plain": [
              "shape: (3, 3)\n",
              "┌────────┬────────────────────────┬──────────────────┐\n",
              "│ Gender ┆ median_ApplicantIncome ┆ n_unique_Loan_ID │\n",
              "│ ---    ┆ ---                    ┆ ---              │\n",
              "│ str    ┆ f64                    ┆ u32              │\n",
              "╞════════╪════════════════════════╪══════════════════╡\n",
              "│ null   ┆ 3583.0                 ┆ 13               │\n",
              "│ Female ┆ 3583.0                 ┆ 112              │\n",
              "│ Male   ┆ 3865.0                 ┆ 489              │\n",
              "└────────┴────────────────────────┴──────────────────┘"
            ],
            "text/html": [
              "<div><style>\n",
              ".dataframe > thead > tr > th,\n",
              ".dataframe > tbody > tr > td {\n",
              "  text-align: right;\n",
              "}\n",
              "</style>\n",
              "<small>shape: (3, 3)</small><table border=\"1\" class=\"dataframe\"><thead><tr><th>Gender</th><th>median_ApplicantIncome</th><th>n_unique_Loan_ID</th></tr><tr><td>str</td><td>f64</td><td>u32</td></tr></thead><tbody><tr><td>null</td><td>3583.0</td><td>13</td></tr><tr><td>&quot;Female&quot;</td><td>3583.0</td><td>112</td></tr><tr><td>&quot;Male&quot;</td><td>3865.0</td><td>489</td></tr></tbody></table></div>"
            ]
          },
          "metadata": {},
          "execution_count": 48
        }
      ]
    },
    {
      "cell_type": "markdown",
      "source": [
        "## Lazyness\n",
        "\n",
        "https://pola-rs.github.io/polars/user-guide/concepts/lazy-vs-eager/#when-to-use-which"
      ],
      "metadata": {
        "id": "cihK7snOKDDM"
      }
    },
    {
      "cell_type": "code",
      "source": [
        "train_pl_lz = pl.scan_csv(TRAIN_CSV_PATH, infer_schema_length=10000)"
      ],
      "metadata": {
        "id": "6_F7uZKaDZeB"
      },
      "execution_count": null,
      "outputs": []
    },
    {
      "cell_type": "code",
      "source": [
        "train_pl_lz.schema"
      ],
      "metadata": {
        "id": "kAvBAZnFDZga",
        "colab": {
          "base_uri": "https://localhost:8080/"
        },
        "outputId": "6c56ca49-233a-4be6-f2ec-9cca0fb68028"
      },
      "execution_count": null,
      "outputs": [
        {
          "output_type": "execute_result",
          "data": {
            "text/plain": [
              "{'Loan_ID': Utf8,\n",
              " 'Gender': Utf8,\n",
              " 'Married': Utf8,\n",
              " 'Dependents': Utf8,\n",
              " 'Education': Utf8,\n",
              " 'Self_Employed': Utf8,\n",
              " 'ApplicantIncome': Int64,\n",
              " 'CoapplicantIncome': Float64,\n",
              " 'LoanAmount': Int64,\n",
              " 'Loan_Amount_Term': Int64,\n",
              " 'Credit_History': Int64,\n",
              " 'Property_Area': Utf8,\n",
              " 'Loan_Status': Utf8}"
            ]
          },
          "metadata": {},
          "execution_count": 14
        }
      ]
    },
    {
      "cell_type": "code",
      "source": [],
      "metadata": {
        "id": "OfLDRc20DZi1"
      },
      "execution_count": null,
      "outputs": []
    },
    {
      "cell_type": "code",
      "source": [],
      "metadata": {
        "id": "hg3BGgNFDZk5"
      },
      "execution_count": null,
      "outputs": []
    },
    {
      "cell_type": "code",
      "source": [
        "buildings.groupby(\"building_type\").agg(\n",
        "    [\n",
        "        pl.mean(\"sqft\").alias(\"mean_sqft\"),\n",
        "        pl.median(\"year\").alias(\"median_year\"),\n",
        "        pl.count()\n",
        "        ]\n",
        ")"
      ],
      "metadata": {
        "colab": {
          "base_uri": "https://localhost:8080/",
          "height": 192
        },
        "id": "_ZdyAN-LGo-m",
        "outputId": "096b46af-9ab8-414e-f3c6-1ef915a4ed29"
      },
      "execution_count": null,
      "outputs": [
        {
          "output_type": "execute_result",
          "data": {
            "text/plain": [
              "shape: (3, 4)\n",
              "┌───────────────┬─────────────┬─────────────┬───────┐\n",
              "│ building_type ┆ mean_sqft   ┆ median_year ┆ count │\n",
              "│ ---           ┆ ---         ┆ ---         ┆ ---   │\n",
              "│ str           ┆ f64         ┆ f64         ┆ u32   │\n",
              "╞═══════════════╪═════════════╪═════════════╪═══════╡\n",
              "│ C             ┆ 1027.330766 ┆ 2008.0      ┆ 1661  │\n",
              "│ A             ┆ 957.051047  ┆ 2008.0      ┆ 1695  │\n",
              "│ B             ┆ 1040.209262 ┆ 2008.0      ┆ 1644  │\n",
              "└───────────────┴─────────────┴─────────────┴───────┘"
            ],
            "text/html": [
              "<div><style>\n",
              ".dataframe > thead > tr > th,\n",
              ".dataframe > tbody > tr > td {\n",
              "  text-align: right;\n",
              "}\n",
              "</style>\n",
              "<small>shape: (3, 4)</small><table border=\"1\" class=\"dataframe\"><thead><tr><th>building_type</th><th>mean_sqft</th><th>median_year</th><th>count</th></tr><tr><td>str</td><td>f64</td><td>f64</td><td>u32</td></tr></thead><tbody><tr><td>&quot;C&quot;</td><td>1027.330766</td><td>2008.0</td><td>1661</td></tr><tr><td>&quot;A&quot;</td><td>957.051047</td><td>2008.0</td><td>1695</td></tr><tr><td>&quot;B&quot;</td><td>1040.209262</td><td>2008.0</td><td>1644</td></tr></tbody></table></div>"
            ]
          },
          "metadata": {},
          "execution_count": 11
        }
      ]
    },
    {
      "cell_type": "code",
      "source": [
        "buildings = {\n",
        "    \"sqft\": rng.exponential(scale=1000, size=num_rows),\n",
        "    \"price\": rng.exponential(scale=100_000, size=num_rows),\n",
        "    \"year\": rng.integers(low=1995, high=2023, size=num_rows),\n",
        "    \"building_type\": rng.choice([\"A\", \"B\", \"C\"], size=num_rows)\n",
        "    }\n",
        "\n",
        "buildings_lazy = pl.LazyFrame(buildings)\n",
        "buildings_lazy\n"
      ],
      "metadata": {
        "colab": {
          "base_uri": "https://localhost:8080/",
          "height": 168
        },
        "id": "NXLmpVi_IGd0",
        "outputId": "561eee42-5aa5-4455-fede-6d27da52f1da"
      },
      "execution_count": null,
      "outputs": [
        {
          "output_type": "execute_result",
          "data": {
            "text/plain": [
              "<polars.LazyFrame object at 0x7A1F64E71090>"
            ],
            "text/html": [
              "<h4>NAIVE QUERY PLAN</h4><p>run <b>LazyFrame.show_graph()</b> to see the optimized version</p><?xml version=\"1.0\" encoding=\"UTF-8\" standalone=\"no\"?>\n",
              "<!DOCTYPE svg PUBLIC \"-//W3C//DTD SVG 1.1//EN\"\n",
              " \"http://www.w3.org/Graphics/SVG/1.1/DTD/svg11.dtd\">\n",
              "<!-- Generated by graphviz version 2.43.0 (0)\n",
              " -->\n",
              "<!-- Title: polars_query Pages: 1 -->\n",
              "<svg width=\"72pt\" height=\"61pt\"\n",
              " viewBox=\"0.00 0.00 72.00 61.00\" xmlns=\"http://www.w3.org/2000/svg\" xmlns:xlink=\"http://www.w3.org/1999/xlink\">\n",
              "<g id=\"graph0\" class=\"graph\" transform=\"scale(1 1) rotate(0) translate(4 57)\">\n",
              "<title>polars_query</title>\n",
              "<polygon fill=\"white\" stroke=\"transparent\" points=\"-4,4 -4,-57 68,-57 68,4 -4,4\"/>\n",
              "<!-- [TABLE\n",
              "π */4;\n",
              "σ &#45;;] -->\n",
              "<g id=\"node1\" class=\"node\">\n",
              "<title>[TABLE\n",
              "π */4;\n",
              "σ &#45;;]</title>\n",
              "<polygon fill=\"none\" stroke=\"black\" points=\"64,-53 0,-53 0,0 64,0 64,-53\"/>\n",
              "<text text-anchor=\"middle\" x=\"32\" y=\"-37.8\" font-family=\"Times,serif\" font-size=\"14.00\">[TABLE</text>\n",
              "<text text-anchor=\"middle\" x=\"32\" y=\"-22.8\" font-family=\"Times,serif\" font-size=\"14.00\">π */4;</text>\n",
              "<text text-anchor=\"middle\" x=\"32\" y=\"-7.8\" font-family=\"Times,serif\" font-size=\"14.00\">σ &#45;;]</text>\n",
              "</g>\n",
              "</g>\n",
              "</svg>\n"
            ]
          },
          "metadata": {},
          "execution_count": 12
        }
      ]
    },
    {
      "cell_type": "code",
      "source": [
        "lazy_query = (\n",
        "    buildings_lazy\n",
        "    .with_columns(\n",
        "        (pl.col(\"price\") / pl.col(\"sqft\")).alias(\"price_per_sqft\")\n",
        "        )\n",
        "    .filter(pl.col(\"price_per_sqft\") > 100)\n",
        "    .filter(pl.col(\"year\") < 2010)\n",
        ")\n",
        "\n",
        "lazy_query.show_graph()"
      ],
      "metadata": {
        "colab": {
          "base_uri": "https://localhost:8080/",
          "height": 295
        },
        "id": "zQK0s1pmIHHM",
        "outputId": "9f54c5ad-145a-488d-c11d-4886323b44d6"
      },
      "execution_count": null,
      "outputs": [
        {
          "output_type": "display_data",
          "data": {
            "text/plain": [
              "<IPython.core.display.SVG object>"
            ],
            "image/svg+xml": "<svg xmlns=\"http://www.w3.org/2000/svg\" xmlns:xlink=\"http://www.w3.org/1999/xlink\" width=\"244pt\" height=\"205pt\" viewBox=\"0.00 0.00 244.00 205.00\">\n<g id=\"graph0\" class=\"graph\" transform=\"scale(1 1) rotate(0) translate(4 201)\">\n<title>polars_query</title>\n<polygon fill=\"white\" stroke=\"transparent\" points=\"-4,4 -4,-201 240,-201 240,4 -4,4\"/>\n<!-- FILTER BY (col(&quot;price_per_sqft&quot;)) &gt;... [(0, 0)] -->\n<g id=\"node1\" class=\"node\">\n<title>FILTER BY (col(&quot;price_per_sqft&quot;)) &gt;... [(0, 0)]</title>\n<polygon fill=\"none\" stroke=\"black\" points=\"236,-197 0,-197 0,-161 236,-161 236,-197\"/>\n<text text-anchor=\"middle\" x=\"118\" y=\"-175.3\" font-family=\"Times,serif\" font-size=\"14.00\">FILTER BY (col(&quot;price_per_sqft&quot;)) &gt;...</text>\n</g>\n<!-- WITH COLUMNS [&quot;price_per_sqft&quot;] [(0, 1)] -->\n<g id=\"node2\" class=\"node\">\n<title>WITH COLUMNS [&quot;price_per_sqft&quot;] [(0, 1)]</title>\n<polygon fill=\"none\" stroke=\"black\" points=\"231,-125 5,-125 5,-89 231,-89 231,-125\"/>\n<text text-anchor=\"middle\" x=\"118\" y=\"-103.3\" font-family=\"Times,serif\" font-size=\"14.00\">WITH COLUMNS [&quot;price_per_sqft&quot;]</text>\n</g>\n<!-- FILTER BY (col(&quot;price_per_sqft&quot;)) &gt;... [(0, 0)]&#45;&#45;WITH COLUMNS [&quot;price_per_sqft&quot;] [(0, 1)] -->\n<g id=\"edge1\" class=\"edge\">\n<title>FILTER BY (col(&quot;price_per_sqft&quot;)) &gt;... [(0, 0)]--WITH COLUMNS [&quot;price_per_sqft&quot;] [(0, 1)]</title>\n<path fill=\"none\" stroke=\"black\" d=\"M118,-160.7C118,-149.85 118,-135.92 118,-125.1\"/>\n</g>\n<!-- TABLE\nπ */4;\nσ (col(&quot;year&quot;)) &lt; (2010); [(0, 2)] -->\n<g id=\"node3\" class=\"node\">\n<title>TABLE\nπ */4;\nσ (col(&quot;year&quot;)) &lt; (2010); [(0, 2)]</title>\n<polygon fill=\"none\" stroke=\"black\" points=\"194.5,-53 41.5,-53 41.5,0 194.5,0 194.5,-53\"/>\n<text text-anchor=\"middle\" x=\"118\" y=\"-37.8\" font-family=\"Times,serif\" font-size=\"14.00\">TABLE</text>\n<text text-anchor=\"middle\" x=\"118\" y=\"-22.8\" font-family=\"Times,serif\" font-size=\"14.00\">π */4;</text>\n<text text-anchor=\"middle\" x=\"118\" y=\"-7.8\" font-family=\"Times,serif\" font-size=\"14.00\">σ (col(&quot;year&quot;)) &lt; (2010);</text>\n</g>\n<!-- WITH COLUMNS [&quot;price_per_sqft&quot;] [(0, 1)]&#45;&#45;TABLE\nπ */4;\nσ (col(&quot;year&quot;)) &lt; (2010); [(0, 2)] -->\n<g id=\"edge2\" class=\"edge\">\n<title>WITH COLUMNS [&quot;price_per_sqft&quot;] [(0, 1)]--TABLE\nπ */4;\nσ (col(&quot;year&quot;)) &lt; (2010); [(0, 2)]</title>\n<path fill=\"none\" stroke=\"black\" d=\"M118,-88.97C118,-78.51 118,-64.9 118,-53.16\"/>\n</g>\n</g>\n</svg>"
          },
          "metadata": {}
        }
      ]
    },
    {
      "cell_type": "code",
      "source": [
        "(\n",
        "    lazy_query\n",
        "    .collect()\n",
        "    .select(pl.col([\"price_per_sqft\", \"year\"]))\n",
        ")"
      ],
      "metadata": {
        "colab": {
          "base_uri": "https://localhost:8080/",
          "height": 882
        },
        "id": "tnWlON_ZJwEa",
        "outputId": "c4480a45-432d-441d-bae1-ed75ec68485e"
      },
      "execution_count": null,
      "outputs": [
        {
          "output_type": "execute_result",
          "data": {
            "text/plain": [
              "shape: (1_304, 2)\n",
              "┌────────────────┬──────┐\n",
              "│ price_per_sqft ┆ year │\n",
              "│ ---            ┆ ---  │\n",
              "│ f64            ┆ i64  │\n",
              "╞════════════════╪══════╡\n",
              "│ 136.367182     ┆ 2002 │\n",
              "│ 43890.679476   ┆ 2000 │\n",
              "│ 172.155402     ┆ 1996 │\n",
              "│ 155.244312     ┆ 1998 │\n",
              "│ …              ┆ …    │\n",
              "│ 721.241378     ┆ 2005 │\n",
              "│ 315.268542     ┆ 2007 │\n",
              "│ 1267.211787    ┆ 1997 │\n",
              "│ 230.4598       ┆ 2002 │\n",
              "└────────────────┴──────┘"
            ],
            "text/html": [
              "<div><style>\n",
              ".dataframe > thead > tr > th,\n",
              ".dataframe > tbody > tr > td {\n",
              "  text-align: right;\n",
              "}\n",
              "</style>\n",
              "<small>shape: (1304, 2)</small><table border=\"1\" class=\"dataframe\"><thead><tr><th>price_per_sqft</th><th>year</th></tr><tr><td>f64</td><td>i64</td></tr></thead><tbody><tr><td>136.367182</td><td>2002</td></tr><tr><td>43890.679476</td><td>2000</td></tr><tr><td>172.155402</td><td>1996</td></tr><tr><td>155.244312</td><td>1998</td></tr><tr><td>1645.707997</td><td>2000</td></tr><tr><td>27619.783842</td><td>2003</td></tr><tr><td>684.047341</td><td>1996</td></tr><tr><td>200.292347</td><td>2007</td></tr><tr><td>108.396788</td><td>1999</td></tr><tr><td>20642.46827</td><td>1998</td></tr><tr><td>206.37628</td><td>2008</td></tr><tr><td>869.186094</td><td>2006</td></tr><tr><td>&hellip;</td><td>&hellip;</td></tr><tr><td>168.988879</td><td>2009</td></tr><tr><td>154.298074</td><td>2002</td></tr><tr><td>152.281217</td><td>2002</td></tr><tr><td>458.188806</td><td>2008</td></tr><tr><td>254.282242</td><td>2009</td></tr><tr><td>255.580275</td><td>2004</td></tr><tr><td>376.163067</td><td>2009</td></tr><tr><td>301.112544</td><td>1997</td></tr><tr><td>721.241378</td><td>2005</td></tr><tr><td>315.268542</td><td>2007</td></tr><tr><td>1267.211787</td><td>1997</td></tr><tr><td>230.4598</td><td>2002</td></tr></tbody></table></div>"
            ]
          },
          "metadata": {},
          "execution_count": 14
        }
      ]
    },
    {
      "cell_type": "code",
      "source": [
        "import requests\n",
        "import pathlib\n",
        "\n",
        "def download_file(file_url: str, local_file_path: pathlib.Path) -> None:\n",
        "    \"\"\"Download a file and save it with the specified file name.\"\"\"\n",
        "    response = requests.get(file_url)\n",
        "    if response:\n",
        "        local_file_path.write_bytes(response.content)\n",
        "        print(f\"File successfully downloaded and stored at: {local_file_path}\")\n",
        "    else:\n",
        "        raise requests.exceptions.RequestException(\n",
        "            f\"Failed to download the file. Status code: {response.status_code}\"\n",
        "        )"
      ],
      "metadata": {
        "id": "MxlFAnNNKSnW"
      },
      "execution_count": null,
      "outputs": []
    },
    {
      "cell_type": "code",
      "source": [
        "url = \"https://data.wa.gov/api/views/f6w7-q2d2/rows.csv?accessType=DOWNLOAD\"\n",
        "local_file_path = pathlib.Path(\"electric_cars.csv\")\n",
        "\n",
        "download_file(url, local_file_path)"
      ],
      "metadata": {
        "colab": {
          "base_uri": "https://localhost:8080/"
        },
        "id": "4RXJH-OtKYmU",
        "outputId": "a776a825-af4a-4d18-fc23-30cd589a9c1e"
      },
      "execution_count": null,
      "outputs": [
        {
          "output_type": "stream",
          "name": "stdout",
          "text": [
            "File successfully downloaded and stored at: electric_cars.csv\n"
          ]
        }
      ]
    },
    {
      "cell_type": "code",
      "source": [
        "lazy_car_data = pl.scan_csv(local_file_path)\n",
        "lazy_car_data"
      ],
      "metadata": {
        "colab": {
          "base_uri": "https://localhost:8080/",
          "height": 168
        },
        "id": "iKSA2WvdKZMv",
        "outputId": "9a419af3-9693-4c79-c3fd-9c7693a79bea"
      },
      "execution_count": null,
      "outputs": [
        {
          "output_type": "execute_result",
          "data": {
            "text/plain": [
              "<polars.LazyFrame object at 0x7A1F3CA32830>"
            ],
            "text/html": [
              "<h4>NAIVE QUERY PLAN</h4><p>run <b>LazyFrame.show_graph()</b> to see the optimized version</p><?xml version=\"1.0\" encoding=\"UTF-8\" standalone=\"no\"?>\n",
              "<!DOCTYPE svg PUBLIC \"-//W3C//DTD SVG 1.1//EN\"\n",
              " \"http://www.w3.org/Graphics/SVG/1.1/DTD/svg11.dtd\">\n",
              "<!-- Generated by graphviz version 2.43.0 (0)\n",
              " -->\n",
              "<!-- Title: polars_query Pages: 1 -->\n",
              "<svg width=\"193pt\" height=\"61pt\"\n",
              " viewBox=\"0.00 0.00 193.00 61.00\" xmlns=\"http://www.w3.org/2000/svg\" xmlns:xlink=\"http://www.w3.org/1999/xlink\">\n",
              "<g id=\"graph0\" class=\"graph\" transform=\"scale(1 1) rotate(0) translate(4 57)\">\n",
              "<title>polars_query</title>\n",
              "<polygon fill=\"white\" stroke=\"transparent\" points=\"-4,4 -4,-57 189,-57 189,4 -4,4\"/>\n",
              "<!-- [CSV SCAN electric_cars.csv;\n",
              "π */17;\n",
              "σ &#45;] -->\n",
              "<g id=\"node1\" class=\"node\">\n",
              "<title>[CSV SCAN electric_cars.csv;\n",
              "π */17;\n",
              "σ &#45;]</title>\n",
              "<polygon fill=\"none\" stroke=\"black\" points=\"185,-53 0,-53 0,0 185,0 185,-53\"/>\n",
              "<text text-anchor=\"middle\" x=\"92.5\" y=\"-37.8\" font-family=\"Times,serif\" font-size=\"14.00\">[CSV SCAN electric_cars.csv;</text>\n",
              "<text text-anchor=\"middle\" x=\"92.5\" y=\"-22.8\" font-family=\"Times,serif\" font-size=\"14.00\">π */17;</text>\n",
              "<text text-anchor=\"middle\" x=\"92.5\" y=\"-7.8\" font-family=\"Times,serif\" font-size=\"14.00\">σ &#45;]</text>\n",
              "</g>\n",
              "</g>\n",
              "</svg>\n"
            ]
          },
          "metadata": {},
          "execution_count": 17
        }
      ]
    },
    {
      "cell_type": "code",
      "source": [
        "lazy_car_data.schema"
      ],
      "metadata": {
        "id": "GyFpBMv5KZli",
        "colab": {
          "base_uri": "https://localhost:8080/"
        },
        "outputId": "747e9959-364f-460d-8cc6-c86c1a294445"
      },
      "execution_count": null,
      "outputs": [
        {
          "output_type": "execute_result",
          "data": {
            "text/plain": [
              "{'VIN (1-10)': Utf8,\n",
              " 'County': Utf8,\n",
              " 'City': Utf8,\n",
              " 'State': Utf8,\n",
              " 'Postal Code': Int64,\n",
              " 'Model Year': Int64,\n",
              " 'Make': Utf8,\n",
              " 'Model': Utf8,\n",
              " 'Electric Vehicle Type': Utf8,\n",
              " 'Clean Alternative Fuel Vehicle (CAFV) Eligibility': Utf8,\n",
              " 'Electric Range': Int64,\n",
              " 'Base MSRP': Int64,\n",
              " 'Legislative District': Int64,\n",
              " 'DOL Vehicle ID': Int64,\n",
              " 'Vehicle Location': Utf8,\n",
              " 'Electric Utility': Utf8,\n",
              " '2020 Census Tract': Int64}"
            ]
          },
          "metadata": {},
          "execution_count": 18
        }
      ]
    },
    {
      "cell_type": "code",
      "source": [
        "lazy_car_query = (\n",
        "    lazy_car_data\n",
        "    .filter((pl.col(\"Model Year\") >= 2018))\n",
        "    .filter(\n",
        "        pl.col(\"Electric Vehicle Type\") == \"Battery Electric Vehicle (BEV)\"\n",
        "        )\n",
        "    .groupby([\"State\", \"Make\"])\n",
        "    .agg(\n",
        "        pl.mean(\"Electric Range\").alias(\"Average Electric Range\"),\n",
        "        pl.min(\"Model Year\").alias(\"Oldest Model Year\"),\n",
        "        pl.count().alias(\"Number of Cars\"),\n",
        "        )\n",
        "    .filter(pl.col(\"Average Electric Range\") > 0)\n",
        "    .filter(pl.col(\"Number of Cars\") > 5)\n",
        "    .sort(pl.col(\"Number of Cars\"), descending=True)\n",
        "    )"
      ],
      "metadata": {
        "id": "DFFJHTeZ27pi"
      },
      "execution_count": null,
      "outputs": []
    },
    {
      "cell_type": "code",
      "source": [
        "lazy_car_query.collect()"
      ],
      "metadata": {
        "colab": {
          "base_uri": "https://localhost:8080/",
          "height": 757
        },
        "id": "-viBfiSP3Tof",
        "outputId": "bdf17004-0875-4876-acad-114f4d9b181a"
      },
      "execution_count": null,
      "outputs": [
        {
          "output_type": "execute_result",
          "data": {
            "text/plain": [
              "shape: (21, 5)\n",
              "┌───────┬───────────┬────────────────────────┬───────────────────┬────────────────┐\n",
              "│ State ┆ Make      ┆ Average Electric Range ┆ Oldest Model Year ┆ Number of Cars │\n",
              "│ ---   ┆ ---       ┆ ---                    ┆ ---               ┆ ---            │\n",
              "│ str   ┆ str       ┆ f64                    ┆ i64               ┆ u32            │\n",
              "╞═══════╪═══════════╪════════════════════════╪═══════════════════╪════════════════╡\n",
              "│ WA    ┆ TESLA     ┆ 76.215075              ┆ 2018              ┆ 63550          │\n",
              "│ WA    ┆ NISSAN    ┆ 84.965967              ┆ 2018              ┆ 5906           │\n",
              "│ WA    ┆ CHEVROLET ┆ 104.147281             ┆ 2018              ┆ 5812           │\n",
              "│ WA    ┆ FORD      ┆ 0.128337               ┆ 2018              ┆ 3896           │\n",
              "│ …     ┆ …         ┆ …                      ┆ …                 ┆ …              │\n",
              "│ MD    ┆ TESLA     ┆ 56.222222              ┆ 2018              ┆ 9              │\n",
              "│ NC    ┆ TESLA     ┆ 26.875                 ┆ 2018              ┆ 8              │\n",
              "│ TX    ┆ TESLA     ┆ 94.625                 ┆ 2018              ┆ 8              │\n",
              "│ IL    ┆ TESLA     ┆ 162.0                  ┆ 2018              ┆ 6              │\n",
              "└───────┴───────────┴────────────────────────┴───────────────────┴────────────────┘"
            ],
            "text/html": [
              "<div><style>\n",
              ".dataframe > thead > tr > th,\n",
              ".dataframe > tbody > tr > td {\n",
              "  text-align: right;\n",
              "}\n",
              "</style>\n",
              "<small>shape: (21, 5)</small><table border=\"1\" class=\"dataframe\"><thead><tr><th>State</th><th>Make</th><th>Average Electric Range</th><th>Oldest Model Year</th><th>Number of Cars</th></tr><tr><td>str</td><td>str</td><td>f64</td><td>i64</td><td>u32</td></tr></thead><tbody><tr><td>&quot;WA&quot;</td><td>&quot;TESLA&quot;</td><td>76.215075</td><td>2018</td><td>63550</td></tr><tr><td>&quot;WA&quot;</td><td>&quot;NISSAN&quot;</td><td>84.965967</td><td>2018</td><td>5906</td></tr><tr><td>&quot;WA&quot;</td><td>&quot;CHEVROLET&quot;</td><td>104.147281</td><td>2018</td><td>5812</td></tr><tr><td>&quot;WA&quot;</td><td>&quot;FORD&quot;</td><td>0.128337</td><td>2018</td><td>3896</td></tr><tr><td>&quot;WA&quot;</td><td>&quot;KIA&quot;</td><td>54.974002</td><td>2018</td><td>3808</td></tr><tr><td>&quot;WA&quot;</td><td>&quot;VOLKSWAGEN&quot;</td><td>18.975013</td><td>2018</td><td>3722</td></tr><tr><td>&quot;WA&quot;</td><td>&quot;HYUNDAI&quot;</td><td>20.598614</td><td>2018</td><td>2885</td></tr><tr><td>&quot;WA&quot;</td><td>&quot;AUDI&quot;</td><td>79.543316</td><td>2019</td><td>1743</td></tr><tr><td>&quot;WA&quot;</td><td>&quot;BMW&quot;</td><td>16.56254</td><td>2018</td><td>1559</td></tr><tr><td>&quot;WA&quot;</td><td>&quot;POLESTAR&quot;</td><td>35.754476</td><td>2021</td><td>782</td></tr><tr><td>&quot;WA&quot;</td><td>&quot;MINI&quot;</td><td>22.701342</td><td>2021</td><td>596</td></tr><tr><td>&quot;WA&quot;</td><td>&quot;PORSCHE&quot;</td><td>73.487544</td><td>2020</td><td>562</td></tr><tr><td>&quot;WA&quot;</td><td>&quot;JAGUAR&quot;</td><td>202.8</td><td>2019</td><td>225</td></tr><tr><td>&quot;WA&quot;</td><td>&quot;FIAT&quot;</td><td>84.0</td><td>2018</td><td>67</td></tr><tr><td>&quot;WA&quot;</td><td>&quot;SMART&quot;</td><td>58.0</td><td>2018</td><td>55</td></tr><tr><td>&quot;CA&quot;</td><td>&quot;TESLA&quot;</td><td>85.365854</td><td>2018</td><td>41</td></tr><tr><td>&quot;VA&quot;</td><td>&quot;TESLA&quot;</td><td>98.583333</td><td>2018</td><td>12</td></tr><tr><td>&quot;MD&quot;</td><td>&quot;TESLA&quot;</td><td>56.222222</td><td>2018</td><td>9</td></tr><tr><td>&quot;NC&quot;</td><td>&quot;TESLA&quot;</td><td>26.875</td><td>2018</td><td>8</td></tr><tr><td>&quot;TX&quot;</td><td>&quot;TESLA&quot;</td><td>94.625</td><td>2018</td><td>8</td></tr><tr><td>&quot;IL&quot;</td><td>&quot;TESLA&quot;</td><td>162.0</td><td>2018</td><td>6</td></tr></tbody></table></div>"
            ]
          },
          "metadata": {},
          "execution_count": 20
        }
      ]
    },
    {
      "cell_type": "code",
      "source": [],
      "metadata": {
        "id": "l5nUE1MA3d1I"
      },
      "execution_count": null,
      "outputs": []
    },
    {
      "cell_type": "code",
      "source": [],
      "metadata": {
        "id": "Qj5wif043eln"
      },
      "execution_count": null,
      "outputs": []
    }
  ]
}
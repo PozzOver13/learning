{
  "nbformat": 4,
  "nbformat_minor": 0,
  "metadata": {
    "colab": {
      "provenance": [],
      "authorship_tag": "ABX9TyPJaKzW03co8JMnLjF0/DhD",
      "include_colab_link": true
    },
    "kernelspec": {
      "name": "python3",
      "display_name": "Python 3"
    },
    "language_info": {
      "name": "python"
    }
  },
  "cells": [
    {
      "cell_type": "markdown",
      "metadata": {
        "id": "view-in-github",
        "colab_type": "text"
      },
      "source": [
        "<a href=\"https://colab.research.google.com/github/PozzOver13/learning/blob/main/stats_and_probability/20240311_entropy.ipynb\" target=\"_parent\"><img src=\"https://colab.research.google.com/assets/colab-badge.svg\" alt=\"Open In Colab\"/></a>"
      ]
    },
    {
      "cell_type": "markdown",
      "source": [
        "# Entropy 💥"
      ],
      "metadata": {
        "id": "Jxhbr64WsUz0"
      }
    },
    {
      "cell_type": "markdown",
      "source": [
        "# References\n",
        "\n",
        "https://en.wikipedia.org/wiki/Entropy Entropy Wikipedia  \n",
        "https://en.wikipedia.org/wiki/Entropy_(information_theory) Information Theory  \n",
        "https://docs.scipy.org/doc/scipy/reference/generated/scipy.stats.entropy.html Scipy Stats Entropy   \n",
        "Martin, Osvaldo A.; Kumar, Ravin; Lao, Junpeng. Bayesian Modeling and Computation in Python (Chapman & Hall/CRC Texts in Statistical Science) (English Edition) (p.350). CRC Press. Edizione del Kindle."
      ],
      "metadata": {
        "id": "Rz0t-PNmsUtD"
      }
    },
    {
      "cell_type": "markdown",
      "source": [
        "In the Zentralfriedhof, Vienna, we can find the grave of Ludwig Boltzmann. His tombstone has the  legend S = k log W, which is a beautiful way of saying that the second law of thermodynamics  is a consequence of the laws of probability.\n",
        "\n",
        "Boltzmann contriuted to the development of one of the pillars of modern physics: Statistical mechanics which describes how macroscopic observations such as temperature are related to the microscopic world  of molecules.\n",
        "\n",
        "If we know a system is at  0 Kelvin we know the system can only be in a single possible arrangement, as we increase the temperature the number of possible arrangements will increase  and then it will become more and more difficult to\n",
        "say that molecules are in this particular arrangement at this particular time.\n",
        "\n",
        "The  reason that entropy is so flexible is because it quantifies the arrangements of objects - it is a property  of the underlying distributions.\n",
        "\n",
        "\n",
        "$H(p) = -\\mathbb{E}[log p] = - \\sum_{i}^{N}p_ilogp_i $"
      ],
      "metadata": {
        "id": "ewRdfpVNsqKE"
      }
    },
    {
      "cell_type": "code",
      "source": [
        "# Basic\n",
        "import numpy as np\n",
        "from scipy import stats\n",
        "# import pandas as pd\n",
        "# from patsy import bs, dmatrix\n",
        "import matplotlib.pyplot as plt\n",
        "#\n",
        "# # Exploratory Analysis of Bayesian Models\n",
        "# import arvix as ar\n",
        "#\n",
        "# # Probabilistic programming languages\n",
        "# import bambi as bmb\n",
        "# import pymc3 as pm\n",
        "# import tensorflow_probability as tfp\n",
        "#\n",
        "# # Computational Backend\n",
        "# import theano\n",
        "# import theano.tensor as tt\n",
        "# import tensorflow as tf"
      ],
      "metadata": {
        "id": "XKNIVEMnxbnd"
      },
      "execution_count": 30,
      "outputs": []
    },
    {
      "cell_type": "code",
      "execution_count": 31,
      "metadata": {
        "id": "00ZuQVOvsG0J"
      },
      "outputs": [],
      "source": [
        "x = range(0, 26)"
      ]
    },
    {
      "cell_type": "code",
      "source": [
        "# most peaked and least spread distribution (binomial(n=10, p=0.75) -> 11 possible event)\n",
        "q_pmf = stats.binom(10, 0.75).pmf(x)"
      ],
      "metadata": {
        "id": "Oir6_kFf1jo8"
      },
      "execution_count": 32,
      "outputs": []
    },
    {
      "cell_type": "code",
      "source": [
        "# uniform distribution with 11 events\n",
        "qu_pmf = stats.randint(0, np.max(np.nonzero(q_pmf))+1).pmf(x)"
      ],
      "metadata": {
        "id": "MyBG873kxYvh"
      },
      "execution_count": 33,
      "outputs": []
    },
    {
      "cell_type": "code",
      "source": [
        "# taking q and shifting it to the right and then normlaizing (sum of all probabilities should be equal to 1)\n",
        "r_pmf = (q_pmf + np.roll(q_pmf, 12)) / 2"
      ],
      "metadata": {
        "id": "IRSGGaqQxaVZ"
      },
      "execution_count": 34,
      "outputs": []
    },
    {
      "cell_type": "code",
      "source": [
        "# uniform distribution with 22 events\n",
        "ru_pmf = stats.randint(0, np.max(np.nonzero(r_pmf))+1).pmf(x)"
      ],
      "metadata": {
        "id": "-SLIfaPKxaOl"
      },
      "execution_count": 35,
      "outputs": []
    },
    {
      "cell_type": "code",
      "source": [
        "# same as \"r\" with a more extensive valley between both peaks (entropy cares only about possible events)\n",
        "s_pmf = (q_pmf + np.roll(q_pmf, 15)) / 2"
      ],
      "metadata": {
        "id": "A-L2UrPnxaMF"
      },
      "execution_count": 36,
      "outputs": []
    },
    {
      "cell_type": "code",
      "source": [
        "# constructed by replicing the two peaks in \"s\" with \"qu\"\n",
        "su_pmf = (qu_pmf + np.roll(qu_pmf, 15)) / 2"
      ],
      "metadata": {
        "id": "5S38T8KuxaJr"
      },
      "execution_count": 37,
      "outputs": []
    },
    {
      "cell_type": "code",
      "source": [
        "_, ax = plt.subplots(3, 2, figsize=(12, 5), sharex=True, sharey=True, constrained_layout=True)\n",
        "ax = np.ravel(ax)\n",
        "\n",
        "zipped = zip([q_pmf, qu_pmf, r_pmf, ru_pmf, s_pmf, su_pmf], [\"q\", \"qu\", \"r\", \"ru\", \"s\", \"su\"])\n",
        "\n",
        "for idx, (dist, label) in enumerate(zipped):\n",
        "  ax[idx].vlines(x, 0, dist, label=f'H = {stats.entropy(dist):.2f}')\n",
        "  ax[idx].set_title(label)\n",
        "  ax[idx].legend(loc=1, handlelength=0)"
      ],
      "metadata": {
        "colab": {
          "base_uri": "https://localhost:8080/",
          "height": 528
        },
        "id": "CGG40YKIxaHD",
        "outputId": "4570c5fb-f7af-43a8-ee5f-ca254ca56d4e"
      },
      "execution_count": 38,
      "outputs": [
        {
          "output_type": "display_data",
          "data": {
            "text/plain": [
              "<Figure size 1200x500 with 6 Axes>"
            ],
            "image/png": "[encoded data removed]"
          },
          "metadata": {}
        }
      ]
    },
    {
      "cell_type": "code",
      "source": [
        "# why \"su\" entropy is lower than \"ru\"?\n",
        "\n",
        "print(f\"Elements greater than zero: ru -> {np.sum([ru_pmf>0])} || entropy: {stats.entropy(ru_pmf):.2f}\")\n",
        "\n",
        "print(f\"Elements greater than zero: su -> {np.sum([su_pmf>0])} || entropy: {stats.entropy(su_pmf):.2f}\")\n"
      ],
      "metadata": {
        "colab": {
          "base_uri": "https://localhost:8080/"
        },
        "id": "DpWHTIJ1xZ9X",
        "outputId": "52dabe03-45e1-4f42-cd3f-8552acc6d5d1"
      },
      "execution_count": 40,
      "outputs": [
        {
          "output_type": "stream",
          "name": "stdout",
          "text": [
            "Elements greater than zero: ru -> 23 || entropy: 3.14\n",
            "Elements greater than zero: su -> 22 || entropy: 3.09\n"
          ]
        }
      ]
    },
    {
      "cell_type": "code",
      "source": [],
      "metadata": {
        "id": "EKlVaLd-0zfi"
      },
      "execution_count": 39,
      "outputs": []
    },
    {
      "cell_type": "code",
      "source": [],
      "metadata": {
        "id": "3ZMtxb9E1Hny"
      },
      "execution_count": 39,
      "outputs": []
    }
  ]
}
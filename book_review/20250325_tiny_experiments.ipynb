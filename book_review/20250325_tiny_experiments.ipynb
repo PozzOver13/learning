{
  "nbformat": 4,
  "nbformat_minor": 0,
  "metadata": {
    "colab": {
      "provenance": [],
      "authorship_tag": "ABX9TyOQOcUAMDAmRDuBhg2B9Nxc",
      "include_colab_link": true
    },
    "kernelspec": {
      "name": "python3",
      "display_name": "Python 3"
    },
    "language_info": {
      "name": "python"
    }
  },
  "cells": [
    {
      "cell_type": "markdown",
      "metadata": {
        "id": "view-in-github",
        "colab_type": "text"
      },
      "source": [
        "<a href=\"https://colab.research.google.com/github/PozzOver13/learning/blob/main/book_review/20250325_tiny_experiments.ipynb\" target=\"_parent\"><img src=\"https://colab.research.google.com/assets/colab-badge.svg\" alt=\"Open In Colab\"/></a>"
      ]
    },
    {
      "cell_type": "markdown",
      "source": [
        "\n",
        "![tiny_experiments_cover](https://drive.google.com/uc?id=174jvA-VIMN2V1oAlzc8IWZGmvJ8RMpyT)"
      ],
      "metadata": {
        "id": "wBT2ZgVwWi2M"
      }
    },
    {
      "cell_type": "markdown",
      "source": [
        "L’autrice **lavorava a Google** ma sentiva che non fosse la strada giusta nonostante fosse coinvolta in progetti interessanti e stesse facendo carriera con grande ritmo. Di origine franco-algerina ebbe un momento di rivelazione, quella che lo psichiatra **Irvin Talom** definirebbe una **“awakening experience”**, proprio tornando a casa, a Parigi. Decise di licenziarsi e creare la propria **newsletter Ness Lab** a tema produttività e funzionamento del cervello umano. Grazie a questo evento la propria vita prese una svolta passando da una vita ad obbiettivi a una vita di esperimenti: per esperimenti si intende il ciclo **domanda - osservazione - adattamento** in contrapposizione ad un percorso lineare ad obbiettivi.\n",
        "\n",
        "    📌 we trade the illusion of control for the possibility of discovery.\n",
        "\n",
        "\n",
        "Spesso però non solo rimaniamo intrappolati in percorsi lineari ma anche bloccati nella ricerca di continuità con quanto fatto finora, con la volontà di perseguire carriere che possano compiacere altri e obbiettivi epici, che l’autrice definisce copioni (**sequel, crowdpleaser ed epic script**). Queste sono delle tipiche iterazioni che dovremmo evitare privilegiando un approccio curioso e sperimentale. Per fare questo un consiglio utile è quello di **tenere traccia di tutte le osservazioni** che incontriamo nel nostro percorso di scoperta senza aspettare momenti di riflessione (simile al second brain di Tiago Forte).\n",
        "\n",
        "Un aspetto che viene chiarito, e che non mi convince molto ma che prendo così com’è, è la distinzione tra **esperimenti (experiments) e aibtudini (habits)**. I primi sono limitati nel tempo mentre i secondi sono di lungo termine. Mi convince poco questa differenza perché non credo che l’orizzonte temporale limitato né cambi la sostanza, anzi spesso l’inizio di un’abitudine nasce proprio grazie ad una sperimentazione. Oltre al limite di tempo, viene sottolineato come le abitudini abbiano uno scopo preciso e non nascano per curiosità. Anche questo però mi sembra altamente riconducibile agli esperimenti. Tolti però i cavilli tecnici il punto centrale della filosofia proposta è quello di decidere di **fare qualcosa per un numero limitato di volte**. Questa è una differenza chiave e il motivo per cui i buoni propositi di inizio anno falliscono perché uniamo obbiettivi troppo alti con due bias cognitivi altamente ricorrenti (overconfidence e planning fallacy).\n",
        "\n",
        "\n",
        "    💡 Once you have a hypothesis, you can design an experiment and turn your life into a giant laboratory for self-discovery.\n",
        "\n",
        "\n",
        "Una volta definito l’approccio occorre agire. Per farlo serve tempo ma non la **quantità di tempo (chronos) ma la qualità (kairos)**. Per avere tempo di qualità però bisogna fare i conti con i limiti organizzativi, ovvero la possibilità di ritagliarsi dei momenti, e i limiti energetici. Per settare il livello di energia necessaria un buon consiglio sembrano essere i **kairos rituals**. Tuttavia, il punto più interessante che ho trovato nel libro è stato il **ragionamento sulla procrastinazione**. Quando succede il primo sentimento che si prova è di rimprovero e biasimo verso se stessi ma in realtà andrebbe analizzato come potente indicatore di **disallineamento tra testa, cuore e mano**. La procrastinazione può derivare un problema di strategia che quindi andrebbe aggiornata, l’esperienza è noiosa e fastidiosa e quindi andrebbero cambiate le condizioni (dove, come) oppure da capacità tecniche insufficienti.\n",
        "\n",
        "    📌 Let’s be honest: Nobody really wants to live a productive life. We want to express ourselves, connect with others, and explore the world.\n",
        "\n",
        "Coerente con l'approccio proposta risulta la creazione di cicli di crescita basati sulla metacognizione, che non è solo consapevolezza di pensieri ed emozioni (come nell'introspezione), ma anche analisi critica di essi. Senza metacognizione, si rischia di non riconoscere i fattori che influenzano le nostre decisioni e comportamenti. Riflettere sul passato aiuta a interpretare meglio il futuro. Viene proposto un metodo efficace: il framework **Plus Minus Next**, che prevede tre colonne: aspetti positivi (Plus), negativi (Minus) e piani futuri (Next). Questo strumento consente di integrare la metacognizione nella vita quotidiana e nel lavoro.\n",
        "\n",
        "Infine viene sottolineata l'importanza della rete di persone per abilitare il cosiddetto **flusso sociale**; ovvero l’energia del gruppo potenzia la concentrazione e favorisce una maggiore immersione nel processo, non solo migliorando il risultato finale, ma rendendo l’esperienza più appagante e coinvolgente.\n",
        "Ma soprattutto un tema ovviamente di particolare interesse considerando soprattutto che l'autrice è una testimonial di una newsletter di successo è il ragionamento sull'**imparare in pubblico**. Questo offre potenti vantaggi per la crescita personale e professionale:  \n",
        "- *Ricevere feedback precoce*, per adattare il proprio lavoro a un reale bisogno.  \n",
        "- *Aumentare la creatività*, connettendo idee proprie con quelle altrui.  \n",
        "- *Chiarire il pensiero*, riflettendo in profondità sulla propria strategia ed esecuzione.  \n",
        "- *Espandere la rete di contatti*, creando opportunità di mentorship e collaborazione.  \n",
        "- *Imparare più velocemente*, grazie al confronto con esperti e risorse esterne.  \n",
        "\n",
        "Condividere il percorso di apprendimento, anziché solo i risultati, aiuta ad acquisire esperienza senza la pressione di dover sapere tutto. Poi come nel public speaking, l’esposizione ripetuta riduce la paura, trasformandola in un sottofondo gestibile e questo è possibile sopratuttto quando si riesce a restare fedeli ai propri obiettivi, senza farsi condizionare dalle aspettative esterne, ma mantenendosi aperti a feedback costruttivi.  \n",
        "\n",
        "Il libro poi si chiude con un ragionamento sul **ruolo delle legacy**. Molti cercano significato in status, promozioni e riconoscimenti, ma questi da soli non bastano. Il vero successo non sta nell’eredità che lasciamo, ma nella **generatività**: utilizzare la propria crescita per impattare positivamente il mondo. Un’identità professionale troppo rigida può limitare il potenziale. Il successo sta nel generare valore nel presente, anche se il percorso non segue le aspettative sociali. Adottare un approccio generativo significa concludere con chiarezza le proprie esperienze, condividere le lezioni apprese e favorire la crescita altrui.  \n",
        "\n",
        ">📌 This unpredictability is not a bug but a feature of a generative approach to life. By embracing the unknown and staying open to serendipity, you create space for unexpected opportunities to emerge—opportunities to learn, grow, and create value in ways you may not have initially imagined."
      ],
      "metadata": {
        "id": "AqtjlbeFSnXE"
      }
    },
    {
      "cell_type": "markdown",
      "source": [
        "\n",
        "![tiny_experiments_methodology](https://drive.google.com/uc?id=1PdB7bwvRvpcTYP_we9_5kPKXKB8NKeYZ)\n"
      ],
      "metadata": {
        "id": "tqxeM4r5b3nP"
      }
    },
    {
      "cell_type": "code",
      "source": [],
      "metadata": {
        "id": "CD5H9znab7Jg"
      },
      "execution_count": null,
      "outputs": []
    }
  ]
}
{
 "cells": [
  {
   "cell_type": "markdown",
   "source": [
    "# Poetry Library\n",
    "\n",
    "\n",
    "## Main Concepts\n",
    "Claim: PYTHON PACKAGING AND DEPENDENCY MANAGEMENT MADE EASY  \n",
    "Website: https://python-poetry.org/  \n",
    "\n",
    "Use case: \n",
    "- Build Package with ease\n",
    "    - Check the state of your dependencies \n",
    "- Publish share your work\n",
    "\n",
    "## References\n",
    "https://youtu.be/Ji2XDxmXSOM?si=F9daINdWqqTK5rmY ArjanCodes - Python Poetry in 8 Minutes\n",
    "https://www.youtube.com/watch?v=0f3moPe_bhk How to Create and Use Virtual Environments in Python With Poetry  \n",
    "https://www.youtube.com/watch?v=qI0uJsLweoM Luke Barousse - Understanding Virtual Environments for Data Science / Data Analysis - P.4\n",
    "https://docs.conda.io/projects/conda/en/latest/commands/index.html  Differences of conda v. pip v. virtualenv  \n"
   ],
   "metadata": {
    "collapsed": false
   },
   "id": "62898a6cb36da4a9"
  },
  {
   "cell_type": "markdown",
   "source": [
    "## What's the difference between conda environment and virtual environment?\n",
    "\n",
    "    Pip is a package manager and virtualenv is an environment manager. conda is both.\n",
    "\n",
    "Both Conda environments and virtual environments are tools used in Python development to manage dependencies and isolate project environments, but they are implemented differently and have some distinctions:\n",
    "\n",
    "1. **Virtual Environment**:\n",
    "   - Virtual environments are created using tools like `venv` or `virtualenv`.\n",
    "   - They are essentially isolated Python interpreter installations within a directory.\n",
    "   - Virtual environments only manage Python packages and dependencies.\n",
    "   - They typically rely on the `pip` package manager to install Python packages.\n",
    "   - Activation of a virtual environment involves executing a script in the environment's directory to modify the shell's PATH environment variable.\n",
    "   - Virtual environments are more lightweight and specific to Python package management.\n",
    "\n",
    "2. **Conda Environment**:\n",
    "   - Conda environments are created and managed using the `conda` package manager, which is part of the Anaconda distribution.\n",
    "   - They are more versatile and can manage non-Python dependencies as well.\n",
    "   - Conda environments can include packages from the Anaconda repository, which includes a wide range of scientific computing libraries.\n",
    "   - Activation of a Conda environment involves running `conda activate <env_name>`.\n",
    "   - Conda environments can include packages installed via `conda` as well as `pip`.\n",
    "   - Conda environments can be more robust when dealing with non-Python dependencies, such as libraries written in C or C++.\n",
    "\n",
    "In summary, while both Conda environments and virtual environments serve the purpose of isolating Python environments and managing dependencies, Conda environments are more comprehensive and can handle non-Python dependencies, whereas virtual environments are focused specifically on managing Python dependencies. The choice between them depends on the requirements and preferences of your project. For data science work, particularly if you're dealing with a lot of scientific computing libraries, Conda environments are often preferred due to their broader capabilities."
   ],
   "metadata": {
    "collapsed": false
   },
   "id": "d3aed85a09f14944"
  },
  {
   "cell_type": "markdown",
   "source": [
    "## Why project.toml file are relevant?"
   ],
   "metadata": {
    "collapsed": false
   },
   "id": "7754271fcd344455"
  },
  {
   "cell_type": "markdown",
   "source": [
    "## Some commands"
   ],
   "metadata": {
    "collapsed": false
   },
   "id": "6157691a9b18dab2"
  },
  {
   "cell_type": "code",
   "execution_count": null,
   "outputs": [],
   "source": [],
   "metadata": {
    "collapsed": false
   },
   "id": "195fe8a3d7f77699"
  },
  {
   "cell_type": "code",
   "execution_count": null,
   "outputs": [],
   "source": [],
   "metadata": {
    "collapsed": false
   },
   "id": "3d2f228fee19e314"
  },
  {
   "cell_type": "code",
   "execution_count": null,
   "outputs": [],
   "source": [],
   "metadata": {
    "collapsed": false
   },
   "id": "26f31192c5eac4f2"
  },
  {
   "cell_type": "code",
   "execution_count": null,
   "outputs": [],
   "source": [],
   "metadata": {
    "collapsed": false
   },
   "id": "60f6b2f3a04bc29b"
  }
 ],
 "metadata": {
  "kernelspec": {
   "display_name": "Python 3",
   "language": "python",
   "name": "python3"
  },
  "language_info": {
   "codemirror_mode": {
    "name": "ipython",
    "version": 2
   },
   "file_extension": ".py",
   "mimetype": "text/x-python",
   "name": "python",
   "nbconvert_exporter": "python",
   "pygments_lexer": "ipython2",
   "version": "2.7.6"
  }
 },
 "nbformat": 4,
 "nbformat_minor": 5
}

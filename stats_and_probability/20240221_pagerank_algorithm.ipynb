{
  "nbformat": 4,
  "nbformat_minor": 0,
  "metadata": {
    "colab": {
      "provenance": [],
      "toc_visible": true,
      "authorship_tag": "ABX9TyPL4fPonSitRgp7NGoIrj+W",
      "include_colab_link": true
    },
    "kernelspec": {
      "name": "python3",
      "display_name": "Python 3"
    },
    "language_info": {
      "name": "python"
    }
  },
  "cells": [
    {
      "cell_type": "markdown",
      "metadata": {
        "id": "view-in-github",
        "colab_type": "text"
      },
      "source": [
        "<a href=\"https://colab.research.google.com/github/PozzOver13/learning/blob/main/stats_and_probability/20240221_pagerank_algorithm.ipynb\" target=\"_parent\"><img src=\"https://colab.research.google.com/assets/colab-badge.svg\" alt=\"Open In Colab\"/></a>"
      ]
    },
    {
      "cell_type": "markdown",
      "source": [
        "# Reference\n",
        "https://it.wikipedia.org/wiki/PageRank PageRank Wikipedia  \n",
        "https://www.youtube.com/watch?v=urKLHNhUEQ0 M4ML - Linear Algebra - 5.7 Introduction to PageRank  \n",
        "\n"
      ],
      "metadata": {
        "id": "G4hmHT_p0EUF"
      }
    },
    {
      "cell_type": "markdown",
      "source": [
        "# Basics of PageRank\n",
        "\n",
        "PageRank is an algorithm used by search engines to rank web pages in their search results. The basic idea is to assign each page a score based on its importance, which is determined by the number and quality of other pages linking to it. The algorithm assumes that more important pages are likely to receive more links from other pages.\n",
        "\n",
        "The algorithm can be understood through the concept of a Markov chain. Each page represents a state, and the links between pages represent transitions between states. The PageRank of a page is the probability of being on that page after a long random walk on the web.\n",
        "\n",
        "\n"
      ],
      "metadata": {
        "id": "t7GYeFpk5O_R"
      }
    },
    {
      "cell_type": "markdown",
      "source": [
        "# Linear Algebra and Markov Chains\n",
        "\n",
        "PageRank can be expressed using linear algebra. Let \\( P \\) be the transition probability matrix, where \\( P_{ij} \\) represents the probability of transitioning from page \\( i \\) to page \\( j \\). The PageRank vector \\( \\mathbf{v} \\) can be found by solving the equation \\( \\mathbf{v}^T = \\mathbf{v}^T \\cdot P \\), where \\( \\mathbf{v}^T \\) is the transpose of the PageRank vector."
      ],
      "metadata": {
        "id": "RDYl2XgJ52HJ"
      }
    },
    {
      "cell_type": "markdown",
      "source": [
        "# Python Implementation\n",
        "\n",
        "Here's a simple Python script that demonstrates a basic version of the PageRank algorithm.\n",
        "\n",
        "In this example, the `links` list represents the links between pages. The PageRank function calculates the PageRank vector using the power iteration method. The damping factor is a parameter that introduces a probability of jumping to any page at random, which helps prevent dead ends in the graph.\n",
        "\n",
        "Feel free to adapt this script based on your specific use case or data structure. I hope this helps you understand the basics of the PageRank algorithm and its implementation in Python!"
      ],
      "metadata": {
        "id": "Qd7wyT3J526z"
      }
    },
    {
      "cell_type": "markdown",
      "source": [
        "## Deep down into PageRank"
      ],
      "metadata": {
        "id": "J1ZYfRJ8TC-L"
      }
    },
    {
      "cell_type": "code",
      "source": [
        "import numpy as np"
      ],
      "metadata": {
        "id": "5uYLBbYd9JcV"
      },
      "execution_count": 27,
      "outputs": []
    },
    {
      "cell_type": "code",
      "source": [
        "# Each element in the links list represents the pages that the corresponding page links to.\n",
        "links = [[1, 2], [0, 2], [0, 1]]\n",
        "\n",
        "links"
      ],
      "metadata": {
        "colab": {
          "base_uri": "https://localhost:8080/"
        },
        "id": "6RlkiF_Q83AS",
        "outputId": "d0f29c60-dd45-4c6f-ccf2-2e4bbe2ab05b"
      },
      "execution_count": 28,
      "outputs": [
        {
          "output_type": "execute_result",
          "data": {
            "text/plain": [
              "[[1, 2], [0, 2], [0, 1]]"
            ]
          },
          "metadata": {},
          "execution_count": 28
        }
      ]
    },
    {
      "cell_type": "code",
      "source": [
        "# 3 pages [0,1,2]\n",
        "num_pages = len(links)\n",
        "\n",
        "num_pages"
      ],
      "metadata": {
        "colab": {
          "base_uri": "https://localhost:8080/"
        },
        "id": "cbaryHnrPJPH",
        "outputId": "baa4e598-c6e7-4ffb-c5f8-9e878400119b"
      },
      "execution_count": 29,
      "outputs": [
        {
          "output_type": "execute_result",
          "data": {
            "text/plain": [
              "3"
            ]
          },
          "metadata": {},
          "execution_count": 29
        }
      ]
    },
    {
      "cell_type": "code",
      "source": [
        "# Initialize transition probability matrix\n",
        "P = np.zeros((num_pages, num_pages))\n",
        "\n",
        "P"
      ],
      "metadata": {
        "colab": {
          "base_uri": "https://localhost:8080/"
        },
        "id": "NxJaN2GL9DH5",
        "outputId": "95bfa078-808b-46ab-aad0-c0b3665a6407"
      },
      "execution_count": 30,
      "outputs": [
        {
          "output_type": "execute_result",
          "data": {
            "text/plain": [
              "array([[0., 0., 0.],\n",
              "       [0., 0., 0.],\n",
              "       [0., 0., 0.]])"
            ]
          },
          "metadata": {},
          "execution_count": 30
        }
      ]
    },
    {
      "cell_type": "code",
      "source": [
        "# looping over the links\n",
        "for i, page_links in enumerate(links):\n",
        "  print(i, page_links)"
      ],
      "metadata": {
        "colab": {
          "base_uri": "https://localhost:8080/"
        },
        "id": "0xaV_AVo9C_o",
        "outputId": "9e9e43a8-f06a-483a-cec1-6ca7698c65c8"
      },
      "execution_count": 31,
      "outputs": [
        {
          "output_type": "stream",
          "name": "stdout",
          "text": [
            "0 [1, 2]\n",
            "1 [0, 2]\n",
            "2 [0, 1]\n"
          ]
        }
      ]
    },
    {
      "cell_type": "code",
      "source": [
        "# deep down into single loop\n",
        "i, page_links = 0, links[0]\n",
        "\n",
        "print(i)\n",
        "print(page_links)"
      ],
      "metadata": {
        "colab": {
          "base_uri": "https://localhost:8080/"
        },
        "id": "dfUmZ4Cr-PJi",
        "outputId": "97503b5e-2cbb-4a50-e679-9e285559722f"
      },
      "execution_count": 32,
      "outputs": [
        {
          "output_type": "stream",
          "name": "stdout",
          "text": [
            "0\n",
            "[1, 2]\n"
          ]
        }
      ]
    },
    {
      "cell_type": "code",
      "source": [
        "# single row in transition matrix\n",
        "P[0]"
      ],
      "metadata": {
        "colab": {
          "base_uri": "https://localhost:8080/"
        },
        "id": "1iOGxBzG-VUC",
        "outputId": "c78ecfc9-c9a9-4bbe-d85b-6045ba21a6ed"
      },
      "execution_count": 33,
      "outputs": [
        {
          "output_type": "execute_result",
          "data": {
            "text/plain": [
              "array([0., 0., 0.])"
            ]
          },
          "metadata": {},
          "execution_count": 33
        }
      ]
    },
    {
      "cell_type": "code",
      "source": [
        "# handle pages with no outgoing links by making all transitions equally probable\n",
        "np.ones(num_pages) / num_pages"
      ],
      "metadata": {
        "colab": {
          "base_uri": "https://localhost:8080/"
        },
        "id": "M7d8hGNp-cgB",
        "outputId": "7e4c5ce5-e2cf-4ef1-8b07-cbeb2293df5e"
      },
      "execution_count": 34,
      "outputs": [
        {
          "output_type": "execute_result",
          "data": {
            "text/plain": [
              "array([0.33333333, 0.33333333, 0.33333333])"
            ]
          },
          "metadata": {},
          "execution_count": 34
        }
      ]
    },
    {
      "cell_type": "code",
      "source": [
        "# how probability are assigned into the transition matrix\n",
        "print(\"link between pages:\")\n",
        "print(page_links)\n",
        "print(\"j as list of pages:\")\n",
        "print([j for j in range(num_pages)])\n",
        "print(\"extract pages involved in the link:\")\n",
        "print([j for j in range(num_pages) if j in page_links])\n",
        "print(\"probability of landing into a specific page starting from the first page:\")\n",
        "print([1/len(page_links) if j in page_links else 0 for j in range(num_pages)])"
      ],
      "metadata": {
        "colab": {
          "base_uri": "https://localhost:8080/"
        },
        "id": "2suzyZDSPxEE",
        "outputId": "51163792-3304-40e0-ceed-596e83e3c171"
      },
      "execution_count": 35,
      "outputs": [
        {
          "output_type": "stream",
          "name": "stdout",
          "text": [
            "link between pages:\n",
            "[1, 2]\n",
            "j as list of pages:\n",
            "[0, 1, 2]\n",
            "extract pages involved in the link:\n",
            "[1, 2]\n",
            "probability of landing into a specific page starting from the first page:\n",
            "[0, 0.5, 0.5]\n"
          ]
        }
      ]
    },
    {
      "cell_type": "code",
      "source": [
        "# update transition probability matrix\n",
        "P = np.zeros((num_pages, num_pages))\n",
        "for i, page_links in enumerate(links):\n",
        "    if len(page_links) == 0:\n",
        "        # Handle pages with no outgoing links by making all transitions equally probable\n",
        "        P[i] = np.ones(num_pages) / num_pages\n",
        "    else:\n",
        "        P[i] = np.array([1/len(page_links) if j in page_links else 0 for j in range(num_pages)])"
      ],
      "metadata": {
        "id": "GtMLyPe-Sq8g"
      },
      "execution_count": 36,
      "outputs": []
    },
    {
      "cell_type": "code",
      "source": [
        "P"
      ],
      "metadata": {
        "colab": {
          "base_uri": "https://localhost:8080/"
        },
        "id": "Zxqj0AUVT7-D",
        "outputId": "47984210-7270-41bc-cce6-a73cdc7b2b96"
      },
      "execution_count": 37,
      "outputs": [
        {
          "output_type": "execute_result",
          "data": {
            "text/plain": [
              "array([[0. , 0.5, 0.5],\n",
              "       [0.5, 0. , 0.5],\n",
              "       [0.5, 0.5, 0. ]])"
            ]
          },
          "metadata": {},
          "execution_count": 37
        }
      ]
    },
    {
      "cell_type": "code",
      "source": [
        "# Initialize PageRank vector\n",
        "v = np.ones(num_pages) / num_pages\n",
        "v"
      ],
      "metadata": {
        "colab": {
          "base_uri": "https://localhost:8080/"
        },
        "id": "RmZTratO9Cs4",
        "outputId": "8c3a68dc-933c-4c01-8bbf-d543d23ad6e6"
      },
      "execution_count": 38,
      "outputs": [
        {
          "output_type": "execute_result",
          "data": {
            "text/plain": [
              "array([0.33333333, 0.33333333, 0.33333333])"
            ]
          },
          "metadata": {},
          "execution_count": 38
        }
      ]
    },
    {
      "cell_type": "code",
      "source": [
        "# Power iteration to find PageRank\n",
        "num_iterations = 100\n",
        "damping_factor = 0.85\n",
        "# The damping factor is a parameter that introduces a probability of jumping to any page at random, which helps prevent dead ends in the graph.\n",
        "for _ in range(num_iterations):\n",
        "    v = damping_factor * np.dot(v, P) + (1 - damping_factor) / num_pages"
      ],
      "metadata": {
        "id": "zTvusdKSSQih"
      },
      "execution_count": 39,
      "outputs": []
    },
    {
      "cell_type": "code",
      "source": [
        "print()\n",
        "print(P)\n",
        "print(v)\n",
        "print(np.dot(v, P))\n",
        "print((1 - damping_factor) / num_pages)"
      ],
      "metadata": {
        "colab": {
          "base_uri": "https://localhost:8080/"
        },
        "id": "JjbiqjW8UI2S",
        "outputId": "6634e316-fc83-4d2c-d3e2-b5a8f7a1d8c1"
      },
      "execution_count": 40,
      "outputs": [
        {
          "output_type": "stream",
          "name": "stdout",
          "text": [
            "\n",
            "[[0.  0.5 0.5]\n",
            " [0.5 0.  0.5]\n",
            " [0.5 0.5 0. ]]\n",
            "[0.33333333 0.33333333 0.33333333]\n",
            "[0.33333333 0.33333333 0.33333333]\n",
            "0.05000000000000001\n"
          ]
        }
      ]
    },
    {
      "cell_type": "code",
      "source": [
        "v"
      ],
      "metadata": {
        "colab": {
          "base_uri": "https://localhost:8080/"
        },
        "id": "bQ14s9qrSjSQ",
        "outputId": "f8244df8-07da-4400-fafc-dea331e2ba48"
      },
      "execution_count": 41,
      "outputs": [
        {
          "output_type": "execute_result",
          "data": {
            "text/plain": [
              "array([0.33333333, 0.33333333, 0.33333333])"
            ]
          },
          "metadata": {},
          "execution_count": 41
        }
      ]
    },
    {
      "cell_type": "markdown",
      "source": [
        "## Application"
      ],
      "metadata": {
        "id": "ZyEtoHDgTNoq"
      }
    },
    {
      "cell_type": "code",
      "execution_count": 42,
      "metadata": {
        "id": "nMn9oXtpz786"
      },
      "outputs": [],
      "source": [
        "# function pagerank\n",
        "def pagerank(links, damping_factor=0.85, num_iterations=100):\n",
        "    num_pages = len(links)\n",
        "    # Initialize transition probability matrix\n",
        "    P = np.zeros((num_pages, num_pages))\n",
        "    for i, page_links in enumerate(links):\n",
        "        if len(page_links) == 0:\n",
        "            # Handle pages with no outgoing links by making all transitions equally probable\n",
        "            P[i] = np.ones(num_pages) / num_pages\n",
        "        else:\n",
        "            P[i] = np.array([1/len(page_links) if j in page_links else 0 for j in range(num_pages)])\n",
        "\n",
        "    # Initialize PageRank vector\n",
        "    v = np.ones(num_pages) / num_pages\n",
        "\n",
        "    # Power iteration to find PageRank\n",
        "    for _ in range(num_iterations):\n",
        "        v = damping_factor * np.dot(v, P) + (1 - damping_factor) / num_pages\n",
        "\n",
        "    return v\n",
        "\n"
      ]
    },
    {
      "cell_type": "code",
      "source": [
        "# Example usage\n",
        "# Each element in the links list represents the pages that the corresponding page links to.\n",
        "links = [\n",
        "    [1, 2, 3],\n",
        "    [0, 2, 4],\n",
        "    [0, 1, 4],\n",
        "    [0, 4],\n",
        "    [3]\n",
        "]\n",
        "result = pagerank(links)\n",
        "print(\"PageRank:\", result)"
      ],
      "metadata": {
        "colab": {
          "base_uri": "https://localhost:8080/"
        },
        "id": "LUleBpPwS_eJ",
        "outputId": "7623fbda-ea20-41d9-a07d-f6fc41e94cd0"
      },
      "execution_count": 43,
      "outputs": [
        {
          "output_type": "stream",
          "name": "stdout",
          "text": [
            "PageRank: [0.22585934 0.13115369 0.13115369 0.28597392 0.22585934]\n"
          ]
        }
      ]
    },
    {
      "cell_type": "code",
      "source": [
        "# !pip install networkx"
      ],
      "metadata": {
        "id": "5I3l6NLEVwJI"
      },
      "execution_count": 44,
      "outputs": []
    },
    {
      "cell_type": "code",
      "source": [
        "# plot function using networkx\n",
        "\n",
        "import networkx as nx\n",
        "import matplotlib.pyplot as plt\n",
        "\n",
        "print(nx.__version__)\n",
        "\n",
        "def plot_network(links):\n",
        "    G = nx.DiGraph()\n",
        "\n",
        "    for i, page_links in enumerate(links):\n",
        "        for link in page_links:\n",
        "            G.add_edge(i, link)\n",
        "\n",
        "    pos = nx.spring_layout(G)\n",
        "    nx.draw(G, pos, with_labels=True, node_size=700, node_color=\"skyblue\", font_size=8, font_color=\"black\", font_weight=\"bold\", arrowsize=10)\n",
        "    plt.title(\"PageRank Network\")\n",
        "    plt.show()"
      ],
      "metadata": {
        "colab": {
          "base_uri": "https://localhost:8080/"
        },
        "id": "5AVcxr_QTkCW",
        "outputId": "329563fe-f704-45c5-d999-fa75ad0406ab"
      },
      "execution_count": 45,
      "outputs": [
        {
          "output_type": "stream",
          "name": "stdout",
          "text": [
            "3.2.1\n"
          ]
        }
      ]
    },
    {
      "cell_type": "code",
      "source": [
        "# Plot the network\n",
        "plot_network(links)"
      ],
      "metadata": {
        "colab": {
          "base_uri": "https://localhost:8080/",
          "height": 539
        },
        "id": "m24njMIpV2L2",
        "outputId": "bf58a819-0d71-41b1-e68d-0d1c96c9e98f"
      },
      "execution_count": 46,
      "outputs": [
        {
          "output_type": "display_data",
          "data": {
            "text/plain": [
              "<Figure size 640x480 with 1 Axes>"
            ],
            "image/png": "[encoded data removed]"
          },
          "metadata": {}
        }
      ]
    },
    {
      "cell_type": "code",
      "source": [
        "def plot_pagerank_bar(result):\n",
        "    num_pages = len(result)\n",
        "    page_indices = np.arange(num_pages)\n",
        "    sorted_indices = np.argsort(result)[::-1]  # Sort in descending order\n",
        "\n",
        "    plt.bar(page_indices, result[sorted_indices], color='skyblue')\n",
        "    plt.xticks(page_indices, sorted_indices)\n",
        "    plt.xlabel('Page Index')\n",
        "    plt.ylabel('PageRank Score')\n",
        "    plt.title('PageRank Scores')\n",
        "    plt.show()"
      ],
      "metadata": {
        "id": "p36j7ng5WDOP"
      },
      "execution_count": 47,
      "outputs": []
    },
    {
      "cell_type": "code",
      "source": [
        "# Plot the PageRank scores as a bar plot\n",
        "plot_pagerank_bar(result)"
      ],
      "metadata": {
        "colab": {
          "base_uri": "https://localhost:8080/",
          "height": 472
        },
        "id": "qLEef-S_Wvgi",
        "outputId": "e617933a-1fa8-4b7b-c176-d334e75d6602"
      },
      "execution_count": 48,
      "outputs": [
        {
          "output_type": "display_data",
          "data": {
            "text/plain": [
              "<Figure size 640x480 with 1 Axes>"
            ],
            "image/png": "[encoded data removed]"
          },
          "metadata": {}
        }
      ]
    },
    {
      "cell_type": "code",
      "source": [],
      "metadata": {
        "id": "H9sHK1WTW2OX"
      },
      "execution_count": 48,
      "outputs": []
    }
  ]
}
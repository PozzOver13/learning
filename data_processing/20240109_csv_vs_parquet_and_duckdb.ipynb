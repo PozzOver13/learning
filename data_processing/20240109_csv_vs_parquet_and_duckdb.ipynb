{
  "nbformat": 4,
  "nbformat_minor": 0,
  "metadata": {
    "colab": {
      "provenance": [],
      "authorship_tag": "ABX9TyPsF+ekF30nR8x7Gm1cNR4P",
      "include_colab_link": true
    },
    "kernelspec": {
      "name": "python3",
      "display_name": "Python 3"
    },
    "language_info": {
      "name": "python"
    }
  },
  "cells": [
    {
      "cell_type": "markdown",
      "metadata": {
        "id": "view-in-github",
        "colab_type": "text"
      },
      "source": [
        "<a href=\"https://colab.research.google.com/github/PozzOver13/learning/blob/main/polars/20240109_csv_vs_parquet_and_duckdb.ipynb\" target=\"_parent\"><img src=\"https://colab.research.google.com/assets/colab-badge.svg\" alt=\"Open In Colab\"/></a>"
      ]
    },
    {
      "cell_type": "markdown",
      "source": [
        "# CSV vs Parquet & DuckDB 🦆"
      ],
      "metadata": {
        "id": "wUlTIJaUmBQk"
      }
    },
    {
      "cell_type": "markdown",
      "source": [
        "# References  \n",
        "\n",
        "**official websites**  \n",
        "https://opencoesione.gov.it/it/ OpenCoesione iniziativa nazionale di governo aperto (open government) sulle politiche di coesione  \n",
        "\n",
        "**talks**  \n",
        "https://www.youtube.com/watch?v=DwtbPhbDecQ&list=WL&index=32 Matthew Rocklin - Spark, Dask, DuckDB, and Polars: Benchmarks | PyData NYC 2023\n",
        "  \n",
        "**good 2 be known**  \n",
        "https://aborruso.github.io/posts/duckdb-intro-csv/?utm_source=substack&utm_medium=email - Gestire file CSV grandi, brutti e cattivi Andrea Borruso  "
      ],
      "metadata": {
        "id": "Ea27f6UOmcez"
      }
    },
    {
      "cell_type": "code",
      "source": [],
      "metadata": {
        "id": "OEjGqkibme9g"
      },
      "execution_count": null,
      "outputs": []
    }
  ]
}